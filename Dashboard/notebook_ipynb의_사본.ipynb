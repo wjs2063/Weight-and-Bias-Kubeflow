{
  "nbformat": 4,
  "nbformat_minor": 0,
  "metadata": {
    "kernelspec": {
      "display_name": "Python 3",
      "language": "python",
      "name": "python3"
    },
    "language_info": {
      "codemirror_mode": {
        "name": "ipython",
        "version": 3
      },
      "file_extension": ".py",
      "mimetype": "text/x-python",
      "name": "python",
      "nbconvert_exporter": "python",
      "pygments_lexer": "ipython3",
      "version": "3.6.4"
    },
    "colab": {
      "name": "notebook.ipynb의 사본",
      "provenance": []
    },
    "widgets": {
      "application/vnd.jupyter.widget-state+json": {
        "6d746e0f73a6477faaeab67ba895e4ca": {
          "model_module": "@jupyter-widgets/controls",
          "model_name": "VBoxModel",
          "model_module_version": "1.5.0",
          "state": {
            "_view_name": "VBoxView",
            "_dom_classes": [],
            "_model_name": "VBoxModel",
            "_view_module": "@jupyter-widgets/controls",
            "_model_module_version": "1.5.0",
            "_view_count": null,
            "_view_module_version": "1.5.0",
            "box_style": "",
            "layout": "IPY_MODEL_4279f68fafd94ea4acdfb7d960c150b9",
            "_model_module": "@jupyter-widgets/controls",
            "children": [
              "IPY_MODEL_0f2998a1b0604150b00a2d599b0754e2",
              "IPY_MODEL_2e6febff9abf43328d489ca58a838ef9"
            ]
          }
        },
        "4279f68fafd94ea4acdfb7d960c150b9": {
          "model_module": "@jupyter-widgets/base",
          "model_name": "LayoutModel",
          "model_module_version": "1.2.0",
          "state": {
            "_view_name": "LayoutView",
            "grid_template_rows": null,
            "right": null,
            "justify_content": null,
            "_view_module": "@jupyter-widgets/base",
            "overflow": null,
            "_model_module_version": "1.2.0",
            "_view_count": null,
            "flex_flow": null,
            "width": null,
            "min_width": null,
            "border": null,
            "align_items": null,
            "bottom": null,
            "_model_module": "@jupyter-widgets/base",
            "top": null,
            "grid_column": null,
            "overflow_y": null,
            "overflow_x": null,
            "grid_auto_flow": null,
            "grid_area": null,
            "grid_template_columns": null,
            "flex": null,
            "_model_name": "LayoutModel",
            "justify_items": null,
            "grid_row": null,
            "max_height": null,
            "align_content": null,
            "visibility": null,
            "align_self": null,
            "height": null,
            "min_height": null,
            "padding": null,
            "grid_auto_rows": null,
            "grid_gap": null,
            "max_width": null,
            "order": null,
            "_view_module_version": "1.2.0",
            "grid_template_areas": null,
            "object_position": null,
            "object_fit": null,
            "grid_auto_columns": null,
            "margin": null,
            "display": null,
            "left": null
          }
        },
        "0f2998a1b0604150b00a2d599b0754e2": {
          "model_module": "@jupyter-widgets/controls",
          "model_name": "LabelModel",
          "model_module_version": "1.5.0",
          "state": {
            "_view_name": "LabelView",
            "style": "IPY_MODEL_6628e2df18824942b7fd8012979c3722",
            "_dom_classes": [],
            "description": "",
            "_model_name": "LabelModel",
            "placeholder": "​",
            "_view_module": "@jupyter-widgets/controls",
            "_model_module_version": "1.5.0",
            "value": " 0.01MB of 0.01MB uploaded (0.00MB deduped)\r",
            "_view_count": null,
            "_view_module_version": "1.5.0",
            "description_tooltip": null,
            "_model_module": "@jupyter-widgets/controls",
            "layout": "IPY_MODEL_0dc1a98d311c42dc902c5a9cceca8ac1"
          }
        },
        "2e6febff9abf43328d489ca58a838ef9": {
          "model_module": "@jupyter-widgets/controls",
          "model_name": "FloatProgressModel",
          "model_module_version": "1.5.0",
          "state": {
            "_view_name": "ProgressView",
            "style": "IPY_MODEL_950186955a7a46c28f17cfcbfe24bb10",
            "_dom_classes": [],
            "description": "",
            "_model_name": "FloatProgressModel",
            "bar_style": "",
            "max": 1,
            "_view_module": "@jupyter-widgets/controls",
            "_model_module_version": "1.5.0",
            "value": 1,
            "_view_count": null,
            "_view_module_version": "1.5.0",
            "orientation": "horizontal",
            "min": 0,
            "description_tooltip": null,
            "_model_module": "@jupyter-widgets/controls",
            "layout": "IPY_MODEL_b713e90b2f1e472597320cddae3bcc8c"
          }
        },
        "6628e2df18824942b7fd8012979c3722": {
          "model_module": "@jupyter-widgets/controls",
          "model_name": "DescriptionStyleModel",
          "model_module_version": "1.5.0",
          "state": {
            "_view_name": "StyleView",
            "_model_name": "DescriptionStyleModel",
            "description_width": "",
            "_view_module": "@jupyter-widgets/base",
            "_model_module_version": "1.5.0",
            "_view_count": null,
            "_view_module_version": "1.2.0",
            "_model_module": "@jupyter-widgets/controls"
          }
        },
        "0dc1a98d311c42dc902c5a9cceca8ac1": {
          "model_module": "@jupyter-widgets/base",
          "model_name": "LayoutModel",
          "model_module_version": "1.2.0",
          "state": {
            "_view_name": "LayoutView",
            "grid_template_rows": null,
            "right": null,
            "justify_content": null,
            "_view_module": "@jupyter-widgets/base",
            "overflow": null,
            "_model_module_version": "1.2.0",
            "_view_count": null,
            "flex_flow": null,
            "width": null,
            "min_width": null,
            "border": null,
            "align_items": null,
            "bottom": null,
            "_model_module": "@jupyter-widgets/base",
            "top": null,
            "grid_column": null,
            "overflow_y": null,
            "overflow_x": null,
            "grid_auto_flow": null,
            "grid_area": null,
            "grid_template_columns": null,
            "flex": null,
            "_model_name": "LayoutModel",
            "justify_items": null,
            "grid_row": null,
            "max_height": null,
            "align_content": null,
            "visibility": null,
            "align_self": null,
            "height": null,
            "min_height": null,
            "padding": null,
            "grid_auto_rows": null,
            "grid_gap": null,
            "max_width": null,
            "order": null,
            "_view_module_version": "1.2.0",
            "grid_template_areas": null,
            "object_position": null,
            "object_fit": null,
            "grid_auto_columns": null,
            "margin": null,
            "display": null,
            "left": null
          }
        },
        "950186955a7a46c28f17cfcbfe24bb10": {
          "model_module": "@jupyter-widgets/controls",
          "model_name": "ProgressStyleModel",
          "model_module_version": "1.5.0",
          "state": {
            "_view_name": "StyleView",
            "_model_name": "ProgressStyleModel",
            "description_width": "",
            "_view_module": "@jupyter-widgets/base",
            "_model_module_version": "1.5.0",
            "_view_count": null,
            "_view_module_version": "1.2.0",
            "bar_color": null,
            "_model_module": "@jupyter-widgets/controls"
          }
        },
        "b713e90b2f1e472597320cddae3bcc8c": {
          "model_module": "@jupyter-widgets/base",
          "model_name": "LayoutModel",
          "model_module_version": "1.2.0",
          "state": {
            "_view_name": "LayoutView",
            "grid_template_rows": null,
            "right": null,
            "justify_content": null,
            "_view_module": "@jupyter-widgets/base",
            "overflow": null,
            "_model_module_version": "1.2.0",
            "_view_count": null,
            "flex_flow": null,
            "width": null,
            "min_width": null,
            "border": null,
            "align_items": null,
            "bottom": null,
            "_model_module": "@jupyter-widgets/base",
            "top": null,
            "grid_column": null,
            "overflow_y": null,
            "overflow_x": null,
            "grid_auto_flow": null,
            "grid_area": null,
            "grid_template_columns": null,
            "flex": null,
            "_model_name": "LayoutModel",
            "justify_items": null,
            "grid_row": null,
            "max_height": null,
            "align_content": null,
            "visibility": null,
            "align_self": null,
            "height": null,
            "min_height": null,
            "padding": null,
            "grid_auto_rows": null,
            "grid_gap": null,
            "max_width": null,
            "order": null,
            "_view_module_version": "1.2.0",
            "grid_template_areas": null,
            "object_position": null,
            "object_fit": null,
            "grid_auto_columns": null,
            "margin": null,
            "display": null,
            "left": null
          }
        },
        "2d2f919f6b1a49229a166b31fac5d8bf": {
          "model_module": "@jupyter-widgets/controls",
          "model_name": "VBoxModel",
          "model_module_version": "1.5.0",
          "state": {
            "_view_name": "VBoxView",
            "_dom_classes": [],
            "_model_name": "VBoxModel",
            "_view_module": "@jupyter-widgets/controls",
            "_model_module_version": "1.5.0",
            "_view_count": null,
            "_view_module_version": "1.5.0",
            "box_style": "",
            "layout": "IPY_MODEL_bb737ac6cc3d4a67a6ac4d06fcb83c24",
            "_model_module": "@jupyter-widgets/controls",
            "children": [
              "IPY_MODEL_7842ed9d50bb44339bd0f5adf83e9f28",
              "IPY_MODEL_f32deb90f6b249dd9aaa0d9f492395b8"
            ]
          }
        },
        "bb737ac6cc3d4a67a6ac4d06fcb83c24": {
          "model_module": "@jupyter-widgets/base",
          "model_name": "LayoutModel",
          "model_module_version": "1.2.0",
          "state": {
            "_view_name": "LayoutView",
            "grid_template_rows": null,
            "right": null,
            "justify_content": null,
            "_view_module": "@jupyter-widgets/base",
            "overflow": null,
            "_model_module_version": "1.2.0",
            "_view_count": null,
            "flex_flow": null,
            "width": null,
            "min_width": null,
            "border": null,
            "align_items": null,
            "bottom": null,
            "_model_module": "@jupyter-widgets/base",
            "top": null,
            "grid_column": null,
            "overflow_y": null,
            "overflow_x": null,
            "grid_auto_flow": null,
            "grid_area": null,
            "grid_template_columns": null,
            "flex": null,
            "_model_name": "LayoutModel",
            "justify_items": null,
            "grid_row": null,
            "max_height": null,
            "align_content": null,
            "visibility": null,
            "align_self": null,
            "height": null,
            "min_height": null,
            "padding": null,
            "grid_auto_rows": null,
            "grid_gap": null,
            "max_width": null,
            "order": null,
            "_view_module_version": "1.2.0",
            "grid_template_areas": null,
            "object_position": null,
            "object_fit": null,
            "grid_auto_columns": null,
            "margin": null,
            "display": null,
            "left": null
          }
        },
        "7842ed9d50bb44339bd0f5adf83e9f28": {
          "model_module": "@jupyter-widgets/controls",
          "model_name": "LabelModel",
          "model_module_version": "1.5.0",
          "state": {
            "_view_name": "LabelView",
            "style": "IPY_MODEL_9e3b0789bf5a4f2ab7936bad4309cb22",
            "_dom_classes": [],
            "description": "",
            "_model_name": "LabelModel",
            "placeholder": "​",
            "_view_module": "@jupyter-widgets/controls",
            "_model_module_version": "1.5.0",
            "value": " 0.65MB of 0.65MB uploaded (0.00MB deduped)\r",
            "_view_count": null,
            "_view_module_version": "1.5.0",
            "description_tooltip": null,
            "_model_module": "@jupyter-widgets/controls",
            "layout": "IPY_MODEL_425ff37513084551a82034d639cd7a77"
          }
        },
        "f32deb90f6b249dd9aaa0d9f492395b8": {
          "model_module": "@jupyter-widgets/controls",
          "model_name": "FloatProgressModel",
          "model_module_version": "1.5.0",
          "state": {
            "_view_name": "ProgressView",
            "style": "IPY_MODEL_98ec4ae7d12e4390a6f68d0e50b0dd8e",
            "_dom_classes": [],
            "description": "",
            "_model_name": "FloatProgressModel",
            "bar_style": "",
            "max": 1,
            "_view_module": "@jupyter-widgets/controls",
            "_model_module_version": "1.5.0",
            "value": 1,
            "_view_count": null,
            "_view_module_version": "1.5.0",
            "orientation": "horizontal",
            "min": 0,
            "description_tooltip": null,
            "_model_module": "@jupyter-widgets/controls",
            "layout": "IPY_MODEL_c542c390d3bd4736b454a285c03576c5"
          }
        },
        "9e3b0789bf5a4f2ab7936bad4309cb22": {
          "model_module": "@jupyter-widgets/controls",
          "model_name": "DescriptionStyleModel",
          "model_module_version": "1.5.0",
          "state": {
            "_view_name": "StyleView",
            "_model_name": "DescriptionStyleModel",
            "description_width": "",
            "_view_module": "@jupyter-widgets/base",
            "_model_module_version": "1.5.0",
            "_view_count": null,
            "_view_module_version": "1.2.0",
            "_model_module": "@jupyter-widgets/controls"
          }
        },
        "425ff37513084551a82034d639cd7a77": {
          "model_module": "@jupyter-widgets/base",
          "model_name": "LayoutModel",
          "model_module_version": "1.2.0",
          "state": {
            "_view_name": "LayoutView",
            "grid_template_rows": null,
            "right": null,
            "justify_content": null,
            "_view_module": "@jupyter-widgets/base",
            "overflow": null,
            "_model_module_version": "1.2.0",
            "_view_count": null,
            "flex_flow": null,
            "width": null,
            "min_width": null,
            "border": null,
            "align_items": null,
            "bottom": null,
            "_model_module": "@jupyter-widgets/base",
            "top": null,
            "grid_column": null,
            "overflow_y": null,
            "overflow_x": null,
            "grid_auto_flow": null,
            "grid_area": null,
            "grid_template_columns": null,
            "flex": null,
            "_model_name": "LayoutModel",
            "justify_items": null,
            "grid_row": null,
            "max_height": null,
            "align_content": null,
            "visibility": null,
            "align_self": null,
            "height": null,
            "min_height": null,
            "padding": null,
            "grid_auto_rows": null,
            "grid_gap": null,
            "max_width": null,
            "order": null,
            "_view_module_version": "1.2.0",
            "grid_template_areas": null,
            "object_position": null,
            "object_fit": null,
            "grid_auto_columns": null,
            "margin": null,
            "display": null,
            "left": null
          }
        },
        "98ec4ae7d12e4390a6f68d0e50b0dd8e": {
          "model_module": "@jupyter-widgets/controls",
          "model_name": "ProgressStyleModel",
          "model_module_version": "1.5.0",
          "state": {
            "_view_name": "StyleView",
            "_model_name": "ProgressStyleModel",
            "description_width": "",
            "_view_module": "@jupyter-widgets/base",
            "_model_module_version": "1.5.0",
            "_view_count": null,
            "_view_module_version": "1.2.0",
            "bar_color": null,
            "_model_module": "@jupyter-widgets/controls"
          }
        },
        "c542c390d3bd4736b454a285c03576c5": {
          "model_module": "@jupyter-widgets/base",
          "model_name": "LayoutModel",
          "model_module_version": "1.2.0",
          "state": {
            "_view_name": "LayoutView",
            "grid_template_rows": null,
            "right": null,
            "justify_content": null,
            "_view_module": "@jupyter-widgets/base",
            "overflow": null,
            "_model_module_version": "1.2.0",
            "_view_count": null,
            "flex_flow": null,
            "width": null,
            "min_width": null,
            "border": null,
            "align_items": null,
            "bottom": null,
            "_model_module": "@jupyter-widgets/base",
            "top": null,
            "grid_column": null,
            "overflow_y": null,
            "overflow_x": null,
            "grid_auto_flow": null,
            "grid_area": null,
            "grid_template_columns": null,
            "flex": null,
            "_model_name": "LayoutModel",
            "justify_items": null,
            "grid_row": null,
            "max_height": null,
            "align_content": null,
            "visibility": null,
            "align_self": null,
            "height": null,
            "min_height": null,
            "padding": null,
            "grid_auto_rows": null,
            "grid_gap": null,
            "max_width": null,
            "order": null,
            "_view_module_version": "1.2.0",
            "grid_template_areas": null,
            "object_position": null,
            "object_fit": null,
            "grid_auto_columns": null,
            "margin": null,
            "display": null,
            "left": null
          }
        },
        "1191c6db46f44e45ab521c2e3feb1b45": {
          "model_module": "@jupyter-widgets/controls",
          "model_name": "VBoxModel",
          "model_module_version": "1.5.0",
          "state": {
            "_view_name": "VBoxView",
            "_dom_classes": [],
            "_model_name": "VBoxModel",
            "_view_module": "@jupyter-widgets/controls",
            "_model_module_version": "1.5.0",
            "_view_count": null,
            "_view_module_version": "1.5.0",
            "box_style": "",
            "layout": "IPY_MODEL_6fd664ac3b654aa3af0a72436984d6bf",
            "_model_module": "@jupyter-widgets/controls",
            "children": [
              "IPY_MODEL_75a7b19777484aa1b874faf35480bf51",
              "IPY_MODEL_b38dadeb7a9d4d3493c216b1061fb168"
            ]
          }
        },
        "6fd664ac3b654aa3af0a72436984d6bf": {
          "model_module": "@jupyter-widgets/base",
          "model_name": "LayoutModel",
          "model_module_version": "1.2.0",
          "state": {
            "_view_name": "LayoutView",
            "grid_template_rows": null,
            "right": null,
            "justify_content": null,
            "_view_module": "@jupyter-widgets/base",
            "overflow": null,
            "_model_module_version": "1.2.0",
            "_view_count": null,
            "flex_flow": null,
            "width": null,
            "min_width": null,
            "border": null,
            "align_items": null,
            "bottom": null,
            "_model_module": "@jupyter-widgets/base",
            "top": null,
            "grid_column": null,
            "overflow_y": null,
            "overflow_x": null,
            "grid_auto_flow": null,
            "grid_area": null,
            "grid_template_columns": null,
            "flex": null,
            "_model_name": "LayoutModel",
            "justify_items": null,
            "grid_row": null,
            "max_height": null,
            "align_content": null,
            "visibility": null,
            "align_self": null,
            "height": null,
            "min_height": null,
            "padding": null,
            "grid_auto_rows": null,
            "grid_gap": null,
            "max_width": null,
            "order": null,
            "_view_module_version": "1.2.0",
            "grid_template_areas": null,
            "object_position": null,
            "object_fit": null,
            "grid_auto_columns": null,
            "margin": null,
            "display": null,
            "left": null
          }
        },
        "75a7b19777484aa1b874faf35480bf51": {
          "model_module": "@jupyter-widgets/controls",
          "model_name": "LabelModel",
          "model_module_version": "1.5.0",
          "state": {
            "_view_name": "LabelView",
            "style": "IPY_MODEL_420b0bb1747a433db3a383ab1e72abeb",
            "_dom_classes": [],
            "description": "",
            "_model_name": "LabelModel",
            "placeholder": "​",
            "_view_module": "@jupyter-widgets/controls",
            "_model_module_version": "1.5.0",
            "value": " 0.01MB of 0.01MB uploaded (0.00MB deduped)\r",
            "_view_count": null,
            "_view_module_version": "1.5.0",
            "description_tooltip": null,
            "_model_module": "@jupyter-widgets/controls",
            "layout": "IPY_MODEL_6f68af0efb32431bbfd49cad06cae153"
          }
        },
        "b38dadeb7a9d4d3493c216b1061fb168": {
          "model_module": "@jupyter-widgets/controls",
          "model_name": "FloatProgressModel",
          "model_module_version": "1.5.0",
          "state": {
            "_view_name": "ProgressView",
            "style": "IPY_MODEL_3f86b64a24824ffa8121ebc90f953810",
            "_dom_classes": [],
            "description": "",
            "_model_name": "FloatProgressModel",
            "bar_style": "",
            "max": 1,
            "_view_module": "@jupyter-widgets/controls",
            "_model_module_version": "1.5.0",
            "value": 1,
            "_view_count": null,
            "_view_module_version": "1.5.0",
            "orientation": "horizontal",
            "min": 0,
            "description_tooltip": null,
            "_model_module": "@jupyter-widgets/controls",
            "layout": "IPY_MODEL_34101ad7eaa74be993c2f63a549a149f"
          }
        },
        "420b0bb1747a433db3a383ab1e72abeb": {
          "model_module": "@jupyter-widgets/controls",
          "model_name": "DescriptionStyleModel",
          "model_module_version": "1.5.0",
          "state": {
            "_view_name": "StyleView",
            "_model_name": "DescriptionStyleModel",
            "description_width": "",
            "_view_module": "@jupyter-widgets/base",
            "_model_module_version": "1.5.0",
            "_view_count": null,
            "_view_module_version": "1.2.0",
            "_model_module": "@jupyter-widgets/controls"
          }
        },
        "6f68af0efb32431bbfd49cad06cae153": {
          "model_module": "@jupyter-widgets/base",
          "model_name": "LayoutModel",
          "model_module_version": "1.2.0",
          "state": {
            "_view_name": "LayoutView",
            "grid_template_rows": null,
            "right": null,
            "justify_content": null,
            "_view_module": "@jupyter-widgets/base",
            "overflow": null,
            "_model_module_version": "1.2.0",
            "_view_count": null,
            "flex_flow": null,
            "width": null,
            "min_width": null,
            "border": null,
            "align_items": null,
            "bottom": null,
            "_model_module": "@jupyter-widgets/base",
            "top": null,
            "grid_column": null,
            "overflow_y": null,
            "overflow_x": null,
            "grid_auto_flow": null,
            "grid_area": null,
            "grid_template_columns": null,
            "flex": null,
            "_model_name": "LayoutModel",
            "justify_items": null,
            "grid_row": null,
            "max_height": null,
            "align_content": null,
            "visibility": null,
            "align_self": null,
            "height": null,
            "min_height": null,
            "padding": null,
            "grid_auto_rows": null,
            "grid_gap": null,
            "max_width": null,
            "order": null,
            "_view_module_version": "1.2.0",
            "grid_template_areas": null,
            "object_position": null,
            "object_fit": null,
            "grid_auto_columns": null,
            "margin": null,
            "display": null,
            "left": null
          }
        },
        "3f86b64a24824ffa8121ebc90f953810": {
          "model_module": "@jupyter-widgets/controls",
          "model_name": "ProgressStyleModel",
          "model_module_version": "1.5.0",
          "state": {
            "_view_name": "StyleView",
            "_model_name": "ProgressStyleModel",
            "description_width": "",
            "_view_module": "@jupyter-widgets/base",
            "_model_module_version": "1.5.0",
            "_view_count": null,
            "_view_module_version": "1.2.0",
            "bar_color": null,
            "_model_module": "@jupyter-widgets/controls"
          }
        },
        "34101ad7eaa74be993c2f63a549a149f": {
          "model_module": "@jupyter-widgets/base",
          "model_name": "LayoutModel",
          "model_module_version": "1.2.0",
          "state": {
            "_view_name": "LayoutView",
            "grid_template_rows": null,
            "right": null,
            "justify_content": null,
            "_view_module": "@jupyter-widgets/base",
            "overflow": null,
            "_model_module_version": "1.2.0",
            "_view_count": null,
            "flex_flow": null,
            "width": null,
            "min_width": null,
            "border": null,
            "align_items": null,
            "bottom": null,
            "_model_module": "@jupyter-widgets/base",
            "top": null,
            "grid_column": null,
            "overflow_y": null,
            "overflow_x": null,
            "grid_auto_flow": null,
            "grid_area": null,
            "grid_template_columns": null,
            "flex": null,
            "_model_name": "LayoutModel",
            "justify_items": null,
            "grid_row": null,
            "max_height": null,
            "align_content": null,
            "visibility": null,
            "align_self": null,
            "height": null,
            "min_height": null,
            "padding": null,
            "grid_auto_rows": null,
            "grid_gap": null,
            "max_width": null,
            "order": null,
            "_view_module_version": "1.2.0",
            "grid_template_areas": null,
            "object_position": null,
            "object_fit": null,
            "grid_auto_columns": null,
            "margin": null,
            "display": null,
            "left": null
          }
        },
        "b157357cdb904b1a981badff3e979a7d": {
          "model_module": "@jupyter-widgets/controls",
          "model_name": "VBoxModel",
          "model_module_version": "1.5.0",
          "state": {
            "_view_name": "VBoxView",
            "_dom_classes": [],
            "_model_name": "VBoxModel",
            "_view_module": "@jupyter-widgets/controls",
            "_model_module_version": "1.5.0",
            "_view_count": null,
            "_view_module_version": "1.5.0",
            "box_style": "",
            "layout": "IPY_MODEL_fd73ffa383e84c678df7988df48fb8dd",
            "_model_module": "@jupyter-widgets/controls",
            "children": [
              "IPY_MODEL_8ed505a7689f4aeeb09e14cc653a494f",
              "IPY_MODEL_6864164fa6dd4558b78cdb9a8e3ca7ff"
            ]
          }
        },
        "fd73ffa383e84c678df7988df48fb8dd": {
          "model_module": "@jupyter-widgets/base",
          "model_name": "LayoutModel",
          "model_module_version": "1.2.0",
          "state": {
            "_view_name": "LayoutView",
            "grid_template_rows": null,
            "right": null,
            "justify_content": null,
            "_view_module": "@jupyter-widgets/base",
            "overflow": null,
            "_model_module_version": "1.2.0",
            "_view_count": null,
            "flex_flow": null,
            "width": null,
            "min_width": null,
            "border": null,
            "align_items": null,
            "bottom": null,
            "_model_module": "@jupyter-widgets/base",
            "top": null,
            "grid_column": null,
            "overflow_y": null,
            "overflow_x": null,
            "grid_auto_flow": null,
            "grid_area": null,
            "grid_template_columns": null,
            "flex": null,
            "_model_name": "LayoutModel",
            "justify_items": null,
            "grid_row": null,
            "max_height": null,
            "align_content": null,
            "visibility": null,
            "align_self": null,
            "height": null,
            "min_height": null,
            "padding": null,
            "grid_auto_rows": null,
            "grid_gap": null,
            "max_width": null,
            "order": null,
            "_view_module_version": "1.2.0",
            "grid_template_areas": null,
            "object_position": null,
            "object_fit": null,
            "grid_auto_columns": null,
            "margin": null,
            "display": null,
            "left": null
          }
        },
        "8ed505a7689f4aeeb09e14cc653a494f": {
          "model_module": "@jupyter-widgets/controls",
          "model_name": "LabelModel",
          "model_module_version": "1.5.0",
          "state": {
            "_view_name": "LabelView",
            "style": "IPY_MODEL_2449e12e7dc24c91a44e336abcad1885",
            "_dom_classes": [],
            "description": "",
            "_model_name": "LabelModel",
            "placeholder": "​",
            "_view_module": "@jupyter-widgets/controls",
            "_model_module_version": "1.5.0",
            "value": " 0.65MB of 0.65MB uploaded (0.00MB deduped)\r",
            "_view_count": null,
            "_view_module_version": "1.5.0",
            "description_tooltip": null,
            "_model_module": "@jupyter-widgets/controls",
            "layout": "IPY_MODEL_c0d96ce9e56d4245b76197f913e861b6"
          }
        },
        "6864164fa6dd4558b78cdb9a8e3ca7ff": {
          "model_module": "@jupyter-widgets/controls",
          "model_name": "FloatProgressModel",
          "model_module_version": "1.5.0",
          "state": {
            "_view_name": "ProgressView",
            "style": "IPY_MODEL_b268cd6a488a4ee2a1a7de4f442ac771",
            "_dom_classes": [],
            "description": "",
            "_model_name": "FloatProgressModel",
            "bar_style": "",
            "max": 1,
            "_view_module": "@jupyter-widgets/controls",
            "_model_module_version": "1.5.0",
            "value": 1,
            "_view_count": null,
            "_view_module_version": "1.5.0",
            "orientation": "horizontal",
            "min": 0,
            "description_tooltip": null,
            "_model_module": "@jupyter-widgets/controls",
            "layout": "IPY_MODEL_6c918f9a363241d58af013fa6affa168"
          }
        },
        "2449e12e7dc24c91a44e336abcad1885": {
          "model_module": "@jupyter-widgets/controls",
          "model_name": "DescriptionStyleModel",
          "model_module_version": "1.5.0",
          "state": {
            "_view_name": "StyleView",
            "_model_name": "DescriptionStyleModel",
            "description_width": "",
            "_view_module": "@jupyter-widgets/base",
            "_model_module_version": "1.5.0",
            "_view_count": null,
            "_view_module_version": "1.2.0",
            "_model_module": "@jupyter-widgets/controls"
          }
        },
        "c0d96ce9e56d4245b76197f913e861b6": {
          "model_module": "@jupyter-widgets/base",
          "model_name": "LayoutModel",
          "model_module_version": "1.2.0",
          "state": {
            "_view_name": "LayoutView",
            "grid_template_rows": null,
            "right": null,
            "justify_content": null,
            "_view_module": "@jupyter-widgets/base",
            "overflow": null,
            "_model_module_version": "1.2.0",
            "_view_count": null,
            "flex_flow": null,
            "width": null,
            "min_width": null,
            "border": null,
            "align_items": null,
            "bottom": null,
            "_model_module": "@jupyter-widgets/base",
            "top": null,
            "grid_column": null,
            "overflow_y": null,
            "overflow_x": null,
            "grid_auto_flow": null,
            "grid_area": null,
            "grid_template_columns": null,
            "flex": null,
            "_model_name": "LayoutModel",
            "justify_items": null,
            "grid_row": null,
            "max_height": null,
            "align_content": null,
            "visibility": null,
            "align_self": null,
            "height": null,
            "min_height": null,
            "padding": null,
            "grid_auto_rows": null,
            "grid_gap": null,
            "max_width": null,
            "order": null,
            "_view_module_version": "1.2.0",
            "grid_template_areas": null,
            "object_position": null,
            "object_fit": null,
            "grid_auto_columns": null,
            "margin": null,
            "display": null,
            "left": null
          }
        },
        "b268cd6a488a4ee2a1a7de4f442ac771": {
          "model_module": "@jupyter-widgets/controls",
          "model_name": "ProgressStyleModel",
          "model_module_version": "1.5.0",
          "state": {
            "_view_name": "StyleView",
            "_model_name": "ProgressStyleModel",
            "description_width": "",
            "_view_module": "@jupyter-widgets/base",
            "_model_module_version": "1.5.0",
            "_view_count": null,
            "_view_module_version": "1.2.0",
            "bar_color": null,
            "_model_module": "@jupyter-widgets/controls"
          }
        },
        "6c918f9a363241d58af013fa6affa168": {
          "model_module": "@jupyter-widgets/base",
          "model_name": "LayoutModel",
          "model_module_version": "1.2.0",
          "state": {
            "_view_name": "LayoutView",
            "grid_template_rows": null,
            "right": null,
            "justify_content": null,
            "_view_module": "@jupyter-widgets/base",
            "overflow": null,
            "_model_module_version": "1.2.0",
            "_view_count": null,
            "flex_flow": null,
            "width": null,
            "min_width": null,
            "border": null,
            "align_items": null,
            "bottom": null,
            "_model_module": "@jupyter-widgets/base",
            "top": null,
            "grid_column": null,
            "overflow_y": null,
            "overflow_x": null,
            "grid_auto_flow": null,
            "grid_area": null,
            "grid_template_columns": null,
            "flex": null,
            "_model_name": "LayoutModel",
            "justify_items": null,
            "grid_row": null,
            "max_height": null,
            "align_content": null,
            "visibility": null,
            "align_self": null,
            "height": null,
            "min_height": null,
            "padding": null,
            "grid_auto_rows": null,
            "grid_gap": null,
            "max_width": null,
            "order": null,
            "_view_module_version": "1.2.0",
            "grid_template_areas": null,
            "object_position": null,
            "object_fit": null,
            "grid_auto_columns": null,
            "margin": null,
            "display": null,
            "left": null
          }
        },
        "01d0df5194ec4b4fa38ba29cf3a38df7": {
          "model_module": "@jupyter-widgets/controls",
          "model_name": "VBoxModel",
          "model_module_version": "1.5.0",
          "state": {
            "_view_name": "VBoxView",
            "_dom_classes": [],
            "_model_name": "VBoxModel",
            "_view_module": "@jupyter-widgets/controls",
            "_model_module_version": "1.5.0",
            "_view_count": null,
            "_view_module_version": "1.5.0",
            "box_style": "",
            "layout": "IPY_MODEL_f99c826bc36f4ade93ad9f0af0565072",
            "_model_module": "@jupyter-widgets/controls",
            "children": [
              "IPY_MODEL_a3f5c0c1053a4a2fba39cdf5103b0473",
              "IPY_MODEL_387a60de00ab44c2976509bcfcfb6135"
            ]
          }
        },
        "f99c826bc36f4ade93ad9f0af0565072": {
          "model_module": "@jupyter-widgets/base",
          "model_name": "LayoutModel",
          "model_module_version": "1.2.0",
          "state": {
            "_view_name": "LayoutView",
            "grid_template_rows": null,
            "right": null,
            "justify_content": null,
            "_view_module": "@jupyter-widgets/base",
            "overflow": null,
            "_model_module_version": "1.2.0",
            "_view_count": null,
            "flex_flow": null,
            "width": null,
            "min_width": null,
            "border": null,
            "align_items": null,
            "bottom": null,
            "_model_module": "@jupyter-widgets/base",
            "top": null,
            "grid_column": null,
            "overflow_y": null,
            "overflow_x": null,
            "grid_auto_flow": null,
            "grid_area": null,
            "grid_template_columns": null,
            "flex": null,
            "_model_name": "LayoutModel",
            "justify_items": null,
            "grid_row": null,
            "max_height": null,
            "align_content": null,
            "visibility": null,
            "align_self": null,
            "height": null,
            "min_height": null,
            "padding": null,
            "grid_auto_rows": null,
            "grid_gap": null,
            "max_width": null,
            "order": null,
            "_view_module_version": "1.2.0",
            "grid_template_areas": null,
            "object_position": null,
            "object_fit": null,
            "grid_auto_columns": null,
            "margin": null,
            "display": null,
            "left": null
          }
        },
        "a3f5c0c1053a4a2fba39cdf5103b0473": {
          "model_module": "@jupyter-widgets/controls",
          "model_name": "LabelModel",
          "model_module_version": "1.5.0",
          "state": {
            "_view_name": "LabelView",
            "style": "IPY_MODEL_a97a61213f724efcbfaad828fb7d8555",
            "_dom_classes": [],
            "description": "",
            "_model_name": "LabelModel",
            "placeholder": "​",
            "_view_module": "@jupyter-widgets/controls",
            "_model_module_version": "1.5.0",
            "value": " 0.01MB of 0.01MB uploaded (0.00MB deduped)\r",
            "_view_count": null,
            "_view_module_version": "1.5.0",
            "description_tooltip": null,
            "_model_module": "@jupyter-widgets/controls",
            "layout": "IPY_MODEL_766cb007ce964156850f47c105d9b946"
          }
        },
        "387a60de00ab44c2976509bcfcfb6135": {
          "model_module": "@jupyter-widgets/controls",
          "model_name": "FloatProgressModel",
          "model_module_version": "1.5.0",
          "state": {
            "_view_name": "ProgressView",
            "style": "IPY_MODEL_4442891929e449bb9b7799b58c0d6f27",
            "_dom_classes": [],
            "description": "",
            "_model_name": "FloatProgressModel",
            "bar_style": "",
            "max": 1,
            "_view_module": "@jupyter-widgets/controls",
            "_model_module_version": "1.5.0",
            "value": 1,
            "_view_count": null,
            "_view_module_version": "1.5.0",
            "orientation": "horizontal",
            "min": 0,
            "description_tooltip": null,
            "_model_module": "@jupyter-widgets/controls",
            "layout": "IPY_MODEL_c7d46c14976846c89f78a739dea2c4cd"
          }
        },
        "a97a61213f724efcbfaad828fb7d8555": {
          "model_module": "@jupyter-widgets/controls",
          "model_name": "DescriptionStyleModel",
          "model_module_version": "1.5.0",
          "state": {
            "_view_name": "StyleView",
            "_model_name": "DescriptionStyleModel",
            "description_width": "",
            "_view_module": "@jupyter-widgets/base",
            "_model_module_version": "1.5.0",
            "_view_count": null,
            "_view_module_version": "1.2.0",
            "_model_module": "@jupyter-widgets/controls"
          }
        },
        "766cb007ce964156850f47c105d9b946": {
          "model_module": "@jupyter-widgets/base",
          "model_name": "LayoutModel",
          "model_module_version": "1.2.0",
          "state": {
            "_view_name": "LayoutView",
            "grid_template_rows": null,
            "right": null,
            "justify_content": null,
            "_view_module": "@jupyter-widgets/base",
            "overflow": null,
            "_model_module_version": "1.2.0",
            "_view_count": null,
            "flex_flow": null,
            "width": null,
            "min_width": null,
            "border": null,
            "align_items": null,
            "bottom": null,
            "_model_module": "@jupyter-widgets/base",
            "top": null,
            "grid_column": null,
            "overflow_y": null,
            "overflow_x": null,
            "grid_auto_flow": null,
            "grid_area": null,
            "grid_template_columns": null,
            "flex": null,
            "_model_name": "LayoutModel",
            "justify_items": null,
            "grid_row": null,
            "max_height": null,
            "align_content": null,
            "visibility": null,
            "align_self": null,
            "height": null,
            "min_height": null,
            "padding": null,
            "grid_auto_rows": null,
            "grid_gap": null,
            "max_width": null,
            "order": null,
            "_view_module_version": "1.2.0",
            "grid_template_areas": null,
            "object_position": null,
            "object_fit": null,
            "grid_auto_columns": null,
            "margin": null,
            "display": null,
            "left": null
          }
        },
        "4442891929e449bb9b7799b58c0d6f27": {
          "model_module": "@jupyter-widgets/controls",
          "model_name": "ProgressStyleModel",
          "model_module_version": "1.5.0",
          "state": {
            "_view_name": "StyleView",
            "_model_name": "ProgressStyleModel",
            "description_width": "",
            "_view_module": "@jupyter-widgets/base",
            "_model_module_version": "1.5.0",
            "_view_count": null,
            "_view_module_version": "1.2.0",
            "bar_color": null,
            "_model_module": "@jupyter-widgets/controls"
          }
        },
        "c7d46c14976846c89f78a739dea2c4cd": {
          "model_module": "@jupyter-widgets/base",
          "model_name": "LayoutModel",
          "model_module_version": "1.2.0",
          "state": {
            "_view_name": "LayoutView",
            "grid_template_rows": null,
            "right": null,
            "justify_content": null,
            "_view_module": "@jupyter-widgets/base",
            "overflow": null,
            "_model_module_version": "1.2.0",
            "_view_count": null,
            "flex_flow": null,
            "width": null,
            "min_width": null,
            "border": null,
            "align_items": null,
            "bottom": null,
            "_model_module": "@jupyter-widgets/base",
            "top": null,
            "grid_column": null,
            "overflow_y": null,
            "overflow_x": null,
            "grid_auto_flow": null,
            "grid_area": null,
            "grid_template_columns": null,
            "flex": null,
            "_model_name": "LayoutModel",
            "justify_items": null,
            "grid_row": null,
            "max_height": null,
            "align_content": null,
            "visibility": null,
            "align_self": null,
            "height": null,
            "min_height": null,
            "padding": null,
            "grid_auto_rows": null,
            "grid_gap": null,
            "max_width": null,
            "order": null,
            "_view_module_version": "1.2.0",
            "grid_template_areas": null,
            "object_position": null,
            "object_fit": null,
            "grid_auto_columns": null,
            "margin": null,
            "display": null,
            "left": null
          }
        },
        "801f7fdef7df42f8ba149f2bafe3ff20": {
          "model_module": "@jupyter-widgets/controls",
          "model_name": "VBoxModel",
          "model_module_version": "1.5.0",
          "state": {
            "_view_name": "VBoxView",
            "_dom_classes": [],
            "_model_name": "VBoxModel",
            "_view_module": "@jupyter-widgets/controls",
            "_model_module_version": "1.5.0",
            "_view_count": null,
            "_view_module_version": "1.5.0",
            "box_style": "",
            "layout": "IPY_MODEL_8763f36c664c41859edc4e8bc04cb024",
            "_model_module": "@jupyter-widgets/controls",
            "children": [
              "IPY_MODEL_ddeea4c4f1ca46bfbf6892cd3d89f586",
              "IPY_MODEL_678345a1e14b4d2aa5a3b501c37cd4ed"
            ]
          }
        },
        "8763f36c664c41859edc4e8bc04cb024": {
          "model_module": "@jupyter-widgets/base",
          "model_name": "LayoutModel",
          "model_module_version": "1.2.0",
          "state": {
            "_view_name": "LayoutView",
            "grid_template_rows": null,
            "right": null,
            "justify_content": null,
            "_view_module": "@jupyter-widgets/base",
            "overflow": null,
            "_model_module_version": "1.2.0",
            "_view_count": null,
            "flex_flow": null,
            "width": null,
            "min_width": null,
            "border": null,
            "align_items": null,
            "bottom": null,
            "_model_module": "@jupyter-widgets/base",
            "top": null,
            "grid_column": null,
            "overflow_y": null,
            "overflow_x": null,
            "grid_auto_flow": null,
            "grid_area": null,
            "grid_template_columns": null,
            "flex": null,
            "_model_name": "LayoutModel",
            "justify_items": null,
            "grid_row": null,
            "max_height": null,
            "align_content": null,
            "visibility": null,
            "align_self": null,
            "height": null,
            "min_height": null,
            "padding": null,
            "grid_auto_rows": null,
            "grid_gap": null,
            "max_width": null,
            "order": null,
            "_view_module_version": "1.2.0",
            "grid_template_areas": null,
            "object_position": null,
            "object_fit": null,
            "grid_auto_columns": null,
            "margin": null,
            "display": null,
            "left": null
          }
        },
        "ddeea4c4f1ca46bfbf6892cd3d89f586": {
          "model_module": "@jupyter-widgets/controls",
          "model_name": "LabelModel",
          "model_module_version": "1.5.0",
          "state": {
            "_view_name": "LabelView",
            "style": "IPY_MODEL_bba73c8448d6466bb821bd8c1edd4e2f",
            "_dom_classes": [],
            "description": "",
            "_model_name": "LabelModel",
            "placeholder": "​",
            "_view_module": "@jupyter-widgets/controls",
            "_model_module_version": "1.5.0",
            "value": " 0.65MB of 0.65MB uploaded (0.00MB deduped)\r",
            "_view_count": null,
            "_view_module_version": "1.5.0",
            "description_tooltip": null,
            "_model_module": "@jupyter-widgets/controls",
            "layout": "IPY_MODEL_e10d7c71a1ae4018b7b7ea9d399e7ed0"
          }
        },
        "678345a1e14b4d2aa5a3b501c37cd4ed": {
          "model_module": "@jupyter-widgets/controls",
          "model_name": "FloatProgressModel",
          "model_module_version": "1.5.0",
          "state": {
            "_view_name": "ProgressView",
            "style": "IPY_MODEL_b60391cf2893405b98bb5ed5d69aaf68",
            "_dom_classes": [],
            "description": "",
            "_model_name": "FloatProgressModel",
            "bar_style": "",
            "max": 1,
            "_view_module": "@jupyter-widgets/controls",
            "_model_module_version": "1.5.0",
            "value": 1,
            "_view_count": null,
            "_view_module_version": "1.5.0",
            "orientation": "horizontal",
            "min": 0,
            "description_tooltip": null,
            "_model_module": "@jupyter-widgets/controls",
            "layout": "IPY_MODEL_ecfa084819ae4122923d354adfe15c6f"
          }
        },
        "bba73c8448d6466bb821bd8c1edd4e2f": {
          "model_module": "@jupyter-widgets/controls",
          "model_name": "DescriptionStyleModel",
          "model_module_version": "1.5.0",
          "state": {
            "_view_name": "StyleView",
            "_model_name": "DescriptionStyleModel",
            "description_width": "",
            "_view_module": "@jupyter-widgets/base",
            "_model_module_version": "1.5.0",
            "_view_count": null,
            "_view_module_version": "1.2.0",
            "_model_module": "@jupyter-widgets/controls"
          }
        },
        "e10d7c71a1ae4018b7b7ea9d399e7ed0": {
          "model_module": "@jupyter-widgets/base",
          "model_name": "LayoutModel",
          "model_module_version": "1.2.0",
          "state": {
            "_view_name": "LayoutView",
            "grid_template_rows": null,
            "right": null,
            "justify_content": null,
            "_view_module": "@jupyter-widgets/base",
            "overflow": null,
            "_model_module_version": "1.2.0",
            "_view_count": null,
            "flex_flow": null,
            "width": null,
            "min_width": null,
            "border": null,
            "align_items": null,
            "bottom": null,
            "_model_module": "@jupyter-widgets/base",
            "top": null,
            "grid_column": null,
            "overflow_y": null,
            "overflow_x": null,
            "grid_auto_flow": null,
            "grid_area": null,
            "grid_template_columns": null,
            "flex": null,
            "_model_name": "LayoutModel",
            "justify_items": null,
            "grid_row": null,
            "max_height": null,
            "align_content": null,
            "visibility": null,
            "align_self": null,
            "height": null,
            "min_height": null,
            "padding": null,
            "grid_auto_rows": null,
            "grid_gap": null,
            "max_width": null,
            "order": null,
            "_view_module_version": "1.2.0",
            "grid_template_areas": null,
            "object_position": null,
            "object_fit": null,
            "grid_auto_columns": null,
            "margin": null,
            "display": null,
            "left": null
          }
        },
        "b60391cf2893405b98bb5ed5d69aaf68": {
          "model_module": "@jupyter-widgets/controls",
          "model_name": "ProgressStyleModel",
          "model_module_version": "1.5.0",
          "state": {
            "_view_name": "StyleView",
            "_model_name": "ProgressStyleModel",
            "description_width": "",
            "_view_module": "@jupyter-widgets/base",
            "_model_module_version": "1.5.0",
            "_view_count": null,
            "_view_module_version": "1.2.0",
            "bar_color": null,
            "_model_module": "@jupyter-widgets/controls"
          }
        },
        "ecfa084819ae4122923d354adfe15c6f": {
          "model_module": "@jupyter-widgets/base",
          "model_name": "LayoutModel",
          "model_module_version": "1.2.0",
          "state": {
            "_view_name": "LayoutView",
            "grid_template_rows": null,
            "right": null,
            "justify_content": null,
            "_view_module": "@jupyter-widgets/base",
            "overflow": null,
            "_model_module_version": "1.2.0",
            "_view_count": null,
            "flex_flow": null,
            "width": null,
            "min_width": null,
            "border": null,
            "align_items": null,
            "bottom": null,
            "_model_module": "@jupyter-widgets/base",
            "top": null,
            "grid_column": null,
            "overflow_y": null,
            "overflow_x": null,
            "grid_auto_flow": null,
            "grid_area": null,
            "grid_template_columns": null,
            "flex": null,
            "_model_name": "LayoutModel",
            "justify_items": null,
            "grid_row": null,
            "max_height": null,
            "align_content": null,
            "visibility": null,
            "align_self": null,
            "height": null,
            "min_height": null,
            "padding": null,
            "grid_auto_rows": null,
            "grid_gap": null,
            "max_width": null,
            "order": null,
            "_view_module_version": "1.2.0",
            "grid_template_areas": null,
            "object_position": null,
            "object_fit": null,
            "grid_auto_columns": null,
            "margin": null,
            "display": null,
            "left": null
          }
        },
        "5497c7325b9647e8be1da6cd8fa66118": {
          "model_module": "@jupyter-widgets/controls",
          "model_name": "VBoxModel",
          "model_module_version": "1.5.0",
          "state": {
            "_view_name": "VBoxView",
            "_dom_classes": [],
            "_model_name": "VBoxModel",
            "_view_module": "@jupyter-widgets/controls",
            "_model_module_version": "1.5.0",
            "_view_count": null,
            "_view_module_version": "1.5.0",
            "box_style": "",
            "layout": "IPY_MODEL_81f3bf484d7544a3bb2990f0ad079b8a",
            "_model_module": "@jupyter-widgets/controls",
            "children": [
              "IPY_MODEL_c36a906a12e647929ed05a96d4571901",
              "IPY_MODEL_622bcbd84b0c4f81bfb871055481f808"
            ]
          }
        },
        "81f3bf484d7544a3bb2990f0ad079b8a": {
          "model_module": "@jupyter-widgets/base",
          "model_name": "LayoutModel",
          "model_module_version": "1.2.0",
          "state": {
            "_view_name": "LayoutView",
            "grid_template_rows": null,
            "right": null,
            "justify_content": null,
            "_view_module": "@jupyter-widgets/base",
            "overflow": null,
            "_model_module_version": "1.2.0",
            "_view_count": null,
            "flex_flow": null,
            "width": null,
            "min_width": null,
            "border": null,
            "align_items": null,
            "bottom": null,
            "_model_module": "@jupyter-widgets/base",
            "top": null,
            "grid_column": null,
            "overflow_y": null,
            "overflow_x": null,
            "grid_auto_flow": null,
            "grid_area": null,
            "grid_template_columns": null,
            "flex": null,
            "_model_name": "LayoutModel",
            "justify_items": null,
            "grid_row": null,
            "max_height": null,
            "align_content": null,
            "visibility": null,
            "align_self": null,
            "height": null,
            "min_height": null,
            "padding": null,
            "grid_auto_rows": null,
            "grid_gap": null,
            "max_width": null,
            "order": null,
            "_view_module_version": "1.2.0",
            "grid_template_areas": null,
            "object_position": null,
            "object_fit": null,
            "grid_auto_columns": null,
            "margin": null,
            "display": null,
            "left": null
          }
        },
        "c36a906a12e647929ed05a96d4571901": {
          "model_module": "@jupyter-widgets/controls",
          "model_name": "LabelModel",
          "model_module_version": "1.5.0",
          "state": {
            "_view_name": "LabelView",
            "style": "IPY_MODEL_c79ba880ca64402db380608f4cd538eb",
            "_dom_classes": [],
            "description": "",
            "_model_name": "LabelModel",
            "placeholder": "​",
            "_view_module": "@jupyter-widgets/controls",
            "_model_module_version": "1.5.0",
            "value": " 0.01MB of 0.01MB uploaded (0.00MB deduped)\r",
            "_view_count": null,
            "_view_module_version": "1.5.0",
            "description_tooltip": null,
            "_model_module": "@jupyter-widgets/controls",
            "layout": "IPY_MODEL_77d82bdbed704c1daeb91c2d2946533a"
          }
        },
        "622bcbd84b0c4f81bfb871055481f808": {
          "model_module": "@jupyter-widgets/controls",
          "model_name": "FloatProgressModel",
          "model_module_version": "1.5.0",
          "state": {
            "_view_name": "ProgressView",
            "style": "IPY_MODEL_c2c50ddc4569491c98dfaeed87c6718d",
            "_dom_classes": [],
            "description": "",
            "_model_name": "FloatProgressModel",
            "bar_style": "",
            "max": 1,
            "_view_module": "@jupyter-widgets/controls",
            "_model_module_version": "1.5.0",
            "value": 1,
            "_view_count": null,
            "_view_module_version": "1.5.0",
            "orientation": "horizontal",
            "min": 0,
            "description_tooltip": null,
            "_model_module": "@jupyter-widgets/controls",
            "layout": "IPY_MODEL_566e0f04fbe64d52a74b31847155185a"
          }
        },
        "c79ba880ca64402db380608f4cd538eb": {
          "model_module": "@jupyter-widgets/controls",
          "model_name": "DescriptionStyleModel",
          "model_module_version": "1.5.0",
          "state": {
            "_view_name": "StyleView",
            "_model_name": "DescriptionStyleModel",
            "description_width": "",
            "_view_module": "@jupyter-widgets/base",
            "_model_module_version": "1.5.0",
            "_view_count": null,
            "_view_module_version": "1.2.0",
            "_model_module": "@jupyter-widgets/controls"
          }
        },
        "77d82bdbed704c1daeb91c2d2946533a": {
          "model_module": "@jupyter-widgets/base",
          "model_name": "LayoutModel",
          "model_module_version": "1.2.0",
          "state": {
            "_view_name": "LayoutView",
            "grid_template_rows": null,
            "right": null,
            "justify_content": null,
            "_view_module": "@jupyter-widgets/base",
            "overflow": null,
            "_model_module_version": "1.2.0",
            "_view_count": null,
            "flex_flow": null,
            "width": null,
            "min_width": null,
            "border": null,
            "align_items": null,
            "bottom": null,
            "_model_module": "@jupyter-widgets/base",
            "top": null,
            "grid_column": null,
            "overflow_y": null,
            "overflow_x": null,
            "grid_auto_flow": null,
            "grid_area": null,
            "grid_template_columns": null,
            "flex": null,
            "_model_name": "LayoutModel",
            "justify_items": null,
            "grid_row": null,
            "max_height": null,
            "align_content": null,
            "visibility": null,
            "align_self": null,
            "height": null,
            "min_height": null,
            "padding": null,
            "grid_auto_rows": null,
            "grid_gap": null,
            "max_width": null,
            "order": null,
            "_view_module_version": "1.2.0",
            "grid_template_areas": null,
            "object_position": null,
            "object_fit": null,
            "grid_auto_columns": null,
            "margin": null,
            "display": null,
            "left": null
          }
        },
        "c2c50ddc4569491c98dfaeed87c6718d": {
          "model_module": "@jupyter-widgets/controls",
          "model_name": "ProgressStyleModel",
          "model_module_version": "1.5.0",
          "state": {
            "_view_name": "StyleView",
            "_model_name": "ProgressStyleModel",
            "description_width": "",
            "_view_module": "@jupyter-widgets/base",
            "_model_module_version": "1.5.0",
            "_view_count": null,
            "_view_module_version": "1.2.0",
            "bar_color": null,
            "_model_module": "@jupyter-widgets/controls"
          }
        },
        "566e0f04fbe64d52a74b31847155185a": {
          "model_module": "@jupyter-widgets/base",
          "model_name": "LayoutModel",
          "model_module_version": "1.2.0",
          "state": {
            "_view_name": "LayoutView",
            "grid_template_rows": null,
            "right": null,
            "justify_content": null,
            "_view_module": "@jupyter-widgets/base",
            "overflow": null,
            "_model_module_version": "1.2.0",
            "_view_count": null,
            "flex_flow": null,
            "width": null,
            "min_width": null,
            "border": null,
            "align_items": null,
            "bottom": null,
            "_model_module": "@jupyter-widgets/base",
            "top": null,
            "grid_column": null,
            "overflow_y": null,
            "overflow_x": null,
            "grid_auto_flow": null,
            "grid_area": null,
            "grid_template_columns": null,
            "flex": null,
            "_model_name": "LayoutModel",
            "justify_items": null,
            "grid_row": null,
            "max_height": null,
            "align_content": null,
            "visibility": null,
            "align_self": null,
            "height": null,
            "min_height": null,
            "padding": null,
            "grid_auto_rows": null,
            "grid_gap": null,
            "max_width": null,
            "order": null,
            "_view_module_version": "1.2.0",
            "grid_template_areas": null,
            "object_position": null,
            "object_fit": null,
            "grid_auto_columns": null,
            "margin": null,
            "display": null,
            "left": null
          }
        },
        "573c97bd05d743a3bbded002ae7ca660": {
          "model_module": "@jupyter-widgets/controls",
          "model_name": "VBoxModel",
          "model_module_version": "1.5.0",
          "state": {
            "_view_name": "VBoxView",
            "_dom_classes": [],
            "_model_name": "VBoxModel",
            "_view_module": "@jupyter-widgets/controls",
            "_model_module_version": "1.5.0",
            "_view_count": null,
            "_view_module_version": "1.5.0",
            "box_style": "",
            "layout": "IPY_MODEL_8364663dc2454f4b90229fca5b24bf44",
            "_model_module": "@jupyter-widgets/controls",
            "children": [
              "IPY_MODEL_206008fb78bc416fa7de2fc4f0ed629d",
              "IPY_MODEL_6034797254594f13bcc83ebd566334fb"
            ]
          }
        },
        "8364663dc2454f4b90229fca5b24bf44": {
          "model_module": "@jupyter-widgets/base",
          "model_name": "LayoutModel",
          "model_module_version": "1.2.0",
          "state": {
            "_view_name": "LayoutView",
            "grid_template_rows": null,
            "right": null,
            "justify_content": null,
            "_view_module": "@jupyter-widgets/base",
            "overflow": null,
            "_model_module_version": "1.2.0",
            "_view_count": null,
            "flex_flow": null,
            "width": null,
            "min_width": null,
            "border": null,
            "align_items": null,
            "bottom": null,
            "_model_module": "@jupyter-widgets/base",
            "top": null,
            "grid_column": null,
            "overflow_y": null,
            "overflow_x": null,
            "grid_auto_flow": null,
            "grid_area": null,
            "grid_template_columns": null,
            "flex": null,
            "_model_name": "LayoutModel",
            "justify_items": null,
            "grid_row": null,
            "max_height": null,
            "align_content": null,
            "visibility": null,
            "align_self": null,
            "height": null,
            "min_height": null,
            "padding": null,
            "grid_auto_rows": null,
            "grid_gap": null,
            "max_width": null,
            "order": null,
            "_view_module_version": "1.2.0",
            "grid_template_areas": null,
            "object_position": null,
            "object_fit": null,
            "grid_auto_columns": null,
            "margin": null,
            "display": null,
            "left": null
          }
        },
        "206008fb78bc416fa7de2fc4f0ed629d": {
          "model_module": "@jupyter-widgets/controls",
          "model_name": "LabelModel",
          "model_module_version": "1.5.0",
          "state": {
            "_view_name": "LabelView",
            "style": "IPY_MODEL_294eb0bc4e6c44bfbc56dbae0a1d4751",
            "_dom_classes": [],
            "description": "",
            "_model_name": "LabelModel",
            "placeholder": "​",
            "_view_module": "@jupyter-widgets/controls",
            "_model_module_version": "1.5.0",
            "value": " 0.94MB of 0.94MB uploaded (0.00MB deduped)\r",
            "_view_count": null,
            "_view_module_version": "1.5.0",
            "description_tooltip": null,
            "_model_module": "@jupyter-widgets/controls",
            "layout": "IPY_MODEL_08c2945c23ed4a2f9f0813468eb2aa7a"
          }
        },
        "6034797254594f13bcc83ebd566334fb": {
          "model_module": "@jupyter-widgets/controls",
          "model_name": "FloatProgressModel",
          "model_module_version": "1.5.0",
          "state": {
            "_view_name": "ProgressView",
            "style": "IPY_MODEL_11f2a020c17a45ed8b3eb89401dd187c",
            "_dom_classes": [],
            "description": "",
            "_model_name": "FloatProgressModel",
            "bar_style": "",
            "max": 1,
            "_view_module": "@jupyter-widgets/controls",
            "_model_module_version": "1.5.0",
            "value": 1,
            "_view_count": null,
            "_view_module_version": "1.5.0",
            "orientation": "horizontal",
            "min": 0,
            "description_tooltip": null,
            "_model_module": "@jupyter-widgets/controls",
            "layout": "IPY_MODEL_2c8bb44d556a48d68fa4c504672c84a3"
          }
        },
        "294eb0bc4e6c44bfbc56dbae0a1d4751": {
          "model_module": "@jupyter-widgets/controls",
          "model_name": "DescriptionStyleModel",
          "model_module_version": "1.5.0",
          "state": {
            "_view_name": "StyleView",
            "_model_name": "DescriptionStyleModel",
            "description_width": "",
            "_view_module": "@jupyter-widgets/base",
            "_model_module_version": "1.5.0",
            "_view_count": null,
            "_view_module_version": "1.2.0",
            "_model_module": "@jupyter-widgets/controls"
          }
        },
        "08c2945c23ed4a2f9f0813468eb2aa7a": {
          "model_module": "@jupyter-widgets/base",
          "model_name": "LayoutModel",
          "model_module_version": "1.2.0",
          "state": {
            "_view_name": "LayoutView",
            "grid_template_rows": null,
            "right": null,
            "justify_content": null,
            "_view_module": "@jupyter-widgets/base",
            "overflow": null,
            "_model_module_version": "1.2.0",
            "_view_count": null,
            "flex_flow": null,
            "width": null,
            "min_width": null,
            "border": null,
            "align_items": null,
            "bottom": null,
            "_model_module": "@jupyter-widgets/base",
            "top": null,
            "grid_column": null,
            "overflow_y": null,
            "overflow_x": null,
            "grid_auto_flow": null,
            "grid_area": null,
            "grid_template_columns": null,
            "flex": null,
            "_model_name": "LayoutModel",
            "justify_items": null,
            "grid_row": null,
            "max_height": null,
            "align_content": null,
            "visibility": null,
            "align_self": null,
            "height": null,
            "min_height": null,
            "padding": null,
            "grid_auto_rows": null,
            "grid_gap": null,
            "max_width": null,
            "order": null,
            "_view_module_version": "1.2.0",
            "grid_template_areas": null,
            "object_position": null,
            "object_fit": null,
            "grid_auto_columns": null,
            "margin": null,
            "display": null,
            "left": null
          }
        },
        "11f2a020c17a45ed8b3eb89401dd187c": {
          "model_module": "@jupyter-widgets/controls",
          "model_name": "ProgressStyleModel",
          "model_module_version": "1.5.0",
          "state": {
            "_view_name": "StyleView",
            "_model_name": "ProgressStyleModel",
            "description_width": "",
            "_view_module": "@jupyter-widgets/base",
            "_model_module_version": "1.5.0",
            "_view_count": null,
            "_view_module_version": "1.2.0",
            "bar_color": null,
            "_model_module": "@jupyter-widgets/controls"
          }
        },
        "2c8bb44d556a48d68fa4c504672c84a3": {
          "model_module": "@jupyter-widgets/base",
          "model_name": "LayoutModel",
          "model_module_version": "1.2.0",
          "state": {
            "_view_name": "LayoutView",
            "grid_template_rows": null,
            "right": null,
            "justify_content": null,
            "_view_module": "@jupyter-widgets/base",
            "overflow": null,
            "_model_module_version": "1.2.0",
            "_view_count": null,
            "flex_flow": null,
            "width": null,
            "min_width": null,
            "border": null,
            "align_items": null,
            "bottom": null,
            "_model_module": "@jupyter-widgets/base",
            "top": null,
            "grid_column": null,
            "overflow_y": null,
            "overflow_x": null,
            "grid_auto_flow": null,
            "grid_area": null,
            "grid_template_columns": null,
            "flex": null,
            "_model_name": "LayoutModel",
            "justify_items": null,
            "grid_row": null,
            "max_height": null,
            "align_content": null,
            "visibility": null,
            "align_self": null,
            "height": null,
            "min_height": null,
            "padding": null,
            "grid_auto_rows": null,
            "grid_gap": null,
            "max_width": null,
            "order": null,
            "_view_module_version": "1.2.0",
            "grid_template_areas": null,
            "object_position": null,
            "object_fit": null,
            "grid_auto_columns": null,
            "margin": null,
            "display": null,
            "left": null
          }
        },
        "9aab8f32fd8c4a93a8f85c4ff97549b3": {
          "model_module": "@jupyter-widgets/controls",
          "model_name": "VBoxModel",
          "model_module_version": "1.5.0",
          "state": {
            "_view_name": "VBoxView",
            "_dom_classes": [],
            "_model_name": "VBoxModel",
            "_view_module": "@jupyter-widgets/controls",
            "_model_module_version": "1.5.0",
            "_view_count": null,
            "_view_module_version": "1.5.0",
            "box_style": "",
            "layout": "IPY_MODEL_838631816e3241799b800a1a201699cf",
            "_model_module": "@jupyter-widgets/controls",
            "children": [
              "IPY_MODEL_9d43a4071ea1437fabc427a7c5ce88ef",
              "IPY_MODEL_3e766a66c1ad474a92cf19de42aec5c4"
            ]
          }
        },
        "838631816e3241799b800a1a201699cf": {
          "model_module": "@jupyter-widgets/base",
          "model_name": "LayoutModel",
          "model_module_version": "1.2.0",
          "state": {
            "_view_name": "LayoutView",
            "grid_template_rows": null,
            "right": null,
            "justify_content": null,
            "_view_module": "@jupyter-widgets/base",
            "overflow": null,
            "_model_module_version": "1.2.0",
            "_view_count": null,
            "flex_flow": null,
            "width": null,
            "min_width": null,
            "border": null,
            "align_items": null,
            "bottom": null,
            "_model_module": "@jupyter-widgets/base",
            "top": null,
            "grid_column": null,
            "overflow_y": null,
            "overflow_x": null,
            "grid_auto_flow": null,
            "grid_area": null,
            "grid_template_columns": null,
            "flex": null,
            "_model_name": "LayoutModel",
            "justify_items": null,
            "grid_row": null,
            "max_height": null,
            "align_content": null,
            "visibility": null,
            "align_self": null,
            "height": null,
            "min_height": null,
            "padding": null,
            "grid_auto_rows": null,
            "grid_gap": null,
            "max_width": null,
            "order": null,
            "_view_module_version": "1.2.0",
            "grid_template_areas": null,
            "object_position": null,
            "object_fit": null,
            "grid_auto_columns": null,
            "margin": null,
            "display": null,
            "left": null
          }
        },
        "9d43a4071ea1437fabc427a7c5ce88ef": {
          "model_module": "@jupyter-widgets/controls",
          "model_name": "LabelModel",
          "model_module_version": "1.5.0",
          "state": {
            "_view_name": "LabelView",
            "style": "IPY_MODEL_a61877b902604ee2ba37de359e18b8eb",
            "_dom_classes": [],
            "description": "",
            "_model_name": "LabelModel",
            "placeholder": "​",
            "_view_module": "@jupyter-widgets/controls",
            "_model_module_version": "1.5.0",
            "value": " 0.01MB of 0.01MB uploaded (0.00MB deduped)\r",
            "_view_count": null,
            "_view_module_version": "1.5.0",
            "description_tooltip": null,
            "_model_module": "@jupyter-widgets/controls",
            "layout": "IPY_MODEL_6fef094f9f3f419ba1f1bc4c7d54ca0b"
          }
        },
        "3e766a66c1ad474a92cf19de42aec5c4": {
          "model_module": "@jupyter-widgets/controls",
          "model_name": "FloatProgressModel",
          "model_module_version": "1.5.0",
          "state": {
            "_view_name": "ProgressView",
            "style": "IPY_MODEL_9db4e53f5c6c4f93b1edc1eb00478ba8",
            "_dom_classes": [],
            "description": "",
            "_model_name": "FloatProgressModel",
            "bar_style": "",
            "max": 1,
            "_view_module": "@jupyter-widgets/controls",
            "_model_module_version": "1.5.0",
            "value": 1,
            "_view_count": null,
            "_view_module_version": "1.5.0",
            "orientation": "horizontal",
            "min": 0,
            "description_tooltip": null,
            "_model_module": "@jupyter-widgets/controls",
            "layout": "IPY_MODEL_c72a8f0266d049ef83f04a4564fc0c24"
          }
        },
        "a61877b902604ee2ba37de359e18b8eb": {
          "model_module": "@jupyter-widgets/controls",
          "model_name": "DescriptionStyleModel",
          "model_module_version": "1.5.0",
          "state": {
            "_view_name": "StyleView",
            "_model_name": "DescriptionStyleModel",
            "description_width": "",
            "_view_module": "@jupyter-widgets/base",
            "_model_module_version": "1.5.0",
            "_view_count": null,
            "_view_module_version": "1.2.0",
            "_model_module": "@jupyter-widgets/controls"
          }
        },
        "6fef094f9f3f419ba1f1bc4c7d54ca0b": {
          "model_module": "@jupyter-widgets/base",
          "model_name": "LayoutModel",
          "model_module_version": "1.2.0",
          "state": {
            "_view_name": "LayoutView",
            "grid_template_rows": null,
            "right": null,
            "justify_content": null,
            "_view_module": "@jupyter-widgets/base",
            "overflow": null,
            "_model_module_version": "1.2.0",
            "_view_count": null,
            "flex_flow": null,
            "width": null,
            "min_width": null,
            "border": null,
            "align_items": null,
            "bottom": null,
            "_model_module": "@jupyter-widgets/base",
            "top": null,
            "grid_column": null,
            "overflow_y": null,
            "overflow_x": null,
            "grid_auto_flow": null,
            "grid_area": null,
            "grid_template_columns": null,
            "flex": null,
            "_model_name": "LayoutModel",
            "justify_items": null,
            "grid_row": null,
            "max_height": null,
            "align_content": null,
            "visibility": null,
            "align_self": null,
            "height": null,
            "min_height": null,
            "padding": null,
            "grid_auto_rows": null,
            "grid_gap": null,
            "max_width": null,
            "order": null,
            "_view_module_version": "1.2.0",
            "grid_template_areas": null,
            "object_position": null,
            "object_fit": null,
            "grid_auto_columns": null,
            "margin": null,
            "display": null,
            "left": null
          }
        },
        "9db4e53f5c6c4f93b1edc1eb00478ba8": {
          "model_module": "@jupyter-widgets/controls",
          "model_name": "ProgressStyleModel",
          "model_module_version": "1.5.0",
          "state": {
            "_view_name": "StyleView",
            "_model_name": "ProgressStyleModel",
            "description_width": "",
            "_view_module": "@jupyter-widgets/base",
            "_model_module_version": "1.5.0",
            "_view_count": null,
            "_view_module_version": "1.2.0",
            "bar_color": null,
            "_model_module": "@jupyter-widgets/controls"
          }
        },
        "c72a8f0266d049ef83f04a4564fc0c24": {
          "model_module": "@jupyter-widgets/base",
          "model_name": "LayoutModel",
          "model_module_version": "1.2.0",
          "state": {
            "_view_name": "LayoutView",
            "grid_template_rows": null,
            "right": null,
            "justify_content": null,
            "_view_module": "@jupyter-widgets/base",
            "overflow": null,
            "_model_module_version": "1.2.0",
            "_view_count": null,
            "flex_flow": null,
            "width": null,
            "min_width": null,
            "border": null,
            "align_items": null,
            "bottom": null,
            "_model_module": "@jupyter-widgets/base",
            "top": null,
            "grid_column": null,
            "overflow_y": null,
            "overflow_x": null,
            "grid_auto_flow": null,
            "grid_area": null,
            "grid_template_columns": null,
            "flex": null,
            "_model_name": "LayoutModel",
            "justify_items": null,
            "grid_row": null,
            "max_height": null,
            "align_content": null,
            "visibility": null,
            "align_self": null,
            "height": null,
            "min_height": null,
            "padding": null,
            "grid_auto_rows": null,
            "grid_gap": null,
            "max_width": null,
            "order": null,
            "_view_module_version": "1.2.0",
            "grid_template_areas": null,
            "object_position": null,
            "object_fit": null,
            "grid_auto_columns": null,
            "margin": null,
            "display": null,
            "left": null
          }
        },
        "e94652159ccf40e19b4d8bd2f7d13cbd": {
          "model_module": "@jupyter-widgets/controls",
          "model_name": "VBoxModel",
          "model_module_version": "1.5.0",
          "state": {
            "_view_name": "VBoxView",
            "_dom_classes": [],
            "_model_name": "VBoxModel",
            "_view_module": "@jupyter-widgets/controls",
            "_model_module_version": "1.5.0",
            "_view_count": null,
            "_view_module_version": "1.5.0",
            "box_style": "",
            "layout": "IPY_MODEL_4224ef255a1845b0a4c7262854f249d2",
            "_model_module": "@jupyter-widgets/controls",
            "children": [
              "IPY_MODEL_ea7e040926f2411b87b9f4d61228841a",
              "IPY_MODEL_e97bcc10cd294f75ae66a1b1db88f428"
            ]
          }
        },
        "4224ef255a1845b0a4c7262854f249d2": {
          "model_module": "@jupyter-widgets/base",
          "model_name": "LayoutModel",
          "model_module_version": "1.2.0",
          "state": {
            "_view_name": "LayoutView",
            "grid_template_rows": null,
            "right": null,
            "justify_content": null,
            "_view_module": "@jupyter-widgets/base",
            "overflow": null,
            "_model_module_version": "1.2.0",
            "_view_count": null,
            "flex_flow": null,
            "width": null,
            "min_width": null,
            "border": null,
            "align_items": null,
            "bottom": null,
            "_model_module": "@jupyter-widgets/base",
            "top": null,
            "grid_column": null,
            "overflow_y": null,
            "overflow_x": null,
            "grid_auto_flow": null,
            "grid_area": null,
            "grid_template_columns": null,
            "flex": null,
            "_model_name": "LayoutModel",
            "justify_items": null,
            "grid_row": null,
            "max_height": null,
            "align_content": null,
            "visibility": null,
            "align_self": null,
            "height": null,
            "min_height": null,
            "padding": null,
            "grid_auto_rows": null,
            "grid_gap": null,
            "max_width": null,
            "order": null,
            "_view_module_version": "1.2.0",
            "grid_template_areas": null,
            "object_position": null,
            "object_fit": null,
            "grid_auto_columns": null,
            "margin": null,
            "display": null,
            "left": null
          }
        },
        "ea7e040926f2411b87b9f4d61228841a": {
          "model_module": "@jupyter-widgets/controls",
          "model_name": "LabelModel",
          "model_module_version": "1.5.0",
          "state": {
            "_view_name": "LabelView",
            "style": "IPY_MODEL_3009c95c76c14cb28ff24f43e8c0f70b",
            "_dom_classes": [],
            "description": "",
            "_model_name": "LabelModel",
            "placeholder": "​",
            "_view_module": "@jupyter-widgets/controls",
            "_model_module_version": "1.5.0",
            "value": " 0.94MB of 0.94MB uploaded (0.00MB deduped)\r",
            "_view_count": null,
            "_view_module_version": "1.5.0",
            "description_tooltip": null,
            "_model_module": "@jupyter-widgets/controls",
            "layout": "IPY_MODEL_0ed4e08329954d448a46ed2e773f005d"
          }
        },
        "e97bcc10cd294f75ae66a1b1db88f428": {
          "model_module": "@jupyter-widgets/controls",
          "model_name": "FloatProgressModel",
          "model_module_version": "1.5.0",
          "state": {
            "_view_name": "ProgressView",
            "style": "IPY_MODEL_8c9cd040397a4d1081759d0051d43c48",
            "_dom_classes": [],
            "description": "",
            "_model_name": "FloatProgressModel",
            "bar_style": "",
            "max": 1,
            "_view_module": "@jupyter-widgets/controls",
            "_model_module_version": "1.5.0",
            "value": 1,
            "_view_count": null,
            "_view_module_version": "1.5.0",
            "orientation": "horizontal",
            "min": 0,
            "description_tooltip": null,
            "_model_module": "@jupyter-widgets/controls",
            "layout": "IPY_MODEL_a613d977505a4a0ca806de0f91174511"
          }
        },
        "3009c95c76c14cb28ff24f43e8c0f70b": {
          "model_module": "@jupyter-widgets/controls",
          "model_name": "DescriptionStyleModel",
          "model_module_version": "1.5.0",
          "state": {
            "_view_name": "StyleView",
            "_model_name": "DescriptionStyleModel",
            "description_width": "",
            "_view_module": "@jupyter-widgets/base",
            "_model_module_version": "1.5.0",
            "_view_count": null,
            "_view_module_version": "1.2.0",
            "_model_module": "@jupyter-widgets/controls"
          }
        },
        "0ed4e08329954d448a46ed2e773f005d": {
          "model_module": "@jupyter-widgets/base",
          "model_name": "LayoutModel",
          "model_module_version": "1.2.0",
          "state": {
            "_view_name": "LayoutView",
            "grid_template_rows": null,
            "right": null,
            "justify_content": null,
            "_view_module": "@jupyter-widgets/base",
            "overflow": null,
            "_model_module_version": "1.2.0",
            "_view_count": null,
            "flex_flow": null,
            "width": null,
            "min_width": null,
            "border": null,
            "align_items": null,
            "bottom": null,
            "_model_module": "@jupyter-widgets/base",
            "top": null,
            "grid_column": null,
            "overflow_y": null,
            "overflow_x": null,
            "grid_auto_flow": null,
            "grid_area": null,
            "grid_template_columns": null,
            "flex": null,
            "_model_name": "LayoutModel",
            "justify_items": null,
            "grid_row": null,
            "max_height": null,
            "align_content": null,
            "visibility": null,
            "align_self": null,
            "height": null,
            "min_height": null,
            "padding": null,
            "grid_auto_rows": null,
            "grid_gap": null,
            "max_width": null,
            "order": null,
            "_view_module_version": "1.2.0",
            "grid_template_areas": null,
            "object_position": null,
            "object_fit": null,
            "grid_auto_columns": null,
            "margin": null,
            "display": null,
            "left": null
          }
        },
        "8c9cd040397a4d1081759d0051d43c48": {
          "model_module": "@jupyter-widgets/controls",
          "model_name": "ProgressStyleModel",
          "model_module_version": "1.5.0",
          "state": {
            "_view_name": "StyleView",
            "_model_name": "ProgressStyleModel",
            "description_width": "",
            "_view_module": "@jupyter-widgets/base",
            "_model_module_version": "1.5.0",
            "_view_count": null,
            "_view_module_version": "1.2.0",
            "bar_color": null,
            "_model_module": "@jupyter-widgets/controls"
          }
        },
        "a613d977505a4a0ca806de0f91174511": {
          "model_module": "@jupyter-widgets/base",
          "model_name": "LayoutModel",
          "model_module_version": "1.2.0",
          "state": {
            "_view_name": "LayoutView",
            "grid_template_rows": null,
            "right": null,
            "justify_content": null,
            "_view_module": "@jupyter-widgets/base",
            "overflow": null,
            "_model_module_version": "1.2.0",
            "_view_count": null,
            "flex_flow": null,
            "width": null,
            "min_width": null,
            "border": null,
            "align_items": null,
            "bottom": null,
            "_model_module": "@jupyter-widgets/base",
            "top": null,
            "grid_column": null,
            "overflow_y": null,
            "overflow_x": null,
            "grid_auto_flow": null,
            "grid_area": null,
            "grid_template_columns": null,
            "flex": null,
            "_model_name": "LayoutModel",
            "justify_items": null,
            "grid_row": null,
            "max_height": null,
            "align_content": null,
            "visibility": null,
            "align_self": null,
            "height": null,
            "min_height": null,
            "padding": null,
            "grid_auto_rows": null,
            "grid_gap": null,
            "max_width": null,
            "order": null,
            "_view_module_version": "1.2.0",
            "grid_template_areas": null,
            "object_position": null,
            "object_fit": null,
            "grid_auto_columns": null,
            "margin": null,
            "display": null,
            "left": null
          }
        },
        "f4ffb696e34b425ab3aedde02ffe8cc8": {
          "model_module": "@jupyter-widgets/controls",
          "model_name": "VBoxModel",
          "model_module_version": "1.5.0",
          "state": {
            "_view_name": "VBoxView",
            "_dom_classes": [],
            "_model_name": "VBoxModel",
            "_view_module": "@jupyter-widgets/controls",
            "_model_module_version": "1.5.0",
            "_view_count": null,
            "_view_module_version": "1.5.0",
            "box_style": "",
            "layout": "IPY_MODEL_1ecb7e6afff7425e97517bbaf978f49d",
            "_model_module": "@jupyter-widgets/controls",
            "children": [
              "IPY_MODEL_3c461d4c4e8a4b55abdf9c0f5ed8f29e",
              "IPY_MODEL_662897e216704ca3a8ea09dcbc457445"
            ]
          }
        },
        "1ecb7e6afff7425e97517bbaf978f49d": {
          "model_module": "@jupyter-widgets/base",
          "model_name": "LayoutModel",
          "model_module_version": "1.2.0",
          "state": {
            "_view_name": "LayoutView",
            "grid_template_rows": null,
            "right": null,
            "justify_content": null,
            "_view_module": "@jupyter-widgets/base",
            "overflow": null,
            "_model_module_version": "1.2.0",
            "_view_count": null,
            "flex_flow": null,
            "width": null,
            "min_width": null,
            "border": null,
            "align_items": null,
            "bottom": null,
            "_model_module": "@jupyter-widgets/base",
            "top": null,
            "grid_column": null,
            "overflow_y": null,
            "overflow_x": null,
            "grid_auto_flow": null,
            "grid_area": null,
            "grid_template_columns": null,
            "flex": null,
            "_model_name": "LayoutModel",
            "justify_items": null,
            "grid_row": null,
            "max_height": null,
            "align_content": null,
            "visibility": null,
            "align_self": null,
            "height": null,
            "min_height": null,
            "padding": null,
            "grid_auto_rows": null,
            "grid_gap": null,
            "max_width": null,
            "order": null,
            "_view_module_version": "1.2.0",
            "grid_template_areas": null,
            "object_position": null,
            "object_fit": null,
            "grid_auto_columns": null,
            "margin": null,
            "display": null,
            "left": null
          }
        },
        "3c461d4c4e8a4b55abdf9c0f5ed8f29e": {
          "model_module": "@jupyter-widgets/controls",
          "model_name": "LabelModel",
          "model_module_version": "1.5.0",
          "state": {
            "_view_name": "LabelView",
            "style": "IPY_MODEL_8a1357aeca5a4ad5b70cebe05b278ddd",
            "_dom_classes": [],
            "description": "",
            "_model_name": "LabelModel",
            "placeholder": "​",
            "_view_module": "@jupyter-widgets/controls",
            "_model_module_version": "1.5.0",
            "value": " 0.01MB of 0.01MB uploaded (0.00MB deduped)\r",
            "_view_count": null,
            "_view_module_version": "1.5.0",
            "description_tooltip": null,
            "_model_module": "@jupyter-widgets/controls",
            "layout": "IPY_MODEL_ca0bc9d714b9458ca721126b5c6e85b9"
          }
        },
        "662897e216704ca3a8ea09dcbc457445": {
          "model_module": "@jupyter-widgets/controls",
          "model_name": "FloatProgressModel",
          "model_module_version": "1.5.0",
          "state": {
            "_view_name": "ProgressView",
            "style": "IPY_MODEL_e12965e2b113436ea411c9fb1f9aeb4b",
            "_dom_classes": [],
            "description": "",
            "_model_name": "FloatProgressModel",
            "bar_style": "",
            "max": 1,
            "_view_module": "@jupyter-widgets/controls",
            "_model_module_version": "1.5.0",
            "value": 1,
            "_view_count": null,
            "_view_module_version": "1.5.0",
            "orientation": "horizontal",
            "min": 0,
            "description_tooltip": null,
            "_model_module": "@jupyter-widgets/controls",
            "layout": "IPY_MODEL_c213fea555de4111a35c28a0761a7efa"
          }
        },
        "8a1357aeca5a4ad5b70cebe05b278ddd": {
          "model_module": "@jupyter-widgets/controls",
          "model_name": "DescriptionStyleModel",
          "model_module_version": "1.5.0",
          "state": {
            "_view_name": "StyleView",
            "_model_name": "DescriptionStyleModel",
            "description_width": "",
            "_view_module": "@jupyter-widgets/base",
            "_model_module_version": "1.5.0",
            "_view_count": null,
            "_view_module_version": "1.2.0",
            "_model_module": "@jupyter-widgets/controls"
          }
        },
        "ca0bc9d714b9458ca721126b5c6e85b9": {
          "model_module": "@jupyter-widgets/base",
          "model_name": "LayoutModel",
          "model_module_version": "1.2.0",
          "state": {
            "_view_name": "LayoutView",
            "grid_template_rows": null,
            "right": null,
            "justify_content": null,
            "_view_module": "@jupyter-widgets/base",
            "overflow": null,
            "_model_module_version": "1.2.0",
            "_view_count": null,
            "flex_flow": null,
            "width": null,
            "min_width": null,
            "border": null,
            "align_items": null,
            "bottom": null,
            "_model_module": "@jupyter-widgets/base",
            "top": null,
            "grid_column": null,
            "overflow_y": null,
            "overflow_x": null,
            "grid_auto_flow": null,
            "grid_area": null,
            "grid_template_columns": null,
            "flex": null,
            "_model_name": "LayoutModel",
            "justify_items": null,
            "grid_row": null,
            "max_height": null,
            "align_content": null,
            "visibility": null,
            "align_self": null,
            "height": null,
            "min_height": null,
            "padding": null,
            "grid_auto_rows": null,
            "grid_gap": null,
            "max_width": null,
            "order": null,
            "_view_module_version": "1.2.0",
            "grid_template_areas": null,
            "object_position": null,
            "object_fit": null,
            "grid_auto_columns": null,
            "margin": null,
            "display": null,
            "left": null
          }
        },
        "e12965e2b113436ea411c9fb1f9aeb4b": {
          "model_module": "@jupyter-widgets/controls",
          "model_name": "ProgressStyleModel",
          "model_module_version": "1.5.0",
          "state": {
            "_view_name": "StyleView",
            "_model_name": "ProgressStyleModel",
            "description_width": "",
            "_view_module": "@jupyter-widgets/base",
            "_model_module_version": "1.5.0",
            "_view_count": null,
            "_view_module_version": "1.2.0",
            "bar_color": null,
            "_model_module": "@jupyter-widgets/controls"
          }
        },
        "c213fea555de4111a35c28a0761a7efa": {
          "model_module": "@jupyter-widgets/base",
          "model_name": "LayoutModel",
          "model_module_version": "1.2.0",
          "state": {
            "_view_name": "LayoutView",
            "grid_template_rows": null,
            "right": null,
            "justify_content": null,
            "_view_module": "@jupyter-widgets/base",
            "overflow": null,
            "_model_module_version": "1.2.0",
            "_view_count": null,
            "flex_flow": null,
            "width": null,
            "min_width": null,
            "border": null,
            "align_items": null,
            "bottom": null,
            "_model_module": "@jupyter-widgets/base",
            "top": null,
            "grid_column": null,
            "overflow_y": null,
            "overflow_x": null,
            "grid_auto_flow": null,
            "grid_area": null,
            "grid_template_columns": null,
            "flex": null,
            "_model_name": "LayoutModel",
            "justify_items": null,
            "grid_row": null,
            "max_height": null,
            "align_content": null,
            "visibility": null,
            "align_self": null,
            "height": null,
            "min_height": null,
            "padding": null,
            "grid_auto_rows": null,
            "grid_gap": null,
            "max_width": null,
            "order": null,
            "_view_module_version": "1.2.0",
            "grid_template_areas": null,
            "object_position": null,
            "object_fit": null,
            "grid_auto_columns": null,
            "margin": null,
            "display": null,
            "left": null
          }
        },
        "b4f67b09ec3040e993e4fd654e34a5c6": {
          "model_module": "@jupyter-widgets/controls",
          "model_name": "VBoxModel",
          "model_module_version": "1.5.0",
          "state": {
            "_view_name": "VBoxView",
            "_dom_classes": [],
            "_model_name": "VBoxModel",
            "_view_module": "@jupyter-widgets/controls",
            "_model_module_version": "1.5.0",
            "_view_count": null,
            "_view_module_version": "1.5.0",
            "box_style": "",
            "layout": "IPY_MODEL_43ebfac553e741eeb41e2aeb2bca8acf",
            "_model_module": "@jupyter-widgets/controls",
            "children": [
              "IPY_MODEL_19b158da4baa4d81963ba663a3bcfcae",
              "IPY_MODEL_fdcdac992c844d1ba2fc2e3dd96b8036"
            ]
          }
        },
        "43ebfac553e741eeb41e2aeb2bca8acf": {
          "model_module": "@jupyter-widgets/base",
          "model_name": "LayoutModel",
          "model_module_version": "1.2.0",
          "state": {
            "_view_name": "LayoutView",
            "grid_template_rows": null,
            "right": null,
            "justify_content": null,
            "_view_module": "@jupyter-widgets/base",
            "overflow": null,
            "_model_module_version": "1.2.0",
            "_view_count": null,
            "flex_flow": null,
            "width": null,
            "min_width": null,
            "border": null,
            "align_items": null,
            "bottom": null,
            "_model_module": "@jupyter-widgets/base",
            "top": null,
            "grid_column": null,
            "overflow_y": null,
            "overflow_x": null,
            "grid_auto_flow": null,
            "grid_area": null,
            "grid_template_columns": null,
            "flex": null,
            "_model_name": "LayoutModel",
            "justify_items": null,
            "grid_row": null,
            "max_height": null,
            "align_content": null,
            "visibility": null,
            "align_self": null,
            "height": null,
            "min_height": null,
            "padding": null,
            "grid_auto_rows": null,
            "grid_gap": null,
            "max_width": null,
            "order": null,
            "_view_module_version": "1.2.0",
            "grid_template_areas": null,
            "object_position": null,
            "object_fit": null,
            "grid_auto_columns": null,
            "margin": null,
            "display": null,
            "left": null
          }
        },
        "19b158da4baa4d81963ba663a3bcfcae": {
          "model_module": "@jupyter-widgets/controls",
          "model_name": "LabelModel",
          "model_module_version": "1.5.0",
          "state": {
            "_view_name": "LabelView",
            "style": "IPY_MODEL_7b49efea28b54e58881e22824626641b",
            "_dom_classes": [],
            "description": "",
            "_model_name": "LabelModel",
            "placeholder": "​",
            "_view_module": "@jupyter-widgets/controls",
            "_model_module_version": "1.5.0",
            "value": " 0.94MB of 0.94MB uploaded (0.00MB deduped)\r",
            "_view_count": null,
            "_view_module_version": "1.5.0",
            "description_tooltip": null,
            "_model_module": "@jupyter-widgets/controls",
            "layout": "IPY_MODEL_aec65116cc3046b8b9d60544b28b57a3"
          }
        },
        "fdcdac992c844d1ba2fc2e3dd96b8036": {
          "model_module": "@jupyter-widgets/controls",
          "model_name": "FloatProgressModel",
          "model_module_version": "1.5.0",
          "state": {
            "_view_name": "ProgressView",
            "style": "IPY_MODEL_bbb1f919606348f09317f07f38f82df1",
            "_dom_classes": [],
            "description": "",
            "_model_name": "FloatProgressModel",
            "bar_style": "",
            "max": 1,
            "_view_module": "@jupyter-widgets/controls",
            "_model_module_version": "1.5.0",
            "value": 1,
            "_view_count": null,
            "_view_module_version": "1.5.0",
            "orientation": "horizontal",
            "min": 0,
            "description_tooltip": null,
            "_model_module": "@jupyter-widgets/controls",
            "layout": "IPY_MODEL_2e8d548114d541a98cb61b93b8b81736"
          }
        },
        "7b49efea28b54e58881e22824626641b": {
          "model_module": "@jupyter-widgets/controls",
          "model_name": "DescriptionStyleModel",
          "model_module_version": "1.5.0",
          "state": {
            "_view_name": "StyleView",
            "_model_name": "DescriptionStyleModel",
            "description_width": "",
            "_view_module": "@jupyter-widgets/base",
            "_model_module_version": "1.5.0",
            "_view_count": null,
            "_view_module_version": "1.2.0",
            "_model_module": "@jupyter-widgets/controls"
          }
        },
        "aec65116cc3046b8b9d60544b28b57a3": {
          "model_module": "@jupyter-widgets/base",
          "model_name": "LayoutModel",
          "model_module_version": "1.2.0",
          "state": {
            "_view_name": "LayoutView",
            "grid_template_rows": null,
            "right": null,
            "justify_content": null,
            "_view_module": "@jupyter-widgets/base",
            "overflow": null,
            "_model_module_version": "1.2.0",
            "_view_count": null,
            "flex_flow": null,
            "width": null,
            "min_width": null,
            "border": null,
            "align_items": null,
            "bottom": null,
            "_model_module": "@jupyter-widgets/base",
            "top": null,
            "grid_column": null,
            "overflow_y": null,
            "overflow_x": null,
            "grid_auto_flow": null,
            "grid_area": null,
            "grid_template_columns": null,
            "flex": null,
            "_model_name": "LayoutModel",
            "justify_items": null,
            "grid_row": null,
            "max_height": null,
            "align_content": null,
            "visibility": null,
            "align_self": null,
            "height": null,
            "min_height": null,
            "padding": null,
            "grid_auto_rows": null,
            "grid_gap": null,
            "max_width": null,
            "order": null,
            "_view_module_version": "1.2.0",
            "grid_template_areas": null,
            "object_position": null,
            "object_fit": null,
            "grid_auto_columns": null,
            "margin": null,
            "display": null,
            "left": null
          }
        },
        "bbb1f919606348f09317f07f38f82df1": {
          "model_module": "@jupyter-widgets/controls",
          "model_name": "ProgressStyleModel",
          "model_module_version": "1.5.0",
          "state": {
            "_view_name": "StyleView",
            "_model_name": "ProgressStyleModel",
            "description_width": "",
            "_view_module": "@jupyter-widgets/base",
            "_model_module_version": "1.5.0",
            "_view_count": null,
            "_view_module_version": "1.2.0",
            "bar_color": null,
            "_model_module": "@jupyter-widgets/controls"
          }
        },
        "2e8d548114d541a98cb61b93b8b81736": {
          "model_module": "@jupyter-widgets/base",
          "model_name": "LayoutModel",
          "model_module_version": "1.2.0",
          "state": {
            "_view_name": "LayoutView",
            "grid_template_rows": null,
            "right": null,
            "justify_content": null,
            "_view_module": "@jupyter-widgets/base",
            "overflow": null,
            "_model_module_version": "1.2.0",
            "_view_count": null,
            "flex_flow": null,
            "width": null,
            "min_width": null,
            "border": null,
            "align_items": null,
            "bottom": null,
            "_model_module": "@jupyter-widgets/base",
            "top": null,
            "grid_column": null,
            "overflow_y": null,
            "overflow_x": null,
            "grid_auto_flow": null,
            "grid_area": null,
            "grid_template_columns": null,
            "flex": null,
            "_model_name": "LayoutModel",
            "justify_items": null,
            "grid_row": null,
            "max_height": null,
            "align_content": null,
            "visibility": null,
            "align_self": null,
            "height": null,
            "min_height": null,
            "padding": null,
            "grid_auto_rows": null,
            "grid_gap": null,
            "max_width": null,
            "order": null,
            "_view_module_version": "1.2.0",
            "grid_template_areas": null,
            "object_position": null,
            "object_fit": null,
            "grid_auto_columns": null,
            "margin": null,
            "display": null,
            "left": null
          }
        },
        "5bdbbcad7af746a8a3c2efa654254a69": {
          "model_module": "@jupyter-widgets/controls",
          "model_name": "VBoxModel",
          "model_module_version": "1.5.0",
          "state": {
            "_view_name": "VBoxView",
            "_dom_classes": [],
            "_model_name": "VBoxModel",
            "_view_module": "@jupyter-widgets/controls",
            "_model_module_version": "1.5.0",
            "_view_count": null,
            "_view_module_version": "1.5.0",
            "box_style": "",
            "layout": "IPY_MODEL_f326a219f1774ea4811454d06753d1bd",
            "_model_module": "@jupyter-widgets/controls",
            "children": [
              "IPY_MODEL_666484ca8fb14dd8b0e3cae79fc671f9",
              "IPY_MODEL_23ea0744c9fe4523bbb87bbf908cc557"
            ]
          }
        },
        "f326a219f1774ea4811454d06753d1bd": {
          "model_module": "@jupyter-widgets/base",
          "model_name": "LayoutModel",
          "model_module_version": "1.2.0",
          "state": {
            "_view_name": "LayoutView",
            "grid_template_rows": null,
            "right": null,
            "justify_content": null,
            "_view_module": "@jupyter-widgets/base",
            "overflow": null,
            "_model_module_version": "1.2.0",
            "_view_count": null,
            "flex_flow": null,
            "width": null,
            "min_width": null,
            "border": null,
            "align_items": null,
            "bottom": null,
            "_model_module": "@jupyter-widgets/base",
            "top": null,
            "grid_column": null,
            "overflow_y": null,
            "overflow_x": null,
            "grid_auto_flow": null,
            "grid_area": null,
            "grid_template_columns": null,
            "flex": null,
            "_model_name": "LayoutModel",
            "justify_items": null,
            "grid_row": null,
            "max_height": null,
            "align_content": null,
            "visibility": null,
            "align_self": null,
            "height": null,
            "min_height": null,
            "padding": null,
            "grid_auto_rows": null,
            "grid_gap": null,
            "max_width": null,
            "order": null,
            "_view_module_version": "1.2.0",
            "grid_template_areas": null,
            "object_position": null,
            "object_fit": null,
            "grid_auto_columns": null,
            "margin": null,
            "display": null,
            "left": null
          }
        },
        "666484ca8fb14dd8b0e3cae79fc671f9": {
          "model_module": "@jupyter-widgets/controls",
          "model_name": "LabelModel",
          "model_module_version": "1.5.0",
          "state": {
            "_view_name": "LabelView",
            "style": "IPY_MODEL_d0dd55c7c6794c719e1195a02661779c",
            "_dom_classes": [],
            "description": "",
            "_model_name": "LabelModel",
            "placeholder": "​",
            "_view_module": "@jupyter-widgets/controls",
            "_model_module_version": "1.5.0",
            "value": " 0.01MB of 0.01MB uploaded (0.00MB deduped)\r",
            "_view_count": null,
            "_view_module_version": "1.5.0",
            "description_tooltip": null,
            "_model_module": "@jupyter-widgets/controls",
            "layout": "IPY_MODEL_910e3b538aa64e9b8d6ab94d60b702e3"
          }
        },
        "23ea0744c9fe4523bbb87bbf908cc557": {
          "model_module": "@jupyter-widgets/controls",
          "model_name": "FloatProgressModel",
          "model_module_version": "1.5.0",
          "state": {
            "_view_name": "ProgressView",
            "style": "IPY_MODEL_f5c330bdd92c40f688c96963eee5ab01",
            "_dom_classes": [],
            "description": "",
            "_model_name": "FloatProgressModel",
            "bar_style": "",
            "max": 1,
            "_view_module": "@jupyter-widgets/controls",
            "_model_module_version": "1.5.0",
            "value": 1,
            "_view_count": null,
            "_view_module_version": "1.5.0",
            "orientation": "horizontal",
            "min": 0,
            "description_tooltip": null,
            "_model_module": "@jupyter-widgets/controls",
            "layout": "IPY_MODEL_1d6dd54af1394137a960282c6a07f5ad"
          }
        },
        "d0dd55c7c6794c719e1195a02661779c": {
          "model_module": "@jupyter-widgets/controls",
          "model_name": "DescriptionStyleModel",
          "model_module_version": "1.5.0",
          "state": {
            "_view_name": "StyleView",
            "_model_name": "DescriptionStyleModel",
            "description_width": "",
            "_view_module": "@jupyter-widgets/base",
            "_model_module_version": "1.5.0",
            "_view_count": null,
            "_view_module_version": "1.2.0",
            "_model_module": "@jupyter-widgets/controls"
          }
        },
        "910e3b538aa64e9b8d6ab94d60b702e3": {
          "model_module": "@jupyter-widgets/base",
          "model_name": "LayoutModel",
          "model_module_version": "1.2.0",
          "state": {
            "_view_name": "LayoutView",
            "grid_template_rows": null,
            "right": null,
            "justify_content": null,
            "_view_module": "@jupyter-widgets/base",
            "overflow": null,
            "_model_module_version": "1.2.0",
            "_view_count": null,
            "flex_flow": null,
            "width": null,
            "min_width": null,
            "border": null,
            "align_items": null,
            "bottom": null,
            "_model_module": "@jupyter-widgets/base",
            "top": null,
            "grid_column": null,
            "overflow_y": null,
            "overflow_x": null,
            "grid_auto_flow": null,
            "grid_area": null,
            "grid_template_columns": null,
            "flex": null,
            "_model_name": "LayoutModel",
            "justify_items": null,
            "grid_row": null,
            "max_height": null,
            "align_content": null,
            "visibility": null,
            "align_self": null,
            "height": null,
            "min_height": null,
            "padding": null,
            "grid_auto_rows": null,
            "grid_gap": null,
            "max_width": null,
            "order": null,
            "_view_module_version": "1.2.0",
            "grid_template_areas": null,
            "object_position": null,
            "object_fit": null,
            "grid_auto_columns": null,
            "margin": null,
            "display": null,
            "left": null
          }
        },
        "f5c330bdd92c40f688c96963eee5ab01": {
          "model_module": "@jupyter-widgets/controls",
          "model_name": "ProgressStyleModel",
          "model_module_version": "1.5.0",
          "state": {
            "_view_name": "StyleView",
            "_model_name": "ProgressStyleModel",
            "description_width": "",
            "_view_module": "@jupyter-widgets/base",
            "_model_module_version": "1.5.0",
            "_view_count": null,
            "_view_module_version": "1.2.0",
            "bar_color": null,
            "_model_module": "@jupyter-widgets/controls"
          }
        },
        "1d6dd54af1394137a960282c6a07f5ad": {
          "model_module": "@jupyter-widgets/base",
          "model_name": "LayoutModel",
          "model_module_version": "1.2.0",
          "state": {
            "_view_name": "LayoutView",
            "grid_template_rows": null,
            "right": null,
            "justify_content": null,
            "_view_module": "@jupyter-widgets/base",
            "overflow": null,
            "_model_module_version": "1.2.0",
            "_view_count": null,
            "flex_flow": null,
            "width": null,
            "min_width": null,
            "border": null,
            "align_items": null,
            "bottom": null,
            "_model_module": "@jupyter-widgets/base",
            "top": null,
            "grid_column": null,
            "overflow_y": null,
            "overflow_x": null,
            "grid_auto_flow": null,
            "grid_area": null,
            "grid_template_columns": null,
            "flex": null,
            "_model_name": "LayoutModel",
            "justify_items": null,
            "grid_row": null,
            "max_height": null,
            "align_content": null,
            "visibility": null,
            "align_self": null,
            "height": null,
            "min_height": null,
            "padding": null,
            "grid_auto_rows": null,
            "grid_gap": null,
            "max_width": null,
            "order": null,
            "_view_module_version": "1.2.0",
            "grid_template_areas": null,
            "object_position": null,
            "object_fit": null,
            "grid_auto_columns": null,
            "margin": null,
            "display": null,
            "left": null
          }
        },
        "4d907d41ba8747df8f8bb419a77e7a79": {
          "model_module": "@jupyter-widgets/controls",
          "model_name": "VBoxModel",
          "model_module_version": "1.5.0",
          "state": {
            "_view_name": "VBoxView",
            "_dom_classes": [],
            "_model_name": "VBoxModel",
            "_view_module": "@jupyter-widgets/controls",
            "_model_module_version": "1.5.0",
            "_view_count": null,
            "_view_module_version": "1.5.0",
            "box_style": "",
            "layout": "IPY_MODEL_cd5e0cd3d21c4ed89a9a552f812d02f7",
            "_model_module": "@jupyter-widgets/controls",
            "children": [
              "IPY_MODEL_7c681057549a4f8998350f41c364c084",
              "IPY_MODEL_bbb07159bcdc4a4e8b93a2f85e219bc8"
            ]
          }
        },
        "cd5e0cd3d21c4ed89a9a552f812d02f7": {
          "model_module": "@jupyter-widgets/base",
          "model_name": "LayoutModel",
          "model_module_version": "1.2.0",
          "state": {
            "_view_name": "LayoutView",
            "grid_template_rows": null,
            "right": null,
            "justify_content": null,
            "_view_module": "@jupyter-widgets/base",
            "overflow": null,
            "_model_module_version": "1.2.0",
            "_view_count": null,
            "flex_flow": null,
            "width": null,
            "min_width": null,
            "border": null,
            "align_items": null,
            "bottom": null,
            "_model_module": "@jupyter-widgets/base",
            "top": null,
            "grid_column": null,
            "overflow_y": null,
            "overflow_x": null,
            "grid_auto_flow": null,
            "grid_area": null,
            "grid_template_columns": null,
            "flex": null,
            "_model_name": "LayoutModel",
            "justify_items": null,
            "grid_row": null,
            "max_height": null,
            "align_content": null,
            "visibility": null,
            "align_self": null,
            "height": null,
            "min_height": null,
            "padding": null,
            "grid_auto_rows": null,
            "grid_gap": null,
            "max_width": null,
            "order": null,
            "_view_module_version": "1.2.0",
            "grid_template_areas": null,
            "object_position": null,
            "object_fit": null,
            "grid_auto_columns": null,
            "margin": null,
            "display": null,
            "left": null
          }
        },
        "7c681057549a4f8998350f41c364c084": {
          "model_module": "@jupyter-widgets/controls",
          "model_name": "LabelModel",
          "model_module_version": "1.5.0",
          "state": {
            "_view_name": "LabelView",
            "style": "IPY_MODEL_25edefa7aace4a8eac734ae85f67b162",
            "_dom_classes": [],
            "description": "",
            "_model_name": "LabelModel",
            "placeholder": "​",
            "_view_module": "@jupyter-widgets/controls",
            "_model_module_version": "1.5.0",
            "value": " 1.23MB of 1.23MB uploaded (0.00MB deduped)\r",
            "_view_count": null,
            "_view_module_version": "1.5.0",
            "description_tooltip": null,
            "_model_module": "@jupyter-widgets/controls",
            "layout": "IPY_MODEL_95f2675483dc48faa846de0b624e78cc"
          }
        },
        "bbb07159bcdc4a4e8b93a2f85e219bc8": {
          "model_module": "@jupyter-widgets/controls",
          "model_name": "FloatProgressModel",
          "model_module_version": "1.5.0",
          "state": {
            "_view_name": "ProgressView",
            "style": "IPY_MODEL_bafb36c576f948a0a60d3b6c02377002",
            "_dom_classes": [],
            "description": "",
            "_model_name": "FloatProgressModel",
            "bar_style": "",
            "max": 1,
            "_view_module": "@jupyter-widgets/controls",
            "_model_module_version": "1.5.0",
            "value": 1,
            "_view_count": null,
            "_view_module_version": "1.5.0",
            "orientation": "horizontal",
            "min": 0,
            "description_tooltip": null,
            "_model_module": "@jupyter-widgets/controls",
            "layout": "IPY_MODEL_77c0fe7543c943cf97c087d0132987da"
          }
        },
        "25edefa7aace4a8eac734ae85f67b162": {
          "model_module": "@jupyter-widgets/controls",
          "model_name": "DescriptionStyleModel",
          "model_module_version": "1.5.0",
          "state": {
            "_view_name": "StyleView",
            "_model_name": "DescriptionStyleModel",
            "description_width": "",
            "_view_module": "@jupyter-widgets/base",
            "_model_module_version": "1.5.0",
            "_view_count": null,
            "_view_module_version": "1.2.0",
            "_model_module": "@jupyter-widgets/controls"
          }
        },
        "95f2675483dc48faa846de0b624e78cc": {
          "model_module": "@jupyter-widgets/base",
          "model_name": "LayoutModel",
          "model_module_version": "1.2.0",
          "state": {
            "_view_name": "LayoutView",
            "grid_template_rows": null,
            "right": null,
            "justify_content": null,
            "_view_module": "@jupyter-widgets/base",
            "overflow": null,
            "_model_module_version": "1.2.0",
            "_view_count": null,
            "flex_flow": null,
            "width": null,
            "min_width": null,
            "border": null,
            "align_items": null,
            "bottom": null,
            "_model_module": "@jupyter-widgets/base",
            "top": null,
            "grid_column": null,
            "overflow_y": null,
            "overflow_x": null,
            "grid_auto_flow": null,
            "grid_area": null,
            "grid_template_columns": null,
            "flex": null,
            "_model_name": "LayoutModel",
            "justify_items": null,
            "grid_row": null,
            "max_height": null,
            "align_content": null,
            "visibility": null,
            "align_self": null,
            "height": null,
            "min_height": null,
            "padding": null,
            "grid_auto_rows": null,
            "grid_gap": null,
            "max_width": null,
            "order": null,
            "_view_module_version": "1.2.0",
            "grid_template_areas": null,
            "object_position": null,
            "object_fit": null,
            "grid_auto_columns": null,
            "margin": null,
            "display": null,
            "left": null
          }
        },
        "bafb36c576f948a0a60d3b6c02377002": {
          "model_module": "@jupyter-widgets/controls",
          "model_name": "ProgressStyleModel",
          "model_module_version": "1.5.0",
          "state": {
            "_view_name": "StyleView",
            "_model_name": "ProgressStyleModel",
            "description_width": "",
            "_view_module": "@jupyter-widgets/base",
            "_model_module_version": "1.5.0",
            "_view_count": null,
            "_view_module_version": "1.2.0",
            "bar_color": null,
            "_model_module": "@jupyter-widgets/controls"
          }
        },
        "77c0fe7543c943cf97c087d0132987da": {
          "model_module": "@jupyter-widgets/base",
          "model_name": "LayoutModel",
          "model_module_version": "1.2.0",
          "state": {
            "_view_name": "LayoutView",
            "grid_template_rows": null,
            "right": null,
            "justify_content": null,
            "_view_module": "@jupyter-widgets/base",
            "overflow": null,
            "_model_module_version": "1.2.0",
            "_view_count": null,
            "flex_flow": null,
            "width": null,
            "min_width": null,
            "border": null,
            "align_items": null,
            "bottom": null,
            "_model_module": "@jupyter-widgets/base",
            "top": null,
            "grid_column": null,
            "overflow_y": null,
            "overflow_x": null,
            "grid_auto_flow": null,
            "grid_area": null,
            "grid_template_columns": null,
            "flex": null,
            "_model_name": "LayoutModel",
            "justify_items": null,
            "grid_row": null,
            "max_height": null,
            "align_content": null,
            "visibility": null,
            "align_self": null,
            "height": null,
            "min_height": null,
            "padding": null,
            "grid_auto_rows": null,
            "grid_gap": null,
            "max_width": null,
            "order": null,
            "_view_module_version": "1.2.0",
            "grid_template_areas": null,
            "object_position": null,
            "object_fit": null,
            "grid_auto_columns": null,
            "margin": null,
            "display": null,
            "left": null
          }
        },
        "87a2ab0acaad45d798d0c46aef20ccd1": {
          "model_module": "@jupyter-widgets/controls",
          "model_name": "VBoxModel",
          "model_module_version": "1.5.0",
          "state": {
            "_view_name": "VBoxView",
            "_dom_classes": [],
            "_model_name": "VBoxModel",
            "_view_module": "@jupyter-widgets/controls",
            "_model_module_version": "1.5.0",
            "_view_count": null,
            "_view_module_version": "1.5.0",
            "box_style": "",
            "layout": "IPY_MODEL_d0d5e57ad3c64f648959a1c696185898",
            "_model_module": "@jupyter-widgets/controls",
            "children": [
              "IPY_MODEL_2fc58e5c0a72463f96e3704fc816f76a",
              "IPY_MODEL_bc29659974b945c7af4e056b095d5fc8"
            ]
          }
        },
        "d0d5e57ad3c64f648959a1c696185898": {
          "model_module": "@jupyter-widgets/base",
          "model_name": "LayoutModel",
          "model_module_version": "1.2.0",
          "state": {
            "_view_name": "LayoutView",
            "grid_template_rows": null,
            "right": null,
            "justify_content": null,
            "_view_module": "@jupyter-widgets/base",
            "overflow": null,
            "_model_module_version": "1.2.0",
            "_view_count": null,
            "flex_flow": null,
            "width": null,
            "min_width": null,
            "border": null,
            "align_items": null,
            "bottom": null,
            "_model_module": "@jupyter-widgets/base",
            "top": null,
            "grid_column": null,
            "overflow_y": null,
            "overflow_x": null,
            "grid_auto_flow": null,
            "grid_area": null,
            "grid_template_columns": null,
            "flex": null,
            "_model_name": "LayoutModel",
            "justify_items": null,
            "grid_row": null,
            "max_height": null,
            "align_content": null,
            "visibility": null,
            "align_self": null,
            "height": null,
            "min_height": null,
            "padding": null,
            "grid_auto_rows": null,
            "grid_gap": null,
            "max_width": null,
            "order": null,
            "_view_module_version": "1.2.0",
            "grid_template_areas": null,
            "object_position": null,
            "object_fit": null,
            "grid_auto_columns": null,
            "margin": null,
            "display": null,
            "left": null
          }
        },
        "2fc58e5c0a72463f96e3704fc816f76a": {
          "model_module": "@jupyter-widgets/controls",
          "model_name": "LabelModel",
          "model_module_version": "1.5.0",
          "state": {
            "_view_name": "LabelView",
            "style": "IPY_MODEL_5e7cfc76160f434f84c4865775d956b0",
            "_dom_classes": [],
            "description": "",
            "_model_name": "LabelModel",
            "placeholder": "​",
            "_view_module": "@jupyter-widgets/controls",
            "_model_module_version": "1.5.0",
            "value": " 0.01MB of 0.01MB uploaded (0.00MB deduped)\r",
            "_view_count": null,
            "_view_module_version": "1.5.0",
            "description_tooltip": null,
            "_model_module": "@jupyter-widgets/controls",
            "layout": "IPY_MODEL_d7d49e15fb3f43d6b22a9163b36f39cb"
          }
        },
        "bc29659974b945c7af4e056b095d5fc8": {
          "model_module": "@jupyter-widgets/controls",
          "model_name": "FloatProgressModel",
          "model_module_version": "1.5.0",
          "state": {
            "_view_name": "ProgressView",
            "style": "IPY_MODEL_de9da5225b16458a8ab0a9c6836f378c",
            "_dom_classes": [],
            "description": "",
            "_model_name": "FloatProgressModel",
            "bar_style": "",
            "max": 1,
            "_view_module": "@jupyter-widgets/controls",
            "_model_module_version": "1.5.0",
            "value": 1,
            "_view_count": null,
            "_view_module_version": "1.5.0",
            "orientation": "horizontal",
            "min": 0,
            "description_tooltip": null,
            "_model_module": "@jupyter-widgets/controls",
            "layout": "IPY_MODEL_47bef27777914b458baa9e7e46cd4f5b"
          }
        },
        "5e7cfc76160f434f84c4865775d956b0": {
          "model_module": "@jupyter-widgets/controls",
          "model_name": "DescriptionStyleModel",
          "model_module_version": "1.5.0",
          "state": {
            "_view_name": "StyleView",
            "_model_name": "DescriptionStyleModel",
            "description_width": "",
            "_view_module": "@jupyter-widgets/base",
            "_model_module_version": "1.5.0",
            "_view_count": null,
            "_view_module_version": "1.2.0",
            "_model_module": "@jupyter-widgets/controls"
          }
        },
        "d7d49e15fb3f43d6b22a9163b36f39cb": {
          "model_module": "@jupyter-widgets/base",
          "model_name": "LayoutModel",
          "model_module_version": "1.2.0",
          "state": {
            "_view_name": "LayoutView",
            "grid_template_rows": null,
            "right": null,
            "justify_content": null,
            "_view_module": "@jupyter-widgets/base",
            "overflow": null,
            "_model_module_version": "1.2.0",
            "_view_count": null,
            "flex_flow": null,
            "width": null,
            "min_width": null,
            "border": null,
            "align_items": null,
            "bottom": null,
            "_model_module": "@jupyter-widgets/base",
            "top": null,
            "grid_column": null,
            "overflow_y": null,
            "overflow_x": null,
            "grid_auto_flow": null,
            "grid_area": null,
            "grid_template_columns": null,
            "flex": null,
            "_model_name": "LayoutModel",
            "justify_items": null,
            "grid_row": null,
            "max_height": null,
            "align_content": null,
            "visibility": null,
            "align_self": null,
            "height": null,
            "min_height": null,
            "padding": null,
            "grid_auto_rows": null,
            "grid_gap": null,
            "max_width": null,
            "order": null,
            "_view_module_version": "1.2.0",
            "grid_template_areas": null,
            "object_position": null,
            "object_fit": null,
            "grid_auto_columns": null,
            "margin": null,
            "display": null,
            "left": null
          }
        },
        "de9da5225b16458a8ab0a9c6836f378c": {
          "model_module": "@jupyter-widgets/controls",
          "model_name": "ProgressStyleModel",
          "model_module_version": "1.5.0",
          "state": {
            "_view_name": "StyleView",
            "_model_name": "ProgressStyleModel",
            "description_width": "",
            "_view_module": "@jupyter-widgets/base",
            "_model_module_version": "1.5.0",
            "_view_count": null,
            "_view_module_version": "1.2.0",
            "bar_color": null,
            "_model_module": "@jupyter-widgets/controls"
          }
        },
        "47bef27777914b458baa9e7e46cd4f5b": {
          "model_module": "@jupyter-widgets/base",
          "model_name": "LayoutModel",
          "model_module_version": "1.2.0",
          "state": {
            "_view_name": "LayoutView",
            "grid_template_rows": null,
            "right": null,
            "justify_content": null,
            "_view_module": "@jupyter-widgets/base",
            "overflow": null,
            "_model_module_version": "1.2.0",
            "_view_count": null,
            "flex_flow": null,
            "width": null,
            "min_width": null,
            "border": null,
            "align_items": null,
            "bottom": null,
            "_model_module": "@jupyter-widgets/base",
            "top": null,
            "grid_column": null,
            "overflow_y": null,
            "overflow_x": null,
            "grid_auto_flow": null,
            "grid_area": null,
            "grid_template_columns": null,
            "flex": null,
            "_model_name": "LayoutModel",
            "justify_items": null,
            "grid_row": null,
            "max_height": null,
            "align_content": null,
            "visibility": null,
            "align_self": null,
            "height": null,
            "min_height": null,
            "padding": null,
            "grid_auto_rows": null,
            "grid_gap": null,
            "max_width": null,
            "order": null,
            "_view_module_version": "1.2.0",
            "grid_template_areas": null,
            "object_position": null,
            "object_fit": null,
            "grid_auto_columns": null,
            "margin": null,
            "display": null,
            "left": null
          }
        },
        "d22cde15d316448186aa6598c7857e37": {
          "model_module": "@jupyter-widgets/controls",
          "model_name": "VBoxModel",
          "model_module_version": "1.5.0",
          "state": {
            "_view_name": "VBoxView",
            "_dom_classes": [],
            "_model_name": "VBoxModel",
            "_view_module": "@jupyter-widgets/controls",
            "_model_module_version": "1.5.0",
            "_view_count": null,
            "_view_module_version": "1.5.0",
            "box_style": "",
            "layout": "IPY_MODEL_b5f3a36d73694c24835620e82fb54b1a",
            "_model_module": "@jupyter-widgets/controls",
            "children": [
              "IPY_MODEL_36623f0c93bc4831bb029a32d648ca32",
              "IPY_MODEL_c2ac7b6ffd4e4cd3939ad01a5bcffb14"
            ]
          }
        },
        "b5f3a36d73694c24835620e82fb54b1a": {
          "model_module": "@jupyter-widgets/base",
          "model_name": "LayoutModel",
          "model_module_version": "1.2.0",
          "state": {
            "_view_name": "LayoutView",
            "grid_template_rows": null,
            "right": null,
            "justify_content": null,
            "_view_module": "@jupyter-widgets/base",
            "overflow": null,
            "_model_module_version": "1.2.0",
            "_view_count": null,
            "flex_flow": null,
            "width": null,
            "min_width": null,
            "border": null,
            "align_items": null,
            "bottom": null,
            "_model_module": "@jupyter-widgets/base",
            "top": null,
            "grid_column": null,
            "overflow_y": null,
            "overflow_x": null,
            "grid_auto_flow": null,
            "grid_area": null,
            "grid_template_columns": null,
            "flex": null,
            "_model_name": "LayoutModel",
            "justify_items": null,
            "grid_row": null,
            "max_height": null,
            "align_content": null,
            "visibility": null,
            "align_self": null,
            "height": null,
            "min_height": null,
            "padding": null,
            "grid_auto_rows": null,
            "grid_gap": null,
            "max_width": null,
            "order": null,
            "_view_module_version": "1.2.0",
            "grid_template_areas": null,
            "object_position": null,
            "object_fit": null,
            "grid_auto_columns": null,
            "margin": null,
            "display": null,
            "left": null
          }
        },
        "36623f0c93bc4831bb029a32d648ca32": {
          "model_module": "@jupyter-widgets/controls",
          "model_name": "LabelModel",
          "model_module_version": "1.5.0",
          "state": {
            "_view_name": "LabelView",
            "style": "IPY_MODEL_0881895c73f24a1399de44da825e9431",
            "_dom_classes": [],
            "description": "",
            "_model_name": "LabelModel",
            "placeholder": "​",
            "_view_module": "@jupyter-widgets/controls",
            "_model_module_version": "1.5.0",
            "value": " 1.23MB of 1.23MB uploaded (0.00MB deduped)\r",
            "_view_count": null,
            "_view_module_version": "1.5.0",
            "description_tooltip": null,
            "_model_module": "@jupyter-widgets/controls",
            "layout": "IPY_MODEL_edfa6e4bd0b741608193d344563fe97b"
          }
        },
        "c2ac7b6ffd4e4cd3939ad01a5bcffb14": {
          "model_module": "@jupyter-widgets/controls",
          "model_name": "FloatProgressModel",
          "model_module_version": "1.5.0",
          "state": {
            "_view_name": "ProgressView",
            "style": "IPY_MODEL_4b586513facd4881a60790455a6240da",
            "_dom_classes": [],
            "description": "",
            "_model_name": "FloatProgressModel",
            "bar_style": "",
            "max": 1,
            "_view_module": "@jupyter-widgets/controls",
            "_model_module_version": "1.5.0",
            "value": 1,
            "_view_count": null,
            "_view_module_version": "1.5.0",
            "orientation": "horizontal",
            "min": 0,
            "description_tooltip": null,
            "_model_module": "@jupyter-widgets/controls",
            "layout": "IPY_MODEL_3b0ba0ed352c420fa64553250c900443"
          }
        },
        "0881895c73f24a1399de44da825e9431": {
          "model_module": "@jupyter-widgets/controls",
          "model_name": "DescriptionStyleModel",
          "model_module_version": "1.5.0",
          "state": {
            "_view_name": "StyleView",
            "_model_name": "DescriptionStyleModel",
            "description_width": "",
            "_view_module": "@jupyter-widgets/base",
            "_model_module_version": "1.5.0",
            "_view_count": null,
            "_view_module_version": "1.2.0",
            "_model_module": "@jupyter-widgets/controls"
          }
        },
        "edfa6e4bd0b741608193d344563fe97b": {
          "model_module": "@jupyter-widgets/base",
          "model_name": "LayoutModel",
          "model_module_version": "1.2.0",
          "state": {
            "_view_name": "LayoutView",
            "grid_template_rows": null,
            "right": null,
            "justify_content": null,
            "_view_module": "@jupyter-widgets/base",
            "overflow": null,
            "_model_module_version": "1.2.0",
            "_view_count": null,
            "flex_flow": null,
            "width": null,
            "min_width": null,
            "border": null,
            "align_items": null,
            "bottom": null,
            "_model_module": "@jupyter-widgets/base",
            "top": null,
            "grid_column": null,
            "overflow_y": null,
            "overflow_x": null,
            "grid_auto_flow": null,
            "grid_area": null,
            "grid_template_columns": null,
            "flex": null,
            "_model_name": "LayoutModel",
            "justify_items": null,
            "grid_row": null,
            "max_height": null,
            "align_content": null,
            "visibility": null,
            "align_self": null,
            "height": null,
            "min_height": null,
            "padding": null,
            "grid_auto_rows": null,
            "grid_gap": null,
            "max_width": null,
            "order": null,
            "_view_module_version": "1.2.0",
            "grid_template_areas": null,
            "object_position": null,
            "object_fit": null,
            "grid_auto_columns": null,
            "margin": null,
            "display": null,
            "left": null
          }
        },
        "4b586513facd4881a60790455a6240da": {
          "model_module": "@jupyter-widgets/controls",
          "model_name": "ProgressStyleModel",
          "model_module_version": "1.5.0",
          "state": {
            "_view_name": "StyleView",
            "_model_name": "ProgressStyleModel",
            "description_width": "",
            "_view_module": "@jupyter-widgets/base",
            "_model_module_version": "1.5.0",
            "_view_count": null,
            "_view_module_version": "1.2.0",
            "bar_color": null,
            "_model_module": "@jupyter-widgets/controls"
          }
        },
        "3b0ba0ed352c420fa64553250c900443": {
          "model_module": "@jupyter-widgets/base",
          "model_name": "LayoutModel",
          "model_module_version": "1.2.0",
          "state": {
            "_view_name": "LayoutView",
            "grid_template_rows": null,
            "right": null,
            "justify_content": null,
            "_view_module": "@jupyter-widgets/base",
            "overflow": null,
            "_model_module_version": "1.2.0",
            "_view_count": null,
            "flex_flow": null,
            "width": null,
            "min_width": null,
            "border": null,
            "align_items": null,
            "bottom": null,
            "_model_module": "@jupyter-widgets/base",
            "top": null,
            "grid_column": null,
            "overflow_y": null,
            "overflow_x": null,
            "grid_auto_flow": null,
            "grid_area": null,
            "grid_template_columns": null,
            "flex": null,
            "_model_name": "LayoutModel",
            "justify_items": null,
            "grid_row": null,
            "max_height": null,
            "align_content": null,
            "visibility": null,
            "align_self": null,
            "height": null,
            "min_height": null,
            "padding": null,
            "grid_auto_rows": null,
            "grid_gap": null,
            "max_width": null,
            "order": null,
            "_view_module_version": "1.2.0",
            "grid_template_areas": null,
            "object_position": null,
            "object_fit": null,
            "grid_auto_columns": null,
            "margin": null,
            "display": null,
            "left": null
          }
        },
        "7c2f3dc9b95946d983b552deda758415": {
          "model_module": "@jupyter-widgets/controls",
          "model_name": "VBoxModel",
          "model_module_version": "1.5.0",
          "state": {
            "_view_name": "VBoxView",
            "_dom_classes": [],
            "_model_name": "VBoxModel",
            "_view_module": "@jupyter-widgets/controls",
            "_model_module_version": "1.5.0",
            "_view_count": null,
            "_view_module_version": "1.5.0",
            "box_style": "",
            "layout": "IPY_MODEL_afa49884e80c4bd7a7d98d0a1e5ee07b",
            "_model_module": "@jupyter-widgets/controls",
            "children": [
              "IPY_MODEL_be003820701c4e4a9d60ec4b943eb4c4",
              "IPY_MODEL_fffb122bd02947a6a568b99285f76e38"
            ]
          }
        },
        "afa49884e80c4bd7a7d98d0a1e5ee07b": {
          "model_module": "@jupyter-widgets/base",
          "model_name": "LayoutModel",
          "model_module_version": "1.2.0",
          "state": {
            "_view_name": "LayoutView",
            "grid_template_rows": null,
            "right": null,
            "justify_content": null,
            "_view_module": "@jupyter-widgets/base",
            "overflow": null,
            "_model_module_version": "1.2.0",
            "_view_count": null,
            "flex_flow": null,
            "width": null,
            "min_width": null,
            "border": null,
            "align_items": null,
            "bottom": null,
            "_model_module": "@jupyter-widgets/base",
            "top": null,
            "grid_column": null,
            "overflow_y": null,
            "overflow_x": null,
            "grid_auto_flow": null,
            "grid_area": null,
            "grid_template_columns": null,
            "flex": null,
            "_model_name": "LayoutModel",
            "justify_items": null,
            "grid_row": null,
            "max_height": null,
            "align_content": null,
            "visibility": null,
            "align_self": null,
            "height": null,
            "min_height": null,
            "padding": null,
            "grid_auto_rows": null,
            "grid_gap": null,
            "max_width": null,
            "order": null,
            "_view_module_version": "1.2.0",
            "grid_template_areas": null,
            "object_position": null,
            "object_fit": null,
            "grid_auto_columns": null,
            "margin": null,
            "display": null,
            "left": null
          }
        },
        "be003820701c4e4a9d60ec4b943eb4c4": {
          "model_module": "@jupyter-widgets/controls",
          "model_name": "LabelModel",
          "model_module_version": "1.5.0",
          "state": {
            "_view_name": "LabelView",
            "style": "IPY_MODEL_93bfcba2e15c418b9a9519155c1f1d18",
            "_dom_classes": [],
            "description": "",
            "_model_name": "LabelModel",
            "placeholder": "​",
            "_view_module": "@jupyter-widgets/controls",
            "_model_module_version": "1.5.0",
            "value": " 0.01MB of 0.01MB uploaded (0.00MB deduped)\r",
            "_view_count": null,
            "_view_module_version": "1.5.0",
            "description_tooltip": null,
            "_model_module": "@jupyter-widgets/controls",
            "layout": "IPY_MODEL_7ff0b3ef56494b0199af7ba6667ea29a"
          }
        },
        "fffb122bd02947a6a568b99285f76e38": {
          "model_module": "@jupyter-widgets/controls",
          "model_name": "FloatProgressModel",
          "model_module_version": "1.5.0",
          "state": {
            "_view_name": "ProgressView",
            "style": "IPY_MODEL_df595221275940ab96803dfafebb93ae",
            "_dom_classes": [],
            "description": "",
            "_model_name": "FloatProgressModel",
            "bar_style": "",
            "max": 1,
            "_view_module": "@jupyter-widgets/controls",
            "_model_module_version": "1.5.0",
            "value": 1,
            "_view_count": null,
            "_view_module_version": "1.5.0",
            "orientation": "horizontal",
            "min": 0,
            "description_tooltip": null,
            "_model_module": "@jupyter-widgets/controls",
            "layout": "IPY_MODEL_1ed082061a3a42ad82bca9b4122bd88b"
          }
        },
        "93bfcba2e15c418b9a9519155c1f1d18": {
          "model_module": "@jupyter-widgets/controls",
          "model_name": "DescriptionStyleModel",
          "model_module_version": "1.5.0",
          "state": {
            "_view_name": "StyleView",
            "_model_name": "DescriptionStyleModel",
            "description_width": "",
            "_view_module": "@jupyter-widgets/base",
            "_model_module_version": "1.5.0",
            "_view_count": null,
            "_view_module_version": "1.2.0",
            "_model_module": "@jupyter-widgets/controls"
          }
        },
        "7ff0b3ef56494b0199af7ba6667ea29a": {
          "model_module": "@jupyter-widgets/base",
          "model_name": "LayoutModel",
          "model_module_version": "1.2.0",
          "state": {
            "_view_name": "LayoutView",
            "grid_template_rows": null,
            "right": null,
            "justify_content": null,
            "_view_module": "@jupyter-widgets/base",
            "overflow": null,
            "_model_module_version": "1.2.0",
            "_view_count": null,
            "flex_flow": null,
            "width": null,
            "min_width": null,
            "border": null,
            "align_items": null,
            "bottom": null,
            "_model_module": "@jupyter-widgets/base",
            "top": null,
            "grid_column": null,
            "overflow_y": null,
            "overflow_x": null,
            "grid_auto_flow": null,
            "grid_area": null,
            "grid_template_columns": null,
            "flex": null,
            "_model_name": "LayoutModel",
            "justify_items": null,
            "grid_row": null,
            "max_height": null,
            "align_content": null,
            "visibility": null,
            "align_self": null,
            "height": null,
            "min_height": null,
            "padding": null,
            "grid_auto_rows": null,
            "grid_gap": null,
            "max_width": null,
            "order": null,
            "_view_module_version": "1.2.0",
            "grid_template_areas": null,
            "object_position": null,
            "object_fit": null,
            "grid_auto_columns": null,
            "margin": null,
            "display": null,
            "left": null
          }
        },
        "df595221275940ab96803dfafebb93ae": {
          "model_module": "@jupyter-widgets/controls",
          "model_name": "ProgressStyleModel",
          "model_module_version": "1.5.0",
          "state": {
            "_view_name": "StyleView",
            "_model_name": "ProgressStyleModel",
            "description_width": "",
            "_view_module": "@jupyter-widgets/base",
            "_model_module_version": "1.5.0",
            "_view_count": null,
            "_view_module_version": "1.2.0",
            "bar_color": null,
            "_model_module": "@jupyter-widgets/controls"
          }
        },
        "1ed082061a3a42ad82bca9b4122bd88b": {
          "model_module": "@jupyter-widgets/base",
          "model_name": "LayoutModel",
          "model_module_version": "1.2.0",
          "state": {
            "_view_name": "LayoutView",
            "grid_template_rows": null,
            "right": null,
            "justify_content": null,
            "_view_module": "@jupyter-widgets/base",
            "overflow": null,
            "_model_module_version": "1.2.0",
            "_view_count": null,
            "flex_flow": null,
            "width": null,
            "min_width": null,
            "border": null,
            "align_items": null,
            "bottom": null,
            "_model_module": "@jupyter-widgets/base",
            "top": null,
            "grid_column": null,
            "overflow_y": null,
            "overflow_x": null,
            "grid_auto_flow": null,
            "grid_area": null,
            "grid_template_columns": null,
            "flex": null,
            "_model_name": "LayoutModel",
            "justify_items": null,
            "grid_row": null,
            "max_height": null,
            "align_content": null,
            "visibility": null,
            "align_self": null,
            "height": null,
            "min_height": null,
            "padding": null,
            "grid_auto_rows": null,
            "grid_gap": null,
            "max_width": null,
            "order": null,
            "_view_module_version": "1.2.0",
            "grid_template_areas": null,
            "object_position": null,
            "object_fit": null,
            "grid_auto_columns": null,
            "margin": null,
            "display": null,
            "left": null
          }
        },
        "ff11d1c704ce4904bb61e688b91b7893": {
          "model_module": "@jupyter-widgets/controls",
          "model_name": "VBoxModel",
          "model_module_version": "1.5.0",
          "state": {
            "_view_name": "VBoxView",
            "_dom_classes": [],
            "_model_name": "VBoxModel",
            "_view_module": "@jupyter-widgets/controls",
            "_model_module_version": "1.5.0",
            "_view_count": null,
            "_view_module_version": "1.5.0",
            "box_style": "",
            "layout": "IPY_MODEL_9eb46c51b6c6428fb24b0cfa3ca0762e",
            "_model_module": "@jupyter-widgets/controls",
            "children": [
              "IPY_MODEL_a06b0749f3454992a42249d39c2eadc4",
              "IPY_MODEL_fe993ed103004245a96a6fc4205ec479"
            ]
          }
        },
        "9eb46c51b6c6428fb24b0cfa3ca0762e": {
          "model_module": "@jupyter-widgets/base",
          "model_name": "LayoutModel",
          "model_module_version": "1.2.0",
          "state": {
            "_view_name": "LayoutView",
            "grid_template_rows": null,
            "right": null,
            "justify_content": null,
            "_view_module": "@jupyter-widgets/base",
            "overflow": null,
            "_model_module_version": "1.2.0",
            "_view_count": null,
            "flex_flow": null,
            "width": null,
            "min_width": null,
            "border": null,
            "align_items": null,
            "bottom": null,
            "_model_module": "@jupyter-widgets/base",
            "top": null,
            "grid_column": null,
            "overflow_y": null,
            "overflow_x": null,
            "grid_auto_flow": null,
            "grid_area": null,
            "grid_template_columns": null,
            "flex": null,
            "_model_name": "LayoutModel",
            "justify_items": null,
            "grid_row": null,
            "max_height": null,
            "align_content": null,
            "visibility": null,
            "align_self": null,
            "height": null,
            "min_height": null,
            "padding": null,
            "grid_auto_rows": null,
            "grid_gap": null,
            "max_width": null,
            "order": null,
            "_view_module_version": "1.2.0",
            "grid_template_areas": null,
            "object_position": null,
            "object_fit": null,
            "grid_auto_columns": null,
            "margin": null,
            "display": null,
            "left": null
          }
        },
        "a06b0749f3454992a42249d39c2eadc4": {
          "model_module": "@jupyter-widgets/controls",
          "model_name": "LabelModel",
          "model_module_version": "1.5.0",
          "state": {
            "_view_name": "LabelView",
            "style": "IPY_MODEL_5bb5ff7323454165a7e452f9788c1f5a",
            "_dom_classes": [],
            "description": "",
            "_model_name": "LabelModel",
            "placeholder": "​",
            "_view_module": "@jupyter-widgets/controls",
            "_model_module_version": "1.5.0",
            "value": " 1.23MB of 1.23MB uploaded (0.00MB deduped)\r",
            "_view_count": null,
            "_view_module_version": "1.5.0",
            "description_tooltip": null,
            "_model_module": "@jupyter-widgets/controls",
            "layout": "IPY_MODEL_a8a47213a03f48a792ddb8a6e6d054c8"
          }
        },
        "fe993ed103004245a96a6fc4205ec479": {
          "model_module": "@jupyter-widgets/controls",
          "model_name": "FloatProgressModel",
          "model_module_version": "1.5.0",
          "state": {
            "_view_name": "ProgressView",
            "style": "IPY_MODEL_08a42a1116d84fc28727e1bf0898e725",
            "_dom_classes": [],
            "description": "",
            "_model_name": "FloatProgressModel",
            "bar_style": "",
            "max": 1,
            "_view_module": "@jupyter-widgets/controls",
            "_model_module_version": "1.5.0",
            "value": 1,
            "_view_count": null,
            "_view_module_version": "1.5.0",
            "orientation": "horizontal",
            "min": 0,
            "description_tooltip": null,
            "_model_module": "@jupyter-widgets/controls",
            "layout": "IPY_MODEL_8ec9e0a0a18b4326ac1fa311a524898d"
          }
        },
        "5bb5ff7323454165a7e452f9788c1f5a": {
          "model_module": "@jupyter-widgets/controls",
          "model_name": "DescriptionStyleModel",
          "model_module_version": "1.5.0",
          "state": {
            "_view_name": "StyleView",
            "_model_name": "DescriptionStyleModel",
            "description_width": "",
            "_view_module": "@jupyter-widgets/base",
            "_model_module_version": "1.5.0",
            "_view_count": null,
            "_view_module_version": "1.2.0",
            "_model_module": "@jupyter-widgets/controls"
          }
        },
        "a8a47213a03f48a792ddb8a6e6d054c8": {
          "model_module": "@jupyter-widgets/base",
          "model_name": "LayoutModel",
          "model_module_version": "1.2.0",
          "state": {
            "_view_name": "LayoutView",
            "grid_template_rows": null,
            "right": null,
            "justify_content": null,
            "_view_module": "@jupyter-widgets/base",
            "overflow": null,
            "_model_module_version": "1.2.0",
            "_view_count": null,
            "flex_flow": null,
            "width": null,
            "min_width": null,
            "border": null,
            "align_items": null,
            "bottom": null,
            "_model_module": "@jupyter-widgets/base",
            "top": null,
            "grid_column": null,
            "overflow_y": null,
            "overflow_x": null,
            "grid_auto_flow": null,
            "grid_area": null,
            "grid_template_columns": null,
            "flex": null,
            "_model_name": "LayoutModel",
            "justify_items": null,
            "grid_row": null,
            "max_height": null,
            "align_content": null,
            "visibility": null,
            "align_self": null,
            "height": null,
            "min_height": null,
            "padding": null,
            "grid_auto_rows": null,
            "grid_gap": null,
            "max_width": null,
            "order": null,
            "_view_module_version": "1.2.0",
            "grid_template_areas": null,
            "object_position": null,
            "object_fit": null,
            "grid_auto_columns": null,
            "margin": null,
            "display": null,
            "left": null
          }
        },
        "08a42a1116d84fc28727e1bf0898e725": {
          "model_module": "@jupyter-widgets/controls",
          "model_name": "ProgressStyleModel",
          "model_module_version": "1.5.0",
          "state": {
            "_view_name": "StyleView",
            "_model_name": "ProgressStyleModel",
            "description_width": "",
            "_view_module": "@jupyter-widgets/base",
            "_model_module_version": "1.5.0",
            "_view_count": null,
            "_view_module_version": "1.2.0",
            "bar_color": null,
            "_model_module": "@jupyter-widgets/controls"
          }
        },
        "8ec9e0a0a18b4326ac1fa311a524898d": {
          "model_module": "@jupyter-widgets/base",
          "model_name": "LayoutModel",
          "model_module_version": "1.2.0",
          "state": {
            "_view_name": "LayoutView",
            "grid_template_rows": null,
            "right": null,
            "justify_content": null,
            "_view_module": "@jupyter-widgets/base",
            "overflow": null,
            "_model_module_version": "1.2.0",
            "_view_count": null,
            "flex_flow": null,
            "width": null,
            "min_width": null,
            "border": null,
            "align_items": null,
            "bottom": null,
            "_model_module": "@jupyter-widgets/base",
            "top": null,
            "grid_column": null,
            "overflow_y": null,
            "overflow_x": null,
            "grid_auto_flow": null,
            "grid_area": null,
            "grid_template_columns": null,
            "flex": null,
            "_model_name": "LayoutModel",
            "justify_items": null,
            "grid_row": null,
            "max_height": null,
            "align_content": null,
            "visibility": null,
            "align_self": null,
            "height": null,
            "min_height": null,
            "padding": null,
            "grid_auto_rows": null,
            "grid_gap": null,
            "max_width": null,
            "order": null,
            "_view_module_version": "1.2.0",
            "grid_template_areas": null,
            "object_position": null,
            "object_fit": null,
            "grid_auto_columns": null,
            "margin": null,
            "display": null,
            "left": null
          }
        },
        "69d2c3a4e592410aae0d7b902dc5e9f7": {
          "model_module": "@jupyter-widgets/controls",
          "model_name": "VBoxModel",
          "model_module_version": "1.5.0",
          "state": {
            "_view_name": "VBoxView",
            "_dom_classes": [],
            "_model_name": "VBoxModel",
            "_view_module": "@jupyter-widgets/controls",
            "_model_module_version": "1.5.0",
            "_view_count": null,
            "_view_module_version": "1.5.0",
            "box_style": "",
            "layout": "IPY_MODEL_e119f91d74b340b883f4c2f1c50b7af2",
            "_model_module": "@jupyter-widgets/controls",
            "children": [
              "IPY_MODEL_3ef01420d1254a90b6fc953051d2b4f1",
              "IPY_MODEL_e1a5395d4c3842339c53d9eb2e0d5c6f"
            ]
          }
        },
        "e119f91d74b340b883f4c2f1c50b7af2": {
          "model_module": "@jupyter-widgets/base",
          "model_name": "LayoutModel",
          "model_module_version": "1.2.0",
          "state": {
            "_view_name": "LayoutView",
            "grid_template_rows": null,
            "right": null,
            "justify_content": null,
            "_view_module": "@jupyter-widgets/base",
            "overflow": null,
            "_model_module_version": "1.2.0",
            "_view_count": null,
            "flex_flow": null,
            "width": null,
            "min_width": null,
            "border": null,
            "align_items": null,
            "bottom": null,
            "_model_module": "@jupyter-widgets/base",
            "top": null,
            "grid_column": null,
            "overflow_y": null,
            "overflow_x": null,
            "grid_auto_flow": null,
            "grid_area": null,
            "grid_template_columns": null,
            "flex": null,
            "_model_name": "LayoutModel",
            "justify_items": null,
            "grid_row": null,
            "max_height": null,
            "align_content": null,
            "visibility": null,
            "align_self": null,
            "height": null,
            "min_height": null,
            "padding": null,
            "grid_auto_rows": null,
            "grid_gap": null,
            "max_width": null,
            "order": null,
            "_view_module_version": "1.2.0",
            "grid_template_areas": null,
            "object_position": null,
            "object_fit": null,
            "grid_auto_columns": null,
            "margin": null,
            "display": null,
            "left": null
          }
        },
        "3ef01420d1254a90b6fc953051d2b4f1": {
          "model_module": "@jupyter-widgets/controls",
          "model_name": "LabelModel",
          "model_module_version": "1.5.0",
          "state": {
            "_view_name": "LabelView",
            "style": "IPY_MODEL_78cfc0556618460fa2c206a178990ba4",
            "_dom_classes": [],
            "description": "",
            "_model_name": "LabelModel",
            "placeholder": "​",
            "_view_module": "@jupyter-widgets/controls",
            "_model_module_version": "1.5.0",
            "value": " 0.01MB of 0.01MB uploaded (0.00MB deduped)\r",
            "_view_count": null,
            "_view_module_version": "1.5.0",
            "description_tooltip": null,
            "_model_module": "@jupyter-widgets/controls",
            "layout": "IPY_MODEL_48afdcebaac147bfb9f0e7abd080021e"
          }
        },
        "e1a5395d4c3842339c53d9eb2e0d5c6f": {
          "model_module": "@jupyter-widgets/controls",
          "model_name": "FloatProgressModel",
          "model_module_version": "1.5.0",
          "state": {
            "_view_name": "ProgressView",
            "style": "IPY_MODEL_fa734e65e155435a85b3b62840ca83cf",
            "_dom_classes": [],
            "description": "",
            "_model_name": "FloatProgressModel",
            "bar_style": "",
            "max": 1,
            "_view_module": "@jupyter-widgets/controls",
            "_model_module_version": "1.5.0",
            "value": 1,
            "_view_count": null,
            "_view_module_version": "1.5.0",
            "orientation": "horizontal",
            "min": 0,
            "description_tooltip": null,
            "_model_module": "@jupyter-widgets/controls",
            "layout": "IPY_MODEL_5dfc41a13ae94dbcaba08a98687cb902"
          }
        },
        "78cfc0556618460fa2c206a178990ba4": {
          "model_module": "@jupyter-widgets/controls",
          "model_name": "DescriptionStyleModel",
          "model_module_version": "1.5.0",
          "state": {
            "_view_name": "StyleView",
            "_model_name": "DescriptionStyleModel",
            "description_width": "",
            "_view_module": "@jupyter-widgets/base",
            "_model_module_version": "1.5.0",
            "_view_count": null,
            "_view_module_version": "1.2.0",
            "_model_module": "@jupyter-widgets/controls"
          }
        },
        "48afdcebaac147bfb9f0e7abd080021e": {
          "model_module": "@jupyter-widgets/base",
          "model_name": "LayoutModel",
          "model_module_version": "1.2.0",
          "state": {
            "_view_name": "LayoutView",
            "grid_template_rows": null,
            "right": null,
            "justify_content": null,
            "_view_module": "@jupyter-widgets/base",
            "overflow": null,
            "_model_module_version": "1.2.0",
            "_view_count": null,
            "flex_flow": null,
            "width": null,
            "min_width": null,
            "border": null,
            "align_items": null,
            "bottom": null,
            "_model_module": "@jupyter-widgets/base",
            "top": null,
            "grid_column": null,
            "overflow_y": null,
            "overflow_x": null,
            "grid_auto_flow": null,
            "grid_area": null,
            "grid_template_columns": null,
            "flex": null,
            "_model_name": "LayoutModel",
            "justify_items": null,
            "grid_row": null,
            "max_height": null,
            "align_content": null,
            "visibility": null,
            "align_self": null,
            "height": null,
            "min_height": null,
            "padding": null,
            "grid_auto_rows": null,
            "grid_gap": null,
            "max_width": null,
            "order": null,
            "_view_module_version": "1.2.0",
            "grid_template_areas": null,
            "object_position": null,
            "object_fit": null,
            "grid_auto_columns": null,
            "margin": null,
            "display": null,
            "left": null
          }
        },
        "fa734e65e155435a85b3b62840ca83cf": {
          "model_module": "@jupyter-widgets/controls",
          "model_name": "ProgressStyleModel",
          "model_module_version": "1.5.0",
          "state": {
            "_view_name": "StyleView",
            "_model_name": "ProgressStyleModel",
            "description_width": "",
            "_view_module": "@jupyter-widgets/base",
            "_model_module_version": "1.5.0",
            "_view_count": null,
            "_view_module_version": "1.2.0",
            "bar_color": null,
            "_model_module": "@jupyter-widgets/controls"
          }
        },
        "5dfc41a13ae94dbcaba08a98687cb902": {
          "model_module": "@jupyter-widgets/base",
          "model_name": "LayoutModel",
          "model_module_version": "1.2.0",
          "state": {
            "_view_name": "LayoutView",
            "grid_template_rows": null,
            "right": null,
            "justify_content": null,
            "_view_module": "@jupyter-widgets/base",
            "overflow": null,
            "_model_module_version": "1.2.0",
            "_view_count": null,
            "flex_flow": null,
            "width": null,
            "min_width": null,
            "border": null,
            "align_items": null,
            "bottom": null,
            "_model_module": "@jupyter-widgets/base",
            "top": null,
            "grid_column": null,
            "overflow_y": null,
            "overflow_x": null,
            "grid_auto_flow": null,
            "grid_area": null,
            "grid_template_columns": null,
            "flex": null,
            "_model_name": "LayoutModel",
            "justify_items": null,
            "grid_row": null,
            "max_height": null,
            "align_content": null,
            "visibility": null,
            "align_self": null,
            "height": null,
            "min_height": null,
            "padding": null,
            "grid_auto_rows": null,
            "grid_gap": null,
            "max_width": null,
            "order": null,
            "_view_module_version": "1.2.0",
            "grid_template_areas": null,
            "object_position": null,
            "object_fit": null,
            "grid_auto_columns": null,
            "margin": null,
            "display": null,
            "left": null
          }
        },
        "253512fee776498893c60f56a9d4df69": {
          "model_module": "@jupyter-widgets/controls",
          "model_name": "VBoxModel",
          "model_module_version": "1.5.0",
          "state": {
            "_view_name": "VBoxView",
            "_dom_classes": [],
            "_model_name": "VBoxModel",
            "_view_module": "@jupyter-widgets/controls",
            "_model_module_version": "1.5.0",
            "_view_count": null,
            "_view_module_version": "1.5.0",
            "box_style": "",
            "layout": "IPY_MODEL_e407ffb7d4d94de69b1ba60df46bc5e0",
            "_model_module": "@jupyter-widgets/controls",
            "children": [
              "IPY_MODEL_550b36f532004b4380f16c04ee9c7c92",
              "IPY_MODEL_5df9890d6bed44cdae62e40a79a29685"
            ]
          }
        },
        "e407ffb7d4d94de69b1ba60df46bc5e0": {
          "model_module": "@jupyter-widgets/base",
          "model_name": "LayoutModel",
          "model_module_version": "1.2.0",
          "state": {
            "_view_name": "LayoutView",
            "grid_template_rows": null,
            "right": null,
            "justify_content": null,
            "_view_module": "@jupyter-widgets/base",
            "overflow": null,
            "_model_module_version": "1.2.0",
            "_view_count": null,
            "flex_flow": null,
            "width": null,
            "min_width": null,
            "border": null,
            "align_items": null,
            "bottom": null,
            "_model_module": "@jupyter-widgets/base",
            "top": null,
            "grid_column": null,
            "overflow_y": null,
            "overflow_x": null,
            "grid_auto_flow": null,
            "grid_area": null,
            "grid_template_columns": null,
            "flex": null,
            "_model_name": "LayoutModel",
            "justify_items": null,
            "grid_row": null,
            "max_height": null,
            "align_content": null,
            "visibility": null,
            "align_self": null,
            "height": null,
            "min_height": null,
            "padding": null,
            "grid_auto_rows": null,
            "grid_gap": null,
            "max_width": null,
            "order": null,
            "_view_module_version": "1.2.0",
            "grid_template_areas": null,
            "object_position": null,
            "object_fit": null,
            "grid_auto_columns": null,
            "margin": null,
            "display": null,
            "left": null
          }
        },
        "550b36f532004b4380f16c04ee9c7c92": {
          "model_module": "@jupyter-widgets/controls",
          "model_name": "LabelModel",
          "model_module_version": "1.5.0",
          "state": {
            "_view_name": "LabelView",
            "style": "IPY_MODEL_aa6b84eddec04918810723b58e9e0e25",
            "_dom_classes": [],
            "description": "",
            "_model_name": "LabelModel",
            "placeholder": "​",
            "_view_module": "@jupyter-widgets/controls",
            "_model_module_version": "1.5.0",
            "value": " 1.52MB of 1.52MB uploaded (0.00MB deduped)\r",
            "_view_count": null,
            "_view_module_version": "1.5.0",
            "description_tooltip": null,
            "_model_module": "@jupyter-widgets/controls",
            "layout": "IPY_MODEL_3305708703034687b85ae2e7060c9476"
          }
        },
        "5df9890d6bed44cdae62e40a79a29685": {
          "model_module": "@jupyter-widgets/controls",
          "model_name": "FloatProgressModel",
          "model_module_version": "1.5.0",
          "state": {
            "_view_name": "ProgressView",
            "style": "IPY_MODEL_236bbba0d979418397e7d446458e3d1c",
            "_dom_classes": [],
            "description": "",
            "_model_name": "FloatProgressModel",
            "bar_style": "",
            "max": 1,
            "_view_module": "@jupyter-widgets/controls",
            "_model_module_version": "1.5.0",
            "value": 1,
            "_view_count": null,
            "_view_module_version": "1.5.0",
            "orientation": "horizontal",
            "min": 0,
            "description_tooltip": null,
            "_model_module": "@jupyter-widgets/controls",
            "layout": "IPY_MODEL_f3cfebc302d243da9833e87d197f6b25"
          }
        },
        "aa6b84eddec04918810723b58e9e0e25": {
          "model_module": "@jupyter-widgets/controls",
          "model_name": "DescriptionStyleModel",
          "model_module_version": "1.5.0",
          "state": {
            "_view_name": "StyleView",
            "_model_name": "DescriptionStyleModel",
            "description_width": "",
            "_view_module": "@jupyter-widgets/base",
            "_model_module_version": "1.5.0",
            "_view_count": null,
            "_view_module_version": "1.2.0",
            "_model_module": "@jupyter-widgets/controls"
          }
        },
        "3305708703034687b85ae2e7060c9476": {
          "model_module": "@jupyter-widgets/base",
          "model_name": "LayoutModel",
          "model_module_version": "1.2.0",
          "state": {
            "_view_name": "LayoutView",
            "grid_template_rows": null,
            "right": null,
            "justify_content": null,
            "_view_module": "@jupyter-widgets/base",
            "overflow": null,
            "_model_module_version": "1.2.0",
            "_view_count": null,
            "flex_flow": null,
            "width": null,
            "min_width": null,
            "border": null,
            "align_items": null,
            "bottom": null,
            "_model_module": "@jupyter-widgets/base",
            "top": null,
            "grid_column": null,
            "overflow_y": null,
            "overflow_x": null,
            "grid_auto_flow": null,
            "grid_area": null,
            "grid_template_columns": null,
            "flex": null,
            "_model_name": "LayoutModel",
            "justify_items": null,
            "grid_row": null,
            "max_height": null,
            "align_content": null,
            "visibility": null,
            "align_self": null,
            "height": null,
            "min_height": null,
            "padding": null,
            "grid_auto_rows": null,
            "grid_gap": null,
            "max_width": null,
            "order": null,
            "_view_module_version": "1.2.0",
            "grid_template_areas": null,
            "object_position": null,
            "object_fit": null,
            "grid_auto_columns": null,
            "margin": null,
            "display": null,
            "left": null
          }
        },
        "236bbba0d979418397e7d446458e3d1c": {
          "model_module": "@jupyter-widgets/controls",
          "model_name": "ProgressStyleModel",
          "model_module_version": "1.5.0",
          "state": {
            "_view_name": "StyleView",
            "_model_name": "ProgressStyleModel",
            "description_width": "",
            "_view_module": "@jupyter-widgets/base",
            "_model_module_version": "1.5.0",
            "_view_count": null,
            "_view_module_version": "1.2.0",
            "bar_color": null,
            "_model_module": "@jupyter-widgets/controls"
          }
        },
        "f3cfebc302d243da9833e87d197f6b25": {
          "model_module": "@jupyter-widgets/base",
          "model_name": "LayoutModel",
          "model_module_version": "1.2.0",
          "state": {
            "_view_name": "LayoutView",
            "grid_template_rows": null,
            "right": null,
            "justify_content": null,
            "_view_module": "@jupyter-widgets/base",
            "overflow": null,
            "_model_module_version": "1.2.0",
            "_view_count": null,
            "flex_flow": null,
            "width": null,
            "min_width": null,
            "border": null,
            "align_items": null,
            "bottom": null,
            "_model_module": "@jupyter-widgets/base",
            "top": null,
            "grid_column": null,
            "overflow_y": null,
            "overflow_x": null,
            "grid_auto_flow": null,
            "grid_area": null,
            "grid_template_columns": null,
            "flex": null,
            "_model_name": "LayoutModel",
            "justify_items": null,
            "grid_row": null,
            "max_height": null,
            "align_content": null,
            "visibility": null,
            "align_self": null,
            "height": null,
            "min_height": null,
            "padding": null,
            "grid_auto_rows": null,
            "grid_gap": null,
            "max_width": null,
            "order": null,
            "_view_module_version": "1.2.0",
            "grid_template_areas": null,
            "object_position": null,
            "object_fit": null,
            "grid_auto_columns": null,
            "margin": null,
            "display": null,
            "left": null
          }
        },
        "6461c20ca47a4ae39fe7c9ef5f1a0bf3": {
          "model_module": "@jupyter-widgets/controls",
          "model_name": "VBoxModel",
          "model_module_version": "1.5.0",
          "state": {
            "_view_name": "VBoxView",
            "_dom_classes": [],
            "_model_name": "VBoxModel",
            "_view_module": "@jupyter-widgets/controls",
            "_model_module_version": "1.5.0",
            "_view_count": null,
            "_view_module_version": "1.5.0",
            "box_style": "",
            "layout": "IPY_MODEL_6f9f692de41d4242a14f83d72ebb31a9",
            "_model_module": "@jupyter-widgets/controls",
            "children": [
              "IPY_MODEL_f91b3c7715c94b9e81520bf4d3b4737e",
              "IPY_MODEL_7553293de0e74f57b917a436597a3303"
            ]
          }
        },
        "6f9f692de41d4242a14f83d72ebb31a9": {
          "model_module": "@jupyter-widgets/base",
          "model_name": "LayoutModel",
          "model_module_version": "1.2.0",
          "state": {
            "_view_name": "LayoutView",
            "grid_template_rows": null,
            "right": null,
            "justify_content": null,
            "_view_module": "@jupyter-widgets/base",
            "overflow": null,
            "_model_module_version": "1.2.0",
            "_view_count": null,
            "flex_flow": null,
            "width": null,
            "min_width": null,
            "border": null,
            "align_items": null,
            "bottom": null,
            "_model_module": "@jupyter-widgets/base",
            "top": null,
            "grid_column": null,
            "overflow_y": null,
            "overflow_x": null,
            "grid_auto_flow": null,
            "grid_area": null,
            "grid_template_columns": null,
            "flex": null,
            "_model_name": "LayoutModel",
            "justify_items": null,
            "grid_row": null,
            "max_height": null,
            "align_content": null,
            "visibility": null,
            "align_self": null,
            "height": null,
            "min_height": null,
            "padding": null,
            "grid_auto_rows": null,
            "grid_gap": null,
            "max_width": null,
            "order": null,
            "_view_module_version": "1.2.0",
            "grid_template_areas": null,
            "object_position": null,
            "object_fit": null,
            "grid_auto_columns": null,
            "margin": null,
            "display": null,
            "left": null
          }
        },
        "f91b3c7715c94b9e81520bf4d3b4737e": {
          "model_module": "@jupyter-widgets/controls",
          "model_name": "LabelModel",
          "model_module_version": "1.5.0",
          "state": {
            "_view_name": "LabelView",
            "style": "IPY_MODEL_6f26c873930349dcbbdde54ba69511cc",
            "_dom_classes": [],
            "description": "",
            "_model_name": "LabelModel",
            "placeholder": "​",
            "_view_module": "@jupyter-widgets/controls",
            "_model_module_version": "1.5.0",
            "value": " 0.01MB of 0.01MB uploaded (0.00MB deduped)\r",
            "_view_count": null,
            "_view_module_version": "1.5.0",
            "description_tooltip": null,
            "_model_module": "@jupyter-widgets/controls",
            "layout": "IPY_MODEL_ae57119fd7314da293def4c3bb8c3f1b"
          }
        },
        "7553293de0e74f57b917a436597a3303": {
          "model_module": "@jupyter-widgets/controls",
          "model_name": "FloatProgressModel",
          "model_module_version": "1.5.0",
          "state": {
            "_view_name": "ProgressView",
            "style": "IPY_MODEL_9710e26ad9ca4bc1973da0aed56cf890",
            "_dom_classes": [],
            "description": "",
            "_model_name": "FloatProgressModel",
            "bar_style": "",
            "max": 1,
            "_view_module": "@jupyter-widgets/controls",
            "_model_module_version": "1.5.0",
            "value": 1,
            "_view_count": null,
            "_view_module_version": "1.5.0",
            "orientation": "horizontal",
            "min": 0,
            "description_tooltip": null,
            "_model_module": "@jupyter-widgets/controls",
            "layout": "IPY_MODEL_06f9e02dcc8549a1b8d2a170b5d757e7"
          }
        },
        "6f26c873930349dcbbdde54ba69511cc": {
          "model_module": "@jupyter-widgets/controls",
          "model_name": "DescriptionStyleModel",
          "model_module_version": "1.5.0",
          "state": {
            "_view_name": "StyleView",
            "_model_name": "DescriptionStyleModel",
            "description_width": "",
            "_view_module": "@jupyter-widgets/base",
            "_model_module_version": "1.5.0",
            "_view_count": null,
            "_view_module_version": "1.2.0",
            "_model_module": "@jupyter-widgets/controls"
          }
        },
        "ae57119fd7314da293def4c3bb8c3f1b": {
          "model_module": "@jupyter-widgets/base",
          "model_name": "LayoutModel",
          "model_module_version": "1.2.0",
          "state": {
            "_view_name": "LayoutView",
            "grid_template_rows": null,
            "right": null,
            "justify_content": null,
            "_view_module": "@jupyter-widgets/base",
            "overflow": null,
            "_model_module_version": "1.2.0",
            "_view_count": null,
            "flex_flow": null,
            "width": null,
            "min_width": null,
            "border": null,
            "align_items": null,
            "bottom": null,
            "_model_module": "@jupyter-widgets/base",
            "top": null,
            "grid_column": null,
            "overflow_y": null,
            "overflow_x": null,
            "grid_auto_flow": null,
            "grid_area": null,
            "grid_template_columns": null,
            "flex": null,
            "_model_name": "LayoutModel",
            "justify_items": null,
            "grid_row": null,
            "max_height": null,
            "align_content": null,
            "visibility": null,
            "align_self": null,
            "height": null,
            "min_height": null,
            "padding": null,
            "grid_auto_rows": null,
            "grid_gap": null,
            "max_width": null,
            "order": null,
            "_view_module_version": "1.2.0",
            "grid_template_areas": null,
            "object_position": null,
            "object_fit": null,
            "grid_auto_columns": null,
            "margin": null,
            "display": null,
            "left": null
          }
        },
        "9710e26ad9ca4bc1973da0aed56cf890": {
          "model_module": "@jupyter-widgets/controls",
          "model_name": "ProgressStyleModel",
          "model_module_version": "1.5.0",
          "state": {
            "_view_name": "StyleView",
            "_model_name": "ProgressStyleModel",
            "description_width": "",
            "_view_module": "@jupyter-widgets/base",
            "_model_module_version": "1.5.0",
            "_view_count": null,
            "_view_module_version": "1.2.0",
            "bar_color": null,
            "_model_module": "@jupyter-widgets/controls"
          }
        },
        "06f9e02dcc8549a1b8d2a170b5d757e7": {
          "model_module": "@jupyter-widgets/base",
          "model_name": "LayoutModel",
          "model_module_version": "1.2.0",
          "state": {
            "_view_name": "LayoutView",
            "grid_template_rows": null,
            "right": null,
            "justify_content": null,
            "_view_module": "@jupyter-widgets/base",
            "overflow": null,
            "_model_module_version": "1.2.0",
            "_view_count": null,
            "flex_flow": null,
            "width": null,
            "min_width": null,
            "border": null,
            "align_items": null,
            "bottom": null,
            "_model_module": "@jupyter-widgets/base",
            "top": null,
            "grid_column": null,
            "overflow_y": null,
            "overflow_x": null,
            "grid_auto_flow": null,
            "grid_area": null,
            "grid_template_columns": null,
            "flex": null,
            "_model_name": "LayoutModel",
            "justify_items": null,
            "grid_row": null,
            "max_height": null,
            "align_content": null,
            "visibility": null,
            "align_self": null,
            "height": null,
            "min_height": null,
            "padding": null,
            "grid_auto_rows": null,
            "grid_gap": null,
            "max_width": null,
            "order": null,
            "_view_module_version": "1.2.0",
            "grid_template_areas": null,
            "object_position": null,
            "object_fit": null,
            "grid_auto_columns": null,
            "margin": null,
            "display": null,
            "left": null
          }
        },
        "8d68816a5a12438a996942e36f75d5e9": {
          "model_module": "@jupyter-widgets/controls",
          "model_name": "VBoxModel",
          "model_module_version": "1.5.0",
          "state": {
            "_view_name": "VBoxView",
            "_dom_classes": [],
            "_model_name": "VBoxModel",
            "_view_module": "@jupyter-widgets/controls",
            "_model_module_version": "1.5.0",
            "_view_count": null,
            "_view_module_version": "1.5.0",
            "box_style": "",
            "layout": "IPY_MODEL_10f9125ccba04f13a97911bf93af0f97",
            "_model_module": "@jupyter-widgets/controls",
            "children": [
              "IPY_MODEL_f0c66ce9b84149579e2f0d48e6af9f03",
              "IPY_MODEL_998695260775499c9779b95fb4572875"
            ]
          }
        },
        "10f9125ccba04f13a97911bf93af0f97": {
          "model_module": "@jupyter-widgets/base",
          "model_name": "LayoutModel",
          "model_module_version": "1.2.0",
          "state": {
            "_view_name": "LayoutView",
            "grid_template_rows": null,
            "right": null,
            "justify_content": null,
            "_view_module": "@jupyter-widgets/base",
            "overflow": null,
            "_model_module_version": "1.2.0",
            "_view_count": null,
            "flex_flow": null,
            "width": null,
            "min_width": null,
            "border": null,
            "align_items": null,
            "bottom": null,
            "_model_module": "@jupyter-widgets/base",
            "top": null,
            "grid_column": null,
            "overflow_y": null,
            "overflow_x": null,
            "grid_auto_flow": null,
            "grid_area": null,
            "grid_template_columns": null,
            "flex": null,
            "_model_name": "LayoutModel",
            "justify_items": null,
            "grid_row": null,
            "max_height": null,
            "align_content": null,
            "visibility": null,
            "align_self": null,
            "height": null,
            "min_height": null,
            "padding": null,
            "grid_auto_rows": null,
            "grid_gap": null,
            "max_width": null,
            "order": null,
            "_view_module_version": "1.2.0",
            "grid_template_areas": null,
            "object_position": null,
            "object_fit": null,
            "grid_auto_columns": null,
            "margin": null,
            "display": null,
            "left": null
          }
        },
        "f0c66ce9b84149579e2f0d48e6af9f03": {
          "model_module": "@jupyter-widgets/controls",
          "model_name": "LabelModel",
          "model_module_version": "1.5.0",
          "state": {
            "_view_name": "LabelView",
            "style": "IPY_MODEL_1046285f18cf43bf8facfc4ab7abcd89",
            "_dom_classes": [],
            "description": "",
            "_model_name": "LabelModel",
            "placeholder": "​",
            "_view_module": "@jupyter-widgets/controls",
            "_model_module_version": "1.5.0",
            "value": " 1.53MB of 1.53MB uploaded (0.00MB deduped)\r",
            "_view_count": null,
            "_view_module_version": "1.5.0",
            "description_tooltip": null,
            "_model_module": "@jupyter-widgets/controls",
            "layout": "IPY_MODEL_84b804ce560f408399e651547b7af724"
          }
        },
        "998695260775499c9779b95fb4572875": {
          "model_module": "@jupyter-widgets/controls",
          "model_name": "FloatProgressModel",
          "model_module_version": "1.5.0",
          "state": {
            "_view_name": "ProgressView",
            "style": "IPY_MODEL_061e2dacf96e44c19f98ed3316546231",
            "_dom_classes": [],
            "description": "",
            "_model_name": "FloatProgressModel",
            "bar_style": "",
            "max": 1,
            "_view_module": "@jupyter-widgets/controls",
            "_model_module_version": "1.5.0",
            "value": 1,
            "_view_count": null,
            "_view_module_version": "1.5.0",
            "orientation": "horizontal",
            "min": 0,
            "description_tooltip": null,
            "_model_module": "@jupyter-widgets/controls",
            "layout": "IPY_MODEL_b7a8a213942f4adba3818f3d32b81528"
          }
        },
        "1046285f18cf43bf8facfc4ab7abcd89": {
          "model_module": "@jupyter-widgets/controls",
          "model_name": "DescriptionStyleModel",
          "model_module_version": "1.5.0",
          "state": {
            "_view_name": "StyleView",
            "_model_name": "DescriptionStyleModel",
            "description_width": "",
            "_view_module": "@jupyter-widgets/base",
            "_model_module_version": "1.5.0",
            "_view_count": null,
            "_view_module_version": "1.2.0",
            "_model_module": "@jupyter-widgets/controls"
          }
        },
        "84b804ce560f408399e651547b7af724": {
          "model_module": "@jupyter-widgets/base",
          "model_name": "LayoutModel",
          "model_module_version": "1.2.0",
          "state": {
            "_view_name": "LayoutView",
            "grid_template_rows": null,
            "right": null,
            "justify_content": null,
            "_view_module": "@jupyter-widgets/base",
            "overflow": null,
            "_model_module_version": "1.2.0",
            "_view_count": null,
            "flex_flow": null,
            "width": null,
            "min_width": null,
            "border": null,
            "align_items": null,
            "bottom": null,
            "_model_module": "@jupyter-widgets/base",
            "top": null,
            "grid_column": null,
            "overflow_y": null,
            "overflow_x": null,
            "grid_auto_flow": null,
            "grid_area": null,
            "grid_template_columns": null,
            "flex": null,
            "_model_name": "LayoutModel",
            "justify_items": null,
            "grid_row": null,
            "max_height": null,
            "align_content": null,
            "visibility": null,
            "align_self": null,
            "height": null,
            "min_height": null,
            "padding": null,
            "grid_auto_rows": null,
            "grid_gap": null,
            "max_width": null,
            "order": null,
            "_view_module_version": "1.2.0",
            "grid_template_areas": null,
            "object_position": null,
            "object_fit": null,
            "grid_auto_columns": null,
            "margin": null,
            "display": null,
            "left": null
          }
        },
        "061e2dacf96e44c19f98ed3316546231": {
          "model_module": "@jupyter-widgets/controls",
          "model_name": "ProgressStyleModel",
          "model_module_version": "1.5.0",
          "state": {
            "_view_name": "StyleView",
            "_model_name": "ProgressStyleModel",
            "description_width": "",
            "_view_module": "@jupyter-widgets/base",
            "_model_module_version": "1.5.0",
            "_view_count": null,
            "_view_module_version": "1.2.0",
            "bar_color": null,
            "_model_module": "@jupyter-widgets/controls"
          }
        },
        "b7a8a213942f4adba3818f3d32b81528": {
          "model_module": "@jupyter-widgets/base",
          "model_name": "LayoutModel",
          "model_module_version": "1.2.0",
          "state": {
            "_view_name": "LayoutView",
            "grid_template_rows": null,
            "right": null,
            "justify_content": null,
            "_view_module": "@jupyter-widgets/base",
            "overflow": null,
            "_model_module_version": "1.2.0",
            "_view_count": null,
            "flex_flow": null,
            "width": null,
            "min_width": null,
            "border": null,
            "align_items": null,
            "bottom": null,
            "_model_module": "@jupyter-widgets/base",
            "top": null,
            "grid_column": null,
            "overflow_y": null,
            "overflow_x": null,
            "grid_auto_flow": null,
            "grid_area": null,
            "grid_template_columns": null,
            "flex": null,
            "_model_name": "LayoutModel",
            "justify_items": null,
            "grid_row": null,
            "max_height": null,
            "align_content": null,
            "visibility": null,
            "align_self": null,
            "height": null,
            "min_height": null,
            "padding": null,
            "grid_auto_rows": null,
            "grid_gap": null,
            "max_width": null,
            "order": null,
            "_view_module_version": "1.2.0",
            "grid_template_areas": null,
            "object_position": null,
            "object_fit": null,
            "grid_auto_columns": null,
            "margin": null,
            "display": null,
            "left": null
          }
        },
        "2eed493804fe41c99f46aa4b76cf3c2a": {
          "model_module": "@jupyter-widgets/controls",
          "model_name": "VBoxModel",
          "model_module_version": "1.5.0",
          "state": {
            "_view_name": "VBoxView",
            "_dom_classes": [],
            "_model_name": "VBoxModel",
            "_view_module": "@jupyter-widgets/controls",
            "_model_module_version": "1.5.0",
            "_view_count": null,
            "_view_module_version": "1.5.0",
            "box_style": "",
            "layout": "IPY_MODEL_8faeb455a1594c7f9475d891829bc5ed",
            "_model_module": "@jupyter-widgets/controls",
            "children": [
              "IPY_MODEL_ca814dd397d443d693f182fa8cdd12a6",
              "IPY_MODEL_5fdd7b7f1ad3452f8ce7187a4542865b"
            ]
          }
        },
        "8faeb455a1594c7f9475d891829bc5ed": {
          "model_module": "@jupyter-widgets/base",
          "model_name": "LayoutModel",
          "model_module_version": "1.2.0",
          "state": {
            "_view_name": "LayoutView",
            "grid_template_rows": null,
            "right": null,
            "justify_content": null,
            "_view_module": "@jupyter-widgets/base",
            "overflow": null,
            "_model_module_version": "1.2.0",
            "_view_count": null,
            "flex_flow": null,
            "width": null,
            "min_width": null,
            "border": null,
            "align_items": null,
            "bottom": null,
            "_model_module": "@jupyter-widgets/base",
            "top": null,
            "grid_column": null,
            "overflow_y": null,
            "overflow_x": null,
            "grid_auto_flow": null,
            "grid_area": null,
            "grid_template_columns": null,
            "flex": null,
            "_model_name": "LayoutModel",
            "justify_items": null,
            "grid_row": null,
            "max_height": null,
            "align_content": null,
            "visibility": null,
            "align_self": null,
            "height": null,
            "min_height": null,
            "padding": null,
            "grid_auto_rows": null,
            "grid_gap": null,
            "max_width": null,
            "order": null,
            "_view_module_version": "1.2.0",
            "grid_template_areas": null,
            "object_position": null,
            "object_fit": null,
            "grid_auto_columns": null,
            "margin": null,
            "display": null,
            "left": null
          }
        },
        "ca814dd397d443d693f182fa8cdd12a6": {
          "model_module": "@jupyter-widgets/controls",
          "model_name": "LabelModel",
          "model_module_version": "1.5.0",
          "state": {
            "_view_name": "LabelView",
            "style": "IPY_MODEL_7305ac671f06445fa14c0bf7a2bb7ed2",
            "_dom_classes": [],
            "description": "",
            "_model_name": "LabelModel",
            "placeholder": "​",
            "_view_module": "@jupyter-widgets/controls",
            "_model_module_version": "1.5.0",
            "value": " 0.01MB of 0.01MB uploaded (0.00MB deduped)\r",
            "_view_count": null,
            "_view_module_version": "1.5.0",
            "description_tooltip": null,
            "_model_module": "@jupyter-widgets/controls",
            "layout": "IPY_MODEL_e2d8c981904a4a86a8853c7f2efa4d5c"
          }
        },
        "5fdd7b7f1ad3452f8ce7187a4542865b": {
          "model_module": "@jupyter-widgets/controls",
          "model_name": "FloatProgressModel",
          "model_module_version": "1.5.0",
          "state": {
            "_view_name": "ProgressView",
            "style": "IPY_MODEL_7da0374f4ea4466cb3f62a196433f4c4",
            "_dom_classes": [],
            "description": "",
            "_model_name": "FloatProgressModel",
            "bar_style": "",
            "max": 1,
            "_view_module": "@jupyter-widgets/controls",
            "_model_module_version": "1.5.0",
            "value": 1,
            "_view_count": null,
            "_view_module_version": "1.5.0",
            "orientation": "horizontal",
            "min": 0,
            "description_tooltip": null,
            "_model_module": "@jupyter-widgets/controls",
            "layout": "IPY_MODEL_b1db10134ff44139b0950b3b10bd7dc3"
          }
        },
        "7305ac671f06445fa14c0bf7a2bb7ed2": {
          "model_module": "@jupyter-widgets/controls",
          "model_name": "DescriptionStyleModel",
          "model_module_version": "1.5.0",
          "state": {
            "_view_name": "StyleView",
            "_model_name": "DescriptionStyleModel",
            "description_width": "",
            "_view_module": "@jupyter-widgets/base",
            "_model_module_version": "1.5.0",
            "_view_count": null,
            "_view_module_version": "1.2.0",
            "_model_module": "@jupyter-widgets/controls"
          }
        },
        "e2d8c981904a4a86a8853c7f2efa4d5c": {
          "model_module": "@jupyter-widgets/base",
          "model_name": "LayoutModel",
          "model_module_version": "1.2.0",
          "state": {
            "_view_name": "LayoutView",
            "grid_template_rows": null,
            "right": null,
            "justify_content": null,
            "_view_module": "@jupyter-widgets/base",
            "overflow": null,
            "_model_module_version": "1.2.0",
            "_view_count": null,
            "flex_flow": null,
            "width": null,
            "min_width": null,
            "border": null,
            "align_items": null,
            "bottom": null,
            "_model_module": "@jupyter-widgets/base",
            "top": null,
            "grid_column": null,
            "overflow_y": null,
            "overflow_x": null,
            "grid_auto_flow": null,
            "grid_area": null,
            "grid_template_columns": null,
            "flex": null,
            "_model_name": "LayoutModel",
            "justify_items": null,
            "grid_row": null,
            "max_height": null,
            "align_content": null,
            "visibility": null,
            "align_self": null,
            "height": null,
            "min_height": null,
            "padding": null,
            "grid_auto_rows": null,
            "grid_gap": null,
            "max_width": null,
            "order": null,
            "_view_module_version": "1.2.0",
            "grid_template_areas": null,
            "object_position": null,
            "object_fit": null,
            "grid_auto_columns": null,
            "margin": null,
            "display": null,
            "left": null
          }
        },
        "7da0374f4ea4466cb3f62a196433f4c4": {
          "model_module": "@jupyter-widgets/controls",
          "model_name": "ProgressStyleModel",
          "model_module_version": "1.5.0",
          "state": {
            "_view_name": "StyleView",
            "_model_name": "ProgressStyleModel",
            "description_width": "",
            "_view_module": "@jupyter-widgets/base",
            "_model_module_version": "1.5.0",
            "_view_count": null,
            "_view_module_version": "1.2.0",
            "bar_color": null,
            "_model_module": "@jupyter-widgets/controls"
          }
        },
        "b1db10134ff44139b0950b3b10bd7dc3": {
          "model_module": "@jupyter-widgets/base",
          "model_name": "LayoutModel",
          "model_module_version": "1.2.0",
          "state": {
            "_view_name": "LayoutView",
            "grid_template_rows": null,
            "right": null,
            "justify_content": null,
            "_view_module": "@jupyter-widgets/base",
            "overflow": null,
            "_model_module_version": "1.2.0",
            "_view_count": null,
            "flex_flow": null,
            "width": null,
            "min_width": null,
            "border": null,
            "align_items": null,
            "bottom": null,
            "_model_module": "@jupyter-widgets/base",
            "top": null,
            "grid_column": null,
            "overflow_y": null,
            "overflow_x": null,
            "grid_auto_flow": null,
            "grid_area": null,
            "grid_template_columns": null,
            "flex": null,
            "_model_name": "LayoutModel",
            "justify_items": null,
            "grid_row": null,
            "max_height": null,
            "align_content": null,
            "visibility": null,
            "align_self": null,
            "height": null,
            "min_height": null,
            "padding": null,
            "grid_auto_rows": null,
            "grid_gap": null,
            "max_width": null,
            "order": null,
            "_view_module_version": "1.2.0",
            "grid_template_areas": null,
            "object_position": null,
            "object_fit": null,
            "grid_auto_columns": null,
            "margin": null,
            "display": null,
            "left": null
          }
        },
        "5c14a5ac05c848b897a34e02d9f05a78": {
          "model_module": "@jupyter-widgets/controls",
          "model_name": "VBoxModel",
          "model_module_version": "1.5.0",
          "state": {
            "_view_name": "VBoxView",
            "_dom_classes": [],
            "_model_name": "VBoxModel",
            "_view_module": "@jupyter-widgets/controls",
            "_model_module_version": "1.5.0",
            "_view_count": null,
            "_view_module_version": "1.5.0",
            "box_style": "",
            "layout": "IPY_MODEL_56acac1a9e064d6286d3f06537c7a3d1",
            "_model_module": "@jupyter-widgets/controls",
            "children": [
              "IPY_MODEL_d127838521464a32961c46a1a56f87c2",
              "IPY_MODEL_7643bbcb4c7c45418912d45fae926824"
            ]
          }
        },
        "56acac1a9e064d6286d3f06537c7a3d1": {
          "model_module": "@jupyter-widgets/base",
          "model_name": "LayoutModel",
          "model_module_version": "1.2.0",
          "state": {
            "_view_name": "LayoutView",
            "grid_template_rows": null,
            "right": null,
            "justify_content": null,
            "_view_module": "@jupyter-widgets/base",
            "overflow": null,
            "_model_module_version": "1.2.0",
            "_view_count": null,
            "flex_flow": null,
            "width": null,
            "min_width": null,
            "border": null,
            "align_items": null,
            "bottom": null,
            "_model_module": "@jupyter-widgets/base",
            "top": null,
            "grid_column": null,
            "overflow_y": null,
            "overflow_x": null,
            "grid_auto_flow": null,
            "grid_area": null,
            "grid_template_columns": null,
            "flex": null,
            "_model_name": "LayoutModel",
            "justify_items": null,
            "grid_row": null,
            "max_height": null,
            "align_content": null,
            "visibility": null,
            "align_self": null,
            "height": null,
            "min_height": null,
            "padding": null,
            "grid_auto_rows": null,
            "grid_gap": null,
            "max_width": null,
            "order": null,
            "_view_module_version": "1.2.0",
            "grid_template_areas": null,
            "object_position": null,
            "object_fit": null,
            "grid_auto_columns": null,
            "margin": null,
            "display": null,
            "left": null
          }
        },
        "d127838521464a32961c46a1a56f87c2": {
          "model_module": "@jupyter-widgets/controls",
          "model_name": "LabelModel",
          "model_module_version": "1.5.0",
          "state": {
            "_view_name": "LabelView",
            "style": "IPY_MODEL_9f098cd5c42942f4992e9c408d7f4c96",
            "_dom_classes": [],
            "description": "",
            "_model_name": "LabelModel",
            "placeholder": "​",
            "_view_module": "@jupyter-widgets/controls",
            "_model_module_version": "1.5.0",
            "value": " 1.52MB of 1.52MB uploaded (0.00MB deduped)\r",
            "_view_count": null,
            "_view_module_version": "1.5.0",
            "description_tooltip": null,
            "_model_module": "@jupyter-widgets/controls",
            "layout": "IPY_MODEL_db6679ac96444f4db9f3e07ff05aee8e"
          }
        },
        "7643bbcb4c7c45418912d45fae926824": {
          "model_module": "@jupyter-widgets/controls",
          "model_name": "FloatProgressModel",
          "model_module_version": "1.5.0",
          "state": {
            "_view_name": "ProgressView",
            "style": "IPY_MODEL_74e8f80b87de4b4aa42273eb7dd9ea0c",
            "_dom_classes": [],
            "description": "",
            "_model_name": "FloatProgressModel",
            "bar_style": "",
            "max": 1,
            "_view_module": "@jupyter-widgets/controls",
            "_model_module_version": "1.5.0",
            "value": 1,
            "_view_count": null,
            "_view_module_version": "1.5.0",
            "orientation": "horizontal",
            "min": 0,
            "description_tooltip": null,
            "_model_module": "@jupyter-widgets/controls",
            "layout": "IPY_MODEL_64d0d57583f14321aea79c84c87cb365"
          }
        },
        "9f098cd5c42942f4992e9c408d7f4c96": {
          "model_module": "@jupyter-widgets/controls",
          "model_name": "DescriptionStyleModel",
          "model_module_version": "1.5.0",
          "state": {
            "_view_name": "StyleView",
            "_model_name": "DescriptionStyleModel",
            "description_width": "",
            "_view_module": "@jupyter-widgets/base",
            "_model_module_version": "1.5.0",
            "_view_count": null,
            "_view_module_version": "1.2.0",
            "_model_module": "@jupyter-widgets/controls"
          }
        },
        "db6679ac96444f4db9f3e07ff05aee8e": {
          "model_module": "@jupyter-widgets/base",
          "model_name": "LayoutModel",
          "model_module_version": "1.2.0",
          "state": {
            "_view_name": "LayoutView",
            "grid_template_rows": null,
            "right": null,
            "justify_content": null,
            "_view_module": "@jupyter-widgets/base",
            "overflow": null,
            "_model_module_version": "1.2.0",
            "_view_count": null,
            "flex_flow": null,
            "width": null,
            "min_width": null,
            "border": null,
            "align_items": null,
            "bottom": null,
            "_model_module": "@jupyter-widgets/base",
            "top": null,
            "grid_column": null,
            "overflow_y": null,
            "overflow_x": null,
            "grid_auto_flow": null,
            "grid_area": null,
            "grid_template_columns": null,
            "flex": null,
            "_model_name": "LayoutModel",
            "justify_items": null,
            "grid_row": null,
            "max_height": null,
            "align_content": null,
            "visibility": null,
            "align_self": null,
            "height": null,
            "min_height": null,
            "padding": null,
            "grid_auto_rows": null,
            "grid_gap": null,
            "max_width": null,
            "order": null,
            "_view_module_version": "1.2.0",
            "grid_template_areas": null,
            "object_position": null,
            "object_fit": null,
            "grid_auto_columns": null,
            "margin": null,
            "display": null,
            "left": null
          }
        },
        "74e8f80b87de4b4aa42273eb7dd9ea0c": {
          "model_module": "@jupyter-widgets/controls",
          "model_name": "ProgressStyleModel",
          "model_module_version": "1.5.0",
          "state": {
            "_view_name": "StyleView",
            "_model_name": "ProgressStyleModel",
            "description_width": "",
            "_view_module": "@jupyter-widgets/base",
            "_model_module_version": "1.5.0",
            "_view_count": null,
            "_view_module_version": "1.2.0",
            "bar_color": null,
            "_model_module": "@jupyter-widgets/controls"
          }
        },
        "64d0d57583f14321aea79c84c87cb365": {
          "model_module": "@jupyter-widgets/base",
          "model_name": "LayoutModel",
          "model_module_version": "1.2.0",
          "state": {
            "_view_name": "LayoutView",
            "grid_template_rows": null,
            "right": null,
            "justify_content": null,
            "_view_module": "@jupyter-widgets/base",
            "overflow": null,
            "_model_module_version": "1.2.0",
            "_view_count": null,
            "flex_flow": null,
            "width": null,
            "min_width": null,
            "border": null,
            "align_items": null,
            "bottom": null,
            "_model_module": "@jupyter-widgets/base",
            "top": null,
            "grid_column": null,
            "overflow_y": null,
            "overflow_x": null,
            "grid_auto_flow": null,
            "grid_area": null,
            "grid_template_columns": null,
            "flex": null,
            "_model_name": "LayoutModel",
            "justify_items": null,
            "grid_row": null,
            "max_height": null,
            "align_content": null,
            "visibility": null,
            "align_self": null,
            "height": null,
            "min_height": null,
            "padding": null,
            "grid_auto_rows": null,
            "grid_gap": null,
            "max_width": null,
            "order": null,
            "_view_module_version": "1.2.0",
            "grid_template_areas": null,
            "object_position": null,
            "object_fit": null,
            "grid_auto_columns": null,
            "margin": null,
            "display": null,
            "left": null
          }
        },
        "e28ea00683e243a185c2a0b8758cf891": {
          "model_module": "@jupyter-widgets/controls",
          "model_name": "VBoxModel",
          "model_module_version": "1.5.0",
          "state": {
            "_view_name": "VBoxView",
            "_dom_classes": [],
            "_model_name": "VBoxModel",
            "_view_module": "@jupyter-widgets/controls",
            "_model_module_version": "1.5.0",
            "_view_count": null,
            "_view_module_version": "1.5.0",
            "box_style": "",
            "layout": "IPY_MODEL_d6269d1b29dc4b618bcc79a807e2e728",
            "_model_module": "@jupyter-widgets/controls",
            "children": [
              "IPY_MODEL_7ea1e1387b474d0081fb6895f0c765ad",
              "IPY_MODEL_8384d9bcaeb745368d7d9b3a12ff03a7"
            ]
          }
        },
        "d6269d1b29dc4b618bcc79a807e2e728": {
          "model_module": "@jupyter-widgets/base",
          "model_name": "LayoutModel",
          "model_module_version": "1.2.0",
          "state": {
            "_view_name": "LayoutView",
            "grid_template_rows": null,
            "right": null,
            "justify_content": null,
            "_view_module": "@jupyter-widgets/base",
            "overflow": null,
            "_model_module_version": "1.2.0",
            "_view_count": null,
            "flex_flow": null,
            "width": null,
            "min_width": null,
            "border": null,
            "align_items": null,
            "bottom": null,
            "_model_module": "@jupyter-widgets/base",
            "top": null,
            "grid_column": null,
            "overflow_y": null,
            "overflow_x": null,
            "grid_auto_flow": null,
            "grid_area": null,
            "grid_template_columns": null,
            "flex": null,
            "_model_name": "LayoutModel",
            "justify_items": null,
            "grid_row": null,
            "max_height": null,
            "align_content": null,
            "visibility": null,
            "align_self": null,
            "height": null,
            "min_height": null,
            "padding": null,
            "grid_auto_rows": null,
            "grid_gap": null,
            "max_width": null,
            "order": null,
            "_view_module_version": "1.2.0",
            "grid_template_areas": null,
            "object_position": null,
            "object_fit": null,
            "grid_auto_columns": null,
            "margin": null,
            "display": null,
            "left": null
          }
        },
        "7ea1e1387b474d0081fb6895f0c765ad": {
          "model_module": "@jupyter-widgets/controls",
          "model_name": "LabelModel",
          "model_module_version": "1.5.0",
          "state": {
            "_view_name": "LabelView",
            "style": "IPY_MODEL_a1fe0c7d139245dcb90837d2c44510a7",
            "_dom_classes": [],
            "description": "",
            "_model_name": "LabelModel",
            "placeholder": "​",
            "_view_module": "@jupyter-widgets/controls",
            "_model_module_version": "1.5.0",
            "value": " 0.01MB of 0.01MB uploaded (0.00MB deduped)\r",
            "_view_count": null,
            "_view_module_version": "1.5.0",
            "description_tooltip": null,
            "_model_module": "@jupyter-widgets/controls",
            "layout": "IPY_MODEL_d67a1d9844384f4fba5fc7d0cc3655ff"
          }
        },
        "8384d9bcaeb745368d7d9b3a12ff03a7": {
          "model_module": "@jupyter-widgets/controls",
          "model_name": "FloatProgressModel",
          "model_module_version": "1.5.0",
          "state": {
            "_view_name": "ProgressView",
            "style": "IPY_MODEL_9ffb3400f44a4424a991723d6231d7f8",
            "_dom_classes": [],
            "description": "",
            "_model_name": "FloatProgressModel",
            "bar_style": "",
            "max": 1,
            "_view_module": "@jupyter-widgets/controls",
            "_model_module_version": "1.5.0",
            "value": 1,
            "_view_count": null,
            "_view_module_version": "1.5.0",
            "orientation": "horizontal",
            "min": 0,
            "description_tooltip": null,
            "_model_module": "@jupyter-widgets/controls",
            "layout": "IPY_MODEL_48dc990b3c6045b29cf73f24e8842c86"
          }
        },
        "a1fe0c7d139245dcb90837d2c44510a7": {
          "model_module": "@jupyter-widgets/controls",
          "model_name": "DescriptionStyleModel",
          "model_module_version": "1.5.0",
          "state": {
            "_view_name": "StyleView",
            "_model_name": "DescriptionStyleModel",
            "description_width": "",
            "_view_module": "@jupyter-widgets/base",
            "_model_module_version": "1.5.0",
            "_view_count": null,
            "_view_module_version": "1.2.0",
            "_model_module": "@jupyter-widgets/controls"
          }
        },
        "d67a1d9844384f4fba5fc7d0cc3655ff": {
          "model_module": "@jupyter-widgets/base",
          "model_name": "LayoutModel",
          "model_module_version": "1.2.0",
          "state": {
            "_view_name": "LayoutView",
            "grid_template_rows": null,
            "right": null,
            "justify_content": null,
            "_view_module": "@jupyter-widgets/base",
            "overflow": null,
            "_model_module_version": "1.2.0",
            "_view_count": null,
            "flex_flow": null,
            "width": null,
            "min_width": null,
            "border": null,
            "align_items": null,
            "bottom": null,
            "_model_module": "@jupyter-widgets/base",
            "top": null,
            "grid_column": null,
            "overflow_y": null,
            "overflow_x": null,
            "grid_auto_flow": null,
            "grid_area": null,
            "grid_template_columns": null,
            "flex": null,
            "_model_name": "LayoutModel",
            "justify_items": null,
            "grid_row": null,
            "max_height": null,
            "align_content": null,
            "visibility": null,
            "align_self": null,
            "height": null,
            "min_height": null,
            "padding": null,
            "grid_auto_rows": null,
            "grid_gap": null,
            "max_width": null,
            "order": null,
            "_view_module_version": "1.2.0",
            "grid_template_areas": null,
            "object_position": null,
            "object_fit": null,
            "grid_auto_columns": null,
            "margin": null,
            "display": null,
            "left": null
          }
        },
        "9ffb3400f44a4424a991723d6231d7f8": {
          "model_module": "@jupyter-widgets/controls",
          "model_name": "ProgressStyleModel",
          "model_module_version": "1.5.0",
          "state": {
            "_view_name": "StyleView",
            "_model_name": "ProgressStyleModel",
            "description_width": "",
            "_view_module": "@jupyter-widgets/base",
            "_model_module_version": "1.5.0",
            "_view_count": null,
            "_view_module_version": "1.2.0",
            "bar_color": null,
            "_model_module": "@jupyter-widgets/controls"
          }
        },
        "48dc990b3c6045b29cf73f24e8842c86": {
          "model_module": "@jupyter-widgets/base",
          "model_name": "LayoutModel",
          "model_module_version": "1.2.0",
          "state": {
            "_view_name": "LayoutView",
            "grid_template_rows": null,
            "right": null,
            "justify_content": null,
            "_view_module": "@jupyter-widgets/base",
            "overflow": null,
            "_model_module_version": "1.2.0",
            "_view_count": null,
            "flex_flow": null,
            "width": null,
            "min_width": null,
            "border": null,
            "align_items": null,
            "bottom": null,
            "_model_module": "@jupyter-widgets/base",
            "top": null,
            "grid_column": null,
            "overflow_y": null,
            "overflow_x": null,
            "grid_auto_flow": null,
            "grid_area": null,
            "grid_template_columns": null,
            "flex": null,
            "_model_name": "LayoutModel",
            "justify_items": null,
            "grid_row": null,
            "max_height": null,
            "align_content": null,
            "visibility": null,
            "align_self": null,
            "height": null,
            "min_height": null,
            "padding": null,
            "grid_auto_rows": null,
            "grid_gap": null,
            "max_width": null,
            "order": null,
            "_view_module_version": "1.2.0",
            "grid_template_areas": null,
            "object_position": null,
            "object_fit": null,
            "grid_auto_columns": null,
            "margin": null,
            "display": null,
            "left": null
          }
        },
        "6795ba8118fe4ddeb6620b081c0f148a": {
          "model_module": "@jupyter-widgets/controls",
          "model_name": "VBoxModel",
          "model_module_version": "1.5.0",
          "state": {
            "_view_name": "VBoxView",
            "_dom_classes": [],
            "_model_name": "VBoxModel",
            "_view_module": "@jupyter-widgets/controls",
            "_model_module_version": "1.5.0",
            "_view_count": null,
            "_view_module_version": "1.5.0",
            "box_style": "",
            "layout": "IPY_MODEL_724a042bd3344f64b15941fa9f56caf1",
            "_model_module": "@jupyter-widgets/controls",
            "children": [
              "IPY_MODEL_6192d671960047d0b18750ad20e12268",
              "IPY_MODEL_568014e51d6f469db822db9d478a91b8"
            ]
          }
        },
        "724a042bd3344f64b15941fa9f56caf1": {
          "model_module": "@jupyter-widgets/base",
          "model_name": "LayoutModel",
          "model_module_version": "1.2.0",
          "state": {
            "_view_name": "LayoutView",
            "grid_template_rows": null,
            "right": null,
            "justify_content": null,
            "_view_module": "@jupyter-widgets/base",
            "overflow": null,
            "_model_module_version": "1.2.0",
            "_view_count": null,
            "flex_flow": null,
            "width": null,
            "min_width": null,
            "border": null,
            "align_items": null,
            "bottom": null,
            "_model_module": "@jupyter-widgets/base",
            "top": null,
            "grid_column": null,
            "overflow_y": null,
            "overflow_x": null,
            "grid_auto_flow": null,
            "grid_area": null,
            "grid_template_columns": null,
            "flex": null,
            "_model_name": "LayoutModel",
            "justify_items": null,
            "grid_row": null,
            "max_height": null,
            "align_content": null,
            "visibility": null,
            "align_self": null,
            "height": null,
            "min_height": null,
            "padding": null,
            "grid_auto_rows": null,
            "grid_gap": null,
            "max_width": null,
            "order": null,
            "_view_module_version": "1.2.0",
            "grid_template_areas": null,
            "object_position": null,
            "object_fit": null,
            "grid_auto_columns": null,
            "margin": null,
            "display": null,
            "left": null
          }
        },
        "6192d671960047d0b18750ad20e12268": {
          "model_module": "@jupyter-widgets/controls",
          "model_name": "LabelModel",
          "model_module_version": "1.5.0",
          "state": {
            "_view_name": "LabelView",
            "style": "IPY_MODEL_5935e291a92045b395e87cf035980cdf",
            "_dom_classes": [],
            "description": "",
            "_model_name": "LabelModel",
            "placeholder": "​",
            "_view_module": "@jupyter-widgets/controls",
            "_model_module_version": "1.5.0",
            "value": " 0.65MB of 0.65MB uploaded (0.00MB deduped)\r",
            "_view_count": null,
            "_view_module_version": "1.5.0",
            "description_tooltip": null,
            "_model_module": "@jupyter-widgets/controls",
            "layout": "IPY_MODEL_a9cc5623d6d54e57981649a3d30620bb"
          }
        },
        "568014e51d6f469db822db9d478a91b8": {
          "model_module": "@jupyter-widgets/controls",
          "model_name": "FloatProgressModel",
          "model_module_version": "1.5.0",
          "state": {
            "_view_name": "ProgressView",
            "style": "IPY_MODEL_0a8fc8318cdb4eafac0238a378c2867b",
            "_dom_classes": [],
            "description": "",
            "_model_name": "FloatProgressModel",
            "bar_style": "",
            "max": 1,
            "_view_module": "@jupyter-widgets/controls",
            "_model_module_version": "1.5.0",
            "value": 1,
            "_view_count": null,
            "_view_module_version": "1.5.0",
            "orientation": "horizontal",
            "min": 0,
            "description_tooltip": null,
            "_model_module": "@jupyter-widgets/controls",
            "layout": "IPY_MODEL_6db15a8e85e04c87949d37a82affc53b"
          }
        },
        "5935e291a92045b395e87cf035980cdf": {
          "model_module": "@jupyter-widgets/controls",
          "model_name": "DescriptionStyleModel",
          "model_module_version": "1.5.0",
          "state": {
            "_view_name": "StyleView",
            "_model_name": "DescriptionStyleModel",
            "description_width": "",
            "_view_module": "@jupyter-widgets/base",
            "_model_module_version": "1.5.0",
            "_view_count": null,
            "_view_module_version": "1.2.0",
            "_model_module": "@jupyter-widgets/controls"
          }
        },
        "a9cc5623d6d54e57981649a3d30620bb": {
          "model_module": "@jupyter-widgets/base",
          "model_name": "LayoutModel",
          "model_module_version": "1.2.0",
          "state": {
            "_view_name": "LayoutView",
            "grid_template_rows": null,
            "right": null,
            "justify_content": null,
            "_view_module": "@jupyter-widgets/base",
            "overflow": null,
            "_model_module_version": "1.2.0",
            "_view_count": null,
            "flex_flow": null,
            "width": null,
            "min_width": null,
            "border": null,
            "align_items": null,
            "bottom": null,
            "_model_module": "@jupyter-widgets/base",
            "top": null,
            "grid_column": null,
            "overflow_y": null,
            "overflow_x": null,
            "grid_auto_flow": null,
            "grid_area": null,
            "grid_template_columns": null,
            "flex": null,
            "_model_name": "LayoutModel",
            "justify_items": null,
            "grid_row": null,
            "max_height": null,
            "align_content": null,
            "visibility": null,
            "align_self": null,
            "height": null,
            "min_height": null,
            "padding": null,
            "grid_auto_rows": null,
            "grid_gap": null,
            "max_width": null,
            "order": null,
            "_view_module_version": "1.2.0",
            "grid_template_areas": null,
            "object_position": null,
            "object_fit": null,
            "grid_auto_columns": null,
            "margin": null,
            "display": null,
            "left": null
          }
        },
        "0a8fc8318cdb4eafac0238a378c2867b": {
          "model_module": "@jupyter-widgets/controls",
          "model_name": "ProgressStyleModel",
          "model_module_version": "1.5.0",
          "state": {
            "_view_name": "StyleView",
            "_model_name": "ProgressStyleModel",
            "description_width": "",
            "_view_module": "@jupyter-widgets/base",
            "_model_module_version": "1.5.0",
            "_view_count": null,
            "_view_module_version": "1.2.0",
            "bar_color": null,
            "_model_module": "@jupyter-widgets/controls"
          }
        },
        "6db15a8e85e04c87949d37a82affc53b": {
          "model_module": "@jupyter-widgets/base",
          "model_name": "LayoutModel",
          "model_module_version": "1.2.0",
          "state": {
            "_view_name": "LayoutView",
            "grid_template_rows": null,
            "right": null,
            "justify_content": null,
            "_view_module": "@jupyter-widgets/base",
            "overflow": null,
            "_model_module_version": "1.2.0",
            "_view_count": null,
            "flex_flow": null,
            "width": null,
            "min_width": null,
            "border": null,
            "align_items": null,
            "bottom": null,
            "_model_module": "@jupyter-widgets/base",
            "top": null,
            "grid_column": null,
            "overflow_y": null,
            "overflow_x": null,
            "grid_auto_flow": null,
            "grid_area": null,
            "grid_template_columns": null,
            "flex": null,
            "_model_name": "LayoutModel",
            "justify_items": null,
            "grid_row": null,
            "max_height": null,
            "align_content": null,
            "visibility": null,
            "align_self": null,
            "height": null,
            "min_height": null,
            "padding": null,
            "grid_auto_rows": null,
            "grid_gap": null,
            "max_width": null,
            "order": null,
            "_view_module_version": "1.2.0",
            "grid_template_areas": null,
            "object_position": null,
            "object_fit": null,
            "grid_auto_columns": null,
            "margin": null,
            "display": null,
            "left": null
          }
        },
        "0609b678f9e346a8b78da41ade9c8f60": {
          "model_module": "@jupyter-widgets/controls",
          "model_name": "VBoxModel",
          "model_module_version": "1.5.0",
          "state": {
            "_view_name": "VBoxView",
            "_dom_classes": [],
            "_model_name": "VBoxModel",
            "_view_module": "@jupyter-widgets/controls",
            "_model_module_version": "1.5.0",
            "_view_count": null,
            "_view_module_version": "1.5.0",
            "box_style": "",
            "layout": "IPY_MODEL_b861afd401ab406792ae4855f3472f6e",
            "_model_module": "@jupyter-widgets/controls",
            "children": [
              "IPY_MODEL_b324f4f1fcc94b70aa61e97df953ef6b",
              "IPY_MODEL_64a5e1b3fd94413392d564030197ffd6"
            ]
          }
        },
        "b861afd401ab406792ae4855f3472f6e": {
          "model_module": "@jupyter-widgets/base",
          "model_name": "LayoutModel",
          "model_module_version": "1.2.0",
          "state": {
            "_view_name": "LayoutView",
            "grid_template_rows": null,
            "right": null,
            "justify_content": null,
            "_view_module": "@jupyter-widgets/base",
            "overflow": null,
            "_model_module_version": "1.2.0",
            "_view_count": null,
            "flex_flow": null,
            "width": null,
            "min_width": null,
            "border": null,
            "align_items": null,
            "bottom": null,
            "_model_module": "@jupyter-widgets/base",
            "top": null,
            "grid_column": null,
            "overflow_y": null,
            "overflow_x": null,
            "grid_auto_flow": null,
            "grid_area": null,
            "grid_template_columns": null,
            "flex": null,
            "_model_name": "LayoutModel",
            "justify_items": null,
            "grid_row": null,
            "max_height": null,
            "align_content": null,
            "visibility": null,
            "align_self": null,
            "height": null,
            "min_height": null,
            "padding": null,
            "grid_auto_rows": null,
            "grid_gap": null,
            "max_width": null,
            "order": null,
            "_view_module_version": "1.2.0",
            "grid_template_areas": null,
            "object_position": null,
            "object_fit": null,
            "grid_auto_columns": null,
            "margin": null,
            "display": null,
            "left": null
          }
        },
        "b324f4f1fcc94b70aa61e97df953ef6b": {
          "model_module": "@jupyter-widgets/controls",
          "model_name": "LabelModel",
          "model_module_version": "1.5.0",
          "state": {
            "_view_name": "LabelView",
            "style": "IPY_MODEL_ee0075ea1f194307853308b0fdefa5d0",
            "_dom_classes": [],
            "description": "",
            "_model_name": "LabelModel",
            "placeholder": "​",
            "_view_module": "@jupyter-widgets/controls",
            "_model_module_version": "1.5.0",
            "value": " 0.01MB of 0.01MB uploaded (0.00MB deduped)\r",
            "_view_count": null,
            "_view_module_version": "1.5.0",
            "description_tooltip": null,
            "_model_module": "@jupyter-widgets/controls",
            "layout": "IPY_MODEL_79ec8dec777e44d7b7ea5b7f611931cf"
          }
        },
        "64a5e1b3fd94413392d564030197ffd6": {
          "model_module": "@jupyter-widgets/controls",
          "model_name": "FloatProgressModel",
          "model_module_version": "1.5.0",
          "state": {
            "_view_name": "ProgressView",
            "style": "IPY_MODEL_e94a3dd8e618461e87e7c62b086cac95",
            "_dom_classes": [],
            "description": "",
            "_model_name": "FloatProgressModel",
            "bar_style": "",
            "max": 1,
            "_view_module": "@jupyter-widgets/controls",
            "_model_module_version": "1.5.0",
            "value": 1,
            "_view_count": null,
            "_view_module_version": "1.5.0",
            "orientation": "horizontal",
            "min": 0,
            "description_tooltip": null,
            "_model_module": "@jupyter-widgets/controls",
            "layout": "IPY_MODEL_5c365f0a61514403ab9c349228e3f420"
          }
        },
        "ee0075ea1f194307853308b0fdefa5d0": {
          "model_module": "@jupyter-widgets/controls",
          "model_name": "DescriptionStyleModel",
          "model_module_version": "1.5.0",
          "state": {
            "_view_name": "StyleView",
            "_model_name": "DescriptionStyleModel",
            "description_width": "",
            "_view_module": "@jupyter-widgets/base",
            "_model_module_version": "1.5.0",
            "_view_count": null,
            "_view_module_version": "1.2.0",
            "_model_module": "@jupyter-widgets/controls"
          }
        },
        "79ec8dec777e44d7b7ea5b7f611931cf": {
          "model_module": "@jupyter-widgets/base",
          "model_name": "LayoutModel",
          "model_module_version": "1.2.0",
          "state": {
            "_view_name": "LayoutView",
            "grid_template_rows": null,
            "right": null,
            "justify_content": null,
            "_view_module": "@jupyter-widgets/base",
            "overflow": null,
            "_model_module_version": "1.2.0",
            "_view_count": null,
            "flex_flow": null,
            "width": null,
            "min_width": null,
            "border": null,
            "align_items": null,
            "bottom": null,
            "_model_module": "@jupyter-widgets/base",
            "top": null,
            "grid_column": null,
            "overflow_y": null,
            "overflow_x": null,
            "grid_auto_flow": null,
            "grid_area": null,
            "grid_template_columns": null,
            "flex": null,
            "_model_name": "LayoutModel",
            "justify_items": null,
            "grid_row": null,
            "max_height": null,
            "align_content": null,
            "visibility": null,
            "align_self": null,
            "height": null,
            "min_height": null,
            "padding": null,
            "grid_auto_rows": null,
            "grid_gap": null,
            "max_width": null,
            "order": null,
            "_view_module_version": "1.2.0",
            "grid_template_areas": null,
            "object_position": null,
            "object_fit": null,
            "grid_auto_columns": null,
            "margin": null,
            "display": null,
            "left": null
          }
        },
        "e94a3dd8e618461e87e7c62b086cac95": {
          "model_module": "@jupyter-widgets/controls",
          "model_name": "ProgressStyleModel",
          "model_module_version": "1.5.0",
          "state": {
            "_view_name": "StyleView",
            "_model_name": "ProgressStyleModel",
            "description_width": "",
            "_view_module": "@jupyter-widgets/base",
            "_model_module_version": "1.5.0",
            "_view_count": null,
            "_view_module_version": "1.2.0",
            "bar_color": null,
            "_model_module": "@jupyter-widgets/controls"
          }
        },
        "5c365f0a61514403ab9c349228e3f420": {
          "model_module": "@jupyter-widgets/base",
          "model_name": "LayoutModel",
          "model_module_version": "1.2.0",
          "state": {
            "_view_name": "LayoutView",
            "grid_template_rows": null,
            "right": null,
            "justify_content": null,
            "_view_module": "@jupyter-widgets/base",
            "overflow": null,
            "_model_module_version": "1.2.0",
            "_view_count": null,
            "flex_flow": null,
            "width": null,
            "min_width": null,
            "border": null,
            "align_items": null,
            "bottom": null,
            "_model_module": "@jupyter-widgets/base",
            "top": null,
            "grid_column": null,
            "overflow_y": null,
            "overflow_x": null,
            "grid_auto_flow": null,
            "grid_area": null,
            "grid_template_columns": null,
            "flex": null,
            "_model_name": "LayoutModel",
            "justify_items": null,
            "grid_row": null,
            "max_height": null,
            "align_content": null,
            "visibility": null,
            "align_self": null,
            "height": null,
            "min_height": null,
            "padding": null,
            "grid_auto_rows": null,
            "grid_gap": null,
            "max_width": null,
            "order": null,
            "_view_module_version": "1.2.0",
            "grid_template_areas": null,
            "object_position": null,
            "object_fit": null,
            "grid_auto_columns": null,
            "margin": null,
            "display": null,
            "left": null
          }
        },
        "d135ddc354564c08b1274a0666a5adfe": {
          "model_module": "@jupyter-widgets/controls",
          "model_name": "VBoxModel",
          "model_module_version": "1.5.0",
          "state": {
            "_view_name": "VBoxView",
            "_dom_classes": [],
            "_model_name": "VBoxModel",
            "_view_module": "@jupyter-widgets/controls",
            "_model_module_version": "1.5.0",
            "_view_count": null,
            "_view_module_version": "1.5.0",
            "box_style": "",
            "layout": "IPY_MODEL_8a475f02ffea4a1ba60fd407c403fdfc",
            "_model_module": "@jupyter-widgets/controls",
            "children": [
              "IPY_MODEL_0ee0152953f249bb8cdf2f32143a8be7",
              "IPY_MODEL_c71cd0ec3d754973b648d18419a48853"
            ]
          }
        },
        "8a475f02ffea4a1ba60fd407c403fdfc": {
          "model_module": "@jupyter-widgets/base",
          "model_name": "LayoutModel",
          "model_module_version": "1.2.0",
          "state": {
            "_view_name": "LayoutView",
            "grid_template_rows": null,
            "right": null,
            "justify_content": null,
            "_view_module": "@jupyter-widgets/base",
            "overflow": null,
            "_model_module_version": "1.2.0",
            "_view_count": null,
            "flex_flow": null,
            "width": null,
            "min_width": null,
            "border": null,
            "align_items": null,
            "bottom": null,
            "_model_module": "@jupyter-widgets/base",
            "top": null,
            "grid_column": null,
            "overflow_y": null,
            "overflow_x": null,
            "grid_auto_flow": null,
            "grid_area": null,
            "grid_template_columns": null,
            "flex": null,
            "_model_name": "LayoutModel",
            "justify_items": null,
            "grid_row": null,
            "max_height": null,
            "align_content": null,
            "visibility": null,
            "align_self": null,
            "height": null,
            "min_height": null,
            "padding": null,
            "grid_auto_rows": null,
            "grid_gap": null,
            "max_width": null,
            "order": null,
            "_view_module_version": "1.2.0",
            "grid_template_areas": null,
            "object_position": null,
            "object_fit": null,
            "grid_auto_columns": null,
            "margin": null,
            "display": null,
            "left": null
          }
        },
        "0ee0152953f249bb8cdf2f32143a8be7": {
          "model_module": "@jupyter-widgets/controls",
          "model_name": "LabelModel",
          "model_module_version": "1.5.0",
          "state": {
            "_view_name": "LabelView",
            "style": "IPY_MODEL_8a87c6c52d764254b1486bd6fe71df79",
            "_dom_classes": [],
            "description": "",
            "_model_name": "LabelModel",
            "placeholder": "​",
            "_view_module": "@jupyter-widgets/controls",
            "_model_module_version": "1.5.0",
            "value": " 0.65MB of 0.65MB uploaded (0.00MB deduped)\r",
            "_view_count": null,
            "_view_module_version": "1.5.0",
            "description_tooltip": null,
            "_model_module": "@jupyter-widgets/controls",
            "layout": "IPY_MODEL_d8c7d7063dc04be4bf2c8deacb8e9df3"
          }
        },
        "c71cd0ec3d754973b648d18419a48853": {
          "model_module": "@jupyter-widgets/controls",
          "model_name": "FloatProgressModel",
          "model_module_version": "1.5.0",
          "state": {
            "_view_name": "ProgressView",
            "style": "IPY_MODEL_7aa6d620d5fc4c74a5a4432afa6f4ba4",
            "_dom_classes": [],
            "description": "",
            "_model_name": "FloatProgressModel",
            "bar_style": "",
            "max": 1,
            "_view_module": "@jupyter-widgets/controls",
            "_model_module_version": "1.5.0",
            "value": 1,
            "_view_count": null,
            "_view_module_version": "1.5.0",
            "orientation": "horizontal",
            "min": 0,
            "description_tooltip": null,
            "_model_module": "@jupyter-widgets/controls",
            "layout": "IPY_MODEL_78fecbfed54d46b885cccc3c10c6b5fa"
          }
        },
        "8a87c6c52d764254b1486bd6fe71df79": {
          "model_module": "@jupyter-widgets/controls",
          "model_name": "DescriptionStyleModel",
          "model_module_version": "1.5.0",
          "state": {
            "_view_name": "StyleView",
            "_model_name": "DescriptionStyleModel",
            "description_width": "",
            "_view_module": "@jupyter-widgets/base",
            "_model_module_version": "1.5.0",
            "_view_count": null,
            "_view_module_version": "1.2.0",
            "_model_module": "@jupyter-widgets/controls"
          }
        },
        "d8c7d7063dc04be4bf2c8deacb8e9df3": {
          "model_module": "@jupyter-widgets/base",
          "model_name": "LayoutModel",
          "model_module_version": "1.2.0",
          "state": {
            "_view_name": "LayoutView",
            "grid_template_rows": null,
            "right": null,
            "justify_content": null,
            "_view_module": "@jupyter-widgets/base",
            "overflow": null,
            "_model_module_version": "1.2.0",
            "_view_count": null,
            "flex_flow": null,
            "width": null,
            "min_width": null,
            "border": null,
            "align_items": null,
            "bottom": null,
            "_model_module": "@jupyter-widgets/base",
            "top": null,
            "grid_column": null,
            "overflow_y": null,
            "overflow_x": null,
            "grid_auto_flow": null,
            "grid_area": null,
            "grid_template_columns": null,
            "flex": null,
            "_model_name": "LayoutModel",
            "justify_items": null,
            "grid_row": null,
            "max_height": null,
            "align_content": null,
            "visibility": null,
            "align_self": null,
            "height": null,
            "min_height": null,
            "padding": null,
            "grid_auto_rows": null,
            "grid_gap": null,
            "max_width": null,
            "order": null,
            "_view_module_version": "1.2.0",
            "grid_template_areas": null,
            "object_position": null,
            "object_fit": null,
            "grid_auto_columns": null,
            "margin": null,
            "display": null,
            "left": null
          }
        },
        "7aa6d620d5fc4c74a5a4432afa6f4ba4": {
          "model_module": "@jupyter-widgets/controls",
          "model_name": "ProgressStyleModel",
          "model_module_version": "1.5.0",
          "state": {
            "_view_name": "StyleView",
            "_model_name": "ProgressStyleModel",
            "description_width": "",
            "_view_module": "@jupyter-widgets/base",
            "_model_module_version": "1.5.0",
            "_view_count": null,
            "_view_module_version": "1.2.0",
            "bar_color": null,
            "_model_module": "@jupyter-widgets/controls"
          }
        },
        "78fecbfed54d46b885cccc3c10c6b5fa": {
          "model_module": "@jupyter-widgets/base",
          "model_name": "LayoutModel",
          "model_module_version": "1.2.0",
          "state": {
            "_view_name": "LayoutView",
            "grid_template_rows": null,
            "right": null,
            "justify_content": null,
            "_view_module": "@jupyter-widgets/base",
            "overflow": null,
            "_model_module_version": "1.2.0",
            "_view_count": null,
            "flex_flow": null,
            "width": null,
            "min_width": null,
            "border": null,
            "align_items": null,
            "bottom": null,
            "_model_module": "@jupyter-widgets/base",
            "top": null,
            "grid_column": null,
            "overflow_y": null,
            "overflow_x": null,
            "grid_auto_flow": null,
            "grid_area": null,
            "grid_template_columns": null,
            "flex": null,
            "_model_name": "LayoutModel",
            "justify_items": null,
            "grid_row": null,
            "max_height": null,
            "align_content": null,
            "visibility": null,
            "align_self": null,
            "height": null,
            "min_height": null,
            "padding": null,
            "grid_auto_rows": null,
            "grid_gap": null,
            "max_width": null,
            "order": null,
            "_view_module_version": "1.2.0",
            "grid_template_areas": null,
            "object_position": null,
            "object_fit": null,
            "grid_auto_columns": null,
            "margin": null,
            "display": null,
            "left": null
          }
        },
        "c3178d8062f34859826d1755068676d8": {
          "model_module": "@jupyter-widgets/controls",
          "model_name": "VBoxModel",
          "model_module_version": "1.5.0",
          "state": {
            "_view_name": "VBoxView",
            "_dom_classes": [],
            "_model_name": "VBoxModel",
            "_view_module": "@jupyter-widgets/controls",
            "_model_module_version": "1.5.0",
            "_view_count": null,
            "_view_module_version": "1.5.0",
            "box_style": "",
            "layout": "IPY_MODEL_08f5ddbc81c241c78c2b54245a3ca954",
            "_model_module": "@jupyter-widgets/controls",
            "children": [
              "IPY_MODEL_629cd4a48b6043be89abb403a8b95fb8",
              "IPY_MODEL_54bba79044e647bcbf6db23056ba12a6"
            ]
          }
        },
        "08f5ddbc81c241c78c2b54245a3ca954": {
          "model_module": "@jupyter-widgets/base",
          "model_name": "LayoutModel",
          "model_module_version": "1.2.0",
          "state": {
            "_view_name": "LayoutView",
            "grid_template_rows": null,
            "right": null,
            "justify_content": null,
            "_view_module": "@jupyter-widgets/base",
            "overflow": null,
            "_model_module_version": "1.2.0",
            "_view_count": null,
            "flex_flow": null,
            "width": null,
            "min_width": null,
            "border": null,
            "align_items": null,
            "bottom": null,
            "_model_module": "@jupyter-widgets/base",
            "top": null,
            "grid_column": null,
            "overflow_y": null,
            "overflow_x": null,
            "grid_auto_flow": null,
            "grid_area": null,
            "grid_template_columns": null,
            "flex": null,
            "_model_name": "LayoutModel",
            "justify_items": null,
            "grid_row": null,
            "max_height": null,
            "align_content": null,
            "visibility": null,
            "align_self": null,
            "height": null,
            "min_height": null,
            "padding": null,
            "grid_auto_rows": null,
            "grid_gap": null,
            "max_width": null,
            "order": null,
            "_view_module_version": "1.2.0",
            "grid_template_areas": null,
            "object_position": null,
            "object_fit": null,
            "grid_auto_columns": null,
            "margin": null,
            "display": null,
            "left": null
          }
        },
        "629cd4a48b6043be89abb403a8b95fb8": {
          "model_module": "@jupyter-widgets/controls",
          "model_name": "LabelModel",
          "model_module_version": "1.5.0",
          "state": {
            "_view_name": "LabelView",
            "style": "IPY_MODEL_b54baa8fbc1940c182fccf52eaa4dce4",
            "_dom_classes": [],
            "description": "",
            "_model_name": "LabelModel",
            "placeholder": "​",
            "_view_module": "@jupyter-widgets/controls",
            "_model_module_version": "1.5.0",
            "value": " 0.01MB of 0.01MB uploaded (0.00MB deduped)\r",
            "_view_count": null,
            "_view_module_version": "1.5.0",
            "description_tooltip": null,
            "_model_module": "@jupyter-widgets/controls",
            "layout": "IPY_MODEL_f8d02594a66943b28b94d4bc67dacd0d"
          }
        },
        "54bba79044e647bcbf6db23056ba12a6": {
          "model_module": "@jupyter-widgets/controls",
          "model_name": "FloatProgressModel",
          "model_module_version": "1.5.0",
          "state": {
            "_view_name": "ProgressView",
            "style": "IPY_MODEL_22b74a3c858d4544a6e27453fc12e79c",
            "_dom_classes": [],
            "description": "",
            "_model_name": "FloatProgressModel",
            "bar_style": "",
            "max": 1,
            "_view_module": "@jupyter-widgets/controls",
            "_model_module_version": "1.5.0",
            "value": 1,
            "_view_count": null,
            "_view_module_version": "1.5.0",
            "orientation": "horizontal",
            "min": 0,
            "description_tooltip": null,
            "_model_module": "@jupyter-widgets/controls",
            "layout": "IPY_MODEL_e36be4f25e98449dac6589a2a2b43e69"
          }
        },
        "b54baa8fbc1940c182fccf52eaa4dce4": {
          "model_module": "@jupyter-widgets/controls",
          "model_name": "DescriptionStyleModel",
          "model_module_version": "1.5.0",
          "state": {
            "_view_name": "StyleView",
            "_model_name": "DescriptionStyleModel",
            "description_width": "",
            "_view_module": "@jupyter-widgets/base",
            "_model_module_version": "1.5.0",
            "_view_count": null,
            "_view_module_version": "1.2.0",
            "_model_module": "@jupyter-widgets/controls"
          }
        },
        "f8d02594a66943b28b94d4bc67dacd0d": {
          "model_module": "@jupyter-widgets/base",
          "model_name": "LayoutModel",
          "model_module_version": "1.2.0",
          "state": {
            "_view_name": "LayoutView",
            "grid_template_rows": null,
            "right": null,
            "justify_content": null,
            "_view_module": "@jupyter-widgets/base",
            "overflow": null,
            "_model_module_version": "1.2.0",
            "_view_count": null,
            "flex_flow": null,
            "width": null,
            "min_width": null,
            "border": null,
            "align_items": null,
            "bottom": null,
            "_model_module": "@jupyter-widgets/base",
            "top": null,
            "grid_column": null,
            "overflow_y": null,
            "overflow_x": null,
            "grid_auto_flow": null,
            "grid_area": null,
            "grid_template_columns": null,
            "flex": null,
            "_model_name": "LayoutModel",
            "justify_items": null,
            "grid_row": null,
            "max_height": null,
            "align_content": null,
            "visibility": null,
            "align_self": null,
            "height": null,
            "min_height": null,
            "padding": null,
            "grid_auto_rows": null,
            "grid_gap": null,
            "max_width": null,
            "order": null,
            "_view_module_version": "1.2.0",
            "grid_template_areas": null,
            "object_position": null,
            "object_fit": null,
            "grid_auto_columns": null,
            "margin": null,
            "display": null,
            "left": null
          }
        },
        "22b74a3c858d4544a6e27453fc12e79c": {
          "model_module": "@jupyter-widgets/controls",
          "model_name": "ProgressStyleModel",
          "model_module_version": "1.5.0",
          "state": {
            "_view_name": "StyleView",
            "_model_name": "ProgressStyleModel",
            "description_width": "",
            "_view_module": "@jupyter-widgets/base",
            "_model_module_version": "1.5.0",
            "_view_count": null,
            "_view_module_version": "1.2.0",
            "bar_color": null,
            "_model_module": "@jupyter-widgets/controls"
          }
        },
        "e36be4f25e98449dac6589a2a2b43e69": {
          "model_module": "@jupyter-widgets/base",
          "model_name": "LayoutModel",
          "model_module_version": "1.2.0",
          "state": {
            "_view_name": "LayoutView",
            "grid_template_rows": null,
            "right": null,
            "justify_content": null,
            "_view_module": "@jupyter-widgets/base",
            "overflow": null,
            "_model_module_version": "1.2.0",
            "_view_count": null,
            "flex_flow": null,
            "width": null,
            "min_width": null,
            "border": null,
            "align_items": null,
            "bottom": null,
            "_model_module": "@jupyter-widgets/base",
            "top": null,
            "grid_column": null,
            "overflow_y": null,
            "overflow_x": null,
            "grid_auto_flow": null,
            "grid_area": null,
            "grid_template_columns": null,
            "flex": null,
            "_model_name": "LayoutModel",
            "justify_items": null,
            "grid_row": null,
            "max_height": null,
            "align_content": null,
            "visibility": null,
            "align_self": null,
            "height": null,
            "min_height": null,
            "padding": null,
            "grid_auto_rows": null,
            "grid_gap": null,
            "max_width": null,
            "order": null,
            "_view_module_version": "1.2.0",
            "grid_template_areas": null,
            "object_position": null,
            "object_fit": null,
            "grid_auto_columns": null,
            "margin": null,
            "display": null,
            "left": null
          }
        },
        "007957a463784a24a931db385bb20ab9": {
          "model_module": "@jupyter-widgets/controls",
          "model_name": "VBoxModel",
          "model_module_version": "1.5.0",
          "state": {
            "_view_name": "VBoxView",
            "_dom_classes": [],
            "_model_name": "VBoxModel",
            "_view_module": "@jupyter-widgets/controls",
            "_model_module_version": "1.5.0",
            "_view_count": null,
            "_view_module_version": "1.5.0",
            "box_style": "",
            "layout": "IPY_MODEL_5884f1f43d384ec6a18b5d4ef9ba5e11",
            "_model_module": "@jupyter-widgets/controls",
            "children": [
              "IPY_MODEL_0c5384726e624b058e69a1cbc40cd5b2",
              "IPY_MODEL_ae5a66feb248473ca5c1abba7dd092c9"
            ]
          }
        },
        "5884f1f43d384ec6a18b5d4ef9ba5e11": {
          "model_module": "@jupyter-widgets/base",
          "model_name": "LayoutModel",
          "model_module_version": "1.2.0",
          "state": {
            "_view_name": "LayoutView",
            "grid_template_rows": null,
            "right": null,
            "justify_content": null,
            "_view_module": "@jupyter-widgets/base",
            "overflow": null,
            "_model_module_version": "1.2.0",
            "_view_count": null,
            "flex_flow": null,
            "width": null,
            "min_width": null,
            "border": null,
            "align_items": null,
            "bottom": null,
            "_model_module": "@jupyter-widgets/base",
            "top": null,
            "grid_column": null,
            "overflow_y": null,
            "overflow_x": null,
            "grid_auto_flow": null,
            "grid_area": null,
            "grid_template_columns": null,
            "flex": null,
            "_model_name": "LayoutModel",
            "justify_items": null,
            "grid_row": null,
            "max_height": null,
            "align_content": null,
            "visibility": null,
            "align_self": null,
            "height": null,
            "min_height": null,
            "padding": null,
            "grid_auto_rows": null,
            "grid_gap": null,
            "max_width": null,
            "order": null,
            "_view_module_version": "1.2.0",
            "grid_template_areas": null,
            "object_position": null,
            "object_fit": null,
            "grid_auto_columns": null,
            "margin": null,
            "display": null,
            "left": null
          }
        },
        "0c5384726e624b058e69a1cbc40cd5b2": {
          "model_module": "@jupyter-widgets/controls",
          "model_name": "LabelModel",
          "model_module_version": "1.5.0",
          "state": {
            "_view_name": "LabelView",
            "style": "IPY_MODEL_40a5aef12ec44007b48d30fe86101550",
            "_dom_classes": [],
            "description": "",
            "_model_name": "LabelModel",
            "placeholder": "​",
            "_view_module": "@jupyter-widgets/controls",
            "_model_module_version": "1.5.0",
            "value": " 0.65MB of 0.65MB uploaded (0.00MB deduped)\r",
            "_view_count": null,
            "_view_module_version": "1.5.0",
            "description_tooltip": null,
            "_model_module": "@jupyter-widgets/controls",
            "layout": "IPY_MODEL_3601ca19946d4de0a4b9d011e20162ce"
          }
        },
        "ae5a66feb248473ca5c1abba7dd092c9": {
          "model_module": "@jupyter-widgets/controls",
          "model_name": "FloatProgressModel",
          "model_module_version": "1.5.0",
          "state": {
            "_view_name": "ProgressView",
            "style": "IPY_MODEL_ad3bc830896549e584a7454393d7017e",
            "_dom_classes": [],
            "description": "",
            "_model_name": "FloatProgressModel",
            "bar_style": "",
            "max": 1,
            "_view_module": "@jupyter-widgets/controls",
            "_model_module_version": "1.5.0",
            "value": 1,
            "_view_count": null,
            "_view_module_version": "1.5.0",
            "orientation": "horizontal",
            "min": 0,
            "description_tooltip": null,
            "_model_module": "@jupyter-widgets/controls",
            "layout": "IPY_MODEL_b564c5cd75654e3b990eea83ebd21f4d"
          }
        },
        "40a5aef12ec44007b48d30fe86101550": {
          "model_module": "@jupyter-widgets/controls",
          "model_name": "DescriptionStyleModel",
          "model_module_version": "1.5.0",
          "state": {
            "_view_name": "StyleView",
            "_model_name": "DescriptionStyleModel",
            "description_width": "",
            "_view_module": "@jupyter-widgets/base",
            "_model_module_version": "1.5.0",
            "_view_count": null,
            "_view_module_version": "1.2.0",
            "_model_module": "@jupyter-widgets/controls"
          }
        },
        "3601ca19946d4de0a4b9d011e20162ce": {
          "model_module": "@jupyter-widgets/base",
          "model_name": "LayoutModel",
          "model_module_version": "1.2.0",
          "state": {
            "_view_name": "LayoutView",
            "grid_template_rows": null,
            "right": null,
            "justify_content": null,
            "_view_module": "@jupyter-widgets/base",
            "overflow": null,
            "_model_module_version": "1.2.0",
            "_view_count": null,
            "flex_flow": null,
            "width": null,
            "min_width": null,
            "border": null,
            "align_items": null,
            "bottom": null,
            "_model_module": "@jupyter-widgets/base",
            "top": null,
            "grid_column": null,
            "overflow_y": null,
            "overflow_x": null,
            "grid_auto_flow": null,
            "grid_area": null,
            "grid_template_columns": null,
            "flex": null,
            "_model_name": "LayoutModel",
            "justify_items": null,
            "grid_row": null,
            "max_height": null,
            "align_content": null,
            "visibility": null,
            "align_self": null,
            "height": null,
            "min_height": null,
            "padding": null,
            "grid_auto_rows": null,
            "grid_gap": null,
            "max_width": null,
            "order": null,
            "_view_module_version": "1.2.0",
            "grid_template_areas": null,
            "object_position": null,
            "object_fit": null,
            "grid_auto_columns": null,
            "margin": null,
            "display": null,
            "left": null
          }
        },
        "ad3bc830896549e584a7454393d7017e": {
          "model_module": "@jupyter-widgets/controls",
          "model_name": "ProgressStyleModel",
          "model_module_version": "1.5.0",
          "state": {
            "_view_name": "StyleView",
            "_model_name": "ProgressStyleModel",
            "description_width": "",
            "_view_module": "@jupyter-widgets/base",
            "_model_module_version": "1.5.0",
            "_view_count": null,
            "_view_module_version": "1.2.0",
            "bar_color": null,
            "_model_module": "@jupyter-widgets/controls"
          }
        },
        "b564c5cd75654e3b990eea83ebd21f4d": {
          "model_module": "@jupyter-widgets/base",
          "model_name": "LayoutModel",
          "model_module_version": "1.2.0",
          "state": {
            "_view_name": "LayoutView",
            "grid_template_rows": null,
            "right": null,
            "justify_content": null,
            "_view_module": "@jupyter-widgets/base",
            "overflow": null,
            "_model_module_version": "1.2.0",
            "_view_count": null,
            "flex_flow": null,
            "width": null,
            "min_width": null,
            "border": null,
            "align_items": null,
            "bottom": null,
            "_model_module": "@jupyter-widgets/base",
            "top": null,
            "grid_column": null,
            "overflow_y": null,
            "overflow_x": null,
            "grid_auto_flow": null,
            "grid_area": null,
            "grid_template_columns": null,
            "flex": null,
            "_model_name": "LayoutModel",
            "justify_items": null,
            "grid_row": null,
            "max_height": null,
            "align_content": null,
            "visibility": null,
            "align_self": null,
            "height": null,
            "min_height": null,
            "padding": null,
            "grid_auto_rows": null,
            "grid_gap": null,
            "max_width": null,
            "order": null,
            "_view_module_version": "1.2.0",
            "grid_template_areas": null,
            "object_position": null,
            "object_fit": null,
            "grid_auto_columns": null,
            "margin": null,
            "display": null,
            "left": null
          }
        },
        "383d905b5ea04ff9b9a8a5f93dd5365d": {
          "model_module": "@jupyter-widgets/controls",
          "model_name": "VBoxModel",
          "model_module_version": "1.5.0",
          "state": {
            "_view_name": "VBoxView",
            "_dom_classes": [],
            "_model_name": "VBoxModel",
            "_view_module": "@jupyter-widgets/controls",
            "_model_module_version": "1.5.0",
            "_view_count": null,
            "_view_module_version": "1.5.0",
            "box_style": "",
            "layout": "IPY_MODEL_a5abe004184540b18377dbe5e46d305d",
            "_model_module": "@jupyter-widgets/controls",
            "children": [
              "IPY_MODEL_727cf05d597342cf967fc1944941e2f2",
              "IPY_MODEL_d94eee64c67445b8ac498ebe42cf215d"
            ]
          }
        },
        "a5abe004184540b18377dbe5e46d305d": {
          "model_module": "@jupyter-widgets/base",
          "model_name": "LayoutModel",
          "model_module_version": "1.2.0",
          "state": {
            "_view_name": "LayoutView",
            "grid_template_rows": null,
            "right": null,
            "justify_content": null,
            "_view_module": "@jupyter-widgets/base",
            "overflow": null,
            "_model_module_version": "1.2.0",
            "_view_count": null,
            "flex_flow": null,
            "width": null,
            "min_width": null,
            "border": null,
            "align_items": null,
            "bottom": null,
            "_model_module": "@jupyter-widgets/base",
            "top": null,
            "grid_column": null,
            "overflow_y": null,
            "overflow_x": null,
            "grid_auto_flow": null,
            "grid_area": null,
            "grid_template_columns": null,
            "flex": null,
            "_model_name": "LayoutModel",
            "justify_items": null,
            "grid_row": null,
            "max_height": null,
            "align_content": null,
            "visibility": null,
            "align_self": null,
            "height": null,
            "min_height": null,
            "padding": null,
            "grid_auto_rows": null,
            "grid_gap": null,
            "max_width": null,
            "order": null,
            "_view_module_version": "1.2.0",
            "grid_template_areas": null,
            "object_position": null,
            "object_fit": null,
            "grid_auto_columns": null,
            "margin": null,
            "display": null,
            "left": null
          }
        },
        "727cf05d597342cf967fc1944941e2f2": {
          "model_module": "@jupyter-widgets/controls",
          "model_name": "LabelModel",
          "model_module_version": "1.5.0",
          "state": {
            "_view_name": "LabelView",
            "style": "IPY_MODEL_c8c4cc173cf54562976f2ff885223b85",
            "_dom_classes": [],
            "description": "",
            "_model_name": "LabelModel",
            "placeholder": "​",
            "_view_module": "@jupyter-widgets/controls",
            "_model_module_version": "1.5.0",
            "value": " 0.01MB of 0.01MB uploaded (0.00MB deduped)\r",
            "_view_count": null,
            "_view_module_version": "1.5.0",
            "description_tooltip": null,
            "_model_module": "@jupyter-widgets/controls",
            "layout": "IPY_MODEL_7f7c1a2f42f941a5875a257166683191"
          }
        },
        "d94eee64c67445b8ac498ebe42cf215d": {
          "model_module": "@jupyter-widgets/controls",
          "model_name": "FloatProgressModel",
          "model_module_version": "1.5.0",
          "state": {
            "_view_name": "ProgressView",
            "style": "IPY_MODEL_0142d1e6a5ba4b60b4662d1287efc142",
            "_dom_classes": [],
            "description": "",
            "_model_name": "FloatProgressModel",
            "bar_style": "",
            "max": 1,
            "_view_module": "@jupyter-widgets/controls",
            "_model_module_version": "1.5.0",
            "value": 1,
            "_view_count": null,
            "_view_module_version": "1.5.0",
            "orientation": "horizontal",
            "min": 0,
            "description_tooltip": null,
            "_model_module": "@jupyter-widgets/controls",
            "layout": "IPY_MODEL_2d5f4f093bbc48f2835f40df19d6bc1a"
          }
        },
        "c8c4cc173cf54562976f2ff885223b85": {
          "model_module": "@jupyter-widgets/controls",
          "model_name": "DescriptionStyleModel",
          "model_module_version": "1.5.0",
          "state": {
            "_view_name": "StyleView",
            "_model_name": "DescriptionStyleModel",
            "description_width": "",
            "_view_module": "@jupyter-widgets/base",
            "_model_module_version": "1.5.0",
            "_view_count": null,
            "_view_module_version": "1.2.0",
            "_model_module": "@jupyter-widgets/controls"
          }
        },
        "7f7c1a2f42f941a5875a257166683191": {
          "model_module": "@jupyter-widgets/base",
          "model_name": "LayoutModel",
          "model_module_version": "1.2.0",
          "state": {
            "_view_name": "LayoutView",
            "grid_template_rows": null,
            "right": null,
            "justify_content": null,
            "_view_module": "@jupyter-widgets/base",
            "overflow": null,
            "_model_module_version": "1.2.0",
            "_view_count": null,
            "flex_flow": null,
            "width": null,
            "min_width": null,
            "border": null,
            "align_items": null,
            "bottom": null,
            "_model_module": "@jupyter-widgets/base",
            "top": null,
            "grid_column": null,
            "overflow_y": null,
            "overflow_x": null,
            "grid_auto_flow": null,
            "grid_area": null,
            "grid_template_columns": null,
            "flex": null,
            "_model_name": "LayoutModel",
            "justify_items": null,
            "grid_row": null,
            "max_height": null,
            "align_content": null,
            "visibility": null,
            "align_self": null,
            "height": null,
            "min_height": null,
            "padding": null,
            "grid_auto_rows": null,
            "grid_gap": null,
            "max_width": null,
            "order": null,
            "_view_module_version": "1.2.0",
            "grid_template_areas": null,
            "object_position": null,
            "object_fit": null,
            "grid_auto_columns": null,
            "margin": null,
            "display": null,
            "left": null
          }
        },
        "0142d1e6a5ba4b60b4662d1287efc142": {
          "model_module": "@jupyter-widgets/controls",
          "model_name": "ProgressStyleModel",
          "model_module_version": "1.5.0",
          "state": {
            "_view_name": "StyleView",
            "_model_name": "ProgressStyleModel",
            "description_width": "",
            "_view_module": "@jupyter-widgets/base",
            "_model_module_version": "1.5.0",
            "_view_count": null,
            "_view_module_version": "1.2.0",
            "bar_color": null,
            "_model_module": "@jupyter-widgets/controls"
          }
        },
        "2d5f4f093bbc48f2835f40df19d6bc1a": {
          "model_module": "@jupyter-widgets/base",
          "model_name": "LayoutModel",
          "model_module_version": "1.2.0",
          "state": {
            "_view_name": "LayoutView",
            "grid_template_rows": null,
            "right": null,
            "justify_content": null,
            "_view_module": "@jupyter-widgets/base",
            "overflow": null,
            "_model_module_version": "1.2.0",
            "_view_count": null,
            "flex_flow": null,
            "width": null,
            "min_width": null,
            "border": null,
            "align_items": null,
            "bottom": null,
            "_model_module": "@jupyter-widgets/base",
            "top": null,
            "grid_column": null,
            "overflow_y": null,
            "overflow_x": null,
            "grid_auto_flow": null,
            "grid_area": null,
            "grid_template_columns": null,
            "flex": null,
            "_model_name": "LayoutModel",
            "justify_items": null,
            "grid_row": null,
            "max_height": null,
            "align_content": null,
            "visibility": null,
            "align_self": null,
            "height": null,
            "min_height": null,
            "padding": null,
            "grid_auto_rows": null,
            "grid_gap": null,
            "max_width": null,
            "order": null,
            "_view_module_version": "1.2.0",
            "grid_template_areas": null,
            "object_position": null,
            "object_fit": null,
            "grid_auto_columns": null,
            "margin": null,
            "display": null,
            "left": null
          }
        }
      }
    }
  },
  "cells": [
    {
      "cell_type": "code",
      "metadata": {
        "scrolled": false,
        "id": "ct7C_fXaC3s4"
      },
      "source": [
        "%pip install -q wandb"
      ],
      "execution_count": null,
      "outputs": []
    },
    {
      "cell_type": "code",
      "metadata": {
        "id": "wCWDZbQ4C3s6"
      },
      "source": [
        "# %load train_lib.py\n",
        "\n",
        "def train():\n",
        "    import numpy as np\n",
        "    import tensorflow as tf\n",
        "    import wandb\n",
        "    config_defaults = {\n",
        "        'layer1_size': 128,\n",
        "        'dropout_rate':0.2,\n",
        "        'layer1_activation':'relu',\n",
        "        'optimizer':'Adam',\n",
        "        'learning_rate':0.01\n",
        "    }\n",
        "    wandb.init(project='sweep-practice',config=config_defaults, magic=True)\n",
        "    config=wandb.config\n",
        "\n",
        "    fashion_mnist = tf.keras.datasets.fashion_mnist\n",
        "    (train_images, train_labels), (test_images, test_labels) = fashion_mnist.load_data()\n",
        "    class_names = ['T-shirt/top', 'Trouser', 'Pullover', 'Dress', 'Coat',\n",
        "                   'Sandal', 'Shirt', 'Sneaker', 'Bag', 'Ankle boot']\n",
        "\n",
        "    train_images.shape\n",
        "    train_images = train_images / 255.0\n",
        "    test_images = test_images / 255.0\n",
        "\n",
        "    model = tf.keras.Sequential([\n",
        "        tf.keras.layers.Flatten(input_shape=(28, 28)),\n",
        "        tf.keras.layers.Dense(config.layer1_size, activation=config.layer1_activation),\n",
        "        tf.keras.layers.Dropout(config.dropout_rate),\n",
        "        tf.keras.layers.Dense(10, activation=tf.nn.softmax)\n",
        "    ])\n",
        "    \n",
        "    if config.optimizers =='rmsprop':\n",
        "        opt=tf.keras.optimizers.RMSprop(learning_rate=config.learning_rate)\n",
        "    else :\n",
        "        opt=tf.keras.optimizer.Adam(learning_rate=config.learning_rate)\n",
        "    model.compile(optimizer='adam',\n",
        "                  loss='sparse_categorical_crossentropy',\n",
        "                  metrics=['accuracy'])\n",
        "    \n",
        "    model.fit(train_images, train_labels, epochs=5,\n",
        "                  validation_data=(test_images, test_labels))\n"
      ],
      "execution_count": null,
      "outputs": []
    },
    {
      "cell_type": "code",
      "metadata": {
        "id": "03RRwV9CC3s7"
      },
      "source": [
        "sweep_config = {\n",
        "    'method': 'grid',\n",
        "    'parameters': {\n",
        "        'layer1_size': {\n",
        "            'values': [32, 64, 96, 128]\n",
        "        },\n",
        "        'layer1_activation':{\n",
        "            'values':['relu','sigmoid']\n",
        "        },\n",
        "        'dropout_rate':{\n",
        "            'values':[0.1,0.2,0.3,0.4,0.5]\n",
        "        },\n",
        "        'optimizers':{\n",
        "            'values':['adam','rmsprop']\n",
        "    },\n",
        "    'learning_rate':{\n",
        "        'values':[0.1,0.01,0.001]\n",
        "        }\n",
        "    }\n",
        "}"
      ],
      "execution_count": null,
      "outputs": []
    },
    {
      "cell_type": "code",
      "metadata": {
        "colab": {
          "base_uri": "https://localhost:8080/"
        },
        "id": "PjORHjnKC3s8",
        "outputId": "9bf06f7a-2242-4cdd-f018-e0c69d2c901d"
      },
      "source": [
        "import wandb\n",
        "sweep_id = wandb.sweep(sweep_config,project='sweep-practice')"
      ],
      "execution_count": null,
      "outputs": [
        {
          "output_type": "stream",
          "name": "stdout",
          "text": [
            "Create sweep with ID: ovtioqch\n",
            "Sweep URL: https://wandb.ai/knu/sweep-practice/sweeps/ovtioqch\n"
          ]
        }
      ]
    },
    {
      "cell_type": "code",
      "metadata": {
        "colab": {
          "base_uri": "https://localhost:8080/",
          "height": 1000,
          "referenced_widgets": [
            "6d746e0f73a6477faaeab67ba895e4ca",
            "4279f68fafd94ea4acdfb7d960c150b9",
            "0f2998a1b0604150b00a2d599b0754e2",
            "2e6febff9abf43328d489ca58a838ef9",
            "6628e2df18824942b7fd8012979c3722",
            "0dc1a98d311c42dc902c5a9cceca8ac1",
            "950186955a7a46c28f17cfcbfe24bb10",
            "b713e90b2f1e472597320cddae3bcc8c",
            "2d2f919f6b1a49229a166b31fac5d8bf",
            "bb737ac6cc3d4a67a6ac4d06fcb83c24",
            "7842ed9d50bb44339bd0f5adf83e9f28",
            "f32deb90f6b249dd9aaa0d9f492395b8",
            "9e3b0789bf5a4f2ab7936bad4309cb22",
            "425ff37513084551a82034d639cd7a77",
            "98ec4ae7d12e4390a6f68d0e50b0dd8e",
            "c542c390d3bd4736b454a285c03576c5",
            "1191c6db46f44e45ab521c2e3feb1b45",
            "6fd664ac3b654aa3af0a72436984d6bf",
            "75a7b19777484aa1b874faf35480bf51",
            "b38dadeb7a9d4d3493c216b1061fb168",
            "420b0bb1747a433db3a383ab1e72abeb",
            "6f68af0efb32431bbfd49cad06cae153",
            "3f86b64a24824ffa8121ebc90f953810",
            "34101ad7eaa74be993c2f63a549a149f",
            "b157357cdb904b1a981badff3e979a7d",
            "fd73ffa383e84c678df7988df48fb8dd",
            "8ed505a7689f4aeeb09e14cc653a494f",
            "6864164fa6dd4558b78cdb9a8e3ca7ff",
            "2449e12e7dc24c91a44e336abcad1885",
            "c0d96ce9e56d4245b76197f913e861b6",
            "b268cd6a488a4ee2a1a7de4f442ac771",
            "6c918f9a363241d58af013fa6affa168",
            "01d0df5194ec4b4fa38ba29cf3a38df7",
            "f99c826bc36f4ade93ad9f0af0565072",
            "a3f5c0c1053a4a2fba39cdf5103b0473",
            "387a60de00ab44c2976509bcfcfb6135",
            "a97a61213f724efcbfaad828fb7d8555",
            "766cb007ce964156850f47c105d9b946",
            "4442891929e449bb9b7799b58c0d6f27",
            "c7d46c14976846c89f78a739dea2c4cd",
            "801f7fdef7df42f8ba149f2bafe3ff20",
            "8763f36c664c41859edc4e8bc04cb024",
            "ddeea4c4f1ca46bfbf6892cd3d89f586",
            "678345a1e14b4d2aa5a3b501c37cd4ed",
            "bba73c8448d6466bb821bd8c1edd4e2f",
            "e10d7c71a1ae4018b7b7ea9d399e7ed0",
            "b60391cf2893405b98bb5ed5d69aaf68",
            "ecfa084819ae4122923d354adfe15c6f",
            "5497c7325b9647e8be1da6cd8fa66118",
            "81f3bf484d7544a3bb2990f0ad079b8a",
            "c36a906a12e647929ed05a96d4571901",
            "622bcbd84b0c4f81bfb871055481f808",
            "c79ba880ca64402db380608f4cd538eb",
            "77d82bdbed704c1daeb91c2d2946533a",
            "c2c50ddc4569491c98dfaeed87c6718d",
            "566e0f04fbe64d52a74b31847155185a",
            "573c97bd05d743a3bbded002ae7ca660",
            "8364663dc2454f4b90229fca5b24bf44",
            "206008fb78bc416fa7de2fc4f0ed629d",
            "6034797254594f13bcc83ebd566334fb",
            "294eb0bc4e6c44bfbc56dbae0a1d4751",
            "08c2945c23ed4a2f9f0813468eb2aa7a",
            "11f2a020c17a45ed8b3eb89401dd187c",
            "2c8bb44d556a48d68fa4c504672c84a3",
            "9aab8f32fd8c4a93a8f85c4ff97549b3",
            "838631816e3241799b800a1a201699cf",
            "9d43a4071ea1437fabc427a7c5ce88ef",
            "3e766a66c1ad474a92cf19de42aec5c4",
            "a61877b902604ee2ba37de359e18b8eb",
            "6fef094f9f3f419ba1f1bc4c7d54ca0b",
            "9db4e53f5c6c4f93b1edc1eb00478ba8",
            "c72a8f0266d049ef83f04a4564fc0c24",
            "e94652159ccf40e19b4d8bd2f7d13cbd",
            "4224ef255a1845b0a4c7262854f249d2",
            "ea7e040926f2411b87b9f4d61228841a",
            "e97bcc10cd294f75ae66a1b1db88f428",
            "3009c95c76c14cb28ff24f43e8c0f70b",
            "0ed4e08329954d448a46ed2e773f005d",
            "8c9cd040397a4d1081759d0051d43c48",
            "a613d977505a4a0ca806de0f91174511",
            "f4ffb696e34b425ab3aedde02ffe8cc8",
            "1ecb7e6afff7425e97517bbaf978f49d",
            "3c461d4c4e8a4b55abdf9c0f5ed8f29e",
            "662897e216704ca3a8ea09dcbc457445",
            "8a1357aeca5a4ad5b70cebe05b278ddd",
            "ca0bc9d714b9458ca721126b5c6e85b9",
            "e12965e2b113436ea411c9fb1f9aeb4b",
            "c213fea555de4111a35c28a0761a7efa",
            "b4f67b09ec3040e993e4fd654e34a5c6",
            "43ebfac553e741eeb41e2aeb2bca8acf",
            "19b158da4baa4d81963ba663a3bcfcae",
            "fdcdac992c844d1ba2fc2e3dd96b8036",
            "7b49efea28b54e58881e22824626641b",
            "aec65116cc3046b8b9d60544b28b57a3",
            "bbb1f919606348f09317f07f38f82df1",
            "2e8d548114d541a98cb61b93b8b81736",
            "5bdbbcad7af746a8a3c2efa654254a69",
            "f326a219f1774ea4811454d06753d1bd",
            "666484ca8fb14dd8b0e3cae79fc671f9",
            "23ea0744c9fe4523bbb87bbf908cc557",
            "d0dd55c7c6794c719e1195a02661779c",
            "910e3b538aa64e9b8d6ab94d60b702e3",
            "f5c330bdd92c40f688c96963eee5ab01",
            "1d6dd54af1394137a960282c6a07f5ad",
            "4d907d41ba8747df8f8bb419a77e7a79",
            "cd5e0cd3d21c4ed89a9a552f812d02f7",
            "7c681057549a4f8998350f41c364c084",
            "bbb07159bcdc4a4e8b93a2f85e219bc8",
            "25edefa7aace4a8eac734ae85f67b162",
            "95f2675483dc48faa846de0b624e78cc",
            "bafb36c576f948a0a60d3b6c02377002",
            "77c0fe7543c943cf97c087d0132987da",
            "87a2ab0acaad45d798d0c46aef20ccd1",
            "d0d5e57ad3c64f648959a1c696185898",
            "2fc58e5c0a72463f96e3704fc816f76a",
            "bc29659974b945c7af4e056b095d5fc8",
            "5e7cfc76160f434f84c4865775d956b0",
            "d7d49e15fb3f43d6b22a9163b36f39cb",
            "de9da5225b16458a8ab0a9c6836f378c",
            "47bef27777914b458baa9e7e46cd4f5b",
            "d22cde15d316448186aa6598c7857e37",
            "b5f3a36d73694c24835620e82fb54b1a",
            "36623f0c93bc4831bb029a32d648ca32",
            "c2ac7b6ffd4e4cd3939ad01a5bcffb14",
            "0881895c73f24a1399de44da825e9431",
            "edfa6e4bd0b741608193d344563fe97b",
            "4b586513facd4881a60790455a6240da",
            "3b0ba0ed352c420fa64553250c900443",
            "7c2f3dc9b95946d983b552deda758415",
            "afa49884e80c4bd7a7d98d0a1e5ee07b",
            "be003820701c4e4a9d60ec4b943eb4c4",
            "fffb122bd02947a6a568b99285f76e38",
            "93bfcba2e15c418b9a9519155c1f1d18",
            "7ff0b3ef56494b0199af7ba6667ea29a",
            "df595221275940ab96803dfafebb93ae",
            "1ed082061a3a42ad82bca9b4122bd88b",
            "ff11d1c704ce4904bb61e688b91b7893",
            "9eb46c51b6c6428fb24b0cfa3ca0762e",
            "a06b0749f3454992a42249d39c2eadc4",
            "fe993ed103004245a96a6fc4205ec479",
            "5bb5ff7323454165a7e452f9788c1f5a",
            "a8a47213a03f48a792ddb8a6e6d054c8",
            "08a42a1116d84fc28727e1bf0898e725",
            "8ec9e0a0a18b4326ac1fa311a524898d",
            "69d2c3a4e592410aae0d7b902dc5e9f7",
            "e119f91d74b340b883f4c2f1c50b7af2",
            "3ef01420d1254a90b6fc953051d2b4f1",
            "e1a5395d4c3842339c53d9eb2e0d5c6f",
            "78cfc0556618460fa2c206a178990ba4",
            "48afdcebaac147bfb9f0e7abd080021e",
            "fa734e65e155435a85b3b62840ca83cf",
            "5dfc41a13ae94dbcaba08a98687cb902",
            "253512fee776498893c60f56a9d4df69",
            "e407ffb7d4d94de69b1ba60df46bc5e0",
            "550b36f532004b4380f16c04ee9c7c92",
            "5df9890d6bed44cdae62e40a79a29685",
            "aa6b84eddec04918810723b58e9e0e25",
            "3305708703034687b85ae2e7060c9476",
            "236bbba0d979418397e7d446458e3d1c",
            "f3cfebc302d243da9833e87d197f6b25",
            "6461c20ca47a4ae39fe7c9ef5f1a0bf3",
            "6f9f692de41d4242a14f83d72ebb31a9",
            "f91b3c7715c94b9e81520bf4d3b4737e",
            "7553293de0e74f57b917a436597a3303",
            "6f26c873930349dcbbdde54ba69511cc",
            "ae57119fd7314da293def4c3bb8c3f1b",
            "9710e26ad9ca4bc1973da0aed56cf890",
            "06f9e02dcc8549a1b8d2a170b5d757e7",
            "8d68816a5a12438a996942e36f75d5e9",
            "10f9125ccba04f13a97911bf93af0f97",
            "f0c66ce9b84149579e2f0d48e6af9f03",
            "998695260775499c9779b95fb4572875",
            "1046285f18cf43bf8facfc4ab7abcd89",
            "84b804ce560f408399e651547b7af724",
            "061e2dacf96e44c19f98ed3316546231",
            "b7a8a213942f4adba3818f3d32b81528",
            "2eed493804fe41c99f46aa4b76cf3c2a",
            "8faeb455a1594c7f9475d891829bc5ed",
            "ca814dd397d443d693f182fa8cdd12a6",
            "5fdd7b7f1ad3452f8ce7187a4542865b",
            "7305ac671f06445fa14c0bf7a2bb7ed2",
            "e2d8c981904a4a86a8853c7f2efa4d5c",
            "7da0374f4ea4466cb3f62a196433f4c4",
            "b1db10134ff44139b0950b3b10bd7dc3",
            "5c14a5ac05c848b897a34e02d9f05a78",
            "56acac1a9e064d6286d3f06537c7a3d1",
            "d127838521464a32961c46a1a56f87c2",
            "7643bbcb4c7c45418912d45fae926824",
            "9f098cd5c42942f4992e9c408d7f4c96",
            "db6679ac96444f4db9f3e07ff05aee8e",
            "74e8f80b87de4b4aa42273eb7dd9ea0c",
            "64d0d57583f14321aea79c84c87cb365",
            "e28ea00683e243a185c2a0b8758cf891",
            "d6269d1b29dc4b618bcc79a807e2e728",
            "7ea1e1387b474d0081fb6895f0c765ad",
            "8384d9bcaeb745368d7d9b3a12ff03a7",
            "a1fe0c7d139245dcb90837d2c44510a7",
            "d67a1d9844384f4fba5fc7d0cc3655ff",
            "9ffb3400f44a4424a991723d6231d7f8",
            "48dc990b3c6045b29cf73f24e8842c86",
            "6795ba8118fe4ddeb6620b081c0f148a",
            "724a042bd3344f64b15941fa9f56caf1",
            "6192d671960047d0b18750ad20e12268",
            "568014e51d6f469db822db9d478a91b8",
            "5935e291a92045b395e87cf035980cdf",
            "a9cc5623d6d54e57981649a3d30620bb",
            "0a8fc8318cdb4eafac0238a378c2867b",
            "6db15a8e85e04c87949d37a82affc53b",
            "0609b678f9e346a8b78da41ade9c8f60",
            "b861afd401ab406792ae4855f3472f6e",
            "b324f4f1fcc94b70aa61e97df953ef6b",
            "64a5e1b3fd94413392d564030197ffd6",
            "ee0075ea1f194307853308b0fdefa5d0",
            "79ec8dec777e44d7b7ea5b7f611931cf",
            "e94a3dd8e618461e87e7c62b086cac95",
            "5c365f0a61514403ab9c349228e3f420",
            "d135ddc354564c08b1274a0666a5adfe",
            "8a475f02ffea4a1ba60fd407c403fdfc",
            "0ee0152953f249bb8cdf2f32143a8be7",
            "c71cd0ec3d754973b648d18419a48853",
            "8a87c6c52d764254b1486bd6fe71df79",
            "d8c7d7063dc04be4bf2c8deacb8e9df3",
            "7aa6d620d5fc4c74a5a4432afa6f4ba4",
            "78fecbfed54d46b885cccc3c10c6b5fa",
            "c3178d8062f34859826d1755068676d8",
            "08f5ddbc81c241c78c2b54245a3ca954",
            "629cd4a48b6043be89abb403a8b95fb8",
            "54bba79044e647bcbf6db23056ba12a6",
            "b54baa8fbc1940c182fccf52eaa4dce4",
            "f8d02594a66943b28b94d4bc67dacd0d",
            "22b74a3c858d4544a6e27453fc12e79c",
            "e36be4f25e98449dac6589a2a2b43e69",
            "007957a463784a24a931db385bb20ab9",
            "5884f1f43d384ec6a18b5d4ef9ba5e11",
            "0c5384726e624b058e69a1cbc40cd5b2",
            "ae5a66feb248473ca5c1abba7dd092c9",
            "40a5aef12ec44007b48d30fe86101550",
            "3601ca19946d4de0a4b9d011e20162ce",
            "ad3bc830896549e584a7454393d7017e",
            "b564c5cd75654e3b990eea83ebd21f4d",
            "383d905b5ea04ff9b9a8a5f93dd5365d",
            "a5abe004184540b18377dbe5e46d305d",
            "727cf05d597342cf967fc1944941e2f2",
            "d94eee64c67445b8ac498ebe42cf215d",
            "c8c4cc173cf54562976f2ff885223b85",
            "7f7c1a2f42f941a5875a257166683191",
            "0142d1e6a5ba4b60b4662d1287efc142",
            "2d5f4f093bbc48f2835f40df19d6bc1a"
          ]
        },
        "id": "C09_Av4AC3s9",
        "outputId": "3fde858b-2791-41eb-abe4-e585602aff76"
      },
      "source": [
        "wandb.agent(sweep_id, function=train)"
      ],
      "execution_count": null,
      "outputs": [
        {
          "output_type": "stream",
          "name": "stderr",
          "text": [
            "\u001b[34m\u001b[1mwandb\u001b[0m: Agent Starting Run: yzci5iid with config:\n",
            "\u001b[34m\u001b[1mwandb\u001b[0m: \tdropout_rate: 0.1\n",
            "\u001b[34m\u001b[1mwandb\u001b[0m: \tlayer1_activation: relu\n",
            "\u001b[34m\u001b[1mwandb\u001b[0m: \tlayer1_size: 32\n",
            "\u001b[34m\u001b[1mwandb\u001b[0m: \tlearning_rate: 0.1\n",
            "\u001b[34m\u001b[1mwandb\u001b[0m: \toptimizers: adam\n",
            "\u001b[34m\u001b[1mwandb\u001b[0m: \u001b[33mWARNING\u001b[0m Ignored wandb.init() arg project when running a sweep\n"
          ]
        },
        {
          "output_type": "display_data",
          "data": {
            "text/html": [
              "\n",
              "                Tracking run with wandb version 0.12.1<br/>\n",
              "                Syncing run <strong style=\"color:#cdcd00\">solar-sweep-1</strong> to <a href=\"https://wandb.ai\" target=\"_blank\">Weights & Biases</a> <a href=\"https://docs.wandb.com/integrations/jupyter.html\" target=\"_blank\">(Documentation)</a>.<br/>\n",
              "                Project page: <a href=\"https://wandb.ai/knu/sweep-practice\" target=\"_blank\">https://wandb.ai/knu/sweep-practice</a><br/>\n",
              "                Sweep page: <a href=\"https://wandb.ai/knu/sweep-practice/sweeps/ovtioqch\" target=\"_blank\">https://wandb.ai/knu/sweep-practice/sweeps/ovtioqch</a><br/>\n",
              "Run page: <a href=\"https://wandb.ai/knu/sweep-practice/runs/yzci5iid\" target=\"_blank\">https://wandb.ai/knu/sweep-practice/runs/yzci5iid</a><br/>\n",
              "                Run data is saved locally in <code>/content/wandb/run-20210909_152559-yzci5iid</code><br/><br/>\n",
              "            "
            ],
            "text/plain": [
              "<IPython.core.display.HTML object>"
            ]
          },
          "metadata": {}
        },
        {
          "output_type": "display_data",
          "data": {
            "text/html": [
              "<br/>Waiting for W&B process to finish, PID 2105<br/>Program failed with code 1.  Press ctrl-c to abort syncing."
            ],
            "text/plain": [
              "<IPython.core.display.HTML object>"
            ]
          },
          "metadata": {}
        },
        {
          "output_type": "display_data",
          "data": {
            "application/vnd.jupyter.widget-view+json": {
              "model_id": "6d746e0f73a6477faaeab67ba895e4ca",
              "version_minor": 0,
              "version_major": 2
            },
            "text/plain": [
              "VBox(children=(Label(value=' 0.00MB of 0.00MB uploaded (0.00MB deduped)\\r'), FloatProgress(value=1.0, max=1.0)…"
            ]
          },
          "metadata": {}
        },
        {
          "output_type": "display_data",
          "data": {
            "text/html": [
              "Find user logs for this run at: <code>/content/wandb/run-20210909_152559-yzci5iid/logs/debug.log</code>"
            ],
            "text/plain": [
              "<IPython.core.display.HTML object>"
            ]
          },
          "metadata": {}
        },
        {
          "output_type": "display_data",
          "data": {
            "text/html": [
              "Find internal logs for this run at: <code>/content/wandb/run-20210909_152559-yzci5iid/logs/debug-internal.log</code>"
            ],
            "text/plain": [
              "<IPython.core.display.HTML object>"
            ]
          },
          "metadata": {}
        },
        {
          "output_type": "display_data",
          "data": {
            "text/html": [
              "Synced 4 W&B file(s), 0 media file(s), 0 artifact file(s) and 0 other file(s)"
            ],
            "text/plain": [
              "<IPython.core.display.HTML object>"
            ]
          },
          "metadata": {}
        },
        {
          "output_type": "display_data",
          "data": {
            "text/html": [
              "\n",
              "                    <br/>Synced <strong style=\"color:#cdcd00\">solar-sweep-1</strong>: <a href=\"https://wandb.ai/knu/sweep-practice/runs/yzci5iid\" target=\"_blank\">https://wandb.ai/knu/sweep-practice/runs/yzci5iid</a><br/>\n",
              "                "
            ],
            "text/plain": [
              "<IPython.core.display.HTML object>"
            ]
          },
          "metadata": {}
        },
        {
          "output_type": "stream",
          "name": "stderr",
          "text": [
            "Run yzci5iid errored: AttributeError(\"module 'tensorflow.keras' has no attribute 'optimizer'\")\n",
            "\u001b[34m\u001b[1mwandb\u001b[0m: \u001b[32m\u001b[41mERROR\u001b[0m Run yzci5iid errored: AttributeError(\"module 'tensorflow.keras' has no attribute 'optimizer'\")\n",
            "\u001b[34m\u001b[1mwandb\u001b[0m: Agent Starting Run: 5z78ipim with config:\n",
            "\u001b[34m\u001b[1mwandb\u001b[0m: \tdropout_rate: 0.1\n",
            "\u001b[34m\u001b[1mwandb\u001b[0m: \tlayer1_activation: relu\n",
            "\u001b[34m\u001b[1mwandb\u001b[0m: \tlayer1_size: 32\n",
            "\u001b[34m\u001b[1mwandb\u001b[0m: \tlearning_rate: 0.1\n",
            "\u001b[34m\u001b[1mwandb\u001b[0m: \toptimizers: rmsprop\n",
            "\u001b[34m\u001b[1mwandb\u001b[0m: \u001b[33mWARNING\u001b[0m Ignored wandb.init() arg project when running a sweep\n"
          ]
        },
        {
          "output_type": "display_data",
          "data": {
            "text/html": [
              "\n",
              "                Tracking run with wandb version 0.12.1<br/>\n",
              "                Syncing run <strong style=\"color:#cdcd00\">distinctive-sweep-2</strong> to <a href=\"https://wandb.ai\" target=\"_blank\">Weights & Biases</a> <a href=\"https://docs.wandb.com/integrations/jupyter.html\" target=\"_blank\">(Documentation)</a>.<br/>\n",
              "                Project page: <a href=\"https://wandb.ai/knu/sweep-practice\" target=\"_blank\">https://wandb.ai/knu/sweep-practice</a><br/>\n",
              "                Sweep page: <a href=\"https://wandb.ai/knu/sweep-practice/sweeps/ovtioqch\" target=\"_blank\">https://wandb.ai/knu/sweep-practice/sweeps/ovtioqch</a><br/>\n",
              "Run page: <a href=\"https://wandb.ai/knu/sweep-practice/runs/5z78ipim\" target=\"_blank\">https://wandb.ai/knu/sweep-practice/runs/5z78ipim</a><br/>\n",
              "                Run data is saved locally in <code>/content/wandb/run-20210909_152608-5z78ipim</code><br/><br/>\n",
              "            "
            ],
            "text/plain": [
              "<IPython.core.display.HTML object>"
            ]
          },
          "metadata": {}
        },
        {
          "output_type": "stream",
          "name": "stdout",
          "text": [
            "Epoch 1/5\n",
            "   3/1875 [..............................] - ETA: 1:00 - loss: 2.2968 - accuracy: 0.1667WARNING:tensorflow:Callback method `on_train_batch_end` is slow compared to the batch time (batch time: 0.0026s vs `on_train_batch_end` time: 0.0101s). Check your callbacks.\n",
            "1875/1875 [==============================] - 5s 2ms/step - loss: 0.5857 - accuracy: 0.7939 - val_loss: 0.4566 - val_accuracy: 0.8376\n",
            "Epoch 2/5\n",
            "1875/1875 [==============================] - 5s 3ms/step - loss: 0.4353 - accuracy: 0.8444 - val_loss: 0.4040 - val_accuracy: 0.8521\n",
            "Epoch 3/5\n",
            "1875/1875 [==============================] - 5s 3ms/step - loss: 0.3993 - accuracy: 0.8558 - val_loss: 0.4041 - val_accuracy: 0.8528\n",
            "Epoch 4/5\n",
            "1875/1875 [==============================] - 5s 3ms/step - loss: 0.3784 - accuracy: 0.8623 - val_loss: 0.3891 - val_accuracy: 0.8648\n",
            "Epoch 5/5\n",
            "1875/1875 [==============================] - 5s 3ms/step - loss: 0.3671 - accuracy: 0.8654 - val_loss: 0.3838 - val_accuracy: 0.8629\n"
          ]
        },
        {
          "output_type": "display_data",
          "data": {
            "text/html": [
              "<br/>Waiting for W&B process to finish, PID 2141<br/>Program ended successfully."
            ],
            "text/plain": [
              "<IPython.core.display.HTML object>"
            ]
          },
          "metadata": {}
        },
        {
          "output_type": "display_data",
          "data": {
            "application/vnd.jupyter.widget-view+json": {
              "model_id": "2d2f919f6b1a49229a166b31fac5d8bf",
              "version_minor": 0,
              "version_major": 2
            },
            "text/plain": [
              "VBox(children=(Label(value=' 0.60MB of 0.60MB uploaded (0.00MB deduped)\\r'), FloatProgress(value=0.99082120253…"
            ]
          },
          "metadata": {}
        },
        {
          "output_type": "display_data",
          "data": {
            "text/html": [
              "Find user logs for this run at: <code>/content/wandb/run-20210909_152608-5z78ipim/logs/debug.log</code>"
            ],
            "text/plain": [
              "<IPython.core.display.HTML object>"
            ]
          },
          "metadata": {}
        },
        {
          "output_type": "display_data",
          "data": {
            "text/html": [
              "Find internal logs for this run at: <code>/content/wandb/run-20210909_152608-5z78ipim/logs/debug-internal.log</code>"
            ],
            "text/plain": [
              "<IPython.core.display.HTML object>"
            ]
          },
          "metadata": {}
        },
        {
          "output_type": "display_data",
          "data": {
            "text/html": [
              "<h3>Run summary:</h3><br/><style>\n",
              "    table.wandb td:nth-child(1) { padding: 0 10px; text-align: right }\n",
              "    </style><table class=\"wandb\">\n",
              "<tr><td>epoch</td><td>4</td></tr><tr><td>loss</td><td>0.36709</td></tr><tr><td>accuracy</td><td>0.86542</td></tr><tr><td>val_loss</td><td>0.38384</td></tr><tr><td>val_accuracy</td><td>0.8629</td></tr><tr><td>_runtime</td><td>28</td></tr><tr><td>_timestamp</td><td>1631201196</td></tr><tr><td>_step</td><td>4</td></tr><tr><td>best_val_loss</td><td>0.38384</td></tr><tr><td>best_epoch</td><td>4</td></tr></table>"
            ],
            "text/plain": [
              "<IPython.core.display.HTML object>"
            ]
          },
          "metadata": {}
        },
        {
          "output_type": "display_data",
          "data": {
            "text/html": [
              "<h3>Run history:</h3><br/><style>\n",
              "    table.wandb td:nth-child(1) { padding: 0 10px; text-align: right }\n",
              "    </style><table class=\"wandb\">\n",
              "<tr><td>epoch</td><td>▁▃▅▆█</td></tr><tr><td>loss</td><td>█▃▂▁▁</td></tr><tr><td>accuracy</td><td>▁▆▇██</td></tr><tr><td>val_loss</td><td>█▃▃▂▁</td></tr><tr><td>val_accuracy</td><td>▁▅▅██</td></tr><tr><td>_runtime</td><td>▁▃▅▆█</td></tr><tr><td>_timestamp</td><td>▁▃▅▆█</td></tr><tr><td>_step</td><td>▁▃▅▆█</td></tr></table><br/>"
            ],
            "text/plain": [
              "<IPython.core.display.HTML object>"
            ]
          },
          "metadata": {}
        },
        {
          "output_type": "display_data",
          "data": {
            "text/html": [
              "Synced 5 W&B file(s), 181 media file(s), 0 artifact file(s) and 10 other file(s)"
            ],
            "text/plain": [
              "<IPython.core.display.HTML object>"
            ]
          },
          "metadata": {}
        },
        {
          "output_type": "display_data",
          "data": {
            "text/html": [
              "\n",
              "                    <br/>Synced <strong style=\"color:#cdcd00\">distinctive-sweep-2</strong>: <a href=\"https://wandb.ai/knu/sweep-practice/runs/5z78ipim\" target=\"_blank\">https://wandb.ai/knu/sweep-practice/runs/5z78ipim</a><br/>\n",
              "                "
            ],
            "text/plain": [
              "<IPython.core.display.HTML object>"
            ]
          },
          "metadata": {}
        },
        {
          "output_type": "stream",
          "name": "stderr",
          "text": [
            "\u001b[34m\u001b[1mwandb\u001b[0m: Agent Starting Run: o1i3l1a3 with config:\n",
            "\u001b[34m\u001b[1mwandb\u001b[0m: \tdropout_rate: 0.1\n",
            "\u001b[34m\u001b[1mwandb\u001b[0m: \tlayer1_activation: relu\n",
            "\u001b[34m\u001b[1mwandb\u001b[0m: \tlayer1_size: 32\n",
            "\u001b[34m\u001b[1mwandb\u001b[0m: \tlearning_rate: 0.01\n",
            "\u001b[34m\u001b[1mwandb\u001b[0m: \toptimizers: adam\n",
            "\u001b[34m\u001b[1mwandb\u001b[0m: \u001b[33mWARNING\u001b[0m Ignored wandb.init() arg project when running a sweep\n"
          ]
        },
        {
          "output_type": "display_data",
          "data": {
            "text/html": [
              "\n",
              "                Tracking run with wandb version 0.12.1<br/>\n",
              "                Syncing run <strong style=\"color:#cdcd00\">still-sweep-3</strong> to <a href=\"https://wandb.ai\" target=\"_blank\">Weights & Biases</a> <a href=\"https://docs.wandb.com/integrations/jupyter.html\" target=\"_blank\">(Documentation)</a>.<br/>\n",
              "                Project page: <a href=\"https://wandb.ai/knu/sweep-practice\" target=\"_blank\">https://wandb.ai/knu/sweep-practice</a><br/>\n",
              "                Sweep page: <a href=\"https://wandb.ai/knu/sweep-practice/sweeps/ovtioqch\" target=\"_blank\">https://wandb.ai/knu/sweep-practice/sweeps/ovtioqch</a><br/>\n",
              "Run page: <a href=\"https://wandb.ai/knu/sweep-practice/runs/o1i3l1a3\" target=\"_blank\">https://wandb.ai/knu/sweep-practice/runs/o1i3l1a3</a><br/>\n",
              "                Run data is saved locally in <code>/content/wandb/run-20210909_152643-o1i3l1a3</code><br/><br/>\n",
              "            "
            ],
            "text/plain": [
              "<IPython.core.display.HTML object>"
            ]
          },
          "metadata": {}
        },
        {
          "output_type": "display_data",
          "data": {
            "text/html": [
              "<br/>Waiting for W&B process to finish, PID 2435<br/>Program failed with code 1.  Press ctrl-c to abort syncing."
            ],
            "text/plain": [
              "<IPython.core.display.HTML object>"
            ]
          },
          "metadata": {}
        },
        {
          "output_type": "display_data",
          "data": {
            "application/vnd.jupyter.widget-view+json": {
              "model_id": "1191c6db46f44e45ab521c2e3feb1b45",
              "version_minor": 0,
              "version_major": 2
            },
            "text/plain": [
              "VBox(children=(Label(value=' 0.00MB of 0.00MB uploaded (0.00MB deduped)\\r'), FloatProgress(value=1.0, max=1.0)…"
            ]
          },
          "metadata": {}
        },
        {
          "output_type": "display_data",
          "data": {
            "text/html": [
              "Find user logs for this run at: <code>/content/wandb/run-20210909_152643-o1i3l1a3/logs/debug.log</code>"
            ],
            "text/plain": [
              "<IPython.core.display.HTML object>"
            ]
          },
          "metadata": {}
        },
        {
          "output_type": "display_data",
          "data": {
            "text/html": [
              "Find internal logs for this run at: <code>/content/wandb/run-20210909_152643-o1i3l1a3/logs/debug-internal.log</code>"
            ],
            "text/plain": [
              "<IPython.core.display.HTML object>"
            ]
          },
          "metadata": {}
        },
        {
          "output_type": "display_data",
          "data": {
            "text/html": [
              "Synced 4 W&B file(s), 0 media file(s), 0 artifact file(s) and 0 other file(s)"
            ],
            "text/plain": [
              "<IPython.core.display.HTML object>"
            ]
          },
          "metadata": {}
        },
        {
          "output_type": "display_data",
          "data": {
            "text/html": [
              "\n",
              "                    <br/>Synced <strong style=\"color:#cdcd00\">still-sweep-3</strong>: <a href=\"https://wandb.ai/knu/sweep-practice/runs/o1i3l1a3\" target=\"_blank\">https://wandb.ai/knu/sweep-practice/runs/o1i3l1a3</a><br/>\n",
              "                "
            ],
            "text/plain": [
              "<IPython.core.display.HTML object>"
            ]
          },
          "metadata": {}
        },
        {
          "output_type": "stream",
          "name": "stderr",
          "text": [
            "Run o1i3l1a3 errored: AttributeError(\"module 'tensorflow.keras' has no attribute 'optimizer'\")\n",
            "\u001b[34m\u001b[1mwandb\u001b[0m: \u001b[32m\u001b[41mERROR\u001b[0m Run o1i3l1a3 errored: AttributeError(\"module 'tensorflow.keras' has no attribute 'optimizer'\")\n",
            "\u001b[34m\u001b[1mwandb\u001b[0m: Agent Starting Run: i2zk6ghe with config:\n",
            "\u001b[34m\u001b[1mwandb\u001b[0m: \tdropout_rate: 0.1\n",
            "\u001b[34m\u001b[1mwandb\u001b[0m: \tlayer1_activation: relu\n",
            "\u001b[34m\u001b[1mwandb\u001b[0m: \tlayer1_size: 32\n",
            "\u001b[34m\u001b[1mwandb\u001b[0m: \tlearning_rate: 0.01\n",
            "\u001b[34m\u001b[1mwandb\u001b[0m: \toptimizers: rmsprop\n",
            "\u001b[34m\u001b[1mwandb\u001b[0m: \u001b[33mWARNING\u001b[0m Ignored wandb.init() arg project when running a sweep\n"
          ]
        },
        {
          "output_type": "display_data",
          "data": {
            "text/html": [
              "\n",
              "                Tracking run with wandb version 0.12.1<br/>\n",
              "                Syncing run <strong style=\"color:#cdcd00\">warm-sweep-4</strong> to <a href=\"https://wandb.ai\" target=\"_blank\">Weights & Biases</a> <a href=\"https://docs.wandb.com/integrations/jupyter.html\" target=\"_blank\">(Documentation)</a>.<br/>\n",
              "                Project page: <a href=\"https://wandb.ai/knu/sweep-practice\" target=\"_blank\">https://wandb.ai/knu/sweep-practice</a><br/>\n",
              "                Sweep page: <a href=\"https://wandb.ai/knu/sweep-practice/sweeps/ovtioqch\" target=\"_blank\">https://wandb.ai/knu/sweep-practice/sweeps/ovtioqch</a><br/>\n",
              "Run page: <a href=\"https://wandb.ai/knu/sweep-practice/runs/i2zk6ghe\" target=\"_blank\">https://wandb.ai/knu/sweep-practice/runs/i2zk6ghe</a><br/>\n",
              "                Run data is saved locally in <code>/content/wandb/run-20210909_152653-i2zk6ghe</code><br/><br/>\n",
              "            "
            ],
            "text/plain": [
              "<IPython.core.display.HTML object>"
            ]
          },
          "metadata": {}
        },
        {
          "output_type": "stream",
          "name": "stdout",
          "text": [
            "Epoch 1/5\n",
            "   3/1875 [..............................] - ETA: 1:14 - loss: 2.3497 - accuracy: 0.1250 WARNING:tensorflow:Callback method `on_train_batch_end` is slow compared to the batch time (batch time: 0.0029s vs `on_train_batch_end` time: 0.0122s). Check your callbacks.\n",
            "1875/1875 [==============================] - 5s 2ms/step - loss: 0.6131 - accuracy: 0.7862 - val_loss: 0.4728 - val_accuracy: 0.8317\n",
            "Epoch 2/5\n",
            "1875/1875 [==============================] - 5s 3ms/step - loss: 0.4392 - accuracy: 0.8429 - val_loss: 0.4367 - val_accuracy: 0.8426\n",
            "Epoch 3/5\n",
            "1875/1875 [==============================] - 5s 3ms/step - loss: 0.4055 - accuracy: 0.8565 - val_loss: 0.4071 - val_accuracy: 0.8523\n",
            "Epoch 4/5\n",
            "1875/1875 [==============================] - 5s 3ms/step - loss: 0.3863 - accuracy: 0.8586 - val_loss: 0.4031 - val_accuracy: 0.8574\n",
            "Epoch 5/5\n",
            "1875/1875 [==============================] - 5s 3ms/step - loss: 0.3714 - accuracy: 0.8648 - val_loss: 0.3900 - val_accuracy: 0.8597\n"
          ]
        },
        {
          "output_type": "display_data",
          "data": {
            "text/html": [
              "<br/>Waiting for W&B process to finish, PID 2471<br/>Program ended successfully."
            ],
            "text/plain": [
              "<IPython.core.display.HTML object>"
            ]
          },
          "metadata": {}
        },
        {
          "output_type": "display_data",
          "data": {
            "application/vnd.jupyter.widget-view+json": {
              "model_id": "b157357cdb904b1a981badff3e979a7d",
              "version_minor": 0,
              "version_major": 2
            },
            "text/plain": [
              "VBox(children=(Label(value=' 0.60MB of 0.60MB uploaded (0.00MB deduped)\\r'), FloatProgress(value=0.99375712209…"
            ]
          },
          "metadata": {}
        },
        {
          "output_type": "display_data",
          "data": {
            "text/html": [
              "Find user logs for this run at: <code>/content/wandb/run-20210909_152653-i2zk6ghe/logs/debug.log</code>"
            ],
            "text/plain": [
              "<IPython.core.display.HTML object>"
            ]
          },
          "metadata": {}
        },
        {
          "output_type": "display_data",
          "data": {
            "text/html": [
              "Find internal logs for this run at: <code>/content/wandb/run-20210909_152653-i2zk6ghe/logs/debug-internal.log</code>"
            ],
            "text/plain": [
              "<IPython.core.display.HTML object>"
            ]
          },
          "metadata": {}
        },
        {
          "output_type": "display_data",
          "data": {
            "text/html": [
              "<h3>Run summary:</h3><br/><style>\n",
              "    table.wandb td:nth-child(1) { padding: 0 10px; text-align: right }\n",
              "    </style><table class=\"wandb\">\n",
              "<tr><td>epoch</td><td>4</td></tr><tr><td>loss</td><td>0.37137</td></tr><tr><td>accuracy</td><td>0.86485</td></tr><tr><td>val_loss</td><td>0.39001</td></tr><tr><td>val_accuracy</td><td>0.8597</td></tr><tr><td>_runtime</td><td>30</td></tr><tr><td>_timestamp</td><td>1631201243</td></tr><tr><td>_step</td><td>4</td></tr><tr><td>best_val_loss</td><td>0.39001</td></tr><tr><td>best_epoch</td><td>4</td></tr></table>"
            ],
            "text/plain": [
              "<IPython.core.display.HTML object>"
            ]
          },
          "metadata": {}
        },
        {
          "output_type": "display_data",
          "data": {
            "text/html": [
              "<h3>Run history:</h3><br/><style>\n",
              "    table.wandb td:nth-child(1) { padding: 0 10px; text-align: right }\n",
              "    </style><table class=\"wandb\">\n",
              "<tr><td>epoch</td><td>▁▃▅▆█</td></tr><tr><td>loss</td><td>█▃▂▁▁</td></tr><tr><td>accuracy</td><td>▁▆▇▇█</td></tr><tr><td>val_loss</td><td>█▅▂▂▁</td></tr><tr><td>val_accuracy</td><td>▁▄▆▇█</td></tr><tr><td>_runtime</td><td>▁▃▄▆█</td></tr><tr><td>_timestamp</td><td>▁▃▄▆█</td></tr><tr><td>_step</td><td>▁▃▅▆█</td></tr></table><br/>"
            ],
            "text/plain": [
              "<IPython.core.display.HTML object>"
            ]
          },
          "metadata": {}
        },
        {
          "output_type": "display_data",
          "data": {
            "text/html": [
              "Synced 5 W&B file(s), 181 media file(s), 0 artifact file(s) and 10 other file(s)"
            ],
            "text/plain": [
              "<IPython.core.display.HTML object>"
            ]
          },
          "metadata": {}
        },
        {
          "output_type": "display_data",
          "data": {
            "text/html": [
              "\n",
              "                    <br/>Synced <strong style=\"color:#cdcd00\">warm-sweep-4</strong>: <a href=\"https://wandb.ai/knu/sweep-practice/runs/i2zk6ghe\" target=\"_blank\">https://wandb.ai/knu/sweep-practice/runs/i2zk6ghe</a><br/>\n",
              "                "
            ],
            "text/plain": [
              "<IPython.core.display.HTML object>"
            ]
          },
          "metadata": {}
        },
        {
          "output_type": "stream",
          "name": "stderr",
          "text": [
            "\u001b[34m\u001b[1mwandb\u001b[0m: Agent Starting Run: tw1spk1s with config:\n",
            "\u001b[34m\u001b[1mwandb\u001b[0m: \tdropout_rate: 0.1\n",
            "\u001b[34m\u001b[1mwandb\u001b[0m: \tlayer1_activation: relu\n",
            "\u001b[34m\u001b[1mwandb\u001b[0m: \tlayer1_size: 32\n",
            "\u001b[34m\u001b[1mwandb\u001b[0m: \tlearning_rate: 0.001\n",
            "\u001b[34m\u001b[1mwandb\u001b[0m: \toptimizers: adam\n",
            "\u001b[34m\u001b[1mwandb\u001b[0m: \u001b[33mWARNING\u001b[0m Ignored wandb.init() arg project when running a sweep\n"
          ]
        },
        {
          "output_type": "display_data",
          "data": {
            "text/html": [
              "\n",
              "                Tracking run with wandb version 0.12.1<br/>\n",
              "                Syncing run <strong style=\"color:#cdcd00\">pretty-sweep-5</strong> to <a href=\"https://wandb.ai\" target=\"_blank\">Weights & Biases</a> <a href=\"https://docs.wandb.com/integrations/jupyter.html\" target=\"_blank\">(Documentation)</a>.<br/>\n",
              "                Project page: <a href=\"https://wandb.ai/knu/sweep-practice\" target=\"_blank\">https://wandb.ai/knu/sweep-practice</a><br/>\n",
              "                Sweep page: <a href=\"https://wandb.ai/knu/sweep-practice/sweeps/ovtioqch\" target=\"_blank\">https://wandb.ai/knu/sweep-practice/sweeps/ovtioqch</a><br/>\n",
              "Run page: <a href=\"https://wandb.ai/knu/sweep-practice/runs/tw1spk1s\" target=\"_blank\">https://wandb.ai/knu/sweep-practice/runs/tw1spk1s</a><br/>\n",
              "                Run data is saved locally in <code>/content/wandb/run-20210909_152730-tw1spk1s</code><br/><br/>\n",
              "            "
            ],
            "text/plain": [
              "<IPython.core.display.HTML object>"
            ]
          },
          "metadata": {}
        },
        {
          "output_type": "display_data",
          "data": {
            "text/html": [
              "<br/>Waiting for W&B process to finish, PID 2765<br/>Program failed with code 1.  Press ctrl-c to abort syncing."
            ],
            "text/plain": [
              "<IPython.core.display.HTML object>"
            ]
          },
          "metadata": {}
        },
        {
          "output_type": "display_data",
          "data": {
            "application/vnd.jupyter.widget-view+json": {
              "model_id": "01d0df5194ec4b4fa38ba29cf3a38df7",
              "version_minor": 0,
              "version_major": 2
            },
            "text/plain": [
              "VBox(children=(Label(value=' 0.00MB of 0.00MB uploaded (0.00MB deduped)\\r'), FloatProgress(value=1.0, max=1.0)…"
            ]
          },
          "metadata": {}
        },
        {
          "output_type": "display_data",
          "data": {
            "text/html": [
              "Find user logs for this run at: <code>/content/wandb/run-20210909_152730-tw1spk1s/logs/debug.log</code>"
            ],
            "text/plain": [
              "<IPython.core.display.HTML object>"
            ]
          },
          "metadata": {}
        },
        {
          "output_type": "display_data",
          "data": {
            "text/html": [
              "Find internal logs for this run at: <code>/content/wandb/run-20210909_152730-tw1spk1s/logs/debug-internal.log</code>"
            ],
            "text/plain": [
              "<IPython.core.display.HTML object>"
            ]
          },
          "metadata": {}
        },
        {
          "output_type": "display_data",
          "data": {
            "text/html": [
              "Synced 4 W&B file(s), 0 media file(s), 0 artifact file(s) and 0 other file(s)"
            ],
            "text/plain": [
              "<IPython.core.display.HTML object>"
            ]
          },
          "metadata": {}
        },
        {
          "output_type": "display_data",
          "data": {
            "text/html": [
              "\n",
              "                    <br/>Synced <strong style=\"color:#cdcd00\">pretty-sweep-5</strong>: <a href=\"https://wandb.ai/knu/sweep-practice/runs/tw1spk1s\" target=\"_blank\">https://wandb.ai/knu/sweep-practice/runs/tw1spk1s</a><br/>\n",
              "                "
            ],
            "text/plain": [
              "<IPython.core.display.HTML object>"
            ]
          },
          "metadata": {}
        },
        {
          "output_type": "stream",
          "name": "stderr",
          "text": [
            "Run tw1spk1s errored: AttributeError(\"module 'tensorflow.keras' has no attribute 'optimizer'\")\n",
            "\u001b[34m\u001b[1mwandb\u001b[0m: \u001b[32m\u001b[41mERROR\u001b[0m Run tw1spk1s errored: AttributeError(\"module 'tensorflow.keras' has no attribute 'optimizer'\")\n",
            "\u001b[34m\u001b[1mwandb\u001b[0m: Agent Starting Run: nc579rvb with config:\n",
            "\u001b[34m\u001b[1mwandb\u001b[0m: \tdropout_rate: 0.1\n",
            "\u001b[34m\u001b[1mwandb\u001b[0m: \tlayer1_activation: relu\n",
            "\u001b[34m\u001b[1mwandb\u001b[0m: \tlayer1_size: 32\n",
            "\u001b[34m\u001b[1mwandb\u001b[0m: \tlearning_rate: 0.001\n",
            "\u001b[34m\u001b[1mwandb\u001b[0m: \toptimizers: rmsprop\n",
            "\u001b[34m\u001b[1mwandb\u001b[0m: \u001b[33mWARNING\u001b[0m Ignored wandb.init() arg project when running a sweep\n"
          ]
        },
        {
          "output_type": "display_data",
          "data": {
            "text/html": [
              "\n",
              "                Tracking run with wandb version 0.12.1<br/>\n",
              "                Syncing run <strong style=\"color:#cdcd00\">flowing-sweep-6</strong> to <a href=\"https://wandb.ai\" target=\"_blank\">Weights & Biases</a> <a href=\"https://docs.wandb.com/integrations/jupyter.html\" target=\"_blank\">(Documentation)</a>.<br/>\n",
              "                Project page: <a href=\"https://wandb.ai/knu/sweep-practice\" target=\"_blank\">https://wandb.ai/knu/sweep-practice</a><br/>\n",
              "                Sweep page: <a href=\"https://wandb.ai/knu/sweep-practice/sweeps/ovtioqch\" target=\"_blank\">https://wandb.ai/knu/sweep-practice/sweeps/ovtioqch</a><br/>\n",
              "Run page: <a href=\"https://wandb.ai/knu/sweep-practice/runs/nc579rvb\" target=\"_blank\">https://wandb.ai/knu/sweep-practice/runs/nc579rvb</a><br/>\n",
              "                Run data is saved locally in <code>/content/wandb/run-20210909_152739-nc579rvb</code><br/><br/>\n",
              "            "
            ],
            "text/plain": [
              "<IPython.core.display.HTML object>"
            ]
          },
          "metadata": {}
        },
        {
          "output_type": "stream",
          "name": "stdout",
          "text": [
            "Epoch 1/5\n",
            "   3/1875 [..............................] - ETA: 1:29 - loss: 2.2501 - accuracy: 0.1979 WARNING:tensorflow:Callback method `on_train_batch_end` is slow compared to the batch time (batch time: 0.0034s vs `on_train_batch_end` time: 0.0152s). Check your callbacks.\n",
            "1875/1875 [==============================] - 5s 2ms/step - loss: 0.5959 - accuracy: 0.7944 - val_loss: 0.4678 - val_accuracy: 0.8326\n",
            "Epoch 2/5\n",
            "1875/1875 [==============================] - 5s 3ms/step - loss: 0.4431 - accuracy: 0.8424 - val_loss: 0.4318 - val_accuracy: 0.8444\n",
            "Epoch 3/5\n",
            "1875/1875 [==============================] - 5s 3ms/step - loss: 0.4075 - accuracy: 0.8543 - val_loss: 0.4038 - val_accuracy: 0.8596\n",
            "Epoch 4/5\n",
            "1875/1875 [==============================] - 5s 3ms/step - loss: 0.3868 - accuracy: 0.8603 - val_loss: 0.3991 - val_accuracy: 0.8551\n",
            "Epoch 5/5\n",
            "1875/1875 [==============================] - 5s 3ms/step - loss: 0.3719 - accuracy: 0.8646 - val_loss: 0.3889 - val_accuracy: 0.8596\n"
          ]
        },
        {
          "output_type": "display_data",
          "data": {
            "text/html": [
              "<br/>Waiting for W&B process to finish, PID 2799<br/>Program ended successfully."
            ],
            "text/plain": [
              "<IPython.core.display.HTML object>"
            ]
          },
          "metadata": {}
        },
        {
          "output_type": "display_data",
          "data": {
            "application/vnd.jupyter.widget-view+json": {
              "model_id": "801f7fdef7df42f8ba149f2bafe3ff20",
              "version_minor": 0,
              "version_major": 2
            },
            "text/plain": [
              "VBox(children=(Label(value=' 0.60MB of 0.60MB uploaded (0.00MB deduped)\\r'), FloatProgress(value=0.99482591967…"
            ]
          },
          "metadata": {}
        },
        {
          "output_type": "display_data",
          "data": {
            "text/html": [
              "Find user logs for this run at: <code>/content/wandb/run-20210909_152739-nc579rvb/logs/debug.log</code>"
            ],
            "text/plain": [
              "<IPython.core.display.HTML object>"
            ]
          },
          "metadata": {}
        },
        {
          "output_type": "display_data",
          "data": {
            "text/html": [
              "Find internal logs for this run at: <code>/content/wandb/run-20210909_152739-nc579rvb/logs/debug-internal.log</code>"
            ],
            "text/plain": [
              "<IPython.core.display.HTML object>"
            ]
          },
          "metadata": {}
        },
        {
          "output_type": "display_data",
          "data": {
            "text/html": [
              "<h3>Run summary:</h3><br/><style>\n",
              "    table.wandb td:nth-child(1) { padding: 0 10px; text-align: right }\n",
              "    </style><table class=\"wandb\">\n",
              "<tr><td>epoch</td><td>4</td></tr><tr><td>loss</td><td>0.37189</td></tr><tr><td>accuracy</td><td>0.86463</td></tr><tr><td>val_loss</td><td>0.38885</td></tr><tr><td>val_accuracy</td><td>0.8596</td></tr><tr><td>_runtime</td><td>31</td></tr><tr><td>_timestamp</td><td>1631201290</td></tr><tr><td>_step</td><td>4</td></tr><tr><td>best_val_loss</td><td>0.38885</td></tr><tr><td>best_epoch</td><td>4</td></tr></table>"
            ],
            "text/plain": [
              "<IPython.core.display.HTML object>"
            ]
          },
          "metadata": {}
        },
        {
          "output_type": "display_data",
          "data": {
            "text/html": [
              "<h3>Run history:</h3><br/><style>\n",
              "    table.wandb td:nth-child(1) { padding: 0 10px; text-align: right }\n",
              "    </style><table class=\"wandb\">\n",
              "<tr><td>epoch</td><td>▁▃▅▆█</td></tr><tr><td>loss</td><td>█▃▂▁▁</td></tr><tr><td>accuracy</td><td>▁▆▇██</td></tr><tr><td>val_loss</td><td>█▅▂▂▁</td></tr><tr><td>val_accuracy</td><td>▁▄█▇█</td></tr><tr><td>_runtime</td><td>▁▃▅▆█</td></tr><tr><td>_timestamp</td><td>▁▃▅▆█</td></tr><tr><td>_step</td><td>▁▃▅▆█</td></tr></table><br/>"
            ],
            "text/plain": [
              "<IPython.core.display.HTML object>"
            ]
          },
          "metadata": {}
        },
        {
          "output_type": "display_data",
          "data": {
            "text/html": [
              "Synced 5 W&B file(s), 181 media file(s), 0 artifact file(s) and 10 other file(s)"
            ],
            "text/plain": [
              "<IPython.core.display.HTML object>"
            ]
          },
          "metadata": {}
        },
        {
          "output_type": "display_data",
          "data": {
            "text/html": [
              "\n",
              "                    <br/>Synced <strong style=\"color:#cdcd00\">flowing-sweep-6</strong>: <a href=\"https://wandb.ai/knu/sweep-practice/runs/nc579rvb\" target=\"_blank\">https://wandb.ai/knu/sweep-practice/runs/nc579rvb</a><br/>\n",
              "                "
            ],
            "text/plain": [
              "<IPython.core.display.HTML object>"
            ]
          },
          "metadata": {}
        },
        {
          "output_type": "stream",
          "name": "stderr",
          "text": [
            "\u001b[34m\u001b[1mwandb\u001b[0m: Agent Starting Run: hiqeixgj with config:\n",
            "\u001b[34m\u001b[1mwandb\u001b[0m: \tdropout_rate: 0.1\n",
            "\u001b[34m\u001b[1mwandb\u001b[0m: \tlayer1_activation: relu\n",
            "\u001b[34m\u001b[1mwandb\u001b[0m: \tlayer1_size: 64\n",
            "\u001b[34m\u001b[1mwandb\u001b[0m: \tlearning_rate: 0.1\n",
            "\u001b[34m\u001b[1mwandb\u001b[0m: \toptimizers: adam\n",
            "\u001b[34m\u001b[1mwandb\u001b[0m: \u001b[33mWARNING\u001b[0m Ignored wandb.init() arg project when running a sweep\n"
          ]
        },
        {
          "output_type": "display_data",
          "data": {
            "text/html": [
              "\n",
              "                Tracking run with wandb version 0.12.1<br/>\n",
              "                Syncing run <strong style=\"color:#cdcd00\">blooming-sweep-7</strong> to <a href=\"https://wandb.ai\" target=\"_blank\">Weights & Biases</a> <a href=\"https://docs.wandb.com/integrations/jupyter.html\" target=\"_blank\">(Documentation)</a>.<br/>\n",
              "                Project page: <a href=\"https://wandb.ai/knu/sweep-practice\" target=\"_blank\">https://wandb.ai/knu/sweep-practice</a><br/>\n",
              "                Sweep page: <a href=\"https://wandb.ai/knu/sweep-practice/sweeps/ovtioqch\" target=\"_blank\">https://wandb.ai/knu/sweep-practice/sweeps/ovtioqch</a><br/>\n",
              "Run page: <a href=\"https://wandb.ai/knu/sweep-practice/runs/hiqeixgj\" target=\"_blank\">https://wandb.ai/knu/sweep-practice/runs/hiqeixgj</a><br/>\n",
              "                Run data is saved locally in <code>/content/wandb/run-20210909_152817-hiqeixgj</code><br/><br/>\n",
              "            "
            ],
            "text/plain": [
              "<IPython.core.display.HTML object>"
            ]
          },
          "metadata": {}
        },
        {
          "output_type": "display_data",
          "data": {
            "text/html": [
              "<br/>Waiting for W&B process to finish, PID 3089<br/>Program failed with code 1.  Press ctrl-c to abort syncing."
            ],
            "text/plain": [
              "<IPython.core.display.HTML object>"
            ]
          },
          "metadata": {}
        },
        {
          "output_type": "display_data",
          "data": {
            "application/vnd.jupyter.widget-view+json": {
              "model_id": "5497c7325b9647e8be1da6cd8fa66118",
              "version_minor": 0,
              "version_major": 2
            },
            "text/plain": [
              "VBox(children=(Label(value=' 0.00MB of 0.00MB uploaded (0.00MB deduped)\\r'), FloatProgress(value=1.0, max=1.0)…"
            ]
          },
          "metadata": {}
        },
        {
          "output_type": "display_data",
          "data": {
            "text/html": [
              "Find user logs for this run at: <code>/content/wandb/run-20210909_152817-hiqeixgj/logs/debug.log</code>"
            ],
            "text/plain": [
              "<IPython.core.display.HTML object>"
            ]
          },
          "metadata": {}
        },
        {
          "output_type": "display_data",
          "data": {
            "text/html": [
              "Find internal logs for this run at: <code>/content/wandb/run-20210909_152817-hiqeixgj/logs/debug-internal.log</code>"
            ],
            "text/plain": [
              "<IPython.core.display.HTML object>"
            ]
          },
          "metadata": {}
        },
        {
          "output_type": "display_data",
          "data": {
            "text/html": [
              "Synced 4 W&B file(s), 0 media file(s), 0 artifact file(s) and 0 other file(s)"
            ],
            "text/plain": [
              "<IPython.core.display.HTML object>"
            ]
          },
          "metadata": {}
        },
        {
          "output_type": "display_data",
          "data": {
            "text/html": [
              "\n",
              "                    <br/>Synced <strong style=\"color:#cdcd00\">blooming-sweep-7</strong>: <a href=\"https://wandb.ai/knu/sweep-practice/runs/hiqeixgj\" target=\"_blank\">https://wandb.ai/knu/sweep-practice/runs/hiqeixgj</a><br/>\n",
              "                "
            ],
            "text/plain": [
              "<IPython.core.display.HTML object>"
            ]
          },
          "metadata": {}
        },
        {
          "output_type": "stream",
          "name": "stderr",
          "text": [
            "Run hiqeixgj errored: AttributeError(\"module 'tensorflow.keras' has no attribute 'optimizer'\")\n",
            "\u001b[34m\u001b[1mwandb\u001b[0m: \u001b[32m\u001b[41mERROR\u001b[0m Run hiqeixgj errored: AttributeError(\"module 'tensorflow.keras' has no attribute 'optimizer'\")\n",
            "\u001b[34m\u001b[1mwandb\u001b[0m: Agent Starting Run: 0u54gzxw with config:\n",
            "\u001b[34m\u001b[1mwandb\u001b[0m: \tdropout_rate: 0.1\n",
            "\u001b[34m\u001b[1mwandb\u001b[0m: \tlayer1_activation: relu\n",
            "\u001b[34m\u001b[1mwandb\u001b[0m: \tlayer1_size: 64\n",
            "\u001b[34m\u001b[1mwandb\u001b[0m: \tlearning_rate: 0.1\n",
            "\u001b[34m\u001b[1mwandb\u001b[0m: \toptimizers: rmsprop\n",
            "\u001b[34m\u001b[1mwandb\u001b[0m: \u001b[33mWARNING\u001b[0m Ignored wandb.init() arg project when running a sweep\n"
          ]
        },
        {
          "output_type": "display_data",
          "data": {
            "text/html": [
              "\n",
              "                Tracking run with wandb version 0.12.1<br/>\n",
              "                Syncing run <strong style=\"color:#cdcd00\">giddy-sweep-8</strong> to <a href=\"https://wandb.ai\" target=\"_blank\">Weights & Biases</a> <a href=\"https://docs.wandb.com/integrations/jupyter.html\" target=\"_blank\">(Documentation)</a>.<br/>\n",
              "                Project page: <a href=\"https://wandb.ai/knu/sweep-practice\" target=\"_blank\">https://wandb.ai/knu/sweep-practice</a><br/>\n",
              "                Sweep page: <a href=\"https://wandb.ai/knu/sweep-practice/sweeps/ovtioqch\" target=\"_blank\">https://wandb.ai/knu/sweep-practice/sweeps/ovtioqch</a><br/>\n",
              "Run page: <a href=\"https://wandb.ai/knu/sweep-practice/runs/0u54gzxw\" target=\"_blank\">https://wandb.ai/knu/sweep-practice/runs/0u54gzxw</a><br/>\n",
              "                Run data is saved locally in <code>/content/wandb/run-20210909_152826-0u54gzxw</code><br/><br/>\n",
              "            "
            ],
            "text/plain": [
              "<IPython.core.display.HTML object>"
            ]
          },
          "metadata": {}
        },
        {
          "output_type": "stream",
          "name": "stdout",
          "text": [
            "Epoch 1/5\n",
            "   3/1875 [..............................] - ETA: 1:21 - loss: 2.1345 - accuracy: 0.2188 WARNING:tensorflow:Callback method `on_train_batch_end` is slow compared to the batch time (batch time: 0.0029s vs `on_train_batch_end` time: 0.0136s). Check your callbacks.\n",
            "1875/1875 [==============================] - 5s 3ms/step - loss: 0.5448 - accuracy: 0.8091 - val_loss: 0.4418 - val_accuracy: 0.8431\n",
            "Epoch 2/5\n",
            "1875/1875 [==============================] - 6s 3ms/step - loss: 0.4058 - accuracy: 0.8544 - val_loss: 0.4030 - val_accuracy: 0.8534\n",
            "Epoch 3/5\n",
            "1875/1875 [==============================] - 6s 3ms/step - loss: 0.3713 - accuracy: 0.8650 - val_loss: 0.3781 - val_accuracy: 0.8654\n",
            "Epoch 4/5\n",
            "1875/1875 [==============================] - 6s 3ms/step - loss: 0.3495 - accuracy: 0.8726 - val_loss: 0.3737 - val_accuracy: 0.8644\n",
            "Epoch 5/5\n",
            "1875/1875 [==============================] - 5s 3ms/step - loss: 0.3333 - accuracy: 0.8763 - val_loss: 0.3576 - val_accuracy: 0.8727\n"
          ]
        },
        {
          "output_type": "display_data",
          "data": {
            "text/html": [
              "<br/>Waiting for W&B process to finish, PID 3123<br/>Program ended successfully."
            ],
            "text/plain": [
              "<IPython.core.display.HTML object>"
            ]
          },
          "metadata": {}
        },
        {
          "output_type": "display_data",
          "data": {
            "application/vnd.jupyter.widget-view+json": {
              "model_id": "573c97bd05d743a3bbded002ae7ca660",
              "version_minor": 0,
              "version_major": 2
            },
            "text/plain": [
              "VBox(children=(Label(value=' 0.89MB of 0.90MB uploaded (0.00MB deduped)\\r'), FloatProgress(value=0.99364734734…"
            ]
          },
          "metadata": {}
        },
        {
          "output_type": "display_data",
          "data": {
            "text/html": [
              "Find user logs for this run at: <code>/content/wandb/run-20210909_152826-0u54gzxw/logs/debug.log</code>"
            ],
            "text/plain": [
              "<IPython.core.display.HTML object>"
            ]
          },
          "metadata": {}
        },
        {
          "output_type": "display_data",
          "data": {
            "text/html": [
              "Find internal logs for this run at: <code>/content/wandb/run-20210909_152826-0u54gzxw/logs/debug-internal.log</code>"
            ],
            "text/plain": [
              "<IPython.core.display.HTML object>"
            ]
          },
          "metadata": {}
        },
        {
          "output_type": "display_data",
          "data": {
            "text/html": [
              "<h3>Run summary:</h3><br/><style>\n",
              "    table.wandb td:nth-child(1) { padding: 0 10px; text-align: right }\n",
              "    </style><table class=\"wandb\">\n",
              "<tr><td>epoch</td><td>4</td></tr><tr><td>loss</td><td>0.33329</td></tr><tr><td>accuracy</td><td>0.87633</td></tr><tr><td>val_loss</td><td>0.35759</td></tr><tr><td>val_accuracy</td><td>0.8727</td></tr><tr><td>_runtime</td><td>33</td></tr><tr><td>_timestamp</td><td>1631201339</td></tr><tr><td>_step</td><td>4</td></tr><tr><td>best_val_loss</td><td>0.35759</td></tr><tr><td>best_epoch</td><td>4</td></tr></table>"
            ],
            "text/plain": [
              "<IPython.core.display.HTML object>"
            ]
          },
          "metadata": {}
        },
        {
          "output_type": "display_data",
          "data": {
            "text/html": [
              "<h3>Run history:</h3><br/><style>\n",
              "    table.wandb td:nth-child(1) { padding: 0 10px; text-align: right }\n",
              "    </style><table class=\"wandb\">\n",
              "<tr><td>epoch</td><td>▁▃▅▆█</td></tr><tr><td>loss</td><td>█▃▂▂▁</td></tr><tr><td>accuracy</td><td>▁▆▇██</td></tr><tr><td>val_loss</td><td>█▅▃▂▁</td></tr><tr><td>val_accuracy</td><td>▁▃▆▆█</td></tr><tr><td>_runtime</td><td>▁▃▄▆█</td></tr><tr><td>_timestamp</td><td>▁▃▄▆█</td></tr><tr><td>_step</td><td>▁▃▅▆█</td></tr></table><br/>"
            ],
            "text/plain": [
              "<IPython.core.display.HTML object>"
            ]
          },
          "metadata": {}
        },
        {
          "output_type": "display_data",
          "data": {
            "text/html": [
              "Synced 5 W&B file(s), 181 media file(s), 0 artifact file(s) and 10 other file(s)"
            ],
            "text/plain": [
              "<IPython.core.display.HTML object>"
            ]
          },
          "metadata": {}
        },
        {
          "output_type": "display_data",
          "data": {
            "text/html": [
              "\n",
              "                    <br/>Synced <strong style=\"color:#cdcd00\">giddy-sweep-8</strong>: <a href=\"https://wandb.ai/knu/sweep-practice/runs/0u54gzxw\" target=\"_blank\">https://wandb.ai/knu/sweep-practice/runs/0u54gzxw</a><br/>\n",
              "                "
            ],
            "text/plain": [
              "<IPython.core.display.HTML object>"
            ]
          },
          "metadata": {}
        },
        {
          "output_type": "stream",
          "name": "stderr",
          "text": [
            "\u001b[34m\u001b[1mwandb\u001b[0m: Agent Starting Run: 1ukqs395 with config:\n",
            "\u001b[34m\u001b[1mwandb\u001b[0m: \tdropout_rate: 0.1\n",
            "\u001b[34m\u001b[1mwandb\u001b[0m: \tlayer1_activation: relu\n",
            "\u001b[34m\u001b[1mwandb\u001b[0m: \tlayer1_size: 64\n",
            "\u001b[34m\u001b[1mwandb\u001b[0m: \tlearning_rate: 0.01\n",
            "\u001b[34m\u001b[1mwandb\u001b[0m: \toptimizers: adam\n",
            "\u001b[34m\u001b[1mwandb\u001b[0m: \u001b[33mWARNING\u001b[0m Ignored wandb.init() arg project when running a sweep\n"
          ]
        },
        {
          "output_type": "display_data",
          "data": {
            "text/html": [
              "\n",
              "                Tracking run with wandb version 0.12.1<br/>\n",
              "                Syncing run <strong style=\"color:#cdcd00\">rare-sweep-9</strong> to <a href=\"https://wandb.ai\" target=\"_blank\">Weights & Biases</a> <a href=\"https://docs.wandb.com/integrations/jupyter.html\" target=\"_blank\">(Documentation)</a>.<br/>\n",
              "                Project page: <a href=\"https://wandb.ai/knu/sweep-practice\" target=\"_blank\">https://wandb.ai/knu/sweep-practice</a><br/>\n",
              "                Sweep page: <a href=\"https://wandb.ai/knu/sweep-practice/sweeps/ovtioqch\" target=\"_blank\">https://wandb.ai/knu/sweep-practice/sweeps/ovtioqch</a><br/>\n",
              "Run page: <a href=\"https://wandb.ai/knu/sweep-practice/runs/1ukqs395\" target=\"_blank\">https://wandb.ai/knu/sweep-practice/runs/1ukqs395</a><br/>\n",
              "                Run data is saved locally in <code>/content/wandb/run-20210909_152905-1ukqs395</code><br/><br/>\n",
              "            "
            ],
            "text/plain": [
              "<IPython.core.display.HTML object>"
            ]
          },
          "metadata": {}
        },
        {
          "output_type": "display_data",
          "data": {
            "text/html": [
              "<br/>Waiting for W&B process to finish, PID 3411<br/>Program failed with code 1.  Press ctrl-c to abort syncing."
            ],
            "text/plain": [
              "<IPython.core.display.HTML object>"
            ]
          },
          "metadata": {}
        },
        {
          "output_type": "display_data",
          "data": {
            "application/vnd.jupyter.widget-view+json": {
              "model_id": "9aab8f32fd8c4a93a8f85c4ff97549b3",
              "version_minor": 0,
              "version_major": 2
            },
            "text/plain": [
              "VBox(children=(Label(value=' 0.00MB of 0.00MB uploaded (0.00MB deduped)\\r'), FloatProgress(value=1.0, max=1.0)…"
            ]
          },
          "metadata": {}
        },
        {
          "output_type": "display_data",
          "data": {
            "text/html": [
              "Find user logs for this run at: <code>/content/wandb/run-20210909_152905-1ukqs395/logs/debug.log</code>"
            ],
            "text/plain": [
              "<IPython.core.display.HTML object>"
            ]
          },
          "metadata": {}
        },
        {
          "output_type": "display_data",
          "data": {
            "text/html": [
              "Find internal logs for this run at: <code>/content/wandb/run-20210909_152905-1ukqs395/logs/debug-internal.log</code>"
            ],
            "text/plain": [
              "<IPython.core.display.HTML object>"
            ]
          },
          "metadata": {}
        },
        {
          "output_type": "display_data",
          "data": {
            "text/html": [
              "Synced 4 W&B file(s), 0 media file(s), 0 artifact file(s) and 0 other file(s)"
            ],
            "text/plain": [
              "<IPython.core.display.HTML object>"
            ]
          },
          "metadata": {}
        },
        {
          "output_type": "display_data",
          "data": {
            "text/html": [
              "\n",
              "                    <br/>Synced <strong style=\"color:#cdcd00\">rare-sweep-9</strong>: <a href=\"https://wandb.ai/knu/sweep-practice/runs/1ukqs395\" target=\"_blank\">https://wandb.ai/knu/sweep-practice/runs/1ukqs395</a><br/>\n",
              "                "
            ],
            "text/plain": [
              "<IPython.core.display.HTML object>"
            ]
          },
          "metadata": {}
        },
        {
          "output_type": "stream",
          "name": "stderr",
          "text": [
            "Run 1ukqs395 errored: AttributeError(\"module 'tensorflow.keras' has no attribute 'optimizer'\")\n",
            "\u001b[34m\u001b[1mwandb\u001b[0m: \u001b[32m\u001b[41mERROR\u001b[0m Run 1ukqs395 errored: AttributeError(\"module 'tensorflow.keras' has no attribute 'optimizer'\")\n",
            "\u001b[34m\u001b[1mwandb\u001b[0m: Agent Starting Run: pfchz6re with config:\n",
            "\u001b[34m\u001b[1mwandb\u001b[0m: \tdropout_rate: 0.1\n",
            "\u001b[34m\u001b[1mwandb\u001b[0m: \tlayer1_activation: relu\n",
            "\u001b[34m\u001b[1mwandb\u001b[0m: \tlayer1_size: 64\n",
            "\u001b[34m\u001b[1mwandb\u001b[0m: \tlearning_rate: 0.01\n",
            "\u001b[34m\u001b[1mwandb\u001b[0m: \toptimizers: rmsprop\n",
            "\u001b[34m\u001b[1mwandb\u001b[0m: \u001b[33mWARNING\u001b[0m Ignored wandb.init() arg project when running a sweep\n"
          ]
        },
        {
          "output_type": "display_data",
          "data": {
            "text/html": [
              "\n",
              "                Tracking run with wandb version 0.12.1<br/>\n",
              "                Syncing run <strong style=\"color:#cdcd00\">wobbly-sweep-10</strong> to <a href=\"https://wandb.ai\" target=\"_blank\">Weights & Biases</a> <a href=\"https://docs.wandb.com/integrations/jupyter.html\" target=\"_blank\">(Documentation)</a>.<br/>\n",
              "                Project page: <a href=\"https://wandb.ai/knu/sweep-practice\" target=\"_blank\">https://wandb.ai/knu/sweep-practice</a><br/>\n",
              "                Sweep page: <a href=\"https://wandb.ai/knu/sweep-practice/sweeps/ovtioqch\" target=\"_blank\">https://wandb.ai/knu/sweep-practice/sweeps/ovtioqch</a><br/>\n",
              "Run page: <a href=\"https://wandb.ai/knu/sweep-practice/runs/pfchz6re\" target=\"_blank\">https://wandb.ai/knu/sweep-practice/runs/pfchz6re</a><br/>\n",
              "                Run data is saved locally in <code>/content/wandb/run-20210909_152914-pfchz6re</code><br/><br/>\n",
              "            "
            ],
            "text/plain": [
              "<IPython.core.display.HTML object>"
            ]
          },
          "metadata": {}
        },
        {
          "output_type": "stream",
          "name": "stdout",
          "text": [
            "Epoch 1/5\n",
            "   3/1875 [..............................] - ETA: 1:08 - loss: 2.3149 - accuracy: 0.2083 WARNING:tensorflow:Callback method `on_train_batch_end` is slow compared to the batch time (batch time: 0.0029s vs `on_train_batch_end` time: 0.0115s). Check your callbacks.\n",
            "1875/1875 [==============================] - 5s 3ms/step - loss: 0.5522 - accuracy: 0.8078 - val_loss: 0.4544 - val_accuracy: 0.8366\n",
            "Epoch 2/5\n",
            "1875/1875 [==============================] - 6s 3ms/step - loss: 0.4071 - accuracy: 0.8522 - val_loss: 0.4191 - val_accuracy: 0.8509\n",
            "Epoch 3/5\n",
            "1875/1875 [==============================] - 6s 3ms/step - loss: 0.3706 - accuracy: 0.8644 - val_loss: 0.3848 - val_accuracy: 0.8599\n",
            "Epoch 4/5\n",
            "1875/1875 [==============================] - 6s 3ms/step - loss: 0.3465 - accuracy: 0.8743 - val_loss: 0.3655 - val_accuracy: 0.8685\n",
            "Epoch 5/5\n",
            "1875/1875 [==============================] - 6s 3ms/step - loss: 0.3352 - accuracy: 0.8776 - val_loss: 0.3778 - val_accuracy: 0.8666\n"
          ]
        },
        {
          "output_type": "display_data",
          "data": {
            "text/html": [
              "<br/>Waiting for W&B process to finish, PID 3445<br/>Program ended successfully."
            ],
            "text/plain": [
              "<IPython.core.display.HTML object>"
            ]
          },
          "metadata": {}
        },
        {
          "output_type": "display_data",
          "data": {
            "application/vnd.jupyter.widget-view+json": {
              "model_id": "e94652159ccf40e19b4d8bd2f7d13cbd",
              "version_minor": 0,
              "version_major": 2
            },
            "text/plain": [
              "VBox(children=(Label(value=' 0.89MB of 0.89MB uploaded (0.00MB deduped)\\r'), FloatProgress(value=1.0, max=1.0)…"
            ]
          },
          "metadata": {}
        },
        {
          "output_type": "display_data",
          "data": {
            "text/html": [
              "Find user logs for this run at: <code>/content/wandb/run-20210909_152914-pfchz6re/logs/debug.log</code>"
            ],
            "text/plain": [
              "<IPython.core.display.HTML object>"
            ]
          },
          "metadata": {}
        },
        {
          "output_type": "display_data",
          "data": {
            "text/html": [
              "Find internal logs for this run at: <code>/content/wandb/run-20210909_152914-pfchz6re/logs/debug-internal.log</code>"
            ],
            "text/plain": [
              "<IPython.core.display.HTML object>"
            ]
          },
          "metadata": {}
        },
        {
          "output_type": "display_data",
          "data": {
            "text/html": [
              "<h3>Run summary:</h3><br/><style>\n",
              "    table.wandb td:nth-child(1) { padding: 0 10px; text-align: right }\n",
              "    </style><table class=\"wandb\">\n",
              "<tr><td>epoch</td><td>4</td></tr><tr><td>loss</td><td>0.33518</td></tr><tr><td>accuracy</td><td>0.87763</td></tr><tr><td>val_loss</td><td>0.37784</td></tr><tr><td>val_accuracy</td><td>0.8666</td></tr><tr><td>_runtime</td><td>33</td></tr><tr><td>_timestamp</td><td>1631201387</td></tr><tr><td>_step</td><td>4</td></tr><tr><td>best_val_loss</td><td>0.36552</td></tr><tr><td>best_epoch</td><td>3</td></tr></table>"
            ],
            "text/plain": [
              "<IPython.core.display.HTML object>"
            ]
          },
          "metadata": {}
        },
        {
          "output_type": "display_data",
          "data": {
            "text/html": [
              "<h3>Run history:</h3><br/><style>\n",
              "    table.wandb td:nth-child(1) { padding: 0 10px; text-align: right }\n",
              "    </style><table class=\"wandb\">\n",
              "<tr><td>epoch</td><td>▁▃▅▆█</td></tr><tr><td>loss</td><td>█▃▂▁▁</td></tr><tr><td>accuracy</td><td>▁▅▇██</td></tr><tr><td>val_loss</td><td>█▅▃▁▂</td></tr><tr><td>val_accuracy</td><td>▁▄▆██</td></tr><tr><td>_runtime</td><td>▁▃▅▆█</td></tr><tr><td>_timestamp</td><td>▁▃▅▆█</td></tr><tr><td>_step</td><td>▁▃▅▆█</td></tr></table><br/>"
            ],
            "text/plain": [
              "<IPython.core.display.HTML object>"
            ]
          },
          "metadata": {}
        },
        {
          "output_type": "display_data",
          "data": {
            "text/html": [
              "Synced 5 W&B file(s), 181 media file(s), 0 artifact file(s) and 10 other file(s)"
            ],
            "text/plain": [
              "<IPython.core.display.HTML object>"
            ]
          },
          "metadata": {}
        },
        {
          "output_type": "display_data",
          "data": {
            "text/html": [
              "\n",
              "                    <br/>Synced <strong style=\"color:#cdcd00\">wobbly-sweep-10</strong>: <a href=\"https://wandb.ai/knu/sweep-practice/runs/pfchz6re\" target=\"_blank\">https://wandb.ai/knu/sweep-practice/runs/pfchz6re</a><br/>\n",
              "                "
            ],
            "text/plain": [
              "<IPython.core.display.HTML object>"
            ]
          },
          "metadata": {}
        },
        {
          "output_type": "stream",
          "name": "stderr",
          "text": [
            "\u001b[34m\u001b[1mwandb\u001b[0m: Agent Starting Run: hfnzsomq with config:\n",
            "\u001b[34m\u001b[1mwandb\u001b[0m: \tdropout_rate: 0.1\n",
            "\u001b[34m\u001b[1mwandb\u001b[0m: \tlayer1_activation: relu\n",
            "\u001b[34m\u001b[1mwandb\u001b[0m: \tlayer1_size: 64\n",
            "\u001b[34m\u001b[1mwandb\u001b[0m: \tlearning_rate: 0.001\n",
            "\u001b[34m\u001b[1mwandb\u001b[0m: \toptimizers: adam\n",
            "\u001b[34m\u001b[1mwandb\u001b[0m: \u001b[33mWARNING\u001b[0m Ignored wandb.init() arg project when running a sweep\n"
          ]
        },
        {
          "output_type": "display_data",
          "data": {
            "text/html": [
              "\n",
              "                Tracking run with wandb version 0.12.1<br/>\n",
              "                Syncing run <strong style=\"color:#cdcd00\">fearless-sweep-11</strong> to <a href=\"https://wandb.ai\" target=\"_blank\">Weights & Biases</a> <a href=\"https://docs.wandb.com/integrations/jupyter.html\" target=\"_blank\">(Documentation)</a>.<br/>\n",
              "                Project page: <a href=\"https://wandb.ai/knu/sweep-practice\" target=\"_blank\">https://wandb.ai/knu/sweep-practice</a><br/>\n",
              "                Sweep page: <a href=\"https://wandb.ai/knu/sweep-practice/sweeps/ovtioqch\" target=\"_blank\">https://wandb.ai/knu/sweep-practice/sweeps/ovtioqch</a><br/>\n",
              "Run page: <a href=\"https://wandb.ai/knu/sweep-practice/runs/hfnzsomq\" target=\"_blank\">https://wandb.ai/knu/sweep-practice/runs/hfnzsomq</a><br/>\n",
              "                Run data is saved locally in <code>/content/wandb/run-20210909_153008-hfnzsomq</code><br/><br/>\n",
              "            "
            ],
            "text/plain": [
              "<IPython.core.display.HTML object>"
            ]
          },
          "metadata": {}
        },
        {
          "output_type": "display_data",
          "data": {
            "text/html": [
              "<br/>Waiting for W&B process to finish, PID 3734<br/>Program failed with code 1.  Press ctrl-c to abort syncing."
            ],
            "text/plain": [
              "<IPython.core.display.HTML object>"
            ]
          },
          "metadata": {}
        },
        {
          "output_type": "display_data",
          "data": {
            "application/vnd.jupyter.widget-view+json": {
              "model_id": "f4ffb696e34b425ab3aedde02ffe8cc8",
              "version_minor": 0,
              "version_major": 2
            },
            "text/plain": [
              "VBox(children=(Label(value=' 0.00MB of 0.00MB uploaded (0.00MB deduped)\\r'), FloatProgress(value=1.0, max=1.0)…"
            ]
          },
          "metadata": {}
        },
        {
          "output_type": "display_data",
          "data": {
            "text/html": [
              "Find user logs for this run at: <code>/content/wandb/run-20210909_153008-hfnzsomq/logs/debug.log</code>"
            ],
            "text/plain": [
              "<IPython.core.display.HTML object>"
            ]
          },
          "metadata": {}
        },
        {
          "output_type": "display_data",
          "data": {
            "text/html": [
              "Find internal logs for this run at: <code>/content/wandb/run-20210909_153008-hfnzsomq/logs/debug-internal.log</code>"
            ],
            "text/plain": [
              "<IPython.core.display.HTML object>"
            ]
          },
          "metadata": {}
        },
        {
          "output_type": "display_data",
          "data": {
            "text/html": [
              "Synced 4 W&B file(s), 0 media file(s), 0 artifact file(s) and 0 other file(s)"
            ],
            "text/plain": [
              "<IPython.core.display.HTML object>"
            ]
          },
          "metadata": {}
        },
        {
          "output_type": "display_data",
          "data": {
            "text/html": [
              "\n",
              "                    <br/>Synced <strong style=\"color:#cdcd00\">fearless-sweep-11</strong>: <a href=\"https://wandb.ai/knu/sweep-practice/runs/hfnzsomq\" target=\"_blank\">https://wandb.ai/knu/sweep-practice/runs/hfnzsomq</a><br/>\n",
              "                "
            ],
            "text/plain": [
              "<IPython.core.display.HTML object>"
            ]
          },
          "metadata": {}
        },
        {
          "output_type": "stream",
          "name": "stderr",
          "text": [
            "Run hfnzsomq errored: AttributeError(\"module 'tensorflow.keras' has no attribute 'optimizer'\")\n",
            "\u001b[34m\u001b[1mwandb\u001b[0m: \u001b[32m\u001b[41mERROR\u001b[0m Run hfnzsomq errored: AttributeError(\"module 'tensorflow.keras' has no attribute 'optimizer'\")\n",
            "\u001b[34m\u001b[1mwandb\u001b[0m: Agent Starting Run: it7agyii with config:\n",
            "\u001b[34m\u001b[1mwandb\u001b[0m: \tdropout_rate: 0.1\n",
            "\u001b[34m\u001b[1mwandb\u001b[0m: \tlayer1_activation: relu\n",
            "\u001b[34m\u001b[1mwandb\u001b[0m: \tlayer1_size: 64\n",
            "\u001b[34m\u001b[1mwandb\u001b[0m: \tlearning_rate: 0.001\n",
            "\u001b[34m\u001b[1mwandb\u001b[0m: \toptimizers: rmsprop\n",
            "\u001b[34m\u001b[1mwandb\u001b[0m: \u001b[33mWARNING\u001b[0m Ignored wandb.init() arg project when running a sweep\n"
          ]
        },
        {
          "output_type": "display_data",
          "data": {
            "text/html": [
              "\n",
              "                Tracking run with wandb version 0.12.1<br/>\n",
              "                Syncing run <strong style=\"color:#cdcd00\">rosy-sweep-12</strong> to <a href=\"https://wandb.ai\" target=\"_blank\">Weights & Biases</a> <a href=\"https://docs.wandb.com/integrations/jupyter.html\" target=\"_blank\">(Documentation)</a>.<br/>\n",
              "                Project page: <a href=\"https://wandb.ai/knu/sweep-practice\" target=\"_blank\">https://wandb.ai/knu/sweep-practice</a><br/>\n",
              "                Sweep page: <a href=\"https://wandb.ai/knu/sweep-practice/sweeps/ovtioqch\" target=\"_blank\">https://wandb.ai/knu/sweep-practice/sweeps/ovtioqch</a><br/>\n",
              "Run page: <a href=\"https://wandb.ai/knu/sweep-practice/runs/it7agyii\" target=\"_blank\">https://wandb.ai/knu/sweep-practice/runs/it7agyii</a><br/>\n",
              "                Run data is saved locally in <code>/content/wandb/run-20210909_153017-it7agyii</code><br/><br/>\n",
              "            "
            ],
            "text/plain": [
              "<IPython.core.display.HTML object>"
            ]
          },
          "metadata": {}
        },
        {
          "output_type": "stream",
          "name": "stdout",
          "text": [
            "Epoch 1/5\n",
            "   3/1875 [..............................] - ETA: 1:10 - loss: 2.2454 - accuracy: 0.2500 WARNING:tensorflow:Callback method `on_train_batch_end` is slow compared to the batch time (batch time: 0.0033s vs `on_train_batch_end` time: 0.0119s). Check your callbacks.\n",
            "1875/1875 [==============================] - 6s 3ms/step - loss: 0.5370 - accuracy: 0.8108 - val_loss: 0.4323 - val_accuracy: 0.8475\n",
            "Epoch 2/5\n",
            "1875/1875 [==============================] - 6s 3ms/step - loss: 0.4027 - accuracy: 0.8551 - val_loss: 0.3996 - val_accuracy: 0.8573\n",
            "Epoch 3/5\n",
            "1875/1875 [==============================] - 6s 3ms/step - loss: 0.3663 - accuracy: 0.8677 - val_loss: 0.3843 - val_accuracy: 0.8651\n",
            "Epoch 4/5\n",
            "1875/1875 [==============================] - 6s 3ms/step - loss: 0.3468 - accuracy: 0.8722 - val_loss: 0.3630 - val_accuracy: 0.8698\n",
            "Epoch 5/5\n",
            "1875/1875 [==============================] - 6s 3ms/step - loss: 0.3296 - accuracy: 0.8801 - val_loss: 0.3637 - val_accuracy: 0.8698\n"
          ]
        },
        {
          "output_type": "display_data",
          "data": {
            "text/html": [
              "<br/>Waiting for W&B process to finish, PID 3768<br/>Program ended successfully."
            ],
            "text/plain": [
              "<IPython.core.display.HTML object>"
            ]
          },
          "metadata": {}
        },
        {
          "output_type": "display_data",
          "data": {
            "application/vnd.jupyter.widget-view+json": {
              "model_id": "b4f67b09ec3040e993e4fd654e34a5c6",
              "version_minor": 0,
              "version_major": 2
            },
            "text/plain": [
              "VBox(children=(Label(value=' 0.70MB of 0.70MB uploaded (0.00MB deduped)\\r'), FloatProgress(value=1.0, max=1.0)…"
            ]
          },
          "metadata": {}
        },
        {
          "output_type": "display_data",
          "data": {
            "text/html": [
              "Find user logs for this run at: <code>/content/wandb/run-20210909_153017-it7agyii/logs/debug.log</code>"
            ],
            "text/plain": [
              "<IPython.core.display.HTML object>"
            ]
          },
          "metadata": {}
        },
        {
          "output_type": "display_data",
          "data": {
            "text/html": [
              "Find internal logs for this run at: <code>/content/wandb/run-20210909_153017-it7agyii/logs/debug-internal.log</code>"
            ],
            "text/plain": [
              "<IPython.core.display.HTML object>"
            ]
          },
          "metadata": {}
        },
        {
          "output_type": "display_data",
          "data": {
            "text/html": [
              "<h3>Run summary:</h3><br/><style>\n",
              "    table.wandb td:nth-child(1) { padding: 0 10px; text-align: right }\n",
              "    </style><table class=\"wandb\">\n",
              "<tr><td>epoch</td><td>4</td></tr><tr><td>loss</td><td>0.32958</td></tr><tr><td>accuracy</td><td>0.88013</td></tr><tr><td>val_loss</td><td>0.36366</td></tr><tr><td>val_accuracy</td><td>0.8698</td></tr><tr><td>_runtime</td><td>33</td></tr><tr><td>_timestamp</td><td>1631201450</td></tr><tr><td>_step</td><td>4</td></tr><tr><td>best_val_loss</td><td>0.363</td></tr><tr><td>best_epoch</td><td>3</td></tr></table>"
            ],
            "text/plain": [
              "<IPython.core.display.HTML object>"
            ]
          },
          "metadata": {}
        },
        {
          "output_type": "display_data",
          "data": {
            "text/html": [
              "<h3>Run history:</h3><br/><style>\n",
              "    table.wandb td:nth-child(1) { padding: 0 10px; text-align: right }\n",
              "    </style><table class=\"wandb\">\n",
              "<tr><td>epoch</td><td>▁▃▅▆█</td></tr><tr><td>loss</td><td>█▃▂▂▁</td></tr><tr><td>accuracy</td><td>▁▅▇▇█</td></tr><tr><td>val_loss</td><td>█▅▃▁▁</td></tr><tr><td>val_accuracy</td><td>▁▄▇██</td></tr><tr><td>_runtime</td><td>▁▃▅▆█</td></tr><tr><td>_timestamp</td><td>▁▃▅▆█</td></tr><tr><td>_step</td><td>▁▃▅▆█</td></tr></table><br/>"
            ],
            "text/plain": [
              "<IPython.core.display.HTML object>"
            ]
          },
          "metadata": {}
        },
        {
          "output_type": "display_data",
          "data": {
            "text/html": [
              "Synced 5 W&B file(s), 181 media file(s), 0 artifact file(s) and 10 other file(s)"
            ],
            "text/plain": [
              "<IPython.core.display.HTML object>"
            ]
          },
          "metadata": {}
        },
        {
          "output_type": "display_data",
          "data": {
            "text/html": [
              "\n",
              "                    <br/>Synced <strong style=\"color:#cdcd00\">rosy-sweep-12</strong>: <a href=\"https://wandb.ai/knu/sweep-practice/runs/it7agyii\" target=\"_blank\">https://wandb.ai/knu/sweep-practice/runs/it7agyii</a><br/>\n",
              "                "
            ],
            "text/plain": [
              "<IPython.core.display.HTML object>"
            ]
          },
          "metadata": {}
        },
        {
          "output_type": "stream",
          "name": "stderr",
          "text": [
            "\u001b[34m\u001b[1mwandb\u001b[0m: Agent Starting Run: 4ibyt60i with config:\n",
            "\u001b[34m\u001b[1mwandb\u001b[0m: \tdropout_rate: 0.1\n",
            "\u001b[34m\u001b[1mwandb\u001b[0m: \tlayer1_activation: relu\n",
            "\u001b[34m\u001b[1mwandb\u001b[0m: \tlayer1_size: 96\n",
            "\u001b[34m\u001b[1mwandb\u001b[0m: \tlearning_rate: 0.1\n",
            "\u001b[34m\u001b[1mwandb\u001b[0m: \toptimizers: adam\n",
            "\u001b[34m\u001b[1mwandb\u001b[0m: \u001b[33mWARNING\u001b[0m Ignored wandb.init() arg project when running a sweep\n"
          ]
        },
        {
          "output_type": "display_data",
          "data": {
            "text/html": [
              "\n",
              "                Tracking run with wandb version 0.12.1<br/>\n",
              "                Syncing run <strong style=\"color:#cdcd00\">volcanic-sweep-13</strong> to <a href=\"https://wandb.ai\" target=\"_blank\">Weights & Biases</a> <a href=\"https://docs.wandb.com/integrations/jupyter.html\" target=\"_blank\">(Documentation)</a>.<br/>\n",
              "                Project page: <a href=\"https://wandb.ai/knu/sweep-practice\" target=\"_blank\">https://wandb.ai/knu/sweep-practice</a><br/>\n",
              "                Sweep page: <a href=\"https://wandb.ai/knu/sweep-practice/sweeps/ovtioqch\" target=\"_blank\">https://wandb.ai/knu/sweep-practice/sweeps/ovtioqch</a><br/>\n",
              "Run page: <a href=\"https://wandb.ai/knu/sweep-practice/runs/4ibyt60i\" target=\"_blank\">https://wandb.ai/knu/sweep-practice/runs/4ibyt60i</a><br/>\n",
              "                Run data is saved locally in <code>/content/wandb/run-20210909_153110-4ibyt60i</code><br/><br/>\n",
              "            "
            ],
            "text/plain": [
              "<IPython.core.display.HTML object>"
            ]
          },
          "metadata": {}
        },
        {
          "output_type": "display_data",
          "data": {
            "text/html": [
              "<br/>Waiting for W&B process to finish, PID 4059<br/>Program failed with code 1.  Press ctrl-c to abort syncing."
            ],
            "text/plain": [
              "<IPython.core.display.HTML object>"
            ]
          },
          "metadata": {}
        },
        {
          "output_type": "display_data",
          "data": {
            "application/vnd.jupyter.widget-view+json": {
              "model_id": "5bdbbcad7af746a8a3c2efa654254a69",
              "version_minor": 0,
              "version_major": 2
            },
            "text/plain": [
              "VBox(children=(Label(value=' 0.00MB of 0.00MB uploaded (0.00MB deduped)\\r'), FloatProgress(value=1.0, max=1.0)…"
            ]
          },
          "metadata": {}
        },
        {
          "output_type": "display_data",
          "data": {
            "text/html": [
              "Find user logs for this run at: <code>/content/wandb/run-20210909_153110-4ibyt60i/logs/debug.log</code>"
            ],
            "text/plain": [
              "<IPython.core.display.HTML object>"
            ]
          },
          "metadata": {}
        },
        {
          "output_type": "display_data",
          "data": {
            "text/html": [
              "Find internal logs for this run at: <code>/content/wandb/run-20210909_153110-4ibyt60i/logs/debug-internal.log</code>"
            ],
            "text/plain": [
              "<IPython.core.display.HTML object>"
            ]
          },
          "metadata": {}
        },
        {
          "output_type": "display_data",
          "data": {
            "text/html": [
              "Synced 4 W&B file(s), 0 media file(s), 0 artifact file(s) and 0 other file(s)"
            ],
            "text/plain": [
              "<IPython.core.display.HTML object>"
            ]
          },
          "metadata": {}
        },
        {
          "output_type": "display_data",
          "data": {
            "text/html": [
              "\n",
              "                    <br/>Synced <strong style=\"color:#cdcd00\">volcanic-sweep-13</strong>: <a href=\"https://wandb.ai/knu/sweep-practice/runs/4ibyt60i\" target=\"_blank\">https://wandb.ai/knu/sweep-practice/runs/4ibyt60i</a><br/>\n",
              "                "
            ],
            "text/plain": [
              "<IPython.core.display.HTML object>"
            ]
          },
          "metadata": {}
        },
        {
          "output_type": "stream",
          "name": "stderr",
          "text": [
            "Run 4ibyt60i errored: AttributeError(\"module 'tensorflow.keras' has no attribute 'optimizer'\")\n",
            "\u001b[34m\u001b[1mwandb\u001b[0m: \u001b[32m\u001b[41mERROR\u001b[0m Run 4ibyt60i errored: AttributeError(\"module 'tensorflow.keras' has no attribute 'optimizer'\")\n",
            "\u001b[34m\u001b[1mwandb\u001b[0m: Agent Starting Run: 2ltagvb6 with config:\n",
            "\u001b[34m\u001b[1mwandb\u001b[0m: \tdropout_rate: 0.1\n",
            "\u001b[34m\u001b[1mwandb\u001b[0m: \tlayer1_activation: relu\n",
            "\u001b[34m\u001b[1mwandb\u001b[0m: \tlayer1_size: 96\n",
            "\u001b[34m\u001b[1mwandb\u001b[0m: \tlearning_rate: 0.1\n",
            "\u001b[34m\u001b[1mwandb\u001b[0m: \toptimizers: rmsprop\n",
            "\u001b[34m\u001b[1mwandb\u001b[0m: \u001b[33mWARNING\u001b[0m Ignored wandb.init() arg project when running a sweep\n"
          ]
        },
        {
          "output_type": "display_data",
          "data": {
            "text/html": [
              "\n",
              "                Tracking run with wandb version 0.12.1<br/>\n",
              "                Syncing run <strong style=\"color:#cdcd00\">ethereal-sweep-14</strong> to <a href=\"https://wandb.ai\" target=\"_blank\">Weights & Biases</a> <a href=\"https://docs.wandb.com/integrations/jupyter.html\" target=\"_blank\">(Documentation)</a>.<br/>\n",
              "                Project page: <a href=\"https://wandb.ai/knu/sweep-practice\" target=\"_blank\">https://wandb.ai/knu/sweep-practice</a><br/>\n",
              "                Sweep page: <a href=\"https://wandb.ai/knu/sweep-practice/sweeps/ovtioqch\" target=\"_blank\">https://wandb.ai/knu/sweep-practice/sweeps/ovtioqch</a><br/>\n",
              "Run page: <a href=\"https://wandb.ai/knu/sweep-practice/runs/2ltagvb6\" target=\"_blank\">https://wandb.ai/knu/sweep-practice/runs/2ltagvb6</a><br/>\n",
              "                Run data is saved locally in <code>/content/wandb/run-20210909_153122-2ltagvb6</code><br/><br/>\n",
              "            "
            ],
            "text/plain": [
              "<IPython.core.display.HTML object>"
            ]
          },
          "metadata": {}
        },
        {
          "output_type": "stream",
          "name": "stdout",
          "text": [
            "Epoch 1/5\n",
            "   3/1875 [..............................] - ETA: 1:03 - loss: 2.3679 - accuracy: 0.1250 WARNING:tensorflow:Callback method `on_train_batch_end` is slow compared to the batch time (batch time: 0.0035s vs `on_train_batch_end` time: 0.0106s). Check your callbacks.\n",
            "1875/1875 [==============================] - 6s 3ms/step - loss: 0.5279 - accuracy: 0.8142 - val_loss: 0.4235 - val_accuracy: 0.8481\n",
            "Epoch 2/5\n",
            "1875/1875 [==============================] - 6s 3ms/step - loss: 0.3950 - accuracy: 0.8561 - val_loss: 0.3935 - val_accuracy: 0.8616\n",
            "Epoch 3/5\n",
            "1875/1875 [==============================] - 6s 3ms/step - loss: 0.3613 - accuracy: 0.8691 - val_loss: 0.3838 - val_accuracy: 0.8580\n",
            "Epoch 4/5\n",
            "1875/1875 [==============================] - 6s 3ms/step - loss: 0.3405 - accuracy: 0.8730 - val_loss: 0.3702 - val_accuracy: 0.8693\n",
            "Epoch 5/5\n",
            "1875/1875 [==============================] - 6s 3ms/step - loss: 0.3212 - accuracy: 0.8819 - val_loss: 0.3667 - val_accuracy: 0.8703\n"
          ]
        },
        {
          "output_type": "display_data",
          "data": {
            "text/html": [
              "<br/>Waiting for W&B process to finish, PID 4093<br/>Program ended successfully."
            ],
            "text/plain": [
              "<IPython.core.display.HTML object>"
            ]
          },
          "metadata": {}
        },
        {
          "output_type": "display_data",
          "data": {
            "application/vnd.jupyter.widget-view+json": {
              "model_id": "4d907d41ba8747df8f8bb419a77e7a79",
              "version_minor": 0,
              "version_major": 2
            },
            "text/plain": [
              "VBox(children=(Label(value=' 1.18MB of 1.18MB uploaded (0.00MB deduped)\\r'), FloatProgress(value=1.0, max=1.0)…"
            ]
          },
          "metadata": {}
        },
        {
          "output_type": "display_data",
          "data": {
            "text/html": [
              "Find user logs for this run at: <code>/content/wandb/run-20210909_153122-2ltagvb6/logs/debug.log</code>"
            ],
            "text/plain": [
              "<IPython.core.display.HTML object>"
            ]
          },
          "metadata": {}
        },
        {
          "output_type": "display_data",
          "data": {
            "text/html": [
              "Find internal logs for this run at: <code>/content/wandb/run-20210909_153122-2ltagvb6/logs/debug-internal.log</code>"
            ],
            "text/plain": [
              "<IPython.core.display.HTML object>"
            ]
          },
          "metadata": {}
        },
        {
          "output_type": "display_data",
          "data": {
            "text/html": [
              "<h3>Run summary:</h3><br/><style>\n",
              "    table.wandb td:nth-child(1) { padding: 0 10px; text-align: right }\n",
              "    </style><table class=\"wandb\">\n",
              "<tr><td>epoch</td><td>4</td></tr><tr><td>loss</td><td>0.32123</td></tr><tr><td>accuracy</td><td>0.88192</td></tr><tr><td>val_loss</td><td>0.36673</td></tr><tr><td>val_accuracy</td><td>0.8703</td></tr><tr><td>_runtime</td><td>36</td></tr><tr><td>_timestamp</td><td>1631201518</td></tr><tr><td>_step</td><td>4</td></tr><tr><td>best_val_loss</td><td>0.36673</td></tr><tr><td>best_epoch</td><td>4</td></tr></table>"
            ],
            "text/plain": [
              "<IPython.core.display.HTML object>"
            ]
          },
          "metadata": {}
        },
        {
          "output_type": "display_data",
          "data": {
            "text/html": [
              "<h3>Run history:</h3><br/><style>\n",
              "    table.wandb td:nth-child(1) { padding: 0 10px; text-align: right }\n",
              "    </style><table class=\"wandb\">\n",
              "<tr><td>epoch</td><td>▁▃▅▆█</td></tr><tr><td>loss</td><td>█▃▂▂▁</td></tr><tr><td>accuracy</td><td>▁▅▇▇█</td></tr><tr><td>val_loss</td><td>█▄▃▁▁</td></tr><tr><td>val_accuracy</td><td>▁▅▄██</td></tr><tr><td>_runtime</td><td>▁▃▅▆█</td></tr><tr><td>_timestamp</td><td>▁▃▅▆█</td></tr><tr><td>_step</td><td>▁▃▅▆█</td></tr></table><br/>"
            ],
            "text/plain": [
              "<IPython.core.display.HTML object>"
            ]
          },
          "metadata": {}
        },
        {
          "output_type": "display_data",
          "data": {
            "text/html": [
              "Synced 5 W&B file(s), 181 media file(s), 0 artifact file(s) and 10 other file(s)"
            ],
            "text/plain": [
              "<IPython.core.display.HTML object>"
            ]
          },
          "metadata": {}
        },
        {
          "output_type": "display_data",
          "data": {
            "text/html": [
              "\n",
              "                    <br/>Synced <strong style=\"color:#cdcd00\">ethereal-sweep-14</strong>: <a href=\"https://wandb.ai/knu/sweep-practice/runs/2ltagvb6\" target=\"_blank\">https://wandb.ai/knu/sweep-practice/runs/2ltagvb6</a><br/>\n",
              "                "
            ],
            "text/plain": [
              "<IPython.core.display.HTML object>"
            ]
          },
          "metadata": {}
        },
        {
          "output_type": "stream",
          "name": "stderr",
          "text": [
            "\u001b[34m\u001b[1mwandb\u001b[0m: Agent Starting Run: 0k0bvzs1 with config:\n",
            "\u001b[34m\u001b[1mwandb\u001b[0m: \tdropout_rate: 0.1\n",
            "\u001b[34m\u001b[1mwandb\u001b[0m: \tlayer1_activation: relu\n",
            "\u001b[34m\u001b[1mwandb\u001b[0m: \tlayer1_size: 96\n",
            "\u001b[34m\u001b[1mwandb\u001b[0m: \tlearning_rate: 0.01\n",
            "\u001b[34m\u001b[1mwandb\u001b[0m: \toptimizers: adam\n",
            "\u001b[34m\u001b[1mwandb\u001b[0m: \u001b[33mWARNING\u001b[0m Ignored wandb.init() arg project when running a sweep\n"
          ]
        },
        {
          "output_type": "display_data",
          "data": {
            "text/html": [
              "\n",
              "                Tracking run with wandb version 0.12.1<br/>\n",
              "                Syncing run <strong style=\"color:#cdcd00\">expert-sweep-15</strong> to <a href=\"https://wandb.ai\" target=\"_blank\">Weights & Biases</a> <a href=\"https://docs.wandb.com/integrations/jupyter.html\" target=\"_blank\">(Documentation)</a>.<br/>\n",
              "                Project page: <a href=\"https://wandb.ai/knu/sweep-practice\" target=\"_blank\">https://wandb.ai/knu/sweep-practice</a><br/>\n",
              "                Sweep page: <a href=\"https://wandb.ai/knu/sweep-practice/sweeps/ovtioqch\" target=\"_blank\">https://wandb.ai/knu/sweep-practice/sweeps/ovtioqch</a><br/>\n",
              "Run page: <a href=\"https://wandb.ai/knu/sweep-practice/runs/0k0bvzs1\" target=\"_blank\">https://wandb.ai/knu/sweep-practice/runs/0k0bvzs1</a><br/>\n",
              "                Run data is saved locally in <code>/content/wandb/run-20210909_153215-0k0bvzs1</code><br/><br/>\n",
              "            "
            ],
            "text/plain": [
              "<IPython.core.display.HTML object>"
            ]
          },
          "metadata": {}
        },
        {
          "output_type": "display_data",
          "data": {
            "text/html": [
              "<br/>Waiting for W&B process to finish, PID 4380<br/>Program failed with code 1.  Press ctrl-c to abort syncing."
            ],
            "text/plain": [
              "<IPython.core.display.HTML object>"
            ]
          },
          "metadata": {}
        },
        {
          "output_type": "display_data",
          "data": {
            "application/vnd.jupyter.widget-view+json": {
              "model_id": "87a2ab0acaad45d798d0c46aef20ccd1",
              "version_minor": 0,
              "version_major": 2
            },
            "text/plain": [
              "VBox(children=(Label(value=' 0.00MB of 0.00MB uploaded (0.00MB deduped)\\r'), FloatProgress(value=1.0, max=1.0)…"
            ]
          },
          "metadata": {}
        },
        {
          "output_type": "display_data",
          "data": {
            "text/html": [
              "Find user logs for this run at: <code>/content/wandb/run-20210909_153215-0k0bvzs1/logs/debug.log</code>"
            ],
            "text/plain": [
              "<IPython.core.display.HTML object>"
            ]
          },
          "metadata": {}
        },
        {
          "output_type": "display_data",
          "data": {
            "text/html": [
              "Find internal logs for this run at: <code>/content/wandb/run-20210909_153215-0k0bvzs1/logs/debug-internal.log</code>"
            ],
            "text/plain": [
              "<IPython.core.display.HTML object>"
            ]
          },
          "metadata": {}
        },
        {
          "output_type": "display_data",
          "data": {
            "text/html": [
              "Synced 4 W&B file(s), 0 media file(s), 0 artifact file(s) and 0 other file(s)"
            ],
            "text/plain": [
              "<IPython.core.display.HTML object>"
            ]
          },
          "metadata": {}
        },
        {
          "output_type": "display_data",
          "data": {
            "text/html": [
              "\n",
              "                    <br/>Synced <strong style=\"color:#cdcd00\">expert-sweep-15</strong>: <a href=\"https://wandb.ai/knu/sweep-practice/runs/0k0bvzs1\" target=\"_blank\">https://wandb.ai/knu/sweep-practice/runs/0k0bvzs1</a><br/>\n",
              "                "
            ],
            "text/plain": [
              "<IPython.core.display.HTML object>"
            ]
          },
          "metadata": {}
        },
        {
          "output_type": "stream",
          "name": "stderr",
          "text": [
            "Run 0k0bvzs1 errored: AttributeError(\"module 'tensorflow.keras' has no attribute 'optimizer'\")\n",
            "\u001b[34m\u001b[1mwandb\u001b[0m: \u001b[32m\u001b[41mERROR\u001b[0m Run 0k0bvzs1 errored: AttributeError(\"module 'tensorflow.keras' has no attribute 'optimizer'\")\n",
            "\u001b[34m\u001b[1mwandb\u001b[0m: Agent Starting Run: 88ixxpt8 with config:\n",
            "\u001b[34m\u001b[1mwandb\u001b[0m: \tdropout_rate: 0.1\n",
            "\u001b[34m\u001b[1mwandb\u001b[0m: \tlayer1_activation: relu\n",
            "\u001b[34m\u001b[1mwandb\u001b[0m: \tlayer1_size: 96\n",
            "\u001b[34m\u001b[1mwandb\u001b[0m: \tlearning_rate: 0.01\n",
            "\u001b[34m\u001b[1mwandb\u001b[0m: \toptimizers: rmsprop\n",
            "\u001b[34m\u001b[1mwandb\u001b[0m: \u001b[33mWARNING\u001b[0m Ignored wandb.init() arg project when running a sweep\n"
          ]
        },
        {
          "output_type": "display_data",
          "data": {
            "text/html": [
              "\n",
              "                Tracking run with wandb version 0.12.1<br/>\n",
              "                Syncing run <strong style=\"color:#cdcd00\">deep-sweep-16</strong> to <a href=\"https://wandb.ai\" target=\"_blank\">Weights & Biases</a> <a href=\"https://docs.wandb.com/integrations/jupyter.html\" target=\"_blank\">(Documentation)</a>.<br/>\n",
              "                Project page: <a href=\"https://wandb.ai/knu/sweep-practice\" target=\"_blank\">https://wandb.ai/knu/sweep-practice</a><br/>\n",
              "                Sweep page: <a href=\"https://wandb.ai/knu/sweep-practice/sweeps/ovtioqch\" target=\"_blank\">https://wandb.ai/knu/sweep-practice/sweeps/ovtioqch</a><br/>\n",
              "Run page: <a href=\"https://wandb.ai/knu/sweep-practice/runs/88ixxpt8\" target=\"_blank\">https://wandb.ai/knu/sweep-practice/runs/88ixxpt8</a><br/>\n",
              "                Run data is saved locally in <code>/content/wandb/run-20210909_153225-88ixxpt8</code><br/><br/>\n",
              "            "
            ],
            "text/plain": [
              "<IPython.core.display.HTML object>"
            ]
          },
          "metadata": {}
        },
        {
          "output_type": "stream",
          "name": "stdout",
          "text": [
            "Epoch 1/5\n",
            "   3/1875 [..............................] - ETA: 1:14 - loss: 2.4984 - accuracy: 0.0833 WARNING:tensorflow:Callback method `on_train_batch_end` is slow compared to the batch time (batch time: 0.0043s vs `on_train_batch_end` time: 0.0130s). Check your callbacks.\n",
            "1875/1875 [==============================] - 6s 3ms/step - loss: 0.5315 - accuracy: 0.8133 - val_loss: 0.4404 - val_accuracy: 0.8431\n",
            "Epoch 2/5\n",
            "1875/1875 [==============================] - 6s 3ms/step - loss: 0.3953 - accuracy: 0.8579 - val_loss: 0.4077 - val_accuracy: 0.8548\n",
            "Epoch 3/5\n",
            "1875/1875 [==============================] - 6s 3ms/step - loss: 0.3587 - accuracy: 0.8702 - val_loss: 0.3770 - val_accuracy: 0.8635\n",
            "Epoch 4/5\n",
            "1875/1875 [==============================] - 7s 3ms/step - loss: 0.3353 - accuracy: 0.8760 - val_loss: 0.3685 - val_accuracy: 0.8679\n",
            "Epoch 5/5\n",
            "1875/1875 [==============================] - 6s 3ms/step - loss: 0.3196 - accuracy: 0.8828 - val_loss: 0.3513 - val_accuracy: 0.8731\n"
          ]
        },
        {
          "output_type": "display_data",
          "data": {
            "text/html": [
              "<br/>Waiting for W&B process to finish, PID 4414<br/>Program ended successfully."
            ],
            "text/plain": [
              "<IPython.core.display.HTML object>"
            ]
          },
          "metadata": {}
        },
        {
          "output_type": "display_data",
          "data": {
            "application/vnd.jupyter.widget-view+json": {
              "model_id": "d22cde15d316448186aa6598c7857e37",
              "version_minor": 0,
              "version_major": 2
            },
            "text/plain": [
              "VBox(children=(Label(value=' 1.18MB of 1.18MB uploaded (0.00MB deduped)\\r'), FloatProgress(value=1.0, max=1.0)…"
            ]
          },
          "metadata": {}
        },
        {
          "output_type": "display_data",
          "data": {
            "text/html": [
              "Find user logs for this run at: <code>/content/wandb/run-20210909_153225-88ixxpt8/logs/debug.log</code>"
            ],
            "text/plain": [
              "<IPython.core.display.HTML object>"
            ]
          },
          "metadata": {}
        },
        {
          "output_type": "display_data",
          "data": {
            "text/html": [
              "Find internal logs for this run at: <code>/content/wandb/run-20210909_153225-88ixxpt8/logs/debug-internal.log</code>"
            ],
            "text/plain": [
              "<IPython.core.display.HTML object>"
            ]
          },
          "metadata": {}
        },
        {
          "output_type": "display_data",
          "data": {
            "text/html": [
              "<h3>Run summary:</h3><br/><style>\n",
              "    table.wandb td:nth-child(1) { padding: 0 10px; text-align: right }\n",
              "    </style><table class=\"wandb\">\n",
              "<tr><td>epoch</td><td>4</td></tr><tr><td>loss</td><td>0.31959</td></tr><tr><td>accuracy</td><td>0.8828</td></tr><tr><td>val_loss</td><td>0.35126</td></tr><tr><td>val_accuracy</td><td>0.8731</td></tr><tr><td>_runtime</td><td>36</td></tr><tr><td>_timestamp</td><td>1631201581</td></tr><tr><td>_step</td><td>4</td></tr><tr><td>best_val_loss</td><td>0.35126</td></tr><tr><td>best_epoch</td><td>4</td></tr></table>"
            ],
            "text/plain": [
              "<IPython.core.display.HTML object>"
            ]
          },
          "metadata": {}
        },
        {
          "output_type": "display_data",
          "data": {
            "text/html": [
              "<h3>Run history:</h3><br/><style>\n",
              "    table.wandb td:nth-child(1) { padding: 0 10px; text-align: right }\n",
              "    </style><table class=\"wandb\">\n",
              "<tr><td>epoch</td><td>▁▃▅▆█</td></tr><tr><td>loss</td><td>█▃▂▂▁</td></tr><tr><td>accuracy</td><td>▁▅▇▇█</td></tr><tr><td>val_loss</td><td>█▅▃▂▁</td></tr><tr><td>val_accuracy</td><td>▁▄▆▇█</td></tr><tr><td>_runtime</td><td>▁▃▄▆█</td></tr><tr><td>_timestamp</td><td>▁▃▄▆█</td></tr><tr><td>_step</td><td>▁▃▅▆█</td></tr></table><br/>"
            ],
            "text/plain": [
              "<IPython.core.display.HTML object>"
            ]
          },
          "metadata": {}
        },
        {
          "output_type": "display_data",
          "data": {
            "text/html": [
              "Synced 5 W&B file(s), 181 media file(s), 0 artifact file(s) and 10 other file(s)"
            ],
            "text/plain": [
              "<IPython.core.display.HTML object>"
            ]
          },
          "metadata": {}
        },
        {
          "output_type": "display_data",
          "data": {
            "text/html": [
              "\n",
              "                    <br/>Synced <strong style=\"color:#cdcd00\">deep-sweep-16</strong>: <a href=\"https://wandb.ai/knu/sweep-practice/runs/88ixxpt8\" target=\"_blank\">https://wandb.ai/knu/sweep-practice/runs/88ixxpt8</a><br/>\n",
              "                "
            ],
            "text/plain": [
              "<IPython.core.display.HTML object>"
            ]
          },
          "metadata": {}
        },
        {
          "output_type": "stream",
          "name": "stderr",
          "text": [
            "\u001b[34m\u001b[1mwandb\u001b[0m: Agent Starting Run: fzyw4mhh with config:\n",
            "\u001b[34m\u001b[1mwandb\u001b[0m: \tdropout_rate: 0.1\n",
            "\u001b[34m\u001b[1mwandb\u001b[0m: \tlayer1_activation: relu\n",
            "\u001b[34m\u001b[1mwandb\u001b[0m: \tlayer1_size: 96\n",
            "\u001b[34m\u001b[1mwandb\u001b[0m: \tlearning_rate: 0.001\n",
            "\u001b[34m\u001b[1mwandb\u001b[0m: \toptimizers: adam\n",
            "\u001b[34m\u001b[1mwandb\u001b[0m: \u001b[33mWARNING\u001b[0m Ignored wandb.init() arg project when running a sweep\n"
          ]
        },
        {
          "output_type": "display_data",
          "data": {
            "text/html": [
              "\n",
              "                Tracking run with wandb version 0.12.1<br/>\n",
              "                Syncing run <strong style=\"color:#cdcd00\">gallant-sweep-17</strong> to <a href=\"https://wandb.ai\" target=\"_blank\">Weights & Biases</a> <a href=\"https://docs.wandb.com/integrations/jupyter.html\" target=\"_blank\">(Documentation)</a>.<br/>\n",
              "                Project page: <a href=\"https://wandb.ai/knu/sweep-practice\" target=\"_blank\">https://wandb.ai/knu/sweep-practice</a><br/>\n",
              "                Sweep page: <a href=\"https://wandb.ai/knu/sweep-practice/sweeps/ovtioqch\" target=\"_blank\">https://wandb.ai/knu/sweep-practice/sweeps/ovtioqch</a><br/>\n",
              "Run page: <a href=\"https://wandb.ai/knu/sweep-practice/runs/fzyw4mhh\" target=\"_blank\">https://wandb.ai/knu/sweep-practice/runs/fzyw4mhh</a><br/>\n",
              "                Run data is saved locally in <code>/content/wandb/run-20210909_153318-fzyw4mhh</code><br/><br/>\n",
              "            "
            ],
            "text/plain": [
              "<IPython.core.display.HTML object>"
            ]
          },
          "metadata": {}
        },
        {
          "output_type": "display_data",
          "data": {
            "text/html": [
              "<br/>Waiting for W&B process to finish, PID 4708<br/>Program failed with code 1.  Press ctrl-c to abort syncing."
            ],
            "text/plain": [
              "<IPython.core.display.HTML object>"
            ]
          },
          "metadata": {}
        },
        {
          "output_type": "display_data",
          "data": {
            "application/vnd.jupyter.widget-view+json": {
              "model_id": "7c2f3dc9b95946d983b552deda758415",
              "version_minor": 0,
              "version_major": 2
            },
            "text/plain": [
              "VBox(children=(Label(value=' 0.00MB of 0.00MB uploaded (0.00MB deduped)\\r'), FloatProgress(value=1.0, max=1.0)…"
            ]
          },
          "metadata": {}
        },
        {
          "output_type": "display_data",
          "data": {
            "text/html": [
              "Find user logs for this run at: <code>/content/wandb/run-20210909_153318-fzyw4mhh/logs/debug.log</code>"
            ],
            "text/plain": [
              "<IPython.core.display.HTML object>"
            ]
          },
          "metadata": {}
        },
        {
          "output_type": "display_data",
          "data": {
            "text/html": [
              "Find internal logs for this run at: <code>/content/wandb/run-20210909_153318-fzyw4mhh/logs/debug-internal.log</code>"
            ],
            "text/plain": [
              "<IPython.core.display.HTML object>"
            ]
          },
          "metadata": {}
        },
        {
          "output_type": "display_data",
          "data": {
            "text/html": [
              "Synced 4 W&B file(s), 0 media file(s), 0 artifact file(s) and 0 other file(s)"
            ],
            "text/plain": [
              "<IPython.core.display.HTML object>"
            ]
          },
          "metadata": {}
        },
        {
          "output_type": "display_data",
          "data": {
            "text/html": [
              "\n",
              "                    <br/>Synced <strong style=\"color:#cdcd00\">gallant-sweep-17</strong>: <a href=\"https://wandb.ai/knu/sweep-practice/runs/fzyw4mhh\" target=\"_blank\">https://wandb.ai/knu/sweep-practice/runs/fzyw4mhh</a><br/>\n",
              "                "
            ],
            "text/plain": [
              "<IPython.core.display.HTML object>"
            ]
          },
          "metadata": {}
        },
        {
          "output_type": "stream",
          "name": "stderr",
          "text": [
            "Run fzyw4mhh errored: AttributeError(\"module 'tensorflow.keras' has no attribute 'optimizer'\")\n",
            "\u001b[34m\u001b[1mwandb\u001b[0m: \u001b[32m\u001b[41mERROR\u001b[0m Run fzyw4mhh errored: AttributeError(\"module 'tensorflow.keras' has no attribute 'optimizer'\")\n",
            "\u001b[34m\u001b[1mwandb\u001b[0m: Agent Starting Run: qd6tb3a9 with config:\n",
            "\u001b[34m\u001b[1mwandb\u001b[0m: \tdropout_rate: 0.1\n",
            "\u001b[34m\u001b[1mwandb\u001b[0m: \tlayer1_activation: relu\n",
            "\u001b[34m\u001b[1mwandb\u001b[0m: \tlayer1_size: 96\n",
            "\u001b[34m\u001b[1mwandb\u001b[0m: \tlearning_rate: 0.001\n",
            "\u001b[34m\u001b[1mwandb\u001b[0m: \toptimizers: rmsprop\n",
            "\u001b[34m\u001b[1mwandb\u001b[0m: \u001b[33mWARNING\u001b[0m Ignored wandb.init() arg project when running a sweep\n"
          ]
        },
        {
          "output_type": "display_data",
          "data": {
            "text/html": [
              "\n",
              "                Tracking run with wandb version 0.12.1<br/>\n",
              "                Syncing run <strong style=\"color:#cdcd00\">sleek-sweep-18</strong> to <a href=\"https://wandb.ai\" target=\"_blank\">Weights & Biases</a> <a href=\"https://docs.wandb.com/integrations/jupyter.html\" target=\"_blank\">(Documentation)</a>.<br/>\n",
              "                Project page: <a href=\"https://wandb.ai/knu/sweep-practice\" target=\"_blank\">https://wandb.ai/knu/sweep-practice</a><br/>\n",
              "                Sweep page: <a href=\"https://wandb.ai/knu/sweep-practice/sweeps/ovtioqch\" target=\"_blank\">https://wandb.ai/knu/sweep-practice/sweeps/ovtioqch</a><br/>\n",
              "Run page: <a href=\"https://wandb.ai/knu/sweep-practice/runs/qd6tb3a9\" target=\"_blank\">https://wandb.ai/knu/sweep-practice/runs/qd6tb3a9</a><br/>\n",
              "                Run data is saved locally in <code>/content/wandb/run-20210909_153328-qd6tb3a9</code><br/><br/>\n",
              "            "
            ],
            "text/plain": [
              "<IPython.core.display.HTML object>"
            ]
          },
          "metadata": {}
        },
        {
          "output_type": "stream",
          "name": "stdout",
          "text": [
            "Epoch 1/5\n",
            "   3/1875 [..............................] - ETA: 1:06 - loss: 2.2333 - accuracy: 0.1667 WARNING:tensorflow:Callback method `on_train_batch_end` is slow compared to the batch time (batch time: 0.0036s vs `on_train_batch_end` time: 0.0109s). Check your callbacks.\n",
            "1875/1875 [==============================] - 6s 3ms/step - loss: 0.5255 - accuracy: 0.8135 - val_loss: 0.4230 - val_accuracy: 0.8466\n",
            "Epoch 2/5\n",
            "1875/1875 [==============================] - 7s 3ms/step - loss: 0.3947 - accuracy: 0.8581 - val_loss: 0.3881 - val_accuracy: 0.8598\n",
            "Epoch 3/5\n",
            "1875/1875 [==============================] - 7s 4ms/step - loss: 0.3578 - accuracy: 0.8698 - val_loss: 0.3805 - val_accuracy: 0.8630\n",
            "Epoch 4/5\n",
            "1875/1875 [==============================] - 7s 4ms/step - loss: 0.3348 - accuracy: 0.8774 - val_loss: 0.3953 - val_accuracy: 0.8603\n",
            "Epoch 5/5\n",
            "1875/1875 [==============================] - 7s 4ms/step - loss: 0.3180 - accuracy: 0.8844 - val_loss: 0.3564 - val_accuracy: 0.8733\n"
          ]
        },
        {
          "output_type": "display_data",
          "data": {
            "text/html": [
              "<br/>Waiting for W&B process to finish, PID 4742<br/>Program ended successfully."
            ],
            "text/plain": [
              "<IPython.core.display.HTML object>"
            ]
          },
          "metadata": {}
        },
        {
          "output_type": "display_data",
          "data": {
            "application/vnd.jupyter.widget-view+json": {
              "model_id": "ff11d1c704ce4904bb61e688b91b7893",
              "version_minor": 0,
              "version_major": 2
            },
            "text/plain": [
              "VBox(children=(Label(value=' 1.19MB of 1.19MB uploaded (0.00MB deduped)\\r'), FloatProgress(value=1.0, max=1.0)…"
            ]
          },
          "metadata": {}
        },
        {
          "output_type": "display_data",
          "data": {
            "text/html": [
              "Find user logs for this run at: <code>/content/wandb/run-20210909_153328-qd6tb3a9/logs/debug.log</code>"
            ],
            "text/plain": [
              "<IPython.core.display.HTML object>"
            ]
          },
          "metadata": {}
        },
        {
          "output_type": "display_data",
          "data": {
            "text/html": [
              "Find internal logs for this run at: <code>/content/wandb/run-20210909_153328-qd6tb3a9/logs/debug-internal.log</code>"
            ],
            "text/plain": [
              "<IPython.core.display.HTML object>"
            ]
          },
          "metadata": {}
        },
        {
          "output_type": "display_data",
          "data": {
            "text/html": [
              "<h3>Run summary:</h3><br/><style>\n",
              "    table.wandb td:nth-child(1) { padding: 0 10px; text-align: right }\n",
              "    </style><table class=\"wandb\">\n",
              "<tr><td>epoch</td><td>4</td></tr><tr><td>loss</td><td>0.31805</td></tr><tr><td>accuracy</td><td>0.88442</td></tr><tr><td>val_loss</td><td>0.35641</td></tr><tr><td>val_accuracy</td><td>0.8733</td></tr><tr><td>_runtime</td><td>38</td></tr><tr><td>_timestamp</td><td>1631201646</td></tr><tr><td>_step</td><td>4</td></tr><tr><td>best_val_loss</td><td>0.35641</td></tr><tr><td>best_epoch</td><td>4</td></tr></table>"
            ],
            "text/plain": [
              "<IPython.core.display.HTML object>"
            ]
          },
          "metadata": {}
        },
        {
          "output_type": "display_data",
          "data": {
            "text/html": [
              "<h3>Run history:</h3><br/><style>\n",
              "    table.wandb td:nth-child(1) { padding: 0 10px; text-align: right }\n",
              "    </style><table class=\"wandb\">\n",
              "<tr><td>epoch</td><td>▁▃▅▆█</td></tr><tr><td>loss</td><td>█▄▂▂▁</td></tr><tr><td>accuracy</td><td>▁▅▇▇█</td></tr><tr><td>val_loss</td><td>█▄▄▅▁</td></tr><tr><td>val_accuracy</td><td>▁▄▅▅█</td></tr><tr><td>_runtime</td><td>▁▃▅▆█</td></tr><tr><td>_timestamp</td><td>▁▃▅▆█</td></tr><tr><td>_step</td><td>▁▃▅▆█</td></tr></table><br/>"
            ],
            "text/plain": [
              "<IPython.core.display.HTML object>"
            ]
          },
          "metadata": {}
        },
        {
          "output_type": "display_data",
          "data": {
            "text/html": [
              "Synced 5 W&B file(s), 181 media file(s), 0 artifact file(s) and 10 other file(s)"
            ],
            "text/plain": [
              "<IPython.core.display.HTML object>"
            ]
          },
          "metadata": {}
        },
        {
          "output_type": "display_data",
          "data": {
            "text/html": [
              "\n",
              "                    <br/>Synced <strong style=\"color:#cdcd00\">sleek-sweep-18</strong>: <a href=\"https://wandb.ai/knu/sweep-practice/runs/qd6tb3a9\" target=\"_blank\">https://wandb.ai/knu/sweep-practice/runs/qd6tb3a9</a><br/>\n",
              "                "
            ],
            "text/plain": [
              "<IPython.core.display.HTML object>"
            ]
          },
          "metadata": {}
        },
        {
          "output_type": "stream",
          "name": "stderr",
          "text": [
            "\u001b[34m\u001b[1mwandb\u001b[0m: Agent Starting Run: q95f55rz with config:\n",
            "\u001b[34m\u001b[1mwandb\u001b[0m: \tdropout_rate: 0.1\n",
            "\u001b[34m\u001b[1mwandb\u001b[0m: \tlayer1_activation: relu\n",
            "\u001b[34m\u001b[1mwandb\u001b[0m: \tlayer1_size: 128\n",
            "\u001b[34m\u001b[1mwandb\u001b[0m: \tlearning_rate: 0.1\n",
            "\u001b[34m\u001b[1mwandb\u001b[0m: \toptimizers: adam\n",
            "\u001b[34m\u001b[1mwandb\u001b[0m: \u001b[33mWARNING\u001b[0m Ignored wandb.init() arg project when running a sweep\n"
          ]
        },
        {
          "output_type": "display_data",
          "data": {
            "text/html": [
              "\n",
              "                Tracking run with wandb version 0.12.1<br/>\n",
              "                Syncing run <strong style=\"color:#cdcd00\">serene-sweep-19</strong> to <a href=\"https://wandb.ai\" target=\"_blank\">Weights & Biases</a> <a href=\"https://docs.wandb.com/integrations/jupyter.html\" target=\"_blank\">(Documentation)</a>.<br/>\n",
              "                Project page: <a href=\"https://wandb.ai/knu/sweep-practice\" target=\"_blank\">https://wandb.ai/knu/sweep-practice</a><br/>\n",
              "                Sweep page: <a href=\"https://wandb.ai/knu/sweep-practice/sweeps/ovtioqch\" target=\"_blank\">https://wandb.ai/knu/sweep-practice/sweeps/ovtioqch</a><br/>\n",
              "Run page: <a href=\"https://wandb.ai/knu/sweep-practice/runs/q95f55rz\" target=\"_blank\">https://wandb.ai/knu/sweep-practice/runs/q95f55rz</a><br/>\n",
              "                Run data is saved locally in <code>/content/wandb/run-20210909_153421-q95f55rz</code><br/><br/>\n",
              "            "
            ],
            "text/plain": [
              "<IPython.core.display.HTML object>"
            ]
          },
          "metadata": {}
        },
        {
          "output_type": "display_data",
          "data": {
            "text/html": [
              "<br/>Waiting for W&B process to finish, PID 5034<br/>Program failed with code 1.  Press ctrl-c to abort syncing."
            ],
            "text/plain": [
              "<IPython.core.display.HTML object>"
            ]
          },
          "metadata": {}
        },
        {
          "output_type": "display_data",
          "data": {
            "application/vnd.jupyter.widget-view+json": {
              "model_id": "69d2c3a4e592410aae0d7b902dc5e9f7",
              "version_minor": 0,
              "version_major": 2
            },
            "text/plain": [
              "VBox(children=(Label(value=' 0.00MB of 0.00MB uploaded (0.00MB deduped)\\r'), FloatProgress(value=1.0, max=1.0)…"
            ]
          },
          "metadata": {}
        },
        {
          "output_type": "display_data",
          "data": {
            "text/html": [
              "Find user logs for this run at: <code>/content/wandb/run-20210909_153421-q95f55rz/logs/debug.log</code>"
            ],
            "text/plain": [
              "<IPython.core.display.HTML object>"
            ]
          },
          "metadata": {}
        },
        {
          "output_type": "display_data",
          "data": {
            "text/html": [
              "Find internal logs for this run at: <code>/content/wandb/run-20210909_153421-q95f55rz/logs/debug-internal.log</code>"
            ],
            "text/plain": [
              "<IPython.core.display.HTML object>"
            ]
          },
          "metadata": {}
        },
        {
          "output_type": "display_data",
          "data": {
            "text/html": [
              "Synced 4 W&B file(s), 0 media file(s), 0 artifact file(s) and 0 other file(s)"
            ],
            "text/plain": [
              "<IPython.core.display.HTML object>"
            ]
          },
          "metadata": {}
        },
        {
          "output_type": "display_data",
          "data": {
            "text/html": [
              "\n",
              "                    <br/>Synced <strong style=\"color:#cdcd00\">serene-sweep-19</strong>: <a href=\"https://wandb.ai/knu/sweep-practice/runs/q95f55rz\" target=\"_blank\">https://wandb.ai/knu/sweep-practice/runs/q95f55rz</a><br/>\n",
              "                "
            ],
            "text/plain": [
              "<IPython.core.display.HTML object>"
            ]
          },
          "metadata": {}
        },
        {
          "output_type": "stream",
          "name": "stderr",
          "text": [
            "Run q95f55rz errored: AttributeError(\"module 'tensorflow.keras' has no attribute 'optimizer'\")\n",
            "\u001b[34m\u001b[1mwandb\u001b[0m: \u001b[32m\u001b[41mERROR\u001b[0m Run q95f55rz errored: AttributeError(\"module 'tensorflow.keras' has no attribute 'optimizer'\")\n",
            "\u001b[34m\u001b[1mwandb\u001b[0m: Agent Starting Run: 83k6uyse with config:\n",
            "\u001b[34m\u001b[1mwandb\u001b[0m: \tdropout_rate: 0.1\n",
            "\u001b[34m\u001b[1mwandb\u001b[0m: \tlayer1_activation: relu\n",
            "\u001b[34m\u001b[1mwandb\u001b[0m: \tlayer1_size: 128\n",
            "\u001b[34m\u001b[1mwandb\u001b[0m: \tlearning_rate: 0.1\n",
            "\u001b[34m\u001b[1mwandb\u001b[0m: \toptimizers: rmsprop\n",
            "\u001b[34m\u001b[1mwandb\u001b[0m: \u001b[33mWARNING\u001b[0m Ignored wandb.init() arg project when running a sweep\n"
          ]
        },
        {
          "output_type": "display_data",
          "data": {
            "text/html": [
              "\n",
              "                Tracking run with wandb version 0.12.1<br/>\n",
              "                Syncing run <strong style=\"color:#cdcd00\">super-sweep-20</strong> to <a href=\"https://wandb.ai\" target=\"_blank\">Weights & Biases</a> <a href=\"https://docs.wandb.com/integrations/jupyter.html\" target=\"_blank\">(Documentation)</a>.<br/>\n",
              "                Project page: <a href=\"https://wandb.ai/knu/sweep-practice\" target=\"_blank\">https://wandb.ai/knu/sweep-practice</a><br/>\n",
              "                Sweep page: <a href=\"https://wandb.ai/knu/sweep-practice/sweeps/ovtioqch\" target=\"_blank\">https://wandb.ai/knu/sweep-practice/sweeps/ovtioqch</a><br/>\n",
              "Run page: <a href=\"https://wandb.ai/knu/sweep-practice/runs/83k6uyse\" target=\"_blank\">https://wandb.ai/knu/sweep-practice/runs/83k6uyse</a><br/>\n",
              "                Run data is saved locally in <code>/content/wandb/run-20210909_153432-83k6uyse</code><br/><br/>\n",
              "            "
            ],
            "text/plain": [
              "<IPython.core.display.HTML object>"
            ]
          },
          "metadata": {}
        },
        {
          "output_type": "stream",
          "name": "stdout",
          "text": [
            "Epoch 1/5\n",
            "   3/1875 [..............................] - ETA: 1:04 - loss: 2.5367 - accuracy: 0.1354 WARNING:tensorflow:Callback method `on_train_batch_end` is slow compared to the batch time (batch time: 0.0030s vs `on_train_batch_end` time: 0.0110s). Check your callbacks.\n",
            "1875/1875 [==============================] - 6s 3ms/step - loss: 0.5135 - accuracy: 0.8186 - val_loss: 0.4318 - val_accuracy: 0.8463\n",
            "Epoch 2/5\n",
            "1875/1875 [==============================] - 7s 4ms/step - loss: 0.3858 - accuracy: 0.8602 - val_loss: 0.3892 - val_accuracy: 0.8618\n",
            "Epoch 3/5\n",
            "1875/1875 [==============================] - 7s 4ms/step - loss: 0.3491 - accuracy: 0.8730 - val_loss: 0.3767 - val_accuracy: 0.8638\n",
            "Epoch 4/5\n",
            "1875/1875 [==============================] - 7s 4ms/step - loss: 0.3278 - accuracy: 0.8795 - val_loss: 0.3768 - val_accuracy: 0.8640\n",
            "Epoch 5/5\n",
            "1875/1875 [==============================] - 7s 4ms/step - loss: 0.3121 - accuracy: 0.8846 - val_loss: 0.3422 - val_accuracy: 0.8760\n"
          ]
        },
        {
          "output_type": "display_data",
          "data": {
            "text/html": [
              "<br/>Waiting for W&B process to finish, PID 5070<br/>Program ended successfully."
            ],
            "text/plain": [
              "<IPython.core.display.HTML object>"
            ]
          },
          "metadata": {}
        },
        {
          "output_type": "display_data",
          "data": {
            "application/vnd.jupyter.widget-view+json": {
              "model_id": "253512fee776498893c60f56a9d4df69",
              "version_minor": 0,
              "version_major": 2
            },
            "text/plain": [
              "VBox(children=(Label(value=' 1.47MB of 1.47MB uploaded (0.00MB deduped)\\r'), FloatProgress(value=0.99495416375…"
            ]
          },
          "metadata": {}
        },
        {
          "output_type": "display_data",
          "data": {
            "text/html": [
              "Find user logs for this run at: <code>/content/wandb/run-20210909_153432-83k6uyse/logs/debug.log</code>"
            ],
            "text/plain": [
              "<IPython.core.display.HTML object>"
            ]
          },
          "metadata": {}
        },
        {
          "output_type": "display_data",
          "data": {
            "text/html": [
              "Find internal logs for this run at: <code>/content/wandb/run-20210909_153432-83k6uyse/logs/debug-internal.log</code>"
            ],
            "text/plain": [
              "<IPython.core.display.HTML object>"
            ]
          },
          "metadata": {}
        },
        {
          "output_type": "display_data",
          "data": {
            "text/html": [
              "<h3>Run summary:</h3><br/><style>\n",
              "    table.wandb td:nth-child(1) { padding: 0 10px; text-align: right }\n",
              "    </style><table class=\"wandb\">\n",
              "<tr><td>epoch</td><td>4</td></tr><tr><td>loss</td><td>0.31212</td></tr><tr><td>accuracy</td><td>0.88458</td></tr><tr><td>val_loss</td><td>0.3422</td></tr><tr><td>val_accuracy</td><td>0.876</td></tr><tr><td>_runtime</td><td>39</td></tr><tr><td>_timestamp</td><td>1631201711</td></tr><tr><td>_step</td><td>4</td></tr><tr><td>best_val_loss</td><td>0.3422</td></tr><tr><td>best_epoch</td><td>4</td></tr></table>"
            ],
            "text/plain": [
              "<IPython.core.display.HTML object>"
            ]
          },
          "metadata": {}
        },
        {
          "output_type": "display_data",
          "data": {
            "text/html": [
              "<h3>Run history:</h3><br/><style>\n",
              "    table.wandb td:nth-child(1) { padding: 0 10px; text-align: right }\n",
              "    </style><table class=\"wandb\">\n",
              "<tr><td>epoch</td><td>▁▃▅▆█</td></tr><tr><td>loss</td><td>█▄▂▂▁</td></tr><tr><td>accuracy</td><td>▁▅▇▇█</td></tr><tr><td>val_loss</td><td>█▅▄▄▁</td></tr><tr><td>val_accuracy</td><td>▁▅▅▅█</td></tr><tr><td>_runtime</td><td>▁▃▅▆█</td></tr><tr><td>_timestamp</td><td>▁▃▅▆█</td></tr><tr><td>_step</td><td>▁▃▅▆█</td></tr></table><br/>"
            ],
            "text/plain": [
              "<IPython.core.display.HTML object>"
            ]
          },
          "metadata": {}
        },
        {
          "output_type": "display_data",
          "data": {
            "text/html": [
              "Synced 5 W&B file(s), 181 media file(s), 0 artifact file(s) and 10 other file(s)"
            ],
            "text/plain": [
              "<IPython.core.display.HTML object>"
            ]
          },
          "metadata": {}
        },
        {
          "output_type": "display_data",
          "data": {
            "text/html": [
              "\n",
              "                    <br/>Synced <strong style=\"color:#cdcd00\">super-sweep-20</strong>: <a href=\"https://wandb.ai/knu/sweep-practice/runs/83k6uyse\" target=\"_blank\">https://wandb.ai/knu/sweep-practice/runs/83k6uyse</a><br/>\n",
              "                "
            ],
            "text/plain": [
              "<IPython.core.display.HTML object>"
            ]
          },
          "metadata": {}
        },
        {
          "output_type": "stream",
          "name": "stderr",
          "text": [
            "\u001b[34m\u001b[1mwandb\u001b[0m: Agent Starting Run: grterp70 with config:\n",
            "\u001b[34m\u001b[1mwandb\u001b[0m: \tdropout_rate: 0.1\n",
            "\u001b[34m\u001b[1mwandb\u001b[0m: \tlayer1_activation: relu\n",
            "\u001b[34m\u001b[1mwandb\u001b[0m: \tlayer1_size: 128\n",
            "\u001b[34m\u001b[1mwandb\u001b[0m: \tlearning_rate: 0.01\n",
            "\u001b[34m\u001b[1mwandb\u001b[0m: \toptimizers: adam\n",
            "\u001b[34m\u001b[1mwandb\u001b[0m: \u001b[33mWARNING\u001b[0m Ignored wandb.init() arg project when running a sweep\n"
          ]
        },
        {
          "output_type": "display_data",
          "data": {
            "text/html": [
              "\n",
              "                Tracking run with wandb version 0.12.1<br/>\n",
              "                Syncing run <strong style=\"color:#cdcd00\">misunderstood-sweep-21</strong> to <a href=\"https://wandb.ai\" target=\"_blank\">Weights & Biases</a> <a href=\"https://docs.wandb.com/integrations/jupyter.html\" target=\"_blank\">(Documentation)</a>.<br/>\n",
              "                Project page: <a href=\"https://wandb.ai/knu/sweep-practice\" target=\"_blank\">https://wandb.ai/knu/sweep-practice</a><br/>\n",
              "                Sweep page: <a href=\"https://wandb.ai/knu/sweep-practice/sweeps/ovtioqch\" target=\"_blank\">https://wandb.ai/knu/sweep-practice/sweeps/ovtioqch</a><br/>\n",
              "Run page: <a href=\"https://wandb.ai/knu/sweep-practice/runs/grterp70\" target=\"_blank\">https://wandb.ai/knu/sweep-practice/runs/grterp70</a><br/>\n",
              "                Run data is saved locally in <code>/content/wandb/run-20210909_153519-grterp70</code><br/><br/>\n",
              "            "
            ],
            "text/plain": [
              "<IPython.core.display.HTML object>"
            ]
          },
          "metadata": {}
        },
        {
          "output_type": "display_data",
          "data": {
            "text/html": [
              "<br/>Waiting for W&B process to finish, PID 5368<br/>Program failed with code 1.  Press ctrl-c to abort syncing."
            ],
            "text/plain": [
              "<IPython.core.display.HTML object>"
            ]
          },
          "metadata": {}
        },
        {
          "output_type": "display_data",
          "data": {
            "application/vnd.jupyter.widget-view+json": {
              "model_id": "6461c20ca47a4ae39fe7c9ef5f1a0bf3",
              "version_minor": 0,
              "version_major": 2
            },
            "text/plain": [
              "VBox(children=(Label(value=' 0.00MB of 0.00MB uploaded (0.00MB deduped)\\r'), FloatProgress(value=1.0, max=1.0)…"
            ]
          },
          "metadata": {}
        },
        {
          "output_type": "display_data",
          "data": {
            "text/html": [
              "Find user logs for this run at: <code>/content/wandb/run-20210909_153519-grterp70/logs/debug.log</code>"
            ],
            "text/plain": [
              "<IPython.core.display.HTML object>"
            ]
          },
          "metadata": {}
        },
        {
          "output_type": "display_data",
          "data": {
            "text/html": [
              "Find internal logs for this run at: <code>/content/wandb/run-20210909_153519-grterp70/logs/debug-internal.log</code>"
            ],
            "text/plain": [
              "<IPython.core.display.HTML object>"
            ]
          },
          "metadata": {}
        },
        {
          "output_type": "display_data",
          "data": {
            "text/html": [
              "Synced 4 W&B file(s), 0 media file(s), 0 artifact file(s) and 0 other file(s)"
            ],
            "text/plain": [
              "<IPython.core.display.HTML object>"
            ]
          },
          "metadata": {}
        },
        {
          "output_type": "display_data",
          "data": {
            "text/html": [
              "\n",
              "                    <br/>Synced <strong style=\"color:#cdcd00\">misunderstood-sweep-21</strong>: <a href=\"https://wandb.ai/knu/sweep-practice/runs/grterp70\" target=\"_blank\">https://wandb.ai/knu/sweep-practice/runs/grterp70</a><br/>\n",
              "                "
            ],
            "text/plain": [
              "<IPython.core.display.HTML object>"
            ]
          },
          "metadata": {}
        },
        {
          "output_type": "stream",
          "name": "stderr",
          "text": [
            "Run grterp70 errored: AttributeError(\"module 'tensorflow.keras' has no attribute 'optimizer'\")\n",
            "\u001b[34m\u001b[1mwandb\u001b[0m: \u001b[32m\u001b[41mERROR\u001b[0m Run grterp70 errored: AttributeError(\"module 'tensorflow.keras' has no attribute 'optimizer'\")\n",
            "\u001b[34m\u001b[1mwandb\u001b[0m: Agent Starting Run: cn7btvqc with config:\n",
            "\u001b[34m\u001b[1mwandb\u001b[0m: \tdropout_rate: 0.1\n",
            "\u001b[34m\u001b[1mwandb\u001b[0m: \tlayer1_activation: relu\n",
            "\u001b[34m\u001b[1mwandb\u001b[0m: \tlayer1_size: 128\n",
            "\u001b[34m\u001b[1mwandb\u001b[0m: \tlearning_rate: 0.01\n",
            "\u001b[34m\u001b[1mwandb\u001b[0m: \toptimizers: rmsprop\n",
            "\u001b[34m\u001b[1mwandb\u001b[0m: \u001b[33mWARNING\u001b[0m Ignored wandb.init() arg project when running a sweep\n"
          ]
        },
        {
          "output_type": "display_data",
          "data": {
            "text/html": [
              "\n",
              "                Tracking run with wandb version 0.12.1<br/>\n",
              "                Syncing run <strong style=\"color:#cdcd00\">fresh-sweep-22</strong> to <a href=\"https://wandb.ai\" target=\"_blank\">Weights & Biases</a> <a href=\"https://docs.wandb.com/integrations/jupyter.html\" target=\"_blank\">(Documentation)</a>.<br/>\n",
              "                Project page: <a href=\"https://wandb.ai/knu/sweep-practice\" target=\"_blank\">https://wandb.ai/knu/sweep-practice</a><br/>\n",
              "                Sweep page: <a href=\"https://wandb.ai/knu/sweep-practice/sweeps/ovtioqch\" target=\"_blank\">https://wandb.ai/knu/sweep-practice/sweeps/ovtioqch</a><br/>\n",
              "Run page: <a href=\"https://wandb.ai/knu/sweep-practice/runs/cn7btvqc\" target=\"_blank\">https://wandb.ai/knu/sweep-practice/runs/cn7btvqc</a><br/>\n",
              "                Run data is saved locally in <code>/content/wandb/run-20210909_153531-cn7btvqc</code><br/><br/>\n",
              "            "
            ],
            "text/plain": [
              "<IPython.core.display.HTML object>"
            ]
          },
          "metadata": {}
        },
        {
          "output_type": "stream",
          "name": "stdout",
          "text": [
            "Epoch 1/5\n",
            "   3/1875 [..............................] - ETA: 1:10 - loss: 2.2435 - accuracy: 0.1562 WARNING:tensorflow:Callback method `on_train_batch_end` is slow compared to the batch time (batch time: 0.0034s vs `on_train_batch_end` time: 0.0122s). Check your callbacks.\n",
            "1875/1875 [==============================] - 7s 3ms/step - loss: 0.5111 - accuracy: 0.8184 - val_loss: 0.4355 - val_accuracy: 0.8450\n",
            "Epoch 2/5\n",
            "1875/1875 [==============================] - 7s 4ms/step - loss: 0.3873 - accuracy: 0.8592 - val_loss: 0.3969 - val_accuracy: 0.8586\n",
            "Epoch 3/5\n",
            "1875/1875 [==============================] - 7s 4ms/step - loss: 0.3507 - accuracy: 0.8736 - val_loss: 0.3775 - val_accuracy: 0.8652\n",
            "Epoch 4/5\n",
            "1875/1875 [==============================] - 7s 4ms/step - loss: 0.3292 - accuracy: 0.8780 - val_loss: 0.3494 - val_accuracy: 0.8759\n",
            "Epoch 5/5\n",
            "1875/1875 [==============================] - 7s 4ms/step - loss: 0.3126 - accuracy: 0.8845 - val_loss: 0.3669 - val_accuracy: 0.8675\n"
          ]
        },
        {
          "output_type": "display_data",
          "data": {
            "text/html": [
              "<br/>Waiting for W&B process to finish, PID 5402<br/>Program ended successfully."
            ],
            "text/plain": [
              "<IPython.core.display.HTML object>"
            ]
          },
          "metadata": {}
        },
        {
          "output_type": "display_data",
          "data": {
            "application/vnd.jupyter.widget-view+json": {
              "model_id": "8d68816a5a12438a996942e36f75d5e9",
              "version_minor": 0,
              "version_major": 2
            },
            "text/plain": [
              "VBox(children=(Label(value=' 1.47MB of 1.48MB uploaded (0.00MB deduped)\\r'), FloatProgress(value=0.99563495980…"
            ]
          },
          "metadata": {}
        },
        {
          "output_type": "display_data",
          "data": {
            "text/html": [
              "Find user logs for this run at: <code>/content/wandb/run-20210909_153531-cn7btvqc/logs/debug.log</code>"
            ],
            "text/plain": [
              "<IPython.core.display.HTML object>"
            ]
          },
          "metadata": {}
        },
        {
          "output_type": "display_data",
          "data": {
            "text/html": [
              "Find internal logs for this run at: <code>/content/wandb/run-20210909_153531-cn7btvqc/logs/debug-internal.log</code>"
            ],
            "text/plain": [
              "<IPython.core.display.HTML object>"
            ]
          },
          "metadata": {}
        },
        {
          "output_type": "display_data",
          "data": {
            "text/html": [
              "<h3>Run summary:</h3><br/><style>\n",
              "    table.wandb td:nth-child(1) { padding: 0 10px; text-align: right }\n",
              "    </style><table class=\"wandb\">\n",
              "<tr><td>epoch</td><td>4</td></tr><tr><td>loss</td><td>0.31263</td></tr><tr><td>accuracy</td><td>0.88455</td></tr><tr><td>val_loss</td><td>0.36687</td></tr><tr><td>val_accuracy</td><td>0.8675</td></tr><tr><td>_runtime</td><td>40</td></tr><tr><td>_timestamp</td><td>1631201771</td></tr><tr><td>_step</td><td>4</td></tr><tr><td>best_val_loss</td><td>0.34942</td></tr><tr><td>best_epoch</td><td>3</td></tr></table>"
            ],
            "text/plain": [
              "<IPython.core.display.HTML object>"
            ]
          },
          "metadata": {}
        },
        {
          "output_type": "display_data",
          "data": {
            "text/html": [
              "<h3>Run history:</h3><br/><style>\n",
              "    table.wandb td:nth-child(1) { padding: 0 10px; text-align: right }\n",
              "    </style><table class=\"wandb\">\n",
              "<tr><td>epoch</td><td>▁▃▅▆█</td></tr><tr><td>loss</td><td>█▄▂▂▁</td></tr><tr><td>accuracy</td><td>▁▅▇▇█</td></tr><tr><td>val_loss</td><td>█▅▃▁▂</td></tr><tr><td>val_accuracy</td><td>▁▄▆█▆</td></tr><tr><td>_runtime</td><td>▁▃▅▆█</td></tr><tr><td>_timestamp</td><td>▁▃▅▆█</td></tr><tr><td>_step</td><td>▁▃▅▆█</td></tr></table><br/>"
            ],
            "text/plain": [
              "<IPython.core.display.HTML object>"
            ]
          },
          "metadata": {}
        },
        {
          "output_type": "display_data",
          "data": {
            "text/html": [
              "Synced 5 W&B file(s), 181 media file(s), 0 artifact file(s) and 10 other file(s)"
            ],
            "text/plain": [
              "<IPython.core.display.HTML object>"
            ]
          },
          "metadata": {}
        },
        {
          "output_type": "display_data",
          "data": {
            "text/html": [
              "\n",
              "                    <br/>Synced <strong style=\"color:#cdcd00\">fresh-sweep-22</strong>: <a href=\"https://wandb.ai/knu/sweep-practice/runs/cn7btvqc\" target=\"_blank\">https://wandb.ai/knu/sweep-practice/runs/cn7btvqc</a><br/>\n",
              "                "
            ],
            "text/plain": [
              "<IPython.core.display.HTML object>"
            ]
          },
          "metadata": {}
        },
        {
          "output_type": "stream",
          "name": "stderr",
          "text": [
            "\u001b[34m\u001b[1mwandb\u001b[0m: Agent Starting Run: hgcianxb with config:\n",
            "\u001b[34m\u001b[1mwandb\u001b[0m: \tdropout_rate: 0.1\n",
            "\u001b[34m\u001b[1mwandb\u001b[0m: \tlayer1_activation: relu\n",
            "\u001b[34m\u001b[1mwandb\u001b[0m: \tlayer1_size: 128\n",
            "\u001b[34m\u001b[1mwandb\u001b[0m: \tlearning_rate: 0.001\n",
            "\u001b[34m\u001b[1mwandb\u001b[0m: \toptimizers: adam\n",
            "\u001b[34m\u001b[1mwandb\u001b[0m: \u001b[33mWARNING\u001b[0m Ignored wandb.init() arg project when running a sweep\n"
          ]
        },
        {
          "output_type": "display_data",
          "data": {
            "text/html": [
              "\n",
              "                Tracking run with wandb version 0.12.1<br/>\n",
              "                Syncing run <strong style=\"color:#cdcd00\">fluent-sweep-23</strong> to <a href=\"https://wandb.ai\" target=\"_blank\">Weights & Biases</a> <a href=\"https://docs.wandb.com/integrations/jupyter.html\" target=\"_blank\">(Documentation)</a>.<br/>\n",
              "                Project page: <a href=\"https://wandb.ai/knu/sweep-practice\" target=\"_blank\">https://wandb.ai/knu/sweep-practice</a><br/>\n",
              "                Sweep page: <a href=\"https://wandb.ai/knu/sweep-practice/sweeps/ovtioqch\" target=\"_blank\">https://wandb.ai/knu/sweep-practice/sweeps/ovtioqch</a><br/>\n",
              "Run page: <a href=\"https://wandb.ai/knu/sweep-practice/runs/hgcianxb\" target=\"_blank\">https://wandb.ai/knu/sweep-practice/runs/hgcianxb</a><br/>\n",
              "                Run data is saved locally in <code>/content/wandb/run-20210909_153618-hgcianxb</code><br/><br/>\n",
              "            "
            ],
            "text/plain": [
              "<IPython.core.display.HTML object>"
            ]
          },
          "metadata": {}
        },
        {
          "output_type": "display_data",
          "data": {
            "text/html": [
              "<br/>Waiting for W&B process to finish, PID 5692<br/>Program failed with code 1.  Press ctrl-c to abort syncing."
            ],
            "text/plain": [
              "<IPython.core.display.HTML object>"
            ]
          },
          "metadata": {}
        },
        {
          "output_type": "display_data",
          "data": {
            "application/vnd.jupyter.widget-view+json": {
              "model_id": "2eed493804fe41c99f46aa4b76cf3c2a",
              "version_minor": 0,
              "version_major": 2
            },
            "text/plain": [
              "VBox(children=(Label(value=' 0.00MB of 0.00MB uploaded (0.00MB deduped)\\r'), FloatProgress(value=1.0, max=1.0)…"
            ]
          },
          "metadata": {}
        },
        {
          "output_type": "display_data",
          "data": {
            "text/html": [
              "Find user logs for this run at: <code>/content/wandb/run-20210909_153618-hgcianxb/logs/debug.log</code>"
            ],
            "text/plain": [
              "<IPython.core.display.HTML object>"
            ]
          },
          "metadata": {}
        },
        {
          "output_type": "display_data",
          "data": {
            "text/html": [
              "Find internal logs for this run at: <code>/content/wandb/run-20210909_153618-hgcianxb/logs/debug-internal.log</code>"
            ],
            "text/plain": [
              "<IPython.core.display.HTML object>"
            ]
          },
          "metadata": {}
        },
        {
          "output_type": "display_data",
          "data": {
            "text/html": [
              "Synced 4 W&B file(s), 0 media file(s), 0 artifact file(s) and 0 other file(s)"
            ],
            "text/plain": [
              "<IPython.core.display.HTML object>"
            ]
          },
          "metadata": {}
        },
        {
          "output_type": "display_data",
          "data": {
            "text/html": [
              "\n",
              "                    <br/>Synced <strong style=\"color:#cdcd00\">fluent-sweep-23</strong>: <a href=\"https://wandb.ai/knu/sweep-practice/runs/hgcianxb\" target=\"_blank\">https://wandb.ai/knu/sweep-practice/runs/hgcianxb</a><br/>\n",
              "                "
            ],
            "text/plain": [
              "<IPython.core.display.HTML object>"
            ]
          },
          "metadata": {}
        },
        {
          "output_type": "stream",
          "name": "stderr",
          "text": [
            "Run hgcianxb errored: AttributeError(\"module 'tensorflow.keras' has no attribute 'optimizer'\")\n",
            "\u001b[34m\u001b[1mwandb\u001b[0m: \u001b[32m\u001b[41mERROR\u001b[0m Run hgcianxb errored: AttributeError(\"module 'tensorflow.keras' has no attribute 'optimizer'\")\n",
            "\u001b[34m\u001b[1mwandb\u001b[0m: Agent Starting Run: 0fddftwn with config:\n",
            "\u001b[34m\u001b[1mwandb\u001b[0m: \tdropout_rate: 0.1\n",
            "\u001b[34m\u001b[1mwandb\u001b[0m: \tlayer1_activation: relu\n",
            "\u001b[34m\u001b[1mwandb\u001b[0m: \tlayer1_size: 128\n",
            "\u001b[34m\u001b[1mwandb\u001b[0m: \tlearning_rate: 0.001\n",
            "\u001b[34m\u001b[1mwandb\u001b[0m: \toptimizers: rmsprop\n",
            "\u001b[34m\u001b[1mwandb\u001b[0m: \u001b[33mWARNING\u001b[0m Ignored wandb.init() arg project when running a sweep\n"
          ]
        },
        {
          "output_type": "display_data",
          "data": {
            "text/html": [
              "\n",
              "                Tracking run with wandb version 0.12.1<br/>\n",
              "                Syncing run <strong style=\"color:#cdcd00\">frosty-sweep-24</strong> to <a href=\"https://wandb.ai\" target=\"_blank\">Weights & Biases</a> <a href=\"https://docs.wandb.com/integrations/jupyter.html\" target=\"_blank\">(Documentation)</a>.<br/>\n",
              "                Project page: <a href=\"https://wandb.ai/knu/sweep-practice\" target=\"_blank\">https://wandb.ai/knu/sweep-practice</a><br/>\n",
              "                Sweep page: <a href=\"https://wandb.ai/knu/sweep-practice/sweeps/ovtioqch\" target=\"_blank\">https://wandb.ai/knu/sweep-practice/sweeps/ovtioqch</a><br/>\n",
              "Run page: <a href=\"https://wandb.ai/knu/sweep-practice/runs/0fddftwn\" target=\"_blank\">https://wandb.ai/knu/sweep-practice/runs/0fddftwn</a><br/>\n",
              "                Run data is saved locally in <code>/content/wandb/run-20210909_153629-0fddftwn</code><br/><br/>\n",
              "            "
            ],
            "text/plain": [
              "<IPython.core.display.HTML object>"
            ]
          },
          "metadata": {}
        },
        {
          "output_type": "stream",
          "name": "stdout",
          "text": [
            "Epoch 1/5\n",
            "   3/1875 [..............................] - ETA: 1:05 - loss: 2.1840 - accuracy: 0.1771WARNING:tensorflow:Callback method `on_train_batch_end` is slow compared to the batch time (batch time: 0.0042s vs `on_train_batch_end` time: 0.0108s). Check your callbacks.\n",
            "1875/1875 [==============================] - 6s 3ms/step - loss: 0.5219 - accuracy: 0.8158 - val_loss: 0.4367 - val_accuracy: 0.8445\n",
            "Epoch 2/5\n",
            "1875/1875 [==============================] - 7s 4ms/step - loss: 0.3871 - accuracy: 0.8609 - val_loss: 0.3826 - val_accuracy: 0.8618\n",
            "Epoch 3/5\n",
            "1875/1875 [==============================] - 7s 4ms/step - loss: 0.3518 - accuracy: 0.8702 - val_loss: 0.3763 - val_accuracy: 0.8639\n",
            "Epoch 4/5\n",
            "1875/1875 [==============================] - 6s 3ms/step - loss: 0.3286 - accuracy: 0.8791 - val_loss: 0.3605 - val_accuracy: 0.8659\n",
            "Epoch 5/5\n",
            "1875/1875 [==============================] - 7s 4ms/step - loss: 0.3117 - accuracy: 0.8839 - val_loss: 0.3615 - val_accuracy: 0.8681\n"
          ]
        },
        {
          "output_type": "display_data",
          "data": {
            "text/html": [
              "<br/>Waiting for W&B process to finish, PID 5726<br/>Program ended successfully."
            ],
            "text/plain": [
              "<IPython.core.display.HTML object>"
            ]
          },
          "metadata": {}
        },
        {
          "output_type": "display_data",
          "data": {
            "application/vnd.jupyter.widget-view+json": {
              "model_id": "5c14a5ac05c848b897a34e02d9f05a78",
              "version_minor": 0,
              "version_major": 2
            },
            "text/plain": [
              "VBox(children=(Label(value=' 1.47MB of 1.47MB uploaded (0.00MB deduped)\\r'), FloatProgress(value=0.99561847441…"
            ]
          },
          "metadata": {}
        },
        {
          "output_type": "display_data",
          "data": {
            "text/html": [
              "Find user logs for this run at: <code>/content/wandb/run-20210909_153629-0fddftwn/logs/debug.log</code>"
            ],
            "text/plain": [
              "<IPython.core.display.HTML object>"
            ]
          },
          "metadata": {}
        },
        {
          "output_type": "display_data",
          "data": {
            "text/html": [
              "Find internal logs for this run at: <code>/content/wandb/run-20210909_153629-0fddftwn/logs/debug-internal.log</code>"
            ],
            "text/plain": [
              "<IPython.core.display.HTML object>"
            ]
          },
          "metadata": {}
        },
        {
          "output_type": "display_data",
          "data": {
            "text/html": [
              "<h3>Run summary:</h3><br/><style>\n",
              "    table.wandb td:nth-child(1) { padding: 0 10px; text-align: right }\n",
              "    </style><table class=\"wandb\">\n",
              "<tr><td>epoch</td><td>4</td></tr><tr><td>loss</td><td>0.31174</td></tr><tr><td>accuracy</td><td>0.88392</td></tr><tr><td>val_loss</td><td>0.36149</td></tr><tr><td>val_accuracy</td><td>0.8681</td></tr><tr><td>_runtime</td><td>39</td></tr><tr><td>_timestamp</td><td>1631201828</td></tr><tr><td>_step</td><td>4</td></tr><tr><td>best_val_loss</td><td>0.36054</td></tr><tr><td>best_epoch</td><td>3</td></tr></table>"
            ],
            "text/plain": [
              "<IPython.core.display.HTML object>"
            ]
          },
          "metadata": {}
        },
        {
          "output_type": "display_data",
          "data": {
            "text/html": [
              "<h3>Run history:</h3><br/><style>\n",
              "    table.wandb td:nth-child(1) { padding: 0 10px; text-align: right }\n",
              "    </style><table class=\"wandb\">\n",
              "<tr><td>epoch</td><td>▁▃▅▆█</td></tr><tr><td>loss</td><td>█▄▂▂▁</td></tr><tr><td>accuracy</td><td>▁▆▇██</td></tr><tr><td>val_loss</td><td>█▃▂▁▁</td></tr><tr><td>val_accuracy</td><td>▁▆▇▇█</td></tr><tr><td>_runtime</td><td>▁▃▅▇█</td></tr><tr><td>_timestamp</td><td>▁▃▅▇█</td></tr><tr><td>_step</td><td>▁▃▅▆█</td></tr></table><br/>"
            ],
            "text/plain": [
              "<IPython.core.display.HTML object>"
            ]
          },
          "metadata": {}
        },
        {
          "output_type": "display_data",
          "data": {
            "text/html": [
              "Synced 5 W&B file(s), 181 media file(s), 0 artifact file(s) and 10 other file(s)"
            ],
            "text/plain": [
              "<IPython.core.display.HTML object>"
            ]
          },
          "metadata": {}
        },
        {
          "output_type": "display_data",
          "data": {
            "text/html": [
              "\n",
              "                    <br/>Synced <strong style=\"color:#cdcd00\">frosty-sweep-24</strong>: <a href=\"https://wandb.ai/knu/sweep-practice/runs/0fddftwn\" target=\"_blank\">https://wandb.ai/knu/sweep-practice/runs/0fddftwn</a><br/>\n",
              "                "
            ],
            "text/plain": [
              "<IPython.core.display.HTML object>"
            ]
          },
          "metadata": {}
        },
        {
          "output_type": "stream",
          "name": "stderr",
          "text": [
            "\u001b[34m\u001b[1mwandb\u001b[0m: Agent Starting Run: q0m8ov9k with config:\n",
            "\u001b[34m\u001b[1mwandb\u001b[0m: \tdropout_rate: 0.1\n",
            "\u001b[34m\u001b[1mwandb\u001b[0m: \tlayer1_activation: sigmoid\n",
            "\u001b[34m\u001b[1mwandb\u001b[0m: \tlayer1_size: 32\n",
            "\u001b[34m\u001b[1mwandb\u001b[0m: \tlearning_rate: 0.1\n",
            "\u001b[34m\u001b[1mwandb\u001b[0m: \toptimizers: adam\n",
            "\u001b[34m\u001b[1mwandb\u001b[0m: \u001b[33mWARNING\u001b[0m Ignored wandb.init() arg project when running a sweep\n"
          ]
        },
        {
          "output_type": "display_data",
          "data": {
            "text/html": [
              "\n",
              "                Tracking run with wandb version 0.12.1<br/>\n",
              "                Syncing run <strong style=\"color:#cdcd00\">curious-sweep-25</strong> to <a href=\"https://wandb.ai\" target=\"_blank\">Weights & Biases</a> <a href=\"https://docs.wandb.com/integrations/jupyter.html\" target=\"_blank\">(Documentation)</a>.<br/>\n",
              "                Project page: <a href=\"https://wandb.ai/knu/sweep-practice\" target=\"_blank\">https://wandb.ai/knu/sweep-practice</a><br/>\n",
              "                Sweep page: <a href=\"https://wandb.ai/knu/sweep-practice/sweeps/ovtioqch\" target=\"_blank\">https://wandb.ai/knu/sweep-practice/sweeps/ovtioqch</a><br/>\n",
              "Run page: <a href=\"https://wandb.ai/knu/sweep-practice/runs/q0m8ov9k\" target=\"_blank\">https://wandb.ai/knu/sweep-practice/runs/q0m8ov9k</a><br/>\n",
              "                Run data is saved locally in <code>/content/wandb/run-20210909_153717-q0m8ov9k</code><br/><br/>\n",
              "            "
            ],
            "text/plain": [
              "<IPython.core.display.HTML object>"
            ]
          },
          "metadata": {}
        },
        {
          "output_type": "display_data",
          "data": {
            "text/html": [
              "<br/>Waiting for W&B process to finish, PID 6020<br/>Program failed with code 1.  Press ctrl-c to abort syncing."
            ],
            "text/plain": [
              "<IPython.core.display.HTML object>"
            ]
          },
          "metadata": {}
        },
        {
          "output_type": "display_data",
          "data": {
            "application/vnd.jupyter.widget-view+json": {
              "model_id": "e28ea00683e243a185c2a0b8758cf891",
              "version_minor": 0,
              "version_major": 2
            },
            "text/plain": [
              "VBox(children=(Label(value=' 0.00MB of 0.00MB uploaded (0.00MB deduped)\\r'), FloatProgress(value=1.0, max=1.0)…"
            ]
          },
          "metadata": {}
        },
        {
          "output_type": "display_data",
          "data": {
            "text/html": [
              "Find user logs for this run at: <code>/content/wandb/run-20210909_153717-q0m8ov9k/logs/debug.log</code>"
            ],
            "text/plain": [
              "<IPython.core.display.HTML object>"
            ]
          },
          "metadata": {}
        },
        {
          "output_type": "display_data",
          "data": {
            "text/html": [
              "Find internal logs for this run at: <code>/content/wandb/run-20210909_153717-q0m8ov9k/logs/debug-internal.log</code>"
            ],
            "text/plain": [
              "<IPython.core.display.HTML object>"
            ]
          },
          "metadata": {}
        },
        {
          "output_type": "display_data",
          "data": {
            "text/html": [
              "Synced 4 W&B file(s), 0 media file(s), 0 artifact file(s) and 0 other file(s)"
            ],
            "text/plain": [
              "<IPython.core.display.HTML object>"
            ]
          },
          "metadata": {}
        },
        {
          "output_type": "display_data",
          "data": {
            "text/html": [
              "\n",
              "                    <br/>Synced <strong style=\"color:#cdcd00\">curious-sweep-25</strong>: <a href=\"https://wandb.ai/knu/sweep-practice/runs/q0m8ov9k\" target=\"_blank\">https://wandb.ai/knu/sweep-practice/runs/q0m8ov9k</a><br/>\n",
              "                "
            ],
            "text/plain": [
              "<IPython.core.display.HTML object>"
            ]
          },
          "metadata": {}
        },
        {
          "output_type": "stream",
          "name": "stderr",
          "text": [
            "Run q0m8ov9k errored: AttributeError(\"module 'tensorflow.keras' has no attribute 'optimizer'\")\n",
            "\u001b[34m\u001b[1mwandb\u001b[0m: \u001b[32m\u001b[41mERROR\u001b[0m Run q0m8ov9k errored: AttributeError(\"module 'tensorflow.keras' has no attribute 'optimizer'\")\n",
            "\u001b[34m\u001b[1mwandb\u001b[0m: Agent Starting Run: p7e2nrfg with config:\n",
            "\u001b[34m\u001b[1mwandb\u001b[0m: \tdropout_rate: 0.1\n",
            "\u001b[34m\u001b[1mwandb\u001b[0m: \tlayer1_activation: sigmoid\n",
            "\u001b[34m\u001b[1mwandb\u001b[0m: \tlayer1_size: 32\n",
            "\u001b[34m\u001b[1mwandb\u001b[0m: \tlearning_rate: 0.1\n",
            "\u001b[34m\u001b[1mwandb\u001b[0m: \toptimizers: rmsprop\n",
            "\u001b[34m\u001b[1mwandb\u001b[0m: \u001b[33mWARNING\u001b[0m Ignored wandb.init() arg project when running a sweep\n"
          ]
        },
        {
          "output_type": "display_data",
          "data": {
            "text/html": [
              "\n",
              "                Tracking run with wandb version 0.12.1<br/>\n",
              "                Syncing run <strong style=\"color:#cdcd00\">soft-sweep-26</strong> to <a href=\"https://wandb.ai\" target=\"_blank\">Weights & Biases</a> <a href=\"https://docs.wandb.com/integrations/jupyter.html\" target=\"_blank\">(Documentation)</a>.<br/>\n",
              "                Project page: <a href=\"https://wandb.ai/knu/sweep-practice\" target=\"_blank\">https://wandb.ai/knu/sweep-practice</a><br/>\n",
              "                Sweep page: <a href=\"https://wandb.ai/knu/sweep-practice/sweeps/ovtioqch\" target=\"_blank\">https://wandb.ai/knu/sweep-practice/sweeps/ovtioqch</a><br/>\n",
              "Run page: <a href=\"https://wandb.ai/knu/sweep-practice/runs/p7e2nrfg\" target=\"_blank\">https://wandb.ai/knu/sweep-practice/runs/p7e2nrfg</a><br/>\n",
              "                Run data is saved locally in <code>/content/wandb/run-20210909_153728-p7e2nrfg</code><br/><br/>\n",
              "            "
            ],
            "text/plain": [
              "<IPython.core.display.HTML object>"
            ]
          },
          "metadata": {}
        },
        {
          "output_type": "stream",
          "name": "stdout",
          "text": [
            "Epoch 1/5\n",
            "   3/1875 [..............................] - ETA: 1:06 - loss: 2.4553 - accuracy: 0.1042 WARNING:tensorflow:Callback method `on_train_batch_end` is slow compared to the batch time (batch time: 0.0033s vs `on_train_batch_end` time: 0.0112s). Check your callbacks.\n",
            "1875/1875 [==============================] - 6s 3ms/step - loss: 0.7108 - accuracy: 0.7733 - val_loss: 0.5007 - val_accuracy: 0.8269\n",
            "Epoch 2/5\n",
            "1875/1875 [==============================] - 6s 3ms/step - loss: 0.4716 - accuracy: 0.8347 - val_loss: 0.4465 - val_accuracy: 0.8409\n",
            "Epoch 3/5\n",
            "1875/1875 [==============================] - 5s 3ms/step - loss: 0.4288 - accuracy: 0.8489 - val_loss: 0.4316 - val_accuracy: 0.8435\n",
            "Epoch 4/5\n",
            "1875/1875 [==============================] - 6s 3ms/step - loss: 0.4065 - accuracy: 0.8550 - val_loss: 0.4129 - val_accuracy: 0.8506\n",
            "Epoch 5/5\n",
            "1875/1875 [==============================] - 6s 3ms/step - loss: 0.3916 - accuracy: 0.8601 - val_loss: 0.4052 - val_accuracy: 0.8547\n"
          ]
        },
        {
          "output_type": "display_data",
          "data": {
            "text/html": [
              "<br/>Waiting for W&B process to finish, PID 6054<br/>Program ended successfully."
            ],
            "text/plain": [
              "<IPython.core.display.HTML object>"
            ]
          },
          "metadata": {}
        },
        {
          "output_type": "display_data",
          "data": {
            "application/vnd.jupyter.widget-view+json": {
              "model_id": "6795ba8118fe4ddeb6620b081c0f148a",
              "version_minor": 0,
              "version_major": 2
            },
            "text/plain": [
              "VBox(children=(Label(value=' 0.60MB of 0.60MB uploaded (0.00MB deduped)\\r'), FloatProgress(value=0.99248536398…"
            ]
          },
          "metadata": {}
        },
        {
          "output_type": "display_data",
          "data": {
            "text/html": [
              "Find user logs for this run at: <code>/content/wandb/run-20210909_153728-p7e2nrfg/logs/debug.log</code>"
            ],
            "text/plain": [
              "<IPython.core.display.HTML object>"
            ]
          },
          "metadata": {}
        },
        {
          "output_type": "display_data",
          "data": {
            "text/html": [
              "Find internal logs for this run at: <code>/content/wandb/run-20210909_153728-p7e2nrfg/logs/debug-internal.log</code>"
            ],
            "text/plain": [
              "<IPython.core.display.HTML object>"
            ]
          },
          "metadata": {}
        },
        {
          "output_type": "display_data",
          "data": {
            "text/html": [
              "<h3>Run summary:</h3><br/><style>\n",
              "    table.wandb td:nth-child(1) { padding: 0 10px; text-align: right }\n",
              "    </style><table class=\"wandb\">\n",
              "<tr><td>epoch</td><td>4</td></tr><tr><td>loss</td><td>0.39162</td></tr><tr><td>accuracy</td><td>0.86005</td></tr><tr><td>val_loss</td><td>0.40525</td></tr><tr><td>val_accuracy</td><td>0.8547</td></tr><tr><td>_runtime</td><td>34</td></tr><tr><td>_timestamp</td><td>1631201882</td></tr><tr><td>_step</td><td>4</td></tr><tr><td>best_val_loss</td><td>0.40525</td></tr><tr><td>best_epoch</td><td>4</td></tr></table>"
            ],
            "text/plain": [
              "<IPython.core.display.HTML object>"
            ]
          },
          "metadata": {}
        },
        {
          "output_type": "display_data",
          "data": {
            "text/html": [
              "<h3>Run history:</h3><br/><style>\n",
              "    table.wandb td:nth-child(1) { padding: 0 10px; text-align: right }\n",
              "    </style><table class=\"wandb\">\n",
              "<tr><td>epoch</td><td>▁▃▅▆█</td></tr><tr><td>loss</td><td>█▃▂▁▁</td></tr><tr><td>accuracy</td><td>▁▆▇██</td></tr><tr><td>val_loss</td><td>█▄▃▂▁</td></tr><tr><td>val_accuracy</td><td>▁▅▅▇█</td></tr><tr><td>_runtime</td><td>▁▃▄▆█</td></tr><tr><td>_timestamp</td><td>▁▃▄▆█</td></tr><tr><td>_step</td><td>▁▃▅▆█</td></tr></table><br/>"
            ],
            "text/plain": [
              "<IPython.core.display.HTML object>"
            ]
          },
          "metadata": {}
        },
        {
          "output_type": "display_data",
          "data": {
            "text/html": [
              "Synced 5 W&B file(s), 181 media file(s), 0 artifact file(s) and 10 other file(s)"
            ],
            "text/plain": [
              "<IPython.core.display.HTML object>"
            ]
          },
          "metadata": {}
        },
        {
          "output_type": "display_data",
          "data": {
            "text/html": [
              "\n",
              "                    <br/>Synced <strong style=\"color:#cdcd00\">soft-sweep-26</strong>: <a href=\"https://wandb.ai/knu/sweep-practice/runs/p7e2nrfg\" target=\"_blank\">https://wandb.ai/knu/sweep-practice/runs/p7e2nrfg</a><br/>\n",
              "                "
            ],
            "text/plain": [
              "<IPython.core.display.HTML object>"
            ]
          },
          "metadata": {}
        },
        {
          "output_type": "stream",
          "name": "stderr",
          "text": [
            "\u001b[34m\u001b[1mwandb\u001b[0m: Agent Starting Run: alitlk9w with config:\n",
            "\u001b[34m\u001b[1mwandb\u001b[0m: \tdropout_rate: 0.1\n",
            "\u001b[34m\u001b[1mwandb\u001b[0m: \tlayer1_activation: sigmoid\n",
            "\u001b[34m\u001b[1mwandb\u001b[0m: \tlayer1_size: 32\n",
            "\u001b[34m\u001b[1mwandb\u001b[0m: \tlearning_rate: 0.01\n",
            "\u001b[34m\u001b[1mwandb\u001b[0m: \toptimizers: adam\n",
            "\u001b[34m\u001b[1mwandb\u001b[0m: \u001b[33mWARNING\u001b[0m Ignored wandb.init() arg project when running a sweep\n"
          ]
        },
        {
          "output_type": "display_data",
          "data": {
            "text/html": [
              "\n",
              "                Tracking run with wandb version 0.12.1<br/>\n",
              "                Syncing run <strong style=\"color:#cdcd00\">silver-sweep-27</strong> to <a href=\"https://wandb.ai\" target=\"_blank\">Weights & Biases</a> <a href=\"https://docs.wandb.com/integrations/jupyter.html\" target=\"_blank\">(Documentation)</a>.<br/>\n",
              "                Project page: <a href=\"https://wandb.ai/knu/sweep-practice\" target=\"_blank\">https://wandb.ai/knu/sweep-practice</a><br/>\n",
              "                Sweep page: <a href=\"https://wandb.ai/knu/sweep-practice/sweeps/ovtioqch\" target=\"_blank\">https://wandb.ai/knu/sweep-practice/sweeps/ovtioqch</a><br/>\n",
              "Run page: <a href=\"https://wandb.ai/knu/sweep-practice/runs/alitlk9w\" target=\"_blank\">https://wandb.ai/knu/sweep-practice/runs/alitlk9w</a><br/>\n",
              "                Run data is saved locally in <code>/content/wandb/run-20210909_153810-alitlk9w</code><br/><br/>\n",
              "            "
            ],
            "text/plain": [
              "<IPython.core.display.HTML object>"
            ]
          },
          "metadata": {}
        },
        {
          "output_type": "display_data",
          "data": {
            "text/html": [
              "<br/>Waiting for W&B process to finish, PID 6345<br/>Program failed with code 1.  Press ctrl-c to abort syncing."
            ],
            "text/plain": [
              "<IPython.core.display.HTML object>"
            ]
          },
          "metadata": {}
        },
        {
          "output_type": "display_data",
          "data": {
            "application/vnd.jupyter.widget-view+json": {
              "model_id": "0609b678f9e346a8b78da41ade9c8f60",
              "version_minor": 0,
              "version_major": 2
            },
            "text/plain": [
              "VBox(children=(Label(value=' 0.00MB of 0.00MB uploaded (0.00MB deduped)\\r'), FloatProgress(value=1.0, max=1.0)…"
            ]
          },
          "metadata": {}
        },
        {
          "output_type": "display_data",
          "data": {
            "text/html": [
              "Find user logs for this run at: <code>/content/wandb/run-20210909_153810-alitlk9w/logs/debug.log</code>"
            ],
            "text/plain": [
              "<IPython.core.display.HTML object>"
            ]
          },
          "metadata": {}
        },
        {
          "output_type": "display_data",
          "data": {
            "text/html": [
              "Find internal logs for this run at: <code>/content/wandb/run-20210909_153810-alitlk9w/logs/debug-internal.log</code>"
            ],
            "text/plain": [
              "<IPython.core.display.HTML object>"
            ]
          },
          "metadata": {}
        },
        {
          "output_type": "display_data",
          "data": {
            "text/html": [
              "Synced 4 W&B file(s), 0 media file(s), 0 artifact file(s) and 0 other file(s)"
            ],
            "text/plain": [
              "<IPython.core.display.HTML object>"
            ]
          },
          "metadata": {}
        },
        {
          "output_type": "display_data",
          "data": {
            "text/html": [
              "\n",
              "                    <br/>Synced <strong style=\"color:#cdcd00\">silver-sweep-27</strong>: <a href=\"https://wandb.ai/knu/sweep-practice/runs/alitlk9w\" target=\"_blank\">https://wandb.ai/knu/sweep-practice/runs/alitlk9w</a><br/>\n",
              "                "
            ],
            "text/plain": [
              "<IPython.core.display.HTML object>"
            ]
          },
          "metadata": {}
        },
        {
          "output_type": "stream",
          "name": "stderr",
          "text": [
            "Run alitlk9w errored: AttributeError(\"module 'tensorflow.keras' has no attribute 'optimizer'\")\n",
            "\u001b[34m\u001b[1mwandb\u001b[0m: \u001b[32m\u001b[41mERROR\u001b[0m Run alitlk9w errored: AttributeError(\"module 'tensorflow.keras' has no attribute 'optimizer'\")\n",
            "\u001b[34m\u001b[1mwandb\u001b[0m: Agent Starting Run: eyxr1uup with config:\n",
            "\u001b[34m\u001b[1mwandb\u001b[0m: \tdropout_rate: 0.1\n",
            "\u001b[34m\u001b[1mwandb\u001b[0m: \tlayer1_activation: sigmoid\n",
            "\u001b[34m\u001b[1mwandb\u001b[0m: \tlayer1_size: 32\n",
            "\u001b[34m\u001b[1mwandb\u001b[0m: \tlearning_rate: 0.01\n",
            "\u001b[34m\u001b[1mwandb\u001b[0m: \toptimizers: rmsprop\n",
            "\u001b[34m\u001b[1mwandb\u001b[0m: \u001b[33mWARNING\u001b[0m Ignored wandb.init() arg project when running a sweep\n"
          ]
        },
        {
          "output_type": "display_data",
          "data": {
            "text/html": [
              "\n",
              "                Tracking run with wandb version 0.12.1<br/>\n",
              "                Syncing run <strong style=\"color:#cdcd00\">bumbling-sweep-28</strong> to <a href=\"https://wandb.ai\" target=\"_blank\">Weights & Biases</a> <a href=\"https://docs.wandb.com/integrations/jupyter.html\" target=\"_blank\">(Documentation)</a>.<br/>\n",
              "                Project page: <a href=\"https://wandb.ai/knu/sweep-practice\" target=\"_blank\">https://wandb.ai/knu/sweep-practice</a><br/>\n",
              "                Sweep page: <a href=\"https://wandb.ai/knu/sweep-practice/sweeps/ovtioqch\" target=\"_blank\">https://wandb.ai/knu/sweep-practice/sweeps/ovtioqch</a><br/>\n",
              "Run page: <a href=\"https://wandb.ai/knu/sweep-practice/runs/eyxr1uup\" target=\"_blank\">https://wandb.ai/knu/sweep-practice/runs/eyxr1uup</a><br/>\n",
              "                Run data is saved locally in <code>/content/wandb/run-20210909_153821-eyxr1uup</code><br/><br/>\n",
              "            "
            ],
            "text/plain": [
              "<IPython.core.display.HTML object>"
            ]
          },
          "metadata": {}
        },
        {
          "output_type": "stream",
          "name": "stdout",
          "text": [
            "Epoch 1/5\n",
            "   3/1875 [..............................] - ETA: 1:05 - loss: 2.5481 - accuracy: 0.0833 WARNING:tensorflow:Callback method `on_train_batch_end` is slow compared to the batch time (batch time: 0.0040s vs `on_train_batch_end` time: 0.0099s). Check your callbacks.\n",
            "1875/1875 [==============================] - 5s 3ms/step - loss: 0.7313 - accuracy: 0.7669 - val_loss: 0.5132 - val_accuracy: 0.8229\n",
            "Epoch 2/5\n",
            "1875/1875 [==============================] - 5s 3ms/step - loss: 0.4762 - accuracy: 0.8328 - val_loss: 0.4502 - val_accuracy: 0.8391\n",
            "Epoch 3/5\n",
            "1875/1875 [==============================] - 5s 3ms/step - loss: 0.4321 - accuracy: 0.8453 - val_loss: 0.4317 - val_accuracy: 0.8451\n",
            "Epoch 4/5\n",
            "1875/1875 [==============================] - 6s 3ms/step - loss: 0.4088 - accuracy: 0.8538 - val_loss: 0.4149 - val_accuracy: 0.8529\n",
            "Epoch 5/5\n",
            "1875/1875 [==============================] - 6s 3ms/step - loss: 0.3937 - accuracy: 0.8588 - val_loss: 0.3989 - val_accuracy: 0.8584\n"
          ]
        },
        {
          "output_type": "display_data",
          "data": {
            "text/html": [
              "<br/>Waiting for W&B process to finish, PID 6379<br/>Program ended successfully."
            ],
            "text/plain": [
              "<IPython.core.display.HTML object>"
            ]
          },
          "metadata": {}
        },
        {
          "output_type": "display_data",
          "data": {
            "application/vnd.jupyter.widget-view+json": {
              "model_id": "d135ddc354564c08b1274a0666a5adfe",
              "version_minor": 0,
              "version_major": 2
            },
            "text/plain": [
              "VBox(children=(Label(value=' 0.60MB of 0.60MB uploaded (0.00MB deduped)\\r'), FloatProgress(value=1.0, max=1.0)…"
            ]
          },
          "metadata": {}
        },
        {
          "output_type": "display_data",
          "data": {
            "text/html": [
              "Find user logs for this run at: <code>/content/wandb/run-20210909_153821-eyxr1uup/logs/debug.log</code>"
            ],
            "text/plain": [
              "<IPython.core.display.HTML object>"
            ]
          },
          "metadata": {}
        },
        {
          "output_type": "display_data",
          "data": {
            "text/html": [
              "Find internal logs for this run at: <code>/content/wandb/run-20210909_153821-eyxr1uup/logs/debug-internal.log</code>"
            ],
            "text/plain": [
              "<IPython.core.display.HTML object>"
            ]
          },
          "metadata": {}
        },
        {
          "output_type": "display_data",
          "data": {
            "text/html": [
              "<h3>Run summary:</h3><br/><style>\n",
              "    table.wandb td:nth-child(1) { padding: 0 10px; text-align: right }\n",
              "    </style><table class=\"wandb\">\n",
              "<tr><td>epoch</td><td>4</td></tr><tr><td>loss</td><td>0.39374</td></tr><tr><td>accuracy</td><td>0.85878</td></tr><tr><td>val_loss</td><td>0.39888</td></tr><tr><td>val_accuracy</td><td>0.8584</td></tr><tr><td>_runtime</td><td>33</td></tr><tr><td>_timestamp</td><td>1631201934</td></tr><tr><td>_step</td><td>4</td></tr><tr><td>best_val_loss</td><td>0.39888</td></tr><tr><td>best_epoch</td><td>4</td></tr></table>"
            ],
            "text/plain": [
              "<IPython.core.display.HTML object>"
            ]
          },
          "metadata": {}
        },
        {
          "output_type": "display_data",
          "data": {
            "text/html": [
              "<h3>Run history:</h3><br/><style>\n",
              "    table.wandb td:nth-child(1) { padding: 0 10px; text-align: right }\n",
              "    </style><table class=\"wandb\">\n",
              "<tr><td>epoch</td><td>▁▃▅▆█</td></tr><tr><td>loss</td><td>█▃▂▁▁</td></tr><tr><td>accuracy</td><td>▁▆▇██</td></tr><tr><td>val_loss</td><td>█▄▃▂▁</td></tr><tr><td>val_accuracy</td><td>▁▄▅▇█</td></tr><tr><td>_runtime</td><td>▁▃▄▆█</td></tr><tr><td>_timestamp</td><td>▁▃▄▆█</td></tr><tr><td>_step</td><td>▁▃▅▆█</td></tr></table><br/>"
            ],
            "text/plain": [
              "<IPython.core.display.HTML object>"
            ]
          },
          "metadata": {}
        },
        {
          "output_type": "display_data",
          "data": {
            "text/html": [
              "Synced 5 W&B file(s), 181 media file(s), 0 artifact file(s) and 10 other file(s)"
            ],
            "text/plain": [
              "<IPython.core.display.HTML object>"
            ]
          },
          "metadata": {}
        },
        {
          "output_type": "display_data",
          "data": {
            "text/html": [
              "\n",
              "                    <br/>Synced <strong style=\"color:#cdcd00\">bumbling-sweep-28</strong>: <a href=\"https://wandb.ai/knu/sweep-practice/runs/eyxr1uup\" target=\"_blank\">https://wandb.ai/knu/sweep-practice/runs/eyxr1uup</a><br/>\n",
              "                "
            ],
            "text/plain": [
              "<IPython.core.display.HTML object>"
            ]
          },
          "metadata": {}
        },
        {
          "output_type": "stream",
          "name": "stderr",
          "text": [
            "\u001b[34m\u001b[1mwandb\u001b[0m: Agent Starting Run: mf7owhxw with config:\n",
            "\u001b[34m\u001b[1mwandb\u001b[0m: \tdropout_rate: 0.1\n",
            "\u001b[34m\u001b[1mwandb\u001b[0m: \tlayer1_activation: sigmoid\n",
            "\u001b[34m\u001b[1mwandb\u001b[0m: \tlayer1_size: 32\n",
            "\u001b[34m\u001b[1mwandb\u001b[0m: \tlearning_rate: 0.001\n",
            "\u001b[34m\u001b[1mwandb\u001b[0m: \toptimizers: adam\n",
            "\u001b[34m\u001b[1mwandb\u001b[0m: \u001b[33mWARNING\u001b[0m Ignored wandb.init() arg project when running a sweep\n"
          ]
        },
        {
          "output_type": "display_data",
          "data": {
            "text/html": [
              "\n",
              "                Tracking run with wandb version 0.12.1<br/>\n",
              "                Syncing run <strong style=\"color:#cdcd00\">efficient-sweep-29</strong> to <a href=\"https://wandb.ai\" target=\"_blank\">Weights & Biases</a> <a href=\"https://docs.wandb.com/integrations/jupyter.html\" target=\"_blank\">(Documentation)</a>.<br/>\n",
              "                Project page: <a href=\"https://wandb.ai/knu/sweep-practice\" target=\"_blank\">https://wandb.ai/knu/sweep-practice</a><br/>\n",
              "                Sweep page: <a href=\"https://wandb.ai/knu/sweep-practice/sweeps/ovtioqch\" target=\"_blank\">https://wandb.ai/knu/sweep-practice/sweeps/ovtioqch</a><br/>\n",
              "Run page: <a href=\"https://wandb.ai/knu/sweep-practice/runs/mf7owhxw\" target=\"_blank\">https://wandb.ai/knu/sweep-practice/runs/mf7owhxw</a><br/>\n",
              "                Run data is saved locally in <code>/content/wandb/run-20210909_153916-mf7owhxw</code><br/><br/>\n",
              "            "
            ],
            "text/plain": [
              "<IPython.core.display.HTML object>"
            ]
          },
          "metadata": {}
        },
        {
          "output_type": "display_data",
          "data": {
            "text/html": [
              "<br/>Waiting for W&B process to finish, PID 6668<br/>Program failed with code 1.  Press ctrl-c to abort syncing."
            ],
            "text/plain": [
              "<IPython.core.display.HTML object>"
            ]
          },
          "metadata": {}
        },
        {
          "output_type": "display_data",
          "data": {
            "application/vnd.jupyter.widget-view+json": {
              "model_id": "c3178d8062f34859826d1755068676d8",
              "version_minor": 0,
              "version_major": 2
            },
            "text/plain": [
              "VBox(children=(Label(value=' 0.00MB of 0.00MB uploaded (0.00MB deduped)\\r'), FloatProgress(value=1.0, max=1.0)…"
            ]
          },
          "metadata": {}
        },
        {
          "output_type": "display_data",
          "data": {
            "text/html": [
              "Find user logs for this run at: <code>/content/wandb/run-20210909_153916-mf7owhxw/logs/debug.log</code>"
            ],
            "text/plain": [
              "<IPython.core.display.HTML object>"
            ]
          },
          "metadata": {}
        },
        {
          "output_type": "display_data",
          "data": {
            "text/html": [
              "Find internal logs for this run at: <code>/content/wandb/run-20210909_153916-mf7owhxw/logs/debug-internal.log</code>"
            ],
            "text/plain": [
              "<IPython.core.display.HTML object>"
            ]
          },
          "metadata": {}
        },
        {
          "output_type": "display_data",
          "data": {
            "text/html": [
              "Synced 4 W&B file(s), 0 media file(s), 0 artifact file(s) and 0 other file(s)"
            ],
            "text/plain": [
              "<IPython.core.display.HTML object>"
            ]
          },
          "metadata": {}
        },
        {
          "output_type": "display_data",
          "data": {
            "text/html": [
              "\n",
              "                    <br/>Synced <strong style=\"color:#cdcd00\">efficient-sweep-29</strong>: <a href=\"https://wandb.ai/knu/sweep-practice/runs/mf7owhxw\" target=\"_blank\">https://wandb.ai/knu/sweep-practice/runs/mf7owhxw</a><br/>\n",
              "                "
            ],
            "text/plain": [
              "<IPython.core.display.HTML object>"
            ]
          },
          "metadata": {}
        },
        {
          "output_type": "stream",
          "name": "stderr",
          "text": [
            "Run mf7owhxw errored: AttributeError(\"module 'tensorflow.keras' has no attribute 'optimizer'\")\n",
            "\u001b[34m\u001b[1mwandb\u001b[0m: \u001b[32m\u001b[41mERROR\u001b[0m Run mf7owhxw errored: AttributeError(\"module 'tensorflow.keras' has no attribute 'optimizer'\")\n",
            "\u001b[34m\u001b[1mwandb\u001b[0m: Agent Starting Run: q8tm62kk with config:\n",
            "\u001b[34m\u001b[1mwandb\u001b[0m: \tdropout_rate: 0.1\n",
            "\u001b[34m\u001b[1mwandb\u001b[0m: \tlayer1_activation: sigmoid\n",
            "\u001b[34m\u001b[1mwandb\u001b[0m: \tlayer1_size: 32\n",
            "\u001b[34m\u001b[1mwandb\u001b[0m: \tlearning_rate: 0.001\n",
            "\u001b[34m\u001b[1mwandb\u001b[0m: \toptimizers: rmsprop\n",
            "\u001b[34m\u001b[1mwandb\u001b[0m: \u001b[33mWARNING\u001b[0m Ignored wandb.init() arg project when running a sweep\n"
          ]
        },
        {
          "output_type": "display_data",
          "data": {
            "text/html": [
              "\n",
              "                Tracking run with wandb version 0.12.1<br/>\n",
              "                Syncing run <strong style=\"color:#cdcd00\">solar-sweep-30</strong> to <a href=\"https://wandb.ai\" target=\"_blank\">Weights & Biases</a> <a href=\"https://docs.wandb.com/integrations/jupyter.html\" target=\"_blank\">(Documentation)</a>.<br/>\n",
              "                Project page: <a href=\"https://wandb.ai/knu/sweep-practice\" target=\"_blank\">https://wandb.ai/knu/sweep-practice</a><br/>\n",
              "                Sweep page: <a href=\"https://wandb.ai/knu/sweep-practice/sweeps/ovtioqch\" target=\"_blank\">https://wandb.ai/knu/sweep-practice/sweeps/ovtioqch</a><br/>\n",
              "Run page: <a href=\"https://wandb.ai/knu/sweep-practice/runs/q8tm62kk\" target=\"_blank\">https://wandb.ai/knu/sweep-practice/runs/q8tm62kk</a><br/>\n",
              "                Run data is saved locally in <code>/content/wandb/run-20210909_153928-q8tm62kk</code><br/><br/>\n",
              "            "
            ],
            "text/plain": [
              "<IPython.core.display.HTML object>"
            ]
          },
          "metadata": {}
        },
        {
          "output_type": "stream",
          "name": "stdout",
          "text": [
            "Epoch 1/5\n",
            "   3/1875 [..............................] - ETA: 1:04 - loss: 2.5725 - accuracy: 0.1354 WARNING:tensorflow:Callback method `on_train_batch_end` is slow compared to the batch time (batch time: 0.0022s vs `on_train_batch_end` time: 0.0128s). Check your callbacks.\n",
            "1875/1875 [==============================] - 5s 3ms/step - loss: 0.7294 - accuracy: 0.7699 - val_loss: 0.5045 - val_accuracy: 0.8213\n",
            "Epoch 2/5\n",
            "1875/1875 [==============================] - 6s 3ms/step - loss: 0.4700 - accuracy: 0.8348 - val_loss: 0.4462 - val_accuracy: 0.8405\n",
            "Epoch 3/5\n",
            "1875/1875 [==============================] - 6s 3ms/step - loss: 0.4292 - accuracy: 0.8492 - val_loss: 0.4209 - val_accuracy: 0.8479\n",
            "Epoch 4/5\n",
            "1875/1875 [==============================] - 6s 3ms/step - loss: 0.4067 - accuracy: 0.8537 - val_loss: 0.4100 - val_accuracy: 0.8547\n",
            "Epoch 5/5\n",
            "1875/1875 [==============================] - 6s 3ms/step - loss: 0.3919 - accuracy: 0.8611 - val_loss: 0.4046 - val_accuracy: 0.8556\n"
          ]
        },
        {
          "output_type": "display_data",
          "data": {
            "text/html": [
              "<br/>Waiting for W&B process to finish, PID 6706<br/>Program ended successfully."
            ],
            "text/plain": [
              "<IPython.core.display.HTML object>"
            ]
          },
          "metadata": {}
        },
        {
          "output_type": "display_data",
          "data": {
            "application/vnd.jupyter.widget-view+json": {
              "model_id": "007957a463784a24a931db385bb20ab9",
              "version_minor": 0,
              "version_major": 2
            },
            "text/plain": [
              "VBox(children=(Label(value=' 0.60MB of 0.60MB uploaded (0.00MB deduped)\\r'), FloatProgress(value=0.98849655511…"
            ]
          },
          "metadata": {}
        },
        {
          "output_type": "display_data",
          "data": {
            "text/html": [
              "Find user logs for this run at: <code>/content/wandb/run-20210909_153928-q8tm62kk/logs/debug.log</code>"
            ],
            "text/plain": [
              "<IPython.core.display.HTML object>"
            ]
          },
          "metadata": {}
        },
        {
          "output_type": "display_data",
          "data": {
            "text/html": [
              "Find internal logs for this run at: <code>/content/wandb/run-20210909_153928-q8tm62kk/logs/debug-internal.log</code>"
            ],
            "text/plain": [
              "<IPython.core.display.HTML object>"
            ]
          },
          "metadata": {}
        },
        {
          "output_type": "display_data",
          "data": {
            "text/html": [
              "<h3>Run summary:</h3><br/><style>\n",
              "    table.wandb td:nth-child(1) { padding: 0 10px; text-align: right }\n",
              "    </style><table class=\"wandb\">\n",
              "<tr><td>epoch</td><td>4</td></tr><tr><td>loss</td><td>0.39185</td></tr><tr><td>accuracy</td><td>0.86112</td></tr><tr><td>val_loss</td><td>0.40458</td></tr><tr><td>val_accuracy</td><td>0.8556</td></tr><tr><td>_runtime</td><td>34</td></tr><tr><td>_timestamp</td><td>1631202002</td></tr><tr><td>_step</td><td>4</td></tr><tr><td>best_val_loss</td><td>0.40458</td></tr><tr><td>best_epoch</td><td>4</td></tr></table>"
            ],
            "text/plain": [
              "<IPython.core.display.HTML object>"
            ]
          },
          "metadata": {}
        },
        {
          "output_type": "display_data",
          "data": {
            "text/html": [
              "<h3>Run history:</h3><br/><style>\n",
              "    table.wandb td:nth-child(1) { padding: 0 10px; text-align: right }\n",
              "    </style><table class=\"wandb\">\n",
              "<tr><td>epoch</td><td>▁▃▅▆█</td></tr><tr><td>loss</td><td>█▃▂▁▁</td></tr><tr><td>accuracy</td><td>▁▆▇▇█</td></tr><tr><td>val_loss</td><td>█▄▂▁▁</td></tr><tr><td>val_accuracy</td><td>▁▅▆██</td></tr><tr><td>_runtime</td><td>▁▃▅▆█</td></tr><tr><td>_timestamp</td><td>▁▃▅▆█</td></tr><tr><td>_step</td><td>▁▃▅▆█</td></tr></table><br/>"
            ],
            "text/plain": [
              "<IPython.core.display.HTML object>"
            ]
          },
          "metadata": {}
        },
        {
          "output_type": "display_data",
          "data": {
            "text/html": [
              "Synced 5 W&B file(s), 181 media file(s), 0 artifact file(s) and 10 other file(s)"
            ],
            "text/plain": [
              "<IPython.core.display.HTML object>"
            ]
          },
          "metadata": {}
        },
        {
          "output_type": "display_data",
          "data": {
            "text/html": [
              "\n",
              "                    <br/>Synced <strong style=\"color:#cdcd00\">solar-sweep-30</strong>: <a href=\"https://wandb.ai/knu/sweep-practice/runs/q8tm62kk\" target=\"_blank\">https://wandb.ai/knu/sweep-practice/runs/q8tm62kk</a><br/>\n",
              "                "
            ],
            "text/plain": [
              "<IPython.core.display.HTML object>"
            ]
          },
          "metadata": {}
        },
        {
          "output_type": "stream",
          "name": "stderr",
          "text": [
            "\u001b[34m\u001b[1mwandb\u001b[0m: Agent Starting Run: rj10mwif with config:\n",
            "\u001b[34m\u001b[1mwandb\u001b[0m: \tdropout_rate: 0.1\n",
            "\u001b[34m\u001b[1mwandb\u001b[0m: \tlayer1_activation: sigmoid\n",
            "\u001b[34m\u001b[1mwandb\u001b[0m: \tlayer1_size: 64\n",
            "\u001b[34m\u001b[1mwandb\u001b[0m: \tlearning_rate: 0.1\n",
            "\u001b[34m\u001b[1mwandb\u001b[0m: \toptimizers: adam\n",
            "\u001b[34m\u001b[1mwandb\u001b[0m: \u001b[33mWARNING\u001b[0m Ignored wandb.init() arg project when running a sweep\n"
          ]
        },
        {
          "output_type": "display_data",
          "data": {
            "text/html": [
              "\n",
              "                Tracking run with wandb version 0.12.1<br/>\n",
              "                Syncing run <strong style=\"color:#cdcd00\">firm-sweep-31</strong> to <a href=\"https://wandb.ai\" target=\"_blank\">Weights & Biases</a> <a href=\"https://docs.wandb.com/integrations/jupyter.html\" target=\"_blank\">(Documentation)</a>.<br/>\n",
              "                Project page: <a href=\"https://wandb.ai/knu/sweep-practice\" target=\"_blank\">https://wandb.ai/knu/sweep-practice</a><br/>\n",
              "                Sweep page: <a href=\"https://wandb.ai/knu/sweep-practice/sweeps/ovtioqch\" target=\"_blank\">https://wandb.ai/knu/sweep-practice/sweeps/ovtioqch</a><br/>\n",
              "Run page: <a href=\"https://wandb.ai/knu/sweep-practice/runs/rj10mwif\" target=\"_blank\">https://wandb.ai/knu/sweep-practice/runs/rj10mwif</a><br/>\n",
              "                Run data is saved locally in <code>/content/wandb/run-20210909_154010-rj10mwif</code><br/><br/>\n",
              "            "
            ],
            "text/plain": [
              "<IPython.core.display.HTML object>"
            ]
          },
          "metadata": {}
        },
        {
          "output_type": "display_data",
          "data": {
            "text/html": [
              "<br/>Waiting for W&B process to finish, PID 7002<br/>Program failed with code 1.  Press ctrl-c to abort syncing."
            ],
            "text/plain": [
              "<IPython.core.display.HTML object>"
            ]
          },
          "metadata": {}
        },
        {
          "output_type": "display_data",
          "data": {
            "application/vnd.jupyter.widget-view+json": {
              "model_id": "383d905b5ea04ff9b9a8a5f93dd5365d",
              "version_minor": 0,
              "version_major": 2
            },
            "text/plain": [
              "VBox(children=(Label(value=' 0.00MB of 0.00MB uploaded (0.00MB deduped)\\r'), FloatProgress(value=1.0, max=1.0)…"
            ]
          },
          "metadata": {}
        },
        {
          "output_type": "display_data",
          "data": {
            "text/html": [
              "Find user logs for this run at: <code>/content/wandb/run-20210909_154010-rj10mwif/logs/debug.log</code>"
            ],
            "text/plain": [
              "<IPython.core.display.HTML object>"
            ]
          },
          "metadata": {}
        },
        {
          "output_type": "display_data",
          "data": {
            "text/html": [
              "Find internal logs for this run at: <code>/content/wandb/run-20210909_154010-rj10mwif/logs/debug-internal.log</code>"
            ],
            "text/plain": [
              "<IPython.core.display.HTML object>"
            ]
          },
          "metadata": {}
        },
        {
          "output_type": "display_data",
          "data": {
            "text/html": [
              "Synced 4 W&B file(s), 0 media file(s), 0 artifact file(s) and 0 other file(s)"
            ],
            "text/plain": [
              "<IPython.core.display.HTML object>"
            ]
          },
          "metadata": {}
        },
        {
          "output_type": "display_data",
          "data": {
            "text/html": [
              "\n",
              "                    <br/>Synced <strong style=\"color:#cdcd00\">firm-sweep-31</strong>: <a href=\"https://wandb.ai/knu/sweep-practice/runs/rj10mwif\" target=\"_blank\">https://wandb.ai/knu/sweep-practice/runs/rj10mwif</a><br/>\n",
              "                "
            ],
            "text/plain": [
              "<IPython.core.display.HTML object>"
            ]
          },
          "metadata": {}
        },
        {
          "output_type": "stream",
          "name": "stderr",
          "text": [
            "Run rj10mwif errored: AttributeError(\"module 'tensorflow.keras' has no attribute 'optimizer'\")\n",
            "\u001b[34m\u001b[1mwandb\u001b[0m: \u001b[32m\u001b[41mERROR\u001b[0m Run rj10mwif errored: AttributeError(\"module 'tensorflow.keras' has no attribute 'optimizer'\")\n",
            "\u001b[34m\u001b[1mwandb\u001b[0m: Agent Starting Run: qf3mxmrk with config:\n",
            "\u001b[34m\u001b[1mwandb\u001b[0m: \tdropout_rate: 0.1\n",
            "\u001b[34m\u001b[1mwandb\u001b[0m: \tlayer1_activation: sigmoid\n",
            "\u001b[34m\u001b[1mwandb\u001b[0m: \tlayer1_size: 64\n",
            "\u001b[34m\u001b[1mwandb\u001b[0m: \tlearning_rate: 0.1\n",
            "\u001b[34m\u001b[1mwandb\u001b[0m: \toptimizers: rmsprop\n",
            "\u001b[34m\u001b[1mwandb\u001b[0m: \u001b[33mWARNING\u001b[0m Ignored wandb.init() arg project when running a sweep\n"
          ]
        },
        {
          "output_type": "display_data",
          "data": {
            "text/html": [
              "\n",
              "                Tracking run with wandb version 0.12.1<br/>\n",
              "                Syncing run <strong style=\"color:#cdcd00\">honest-sweep-32</strong> to <a href=\"https://wandb.ai\" target=\"_blank\">Weights & Biases</a> <a href=\"https://docs.wandb.com/integrations/jupyter.html\" target=\"_blank\">(Documentation)</a>.<br/>\n",
              "                Project page: <a href=\"https://wandb.ai/knu/sweep-practice\" target=\"_blank\">https://wandb.ai/knu/sweep-practice</a><br/>\n",
              "                Sweep page: <a href=\"https://wandb.ai/knu/sweep-practice/sweeps/ovtioqch\" target=\"_blank\">https://wandb.ai/knu/sweep-practice/sweeps/ovtioqch</a><br/>\n",
              "Run page: <a href=\"https://wandb.ai/knu/sweep-practice/runs/qf3mxmrk\" target=\"_blank\">https://wandb.ai/knu/sweep-practice/runs/qf3mxmrk</a><br/>\n",
              "                Run data is saved locally in <code>/content/wandb/run-20210909_154022-qf3mxmrk</code><br/><br/>\n",
              "            "
            ],
            "text/plain": [
              "<IPython.core.display.HTML object>"
            ]
          },
          "metadata": {}
        },
        {
          "output_type": "stream",
          "name": "stdout",
          "text": [
            "Epoch 1/5\n",
            "   3/1875 [..............................] - ETA: 1:17 - loss: 2.5237 - accuracy: 0.1354 WARNING:tensorflow:Callback method `on_train_batch_end` is slow compared to the batch time (batch time: 0.0038s vs `on_train_batch_end` time: 0.0133s). Check your callbacks.\n",
            "1875/1875 [==============================] - 6s 3ms/step - loss: 0.6141 - accuracy: 0.7949 - val_loss: 0.4684 - val_accuracy: 0.8331\n",
            "Epoch 2/5\n",
            "1875/1875 [==============================] - 6s 3ms/step - loss: 0.4276 - accuracy: 0.8468 - val_loss: 0.4173 - val_accuracy: 0.8505\n",
            "Epoch 3/5\n",
            "1844/1875 [============================>.] - ETA: 0s - loss: 0.3883 - accuracy: 0.8602"
          ]
        },
        {
          "output_type": "stream",
          "name": "stderr",
          "text": [
            "\u001b[34m\u001b[1mwandb\u001b[0m: Ctrl + C detected. Stopping sweep.\n"
          ]
        }
      ]
    },
    {
      "cell_type": "code",
      "metadata": {
        "id": "ursPL7VzJSCq"
      },
      "source": [
        "with open('train.py','w') as f:\n",
        "    f.write('''\n",
        "import numpy as np\n",
        "import tensorflow as tf\n",
        "import wandb\n",
        "config_defaults = {\n",
        "    'layer1_size': 128,\n",
        "    'dropout_rate':0.2,\n",
        "    'layer1_activation':'relu',\n",
        "    'optimizer':'Adam',\n",
        "    'learning_rate':0.01\n",
        "}\n",
        "wandb.init(project='sweep-practice',config=config_defaults, magic=True)\n",
        "config=wandb.config\n",
        "\n",
        "fashion_mnist = tf.keras.datasets.fashion_mnist\n",
        "(train_images, train_labels), (test_images, test_labels) = fashion_mnist.load_data()\n",
        "class_names = ['T-shirt/top', 'Trouser', 'Pullover', 'Dress', 'Coat',\n",
        "                'Sandal', 'Shirt', 'Sneaker', 'Bag', 'Ankle boot']\n",
        "\n",
        "train_images.shape\n",
        "train_images = train_images / 255.0\n",
        "test_images = test_images / 255.0\n",
        "\n",
        "model = tf.keras.Sequential([\n",
        "    tf.keras.layers.Flatten(input_shape=(28, 28)),\n",
        "    tf.keras.layers.Dense(config.layer1_size, activation=config.layer1_activation),\n",
        "    tf.keras.layers.Dropout(config.dropout_rate),\n",
        "    tf.keras.layers.Dense(10, activation=tf.nn.softmax)\n",
        "])\n",
        "\n",
        "if config.optimizers =='rmsprop':\n",
        "    opt=tf.keras.optimizers.RMSprop(learning_rate=config.learning_rate)\n",
        "else :\n",
        "    opt=tf.keras.optimizer.Adam(learning_rate=config.learning_rate)\n",
        "model.compile(optimizer='adam',\n",
        "                loss='sparse_categorical_crossentropy',\n",
        "                metrics=['accuracy'])\n",
        "\n",
        "model.fit(train_images, train_labels, epochs=5,\n",
        "                validation_data=(test_images, test_labels))\n",
        "''')"
      ],
      "execution_count": null,
      "outputs": []
    },
    {
      "cell_type": "code",
      "metadata": {
        "id": "1Kz15KYxODAq",
        "colab": {
          "base_uri": "https://localhost:8080/"
        },
        "outputId": "b7c74ede-f5a2-4f58-deff-74017baf8082"
      },
      "source": [
        "!head train.py"
      ],
      "execution_count": null,
      "outputs": [
        {
          "output_type": "stream",
          "name": "stdout",
          "text": [
            "\n",
            "import numpy as np\n",
            "import tensorflow as tf\n",
            "import wandb\n",
            "config_defaults = {\n",
            "    'layer1_size': 128,\n",
            "    'dropout_rate':0.2,\n",
            "    'layer1_activation':'relu',\n",
            "    'optimizer':'Adam',\n",
            "    'learning_rate':0.01\n"
          ]
        }
      ]
    },
    {
      "cell_type": "code",
      "metadata": {
        "id": "PH4-wEqNOEaw",
        "colab": {
          "base_uri": "https://localhost:8080/"
        },
        "outputId": "be63484b-90a8-41fa-a24c-309f95751b94"
      },
      "source": [
        "!wandb agent knu/sweep-practice/2lhlz1gt"
      ],
      "execution_count": null,
      "outputs": [
        {
          "output_type": "stream",
          "name": "stdout",
          "text": [
            "\u001b[34m\u001b[1mwandb\u001b[0m: Starting wandb agent 🕵️\n",
            "2021-09-09 15:44:44,230 - wandb.wandb_agent - INFO - Running runs: []\n",
            "2021-09-09 15:44:44,560 - wandb.wandb_agent - INFO - Agent received command: run\n",
            "2021-09-09 15:44:44,560 - wandb.wandb_agent - INFO - Agent starting run with config:\n",
            "\tdropout_rate: 0.22981687353583818\n",
            "\tlayer1_activation: relu\n",
            "\tlayer1_size: 226\n",
            "\tlayers: 52\n",
            "\tlearning_rate: 0.009639349472373198\n",
            "\toptimizer: Adam\n",
            "\toptimizers: rmsprop\n",
            "2021-09-09 15:44:44,562 - wandb.wandb_agent - INFO - About to run command: /usr/bin/env python train.py --dropout_rate=0.22981687353583818 --layer1_activation=relu --layer1_size=226 --layers=52 --learning_rate=0.009639349472373198 --optimizer=Adam --optimizers=rmsprop\n",
            "\u001b[34m\u001b[1mwandb\u001b[0m: Currently logged in as: \u001b[33mknu\u001b[0m (use `wandb login --relogin` to force relogin)\n",
            "\u001b[34m\u001b[1mwandb\u001b[0m: \u001b[33mWARNING\u001b[0m Ignored wandb.init() arg project when running a sweep\n",
            "2021-09-09 15:44:49,568 - wandb.wandb_agent - INFO - Running runs: ['6iv6eok8']\n",
            "\u001b[34m\u001b[1mwandb\u001b[0m: Tracking run with wandb version 0.12.1\n",
            "\u001b[34m\u001b[1mwandb\u001b[0m: Syncing run \u001b[33mruby-sweep-7\u001b[0m\n",
            "\u001b[34m\u001b[1mwandb\u001b[0m: ⭐️ View project at \u001b[34m\u001b[4mhttps://wandb.ai/knu/sweep-practice\u001b[0m\n",
            "\u001b[34m\u001b[1mwandb\u001b[0m: 🧹 View sweep at \u001b[34m\u001b[4mhttps://wandb.ai/knu/sweep-practice/sweeps/2lhlz1gt\u001b[0m\n",
            "\u001b[34m\u001b[1mwandb\u001b[0m: 🚀 View run at \u001b[34m\u001b[4mhttps://wandb.ai/knu/sweep-practice/runs/6iv6eok8\u001b[0m\n",
            "\u001b[34m\u001b[1mwandb\u001b[0m: Run data is saved locally in /content/wandb/run-20210909_154447-6iv6eok8\n",
            "\u001b[34m\u001b[1mwandb\u001b[0m: Run `wandb offline` to turn off syncing.\n",
            "\n",
            "\u001b[34m\u001b[1mwandb\u001b[0m: \u001b[33mWARNING\u001b[0m Ignored wandb.init() arg project when running a sweep\n",
            "2021-09-09 15:44:50.778246: E tensorflow/stream_executor/cuda/cuda_driver.cc:271] failed call to cuInit: CUDA_ERROR_NO_DEVICE: no CUDA-capable device is detected\n",
            "2021-09-09 15:44:50.778320: I tensorflow/stream_executor/cuda/cuda_diagnostics.cc:156] kernel driver does not appear to be running on this host (8efc9eaf819e): /proc/driver/nvidia/version does not exist\n",
            "2021-09-09 15:44:50.778763: I tensorflow/core/platform/cpu_feature_guard.cc:142] This TensorFlow binary is optimized with oneAPI Deep Neural Network Library (oneDNN) to use the following CPU instructions in performance-critical operations:  AVX512F\n",
            "To enable them in other operations, rebuild TensorFlow with the appropriate compiler flags.\n",
            "2021-09-09 15:44:50.818611: I tensorflow/core/profiler/lib/profiler_session.cc:131] Profiler session initializing.\n",
            "2021-09-09 15:44:50.818755: I tensorflow/core/profiler/lib/profiler_session.cc:146] Profiler session started.\n",
            "2021-09-09 15:44:50.828803: I tensorflow/core/profiler/lib/profiler_session.cc:164] Profiler session tear down.\n",
            "2021-09-09 15:44:51.203764: I tensorflow/compiler/mlir/mlir_graph_optimization_pass.cc:185] None of the MLIR Optimization Passes are enabled (registered 2)\n",
            "Epoch 1/5\n",
            "   1/1875 [..............................] - ETA: 16:21 - loss: 2.5860 - accuracy: 0.0000e+002021-09-09 15:44:51.755750: I tensorflow/core/profiler/lib/profiler_session.cc:131] Profiler session initializing.\n",
            "2021-09-09 15:44:51.755869: I tensorflow/core/profiler/lib/profiler_session.cc:146] Profiler session started.\n",
            "2021-09-09 15:44:51.760884: I tensorflow/core/profiler/lib/profiler_session.cc:66] Profiler session collecting data.\n",
            "2021-09-09 15:44:51.762370: I tensorflow/core/profiler/lib/profiler_session.cc:164] Profiler session tear down.\n",
            "2021-09-09 15:44:51.764422: I tensorflow/core/profiler/rpc/client/save_profile.cc:136] Creating directory: /content/wandb/run-20210909_154447-6iv6eok8/files/train/plugins/profile/2021_09_09_15_44_51\n",
            "\n",
            "2021-09-09 15:44:51.765253: I tensorflow/core/profiler/rpc/client/save_profile.cc:142] Dumped gzipped tool data for trace.json.gz to /content/wandb/run-20210909_154447-6iv6eok8/files/train/plugins/profile/2021_09_09_15_44_51/8efc9eaf819e.trace.json.gz\n",
            "2021-09-09 15:44:51.768071: I tensorflow/core/profiler/rpc/client/save_profile.cc:136] Creating directory: /content/wandb/run-20210909_154447-6iv6eok8/files/train/plugins/profile/2021_09_09_15_44_51\n",
            "\n",
            "2021-09-09 15:44:51.768278: I tensorflow/core/profiler/rpc/client/save_profile.cc:142] Dumped gzipped tool data for memory_profile.json.gz to /content/wandb/run-20210909_154447-6iv6eok8/files/train/plugins/profile/2021_09_09_15_44_51/8efc9eaf819e.memory_profile.json.gz\n",
            "2021-09-09 15:44:51.768675: I tensorflow/core/profiler/rpc/client/capture_profile.cc:251] Creating directory: /content/wandb/run-20210909_154447-6iv6eok8/files/train/plugins/profile/2021_09_09_15_44_51\n",
            "Dumped tool data for xplane.pb to /content/wandb/run-20210909_154447-6iv6eok8/files/train/plugins/profile/2021_09_09_15_44_51/8efc9eaf819e.xplane.pb\n",
            "Dumped tool data for overview_page.pb to /content/wandb/run-20210909_154447-6iv6eok8/files/train/plugins/profile/2021_09_09_15_44_51/8efc9eaf819e.overview_page.pb\n",
            "Dumped tool data for input_pipeline.pb to /content/wandb/run-20210909_154447-6iv6eok8/files/train/plugins/profile/2021_09_09_15_44_51/8efc9eaf819e.input_pipeline.pb\n",
            "Dumped tool data for tensorflow_stats.pb to /content/wandb/run-20210909_154447-6iv6eok8/files/train/plugins/profile/2021_09_09_15_44_51/8efc9eaf819e.tensorflow_stats.pb\n",
            "Dumped tool data for kernel_stats.pb to /content/wandb/run-20210909_154447-6iv6eok8/files/train/plugins/profile/2021_09_09_15_44_51/8efc9eaf819e.kernel_stats.pb\n",
            "\n",
            "WARNING:tensorflow:Callback method `on_train_batch_end` is slow compared to the batch time (batch time: 0.0032s vs `on_train_batch_end` time: 0.0040s). Check your callbacks.\n",
            "1875/1875 [==============================] - 7s 3ms/step - loss: 0.5166 - accuracy: 0.8159 - val_loss: 0.4360 - val_accuracy: 0.8341\n",
            "Epoch 2/5\n",
            "1875/1875 [==============================] - 6s 3ms/step - loss: 0.3934 - accuracy: 0.8558 - val_loss: 0.3743 - val_accuracy: 0.8621\n",
            "Epoch 3/5\n",
            "1875/1875 [==============================] - 6s 3ms/step - loss: 0.3609 - accuracy: 0.8665 - val_loss: 0.3851 - val_accuracy: 0.8612\n",
            "Epoch 4/5\n",
            "1875/1875 [==============================] - 7s 4ms/step - loss: 0.3418 - accuracy: 0.8726 - val_loss: 0.3523 - val_accuracy: 0.8724\n",
            "Epoch 5/5\n",
            "1875/1875 [==============================] - 7s 4ms/step - loss: 0.3237 - accuracy: 0.8800 - val_loss: 0.3535 - val_accuracy: 0.8704\n",
            "\n",
            "\u001b[34m\u001b[1mwandb\u001b[0m: Waiting for W&B process to finish, PID 7291\n",
            "\u001b[34m\u001b[1mwandb\u001b[0m: Program ended successfully.\n",
            "\u001b[34m\u001b[1mwandb\u001b[0m:                                                                                \n",
            "\u001b[34m\u001b[1mwandb\u001b[0m: Find user logs for this run at: /content/wandb/run-20210909_154447-6iv6eok8/logs/debug.log\n",
            "\u001b[34m\u001b[1mwandb\u001b[0m: Find internal logs for this run at: /content/wandb/run-20210909_154447-6iv6eok8/logs/debug-internal.log\n",
            "\u001b[34m\u001b[1mwandb\u001b[0m: Run summary:\n",
            "\u001b[34m\u001b[1mwandb\u001b[0m:           epoch 4\n",
            "\u001b[34m\u001b[1mwandb\u001b[0m:            loss 0.32372\n",
            "\u001b[34m\u001b[1mwandb\u001b[0m:        accuracy 0.87998\n",
            "\u001b[34m\u001b[1mwandb\u001b[0m:        val_loss 0.35349\n",
            "\u001b[34m\u001b[1mwandb\u001b[0m:    val_accuracy 0.8704\n",
            "\u001b[34m\u001b[1mwandb\u001b[0m:        _runtime 37\n",
            "\u001b[34m\u001b[1mwandb\u001b[0m:      _timestamp 1631202324\n",
            "\u001b[34m\u001b[1mwandb\u001b[0m:           _step 4\n",
            "\u001b[34m\u001b[1mwandb\u001b[0m:   best_val_loss 0.35233\n",
            "\u001b[34m\u001b[1mwandb\u001b[0m:      best_epoch 3\n",
            "\u001b[34m\u001b[1mwandb\u001b[0m: Run history:\n",
            "\u001b[34m\u001b[1mwandb\u001b[0m:          epoch ▁▃▅▆█\n",
            "\u001b[34m\u001b[1mwandb\u001b[0m:           loss █▄▂▂▁\n",
            "\u001b[34m\u001b[1mwandb\u001b[0m:       accuracy ▁▅▇▇█\n",
            "\u001b[34m\u001b[1mwandb\u001b[0m:       val_loss █▃▄▁▁\n",
            "\u001b[34m\u001b[1mwandb\u001b[0m:   val_accuracy ▁▆▆██\n",
            "\u001b[34m\u001b[1mwandb\u001b[0m:       _runtime ▁▃▄▆█\n",
            "\u001b[34m\u001b[1mwandb\u001b[0m:     _timestamp ▁▃▄▆█\n",
            "\u001b[34m\u001b[1mwandb\u001b[0m:          _step ▁▃▅▆█\n",
            "\u001b[34m\u001b[1mwandb\u001b[0m: \n",
            "\u001b[34m\u001b[1mwandb\u001b[0m: Synced 5 W&B file(s), 181 media file(s), 0 artifact file(s) and 10 other file(s)\n",
            "\u001b[34m\u001b[1mwandb\u001b[0m: \n",
            "\u001b[34m\u001b[1mwandb\u001b[0m: Synced \u001b[33mruby-sweep-7\u001b[0m: \u001b[34mhttps://wandb.ai/knu/sweep-practice/runs/6iv6eok8\u001b[0m\n",
            "2021-09-09 15:45:42,485 - wandb.wandb_agent - INFO - Cleaning up finished run: 6iv6eok8\n",
            "2021-09-09 15:45:43,007 - wandb.wandb_agent - INFO - Agent received command: run\n",
            "2021-09-09 15:45:43,007 - wandb.wandb_agent - INFO - Agent starting run with config:\n",
            "\tdropout_rate: 0.31184559999923844\n",
            "\tlayer1_activation: sigmoid\n",
            "\tlayer1_size: 209\n",
            "\tlayers: 67\n",
            "\tlearning_rate: 0.04043885414119592\n",
            "\toptimizer: Adam\n",
            "\toptimizers: rmsprop\n",
            "2021-09-09 15:45:43,008 - wandb.wandb_agent - INFO - About to run command: /usr/bin/env python train.py --dropout_rate=0.31184559999923844 --layer1_activation=sigmoid --layer1_size=209 --layers=67 --learning_rate=0.04043885414119592 --optimizer=Adam --optimizers=rmsprop\n",
            "\u001b[34m\u001b[1mwandb\u001b[0m: Currently logged in as: \u001b[33mknu\u001b[0m (use `wandb login --relogin` to force relogin)\n",
            "\u001b[34m\u001b[1mwandb\u001b[0m: \u001b[33mWARNING\u001b[0m Ignored wandb.init() arg project when running a sweep\n",
            "2021-09-09 15:45:48,020 - wandb.wandb_agent - INFO - Running runs: ['3frhz3ft']\n",
            "\u001b[34m\u001b[1mwandb\u001b[0m: Tracking run with wandb version 0.12.1\n",
            "\u001b[34m\u001b[1mwandb\u001b[0m: Syncing run \u001b[33mlemon-sweep-8\u001b[0m\n",
            "\u001b[34m\u001b[1mwandb\u001b[0m: ⭐️ View project at \u001b[34m\u001b[4mhttps://wandb.ai/knu/sweep-practice\u001b[0m\n",
            "\u001b[34m\u001b[1mwandb\u001b[0m: 🧹 View sweep at \u001b[34m\u001b[4mhttps://wandb.ai/knu/sweep-practice/sweeps/2lhlz1gt\u001b[0m\n",
            "\u001b[34m\u001b[1mwandb\u001b[0m: 🚀 View run at \u001b[34m\u001b[4mhttps://wandb.ai/knu/sweep-practice/runs/3frhz3ft\u001b[0m\n",
            "\u001b[34m\u001b[1mwandb\u001b[0m: Run data is saved locally in /content/wandb/run-20210909_154545-3frhz3ft\n",
            "\u001b[34m\u001b[1mwandb\u001b[0m: Run `wandb offline` to turn off syncing.\n",
            "\n",
            "\u001b[34m\u001b[1mwandb\u001b[0m: \u001b[33mWARNING\u001b[0m Ignored wandb.init() arg project when running a sweep\n",
            "2021-09-09 15:45:49.137450: E tensorflow/stream_executor/cuda/cuda_driver.cc:271] failed call to cuInit: CUDA_ERROR_NO_DEVICE: no CUDA-capable device is detected\n",
            "2021-09-09 15:45:49.137521: I tensorflow/stream_executor/cuda/cuda_diagnostics.cc:156] kernel driver does not appear to be running on this host (8efc9eaf819e): /proc/driver/nvidia/version does not exist\n",
            "2021-09-09 15:45:49.137925: I tensorflow/core/platform/cpu_feature_guard.cc:142] This TensorFlow binary is optimized with oneAPI Deep Neural Network Library (oneDNN) to use the following CPU instructions in performance-critical operations:  AVX512F\n",
            "To enable them in other operations, rebuild TensorFlow with the appropriate compiler flags.\n",
            "2021-09-09 15:45:49.174275: I tensorflow/core/profiler/lib/profiler_session.cc:131] Profiler session initializing.\n",
            "2021-09-09 15:45:49.174347: I tensorflow/core/profiler/lib/profiler_session.cc:146] Profiler session started.\n",
            "2021-09-09 15:45:49.184400: I tensorflow/core/profiler/lib/profiler_session.cc:164] Profiler session tear down.\n",
            "2021-09-09 15:45:49.567976: I tensorflow/compiler/mlir/mlir_graph_optimization_pass.cc:185] None of the MLIR Optimization Passes are enabled (registered 2)\n",
            "Epoch 1/5\n",
            "   1/1875 [..............................] - ETA: 15:57 - loss: 2.5032 - accuracy: 0.09382021-09-09 15:45:50.105409: I tensorflow/core/profiler/lib/profiler_session.cc:131] Profiler session initializing.\n",
            "2021-09-09 15:45:50.105471: I tensorflow/core/profiler/lib/profiler_session.cc:146] Profiler session started.\n",
            "2021-09-09 15:45:50.111945: I tensorflow/core/profiler/lib/profiler_session.cc:66] Profiler session collecting data.\n",
            "2021-09-09 15:45:50.113088: I tensorflow/core/profiler/lib/profiler_session.cc:164] Profiler session tear down.\n",
            "2021-09-09 15:45:50.115127: I tensorflow/core/profiler/rpc/client/save_profile.cc:136] Creating directory: /content/wandb/run-20210909_154545-3frhz3ft/files/train/plugins/profile/2021_09_09_15_45_50\n",
            "\n",
            "2021-09-09 15:45:50.116132: I tensorflow/core/profiler/rpc/client/save_profile.cc:142] Dumped gzipped tool data for trace.json.gz to /content/wandb/run-20210909_154545-3frhz3ft/files/train/plugins/profile/2021_09_09_15_45_50/8efc9eaf819e.trace.json.gz\n",
            "2021-09-09 15:45:50.119304: I tensorflow/core/profiler/rpc/client/save_profile.cc:136] Creating directory: /content/wandb/run-20210909_154545-3frhz3ft/files/train/plugins/profile/2021_09_09_15_45_50\n",
            "\n",
            "2021-09-09 15:45:50.119526: I tensorflow/core/profiler/rpc/client/save_profile.cc:142] Dumped gzipped tool data for memory_profile.json.gz to /content/wandb/run-20210909_154545-3frhz3ft/files/train/plugins/profile/2021_09_09_15_45_50/8efc9eaf819e.memory_profile.json.gz\n",
            "2021-09-09 15:45:50.119917: I tensorflow/core/profiler/rpc/client/capture_profile.cc:251] Creating directory: /content/wandb/run-20210909_154545-3frhz3ft/files/train/plugins/profile/2021_09_09_15_45_50\n",
            "Dumped tool data for xplane.pb to /content/wandb/run-20210909_154545-3frhz3ft/files/train/plugins/profile/2021_09_09_15_45_50/8efc9eaf819e.xplane.pb\n",
            "Dumped tool data for overview_page.pb to /content/wandb/run-20210909_154545-3frhz3ft/files/train/plugins/profile/2021_09_09_15_45_50/8efc9eaf819e.overview_page.pb\n",
            "Dumped tool data for input_pipeline.pb to /content/wandb/run-20210909_154545-3frhz3ft/files/train/plugins/profile/2021_09_09_15_45_50/8efc9eaf819e.input_pipeline.pb\n",
            "Dumped tool data for tensorflow_stats.pb to /content/wandb/run-20210909_154545-3frhz3ft/files/train/plugins/profile/2021_09_09_15_45_50/8efc9eaf819e.tensorflow_stats.pb\n",
            "Dumped tool data for kernel_stats.pb to /content/wandb/run-20210909_154545-3frhz3ft/files/train/plugins/profile/2021_09_09_15_45_50/8efc9eaf819e.kernel_stats.pb\n",
            "\n",
            "WARNING:tensorflow:Callback method `on_train_batch_end` is slow compared to the batch time (batch time: 0.0035s vs `on_train_batch_end` time: 0.0039s). Check your callbacks.\n",
            "1875/1875 [==============================] - 6s 3ms/step - loss: 0.5681 - accuracy: 0.7976 - val_loss: 0.4522 - val_accuracy: 0.8368\n",
            "Epoch 2/5\n",
            "1875/1875 [==============================] - 6s 3ms/step - loss: 0.4232 - accuracy: 0.8464 - val_loss: 0.4076 - val_accuracy: 0.8529\n",
            "Epoch 3/5\n",
            "1875/1875 [==============================] - 7s 4ms/step - loss: 0.3837 - accuracy: 0.8601 - val_loss: 0.3820 - val_accuracy: 0.8641\n",
            "Epoch 4/5\n",
            "1875/1875 [==============================] - 7s 4ms/step - loss: 0.3603 - accuracy: 0.8689 - val_loss: 0.3732 - val_accuracy: 0.8670\n",
            "Epoch 5/5\n",
            "1875/1875 [==============================] - 7s 4ms/step - loss: 0.3444 - accuracy: 0.8740 - val_loss: 0.3611 - val_accuracy: 0.8722\n",
            "\n",
            "\u001b[34m\u001b[1mwandb\u001b[0m: Waiting for W&B process to finish, PID 7603\n",
            "\u001b[34m\u001b[1mwandb\u001b[0m: Program ended successfully.\n",
            "\u001b[34m\u001b[1mwandb\u001b[0m:                                                                                \n",
            "\u001b[34m\u001b[1mwandb\u001b[0m: Find user logs for this run at: /content/wandb/run-20210909_154545-3frhz3ft/logs/debug.log\n",
            "\u001b[34m\u001b[1mwandb\u001b[0m: Find internal logs for this run at: /content/wandb/run-20210909_154545-3frhz3ft/logs/debug-internal.log\n",
            "\u001b[34m\u001b[1mwandb\u001b[0m: Run summary:\n",
            "\u001b[34m\u001b[1mwandb\u001b[0m:           epoch 4\n",
            "\u001b[34m\u001b[1mwandb\u001b[0m:            loss 0.34435\n",
            "\u001b[34m\u001b[1mwandb\u001b[0m:        accuracy 0.87395\n",
            "\u001b[34m\u001b[1mwandb\u001b[0m:        val_loss 0.36109\n",
            "\u001b[34m\u001b[1mwandb\u001b[0m:    val_accuracy 0.8722\n",
            "\u001b[34m\u001b[1mwandb\u001b[0m:        _runtime 37\n",
            "\u001b[34m\u001b[1mwandb\u001b[0m:      _timestamp 1631202382\n",
            "\u001b[34m\u001b[1mwandb\u001b[0m:           _step 4\n",
            "\u001b[34m\u001b[1mwandb\u001b[0m:   best_val_loss 0.36109\n",
            "\u001b[34m\u001b[1mwandb\u001b[0m:      best_epoch 4\n",
            "\u001b[34m\u001b[1mwandb\u001b[0m: Run history:\n",
            "\u001b[34m\u001b[1mwandb\u001b[0m:          epoch ▁▃▅▆█\n",
            "\u001b[34m\u001b[1mwandb\u001b[0m:           loss █▃▂▁▁\n",
            "\u001b[34m\u001b[1mwandb\u001b[0m:       accuracy ▁▅▇██\n",
            "\u001b[34m\u001b[1mwandb\u001b[0m:       val_loss █▅▃▂▁\n",
            "\u001b[34m\u001b[1mwandb\u001b[0m:   val_accuracy ▁▄▆▇█\n",
            "\u001b[34m\u001b[1mwandb\u001b[0m:       _runtime ▁▃▄▆█\n",
            "\u001b[34m\u001b[1mwandb\u001b[0m:     _timestamp ▁▃▄▆█\n",
            "\u001b[34m\u001b[1mwandb\u001b[0m:          _step ▁▃▅▆█\n",
            "\u001b[34m\u001b[1mwandb\u001b[0m: \n",
            "\u001b[34m\u001b[1mwandb\u001b[0m: Synced 5 W&B file(s), 181 media file(s), 0 artifact file(s) and 10 other file(s)\n",
            "\u001b[34m\u001b[1mwandb\u001b[0m: \n",
            "\u001b[34m\u001b[1mwandb\u001b[0m: Synced \u001b[33mlemon-sweep-8\u001b[0m: \u001b[34mhttps://wandb.ai/knu/sweep-practice/runs/3frhz3ft\u001b[0m\n",
            "2021-09-09 15:46:39,547 - wandb.wandb_agent - INFO - Cleaning up finished run: 3frhz3ft\n",
            "2021-09-09 15:46:40,018 - wandb.wandb_agent - INFO - Agent received command: run\n",
            "2021-09-09 15:46:40,018 - wandb.wandb_agent - INFO - Agent starting run with config:\n",
            "\tdropout_rate: 0.11713587942520516\n",
            "\tlayer1_activation: relu\n",
            "\tlayer1_size: 41\n",
            "\tlayers: 41\n",
            "\tlearning_rate: 0.18425998975886923\n",
            "\toptimizer: Adam\n",
            "\toptimizers: rmsprop\n",
            "2021-09-09 15:46:40,020 - wandb.wandb_agent - INFO - About to run command: /usr/bin/env python train.py --dropout_rate=0.11713587942520516 --layer1_activation=relu --layer1_size=41 --layers=41 --learning_rate=0.18425998975886923 --optimizer=Adam --optimizers=rmsprop\n",
            "\u001b[34m\u001b[1mwandb\u001b[0m: Currently logged in as: \u001b[33mknu\u001b[0m (use `wandb login --relogin` to force relogin)\n",
            "\u001b[34m\u001b[1mwandb\u001b[0m: \u001b[33mWARNING\u001b[0m Ignored wandb.init() arg project when running a sweep\n",
            "2021-09-09 15:46:45,032 - wandb.wandb_agent - INFO - Running runs: ['5sa1dlb6']\n",
            "\u001b[34m\u001b[1mwandb\u001b[0m: Tracking run with wandb version 0.12.1\n",
            "\u001b[34m\u001b[1mwandb\u001b[0m: Syncing run \u001b[33mkind-sweep-9\u001b[0m\n",
            "\u001b[34m\u001b[1mwandb\u001b[0m: ⭐️ View project at \u001b[34m\u001b[4mhttps://wandb.ai/knu/sweep-practice\u001b[0m\n",
            "\u001b[34m\u001b[1mwandb\u001b[0m: 🧹 View sweep at \u001b[34m\u001b[4mhttps://wandb.ai/knu/sweep-practice/sweeps/2lhlz1gt\u001b[0m\n",
            "\u001b[34m\u001b[1mwandb\u001b[0m: 🚀 View run at \u001b[34m\u001b[4mhttps://wandb.ai/knu/sweep-practice/runs/5sa1dlb6\u001b[0m\n",
            "\u001b[34m\u001b[1mwandb\u001b[0m: Run data is saved locally in /content/wandb/run-20210909_154642-5sa1dlb6\n",
            "\u001b[34m\u001b[1mwandb\u001b[0m: Run `wandb offline` to turn off syncing.\n",
            "\n",
            "\u001b[34m\u001b[1mwandb\u001b[0m: \u001b[33mWARNING\u001b[0m Ignored wandb.init() arg project when running a sweep\n",
            "2021-09-09 15:46:46.060612: E tensorflow/stream_executor/cuda/cuda_driver.cc:271] failed call to cuInit: CUDA_ERROR_NO_DEVICE: no CUDA-capable device is detected\n",
            "2021-09-09 15:46:46.060682: I tensorflow/stream_executor/cuda/cuda_diagnostics.cc:156] kernel driver does not appear to be running on this host (8efc9eaf819e): /proc/driver/nvidia/version does not exist\n",
            "2021-09-09 15:46:46.061099: I tensorflow/core/platform/cpu_feature_guard.cc:142] This TensorFlow binary is optimized with oneAPI Deep Neural Network Library (oneDNN) to use the following CPU instructions in performance-critical operations:  AVX512F\n",
            "To enable them in other operations, rebuild TensorFlow with the appropriate compiler flags.\n",
            "2021-09-09 15:46:46.097759: I tensorflow/core/profiler/lib/profiler_session.cc:131] Profiler session initializing.\n",
            "2021-09-09 15:46:46.097825: I tensorflow/core/profiler/lib/profiler_session.cc:146] Profiler session started.\n",
            "2021-09-09 15:46:46.107912: I tensorflow/core/profiler/lib/profiler_session.cc:164] Profiler session tear down.\n",
            "2021-09-09 15:46:46.424183: I tensorflow/compiler/mlir/mlir_graph_optimization_pass.cc:185] None of the MLIR Optimization Passes are enabled (registered 2)\n",
            "Epoch 1/5\n",
            "   1/1875 [..............................] - ETA: 15:56 - loss: 2.4506 - accuracy: 0.06252021-09-09 15:46:46.962174: I tensorflow/core/profiler/lib/profiler_session.cc:131] Profiler session initializing.\n",
            "2021-09-09 15:46:46.962235: I tensorflow/core/profiler/lib/profiler_session.cc:146] Profiler session started.\n",
            "2021-09-09 15:46:46.967680: I tensorflow/core/profiler/lib/profiler_session.cc:66] Profiler session collecting data.\n",
            "2021-09-09 15:46:46.968777: I tensorflow/core/profiler/lib/profiler_session.cc:164] Profiler session tear down.\n",
            "2021-09-09 15:46:46.971833: I tensorflow/core/profiler/rpc/client/save_profile.cc:136] Creating directory: /content/wandb/run-20210909_154642-5sa1dlb6/files/train/plugins/profile/2021_09_09_15_46_46\n",
            "\n",
            "2021-09-09 15:46:46.972895: I tensorflow/core/profiler/rpc/client/save_profile.cc:142] Dumped gzipped tool data for trace.json.gz to /content/wandb/run-20210909_154642-5sa1dlb6/files/train/plugins/profile/2021_09_09_15_46_46/8efc9eaf819e.trace.json.gz\n",
            "2021-09-09 15:46:46.975622: I tensorflow/core/profiler/rpc/client/save_profile.cc:136] Creating directory: /content/wandb/run-20210909_154642-5sa1dlb6/files/train/plugins/profile/2021_09_09_15_46_46\n",
            "\n",
            "2021-09-09 15:46:46.975892: I tensorflow/core/profiler/rpc/client/save_profile.cc:142] Dumped gzipped tool data for memory_profile.json.gz to /content/wandb/run-20210909_154642-5sa1dlb6/files/train/plugins/profile/2021_09_09_15_46_46/8efc9eaf819e.memory_profile.json.gz\n",
            "2021-09-09 15:46:46.976273: I tensorflow/core/profiler/rpc/client/capture_profile.cc:251] Creating directory: /content/wandb/run-20210909_154642-5sa1dlb6/files/train/plugins/profile/2021_09_09_15_46_46\n",
            "Dumped tool data for xplane.pb to /content/wandb/run-20210909_154642-5sa1dlb6/files/train/plugins/profile/2021_09_09_15_46_46/8efc9eaf819e.xplane.pb\n",
            "Dumped tool data for overview_page.pb to /content/wandb/run-20210909_154642-5sa1dlb6/files/train/plugins/profile/2021_09_09_15_46_46/8efc9eaf819e.overview_page.pb\n",
            "Dumped tool data for input_pipeline.pb to /content/wandb/run-20210909_154642-5sa1dlb6/files/train/plugins/profile/2021_09_09_15_46_46/8efc9eaf819e.input_pipeline.pb\n",
            "Dumped tool data for tensorflow_stats.pb to /content/wandb/run-20210909_154642-5sa1dlb6/files/train/plugins/profile/2021_09_09_15_46_46/8efc9eaf819e.tensorflow_stats.pb\n",
            "Dumped tool data for kernel_stats.pb to /content/wandb/run-20210909_154642-5sa1dlb6/files/train/plugins/profile/2021_09_09_15_46_46/8efc9eaf819e.kernel_stats.pb\n",
            "\n",
            "WARNING:tensorflow:Callback method `on_train_batch_end` is slow compared to the batch time (batch time: 0.0032s vs `on_train_batch_end` time: 0.0041s). Check your callbacks.\n",
            "1875/1875 [==============================] - 5s 2ms/step - loss: 0.6028 - accuracy: 0.7902 - val_loss: 0.4590 - val_accuracy: 0.8385\n",
            "Epoch 2/5\n",
            "1875/1875 [==============================] - 5s 2ms/step - loss: 0.4364 - accuracy: 0.8443 - val_loss: 0.4288 - val_accuracy: 0.8423\n",
            "Epoch 3/5\n",
            "1875/1875 [==============================] - 5s 2ms/step - loss: 0.3993 - accuracy: 0.8558 - val_loss: 0.4108 - val_accuracy: 0.8538\n",
            "Epoch 4/5\n",
            "1875/1875 [==============================] - 4s 2ms/step - loss: 0.3792 - accuracy: 0.8624 - val_loss: 0.3852 - val_accuracy: 0.8627\n",
            "Epoch 5/5\n",
            "1875/1875 [==============================] - 4s 2ms/step - loss: 0.3658 - accuracy: 0.8664 - val_loss: 0.3751 - val_accuracy: 0.8637\n",
            "\n",
            "\u001b[34m\u001b[1mwandb\u001b[0m: Waiting for W&B process to finish, PID 7918\n",
            "\u001b[34m\u001b[1mwandb\u001b[0m: Program ended successfully.\n",
            "\u001b[34m\u001b[1mwandb\u001b[0m:                                                                                \n",
            "\u001b[34m\u001b[1mwandb\u001b[0m: Find user logs for this run at: /content/wandb/run-20210909_154642-5sa1dlb6/logs/debug.log\n",
            "\u001b[34m\u001b[1mwandb\u001b[0m: Find internal logs for this run at: /content/wandb/run-20210909_154642-5sa1dlb6/logs/debug-internal.log\n",
            "\u001b[34m\u001b[1mwandb\u001b[0m: Run summary:\n",
            "\u001b[34m\u001b[1mwandb\u001b[0m:           epoch 4\n",
            "\u001b[34m\u001b[1mwandb\u001b[0m:            loss 0.36584\n",
            "\u001b[34m\u001b[1mwandb\u001b[0m:        accuracy 0.86638\n",
            "\u001b[34m\u001b[1mwandb\u001b[0m:        val_loss 0.37507\n",
            "\u001b[34m\u001b[1mwandb\u001b[0m:    val_accuracy 0.8637\n",
            "\u001b[34m\u001b[1mwandb\u001b[0m:        _runtime 27\n",
            "\u001b[34m\u001b[1mwandb\u001b[0m:      _timestamp 1631202429\n",
            "\u001b[34m\u001b[1mwandb\u001b[0m:           _step 4\n",
            "\u001b[34m\u001b[1mwandb\u001b[0m:   best_val_loss 0.37507\n",
            "\u001b[34m\u001b[1mwandb\u001b[0m:      best_epoch 4\n",
            "\u001b[34m\u001b[1mwandb\u001b[0m: Run history:\n",
            "\u001b[34m\u001b[1mwandb\u001b[0m:          epoch ▁▃▅▆█\n",
            "\u001b[34m\u001b[1mwandb\u001b[0m:           loss █▃▂▁▁\n",
            "\u001b[34m\u001b[1mwandb\u001b[0m:       accuracy ▁▆▇██\n",
            "\u001b[34m\u001b[1mwandb\u001b[0m:       val_loss █▅▄▂▁\n",
            "\u001b[34m\u001b[1mwandb\u001b[0m:   val_accuracy ▁▂▅██\n",
            "\u001b[34m\u001b[1mwandb\u001b[0m:       _runtime ▁▃▅▆█\n",
            "\u001b[34m\u001b[1mwandb\u001b[0m:     _timestamp ▁▃▅▆█\n",
            "\u001b[34m\u001b[1mwandb\u001b[0m:          _step ▁▃▅▆█\n",
            "\u001b[34m\u001b[1mwandb\u001b[0m: \n",
            "\u001b[34m\u001b[1mwandb\u001b[0m: Synced 5 W&B file(s), 181 media file(s), 0 artifact file(s) and 10 other file(s)\n",
            "\u001b[34m\u001b[1mwandb\u001b[0m: \n",
            "\u001b[34m\u001b[1mwandb\u001b[0m: Synced \u001b[33mkind-sweep-9\u001b[0m: \u001b[34mhttps://wandb.ai/knu/sweep-practice/runs/5sa1dlb6\u001b[0m\n",
            "2021-09-09 15:47:37,055 - wandb.wandb_agent - INFO - Cleaning up finished run: 5sa1dlb6\n",
            "2021-09-09 15:47:37,382 - wandb.wandb_agent - INFO - Agent received command: run\n",
            "2021-09-09 15:47:37,382 - wandb.wandb_agent - INFO - Agent starting run with config:\n",
            "\tdropout_rate: 0.22260921524051075\n",
            "\tlayer1_activation: relu\n",
            "\tlayer1_size: 227\n",
            "\tlayers: 74\n",
            "\tlearning_rate: 0.028606025880744956\n",
            "\toptimizer: Adam\n",
            "\toptimizers: rmsprop\n",
            "2021-09-09 15:47:37,384 - wandb.wandb_agent - INFO - About to run command: /usr/bin/env python train.py --dropout_rate=0.22260921524051075 --layer1_activation=relu --layer1_size=227 --layers=74 --learning_rate=0.028606025880744956 --optimizer=Adam --optimizers=rmsprop\n",
            "\u001b[34m\u001b[1mwandb\u001b[0m: Currently logged in as: \u001b[33mknu\u001b[0m (use `wandb login --relogin` to force relogin)\n",
            "\u001b[34m\u001b[1mwandb\u001b[0m: \u001b[33mWARNING\u001b[0m Ignored wandb.init() arg project when running a sweep\n",
            "2021-09-09 15:47:42,394 - wandb.wandb_agent - INFO - Running runs: ['nyxr5bh0']\n",
            "\u001b[34m\u001b[1mwandb\u001b[0m: Tracking run with wandb version 0.12.1\n",
            "\u001b[34m\u001b[1mwandb\u001b[0m: Syncing run \u001b[33mdaily-sweep-10\u001b[0m\n",
            "\u001b[34m\u001b[1mwandb\u001b[0m: ⭐️ View project at \u001b[34m\u001b[4mhttps://wandb.ai/knu/sweep-practice\u001b[0m\n",
            "\u001b[34m\u001b[1mwandb\u001b[0m: 🧹 View sweep at \u001b[34m\u001b[4mhttps://wandb.ai/knu/sweep-practice/sweeps/2lhlz1gt\u001b[0m\n",
            "\u001b[34m\u001b[1mwandb\u001b[0m: 🚀 View run at \u001b[34m\u001b[4mhttps://wandb.ai/knu/sweep-practice/runs/nyxr5bh0\u001b[0m\n",
            "\u001b[34m\u001b[1mwandb\u001b[0m: Run data is saved locally in /content/wandb/run-20210909_154740-nyxr5bh0\n",
            "\u001b[34m\u001b[1mwandb\u001b[0m: Run `wandb offline` to turn off syncing.\n",
            "\n",
            "\u001b[34m\u001b[1mwandb\u001b[0m: \u001b[33mWARNING\u001b[0m Ignored wandb.init() arg project when running a sweep\n",
            "2021-09-09 15:47:43.392385: E tensorflow/stream_executor/cuda/cuda_driver.cc:271] failed call to cuInit: CUDA_ERROR_NO_DEVICE: no CUDA-capable device is detected\n",
            "2021-09-09 15:47:43.392458: I tensorflow/stream_executor/cuda/cuda_diagnostics.cc:156] kernel driver does not appear to be running on this host (8efc9eaf819e): /proc/driver/nvidia/version does not exist\n",
            "2021-09-09 15:47:43.392933: I tensorflow/core/platform/cpu_feature_guard.cc:142] This TensorFlow binary is optimized with oneAPI Deep Neural Network Library (oneDNN) to use the following CPU instructions in performance-critical operations:  AVX512F\n",
            "To enable them in other operations, rebuild TensorFlow with the appropriate compiler flags.\n",
            "2021-09-09 15:47:43.430149: I tensorflow/core/profiler/lib/profiler_session.cc:131] Profiler session initializing.\n",
            "2021-09-09 15:47:43.430221: I tensorflow/core/profiler/lib/profiler_session.cc:146] Profiler session started.\n",
            "2021-09-09 15:47:43.440273: I tensorflow/core/profiler/lib/profiler_session.cc:164] Profiler session tear down.\n",
            "2021-09-09 15:47:43.748922: I tensorflow/compiler/mlir/mlir_graph_optimization_pass.cc:185] None of the MLIR Optimization Passes are enabled (registered 2)\n",
            "Epoch 1/5\n",
            "   1/1875 [..............................] - ETA: 15:56 - loss: 2.5792 - accuracy: 0.0000e+002021-09-09 15:47:44.285811: I tensorflow/core/profiler/lib/profiler_session.cc:131] Profiler session initializing.\n",
            "2021-09-09 15:47:44.285865: I tensorflow/core/profiler/lib/profiler_session.cc:146] Profiler session started.\n",
            "2021-09-09 15:47:44.291914: I tensorflow/core/profiler/lib/profiler_session.cc:66] Profiler session collecting data.\n",
            "2021-09-09 15:47:44.292925: I tensorflow/core/profiler/lib/profiler_session.cc:164] Profiler session tear down.\n",
            "2021-09-09 15:47:44.296248: I tensorflow/core/profiler/rpc/client/save_profile.cc:136] Creating directory: /content/wandb/run-20210909_154740-nyxr5bh0/files/train/plugins/profile/2021_09_09_15_47_44\n",
            "\n",
            "2021-09-09 15:47:44.297587: I tensorflow/core/profiler/rpc/client/save_profile.cc:142] Dumped gzipped tool data for trace.json.gz to /content/wandb/run-20210909_154740-nyxr5bh0/files/train/plugins/profile/2021_09_09_15_47_44/8efc9eaf819e.trace.json.gz\n",
            "2021-09-09 15:47:44.301473: I tensorflow/core/profiler/rpc/client/save_profile.cc:136] Creating directory: /content/wandb/run-20210909_154740-nyxr5bh0/files/train/plugins/profile/2021_09_09_15_47_44\n",
            "\n",
            "2021-09-09 15:47:44.302252: I tensorflow/core/profiler/rpc/client/save_profile.cc:142] Dumped gzipped tool data for memory_profile.json.gz to /content/wandb/run-20210909_154740-nyxr5bh0/files/train/plugins/profile/2021_09_09_15_47_44/8efc9eaf819e.memory_profile.json.gz\n",
            "2021-09-09 15:47:44.302641: I tensorflow/core/profiler/rpc/client/capture_profile.cc:251] Creating directory: /content/wandb/run-20210909_154740-nyxr5bh0/files/train/plugins/profile/2021_09_09_15_47_44\n",
            "Dumped tool data for xplane.pb to /content/wandb/run-20210909_154740-nyxr5bh0/files/train/plugins/profile/2021_09_09_15_47_44/8efc9eaf819e.xplane.pb\n",
            "Dumped tool data for overview_page.pb to /content/wandb/run-20210909_154740-nyxr5bh0/files/train/plugins/profile/2021_09_09_15_47_44/8efc9eaf819e.overview_page.pb\n",
            "Dumped tool data for input_pipeline.pb to /content/wandb/run-20210909_154740-nyxr5bh0/files/train/plugins/profile/2021_09_09_15_47_44/8efc9eaf819e.input_pipeline.pb\n",
            "Dumped tool data for tensorflow_stats.pb to /content/wandb/run-20210909_154740-nyxr5bh0/files/train/plugins/profile/2021_09_09_15_47_44/8efc9eaf819e.tensorflow_stats.pb\n",
            "Dumped tool data for kernel_stats.pb to /content/wandb/run-20210909_154740-nyxr5bh0/files/train/plugins/profile/2021_09_09_15_47_44/8efc9eaf819e.kernel_stats.pb\n",
            "\n",
            "1875/1875 [==============================] - 6s 3ms/step - loss: 0.5120 - accuracy: 0.8175 - val_loss: 0.4196 - val_accuracy: 0.8486\n",
            "Epoch 2/5\n",
            "1875/1875 [==============================] - 6s 3ms/step - loss: 0.3910 - accuracy: 0.8574 - val_loss: 0.3934 - val_accuracy: 0.8609\n",
            "Epoch 3/5\n",
            "1875/1875 [==============================] - 6s 3ms/step - loss: 0.3588 - accuracy: 0.8679 - val_loss: 0.3741 - val_accuracy: 0.8665\n",
            "Epoch 4/5\n",
            "1875/1875 [==============================] - 7s 4ms/step - loss: 0.3389 - accuracy: 0.8753 - val_loss: 0.3515 - val_accuracy: 0.8721\n",
            "Epoch 5/5\n",
            "1875/1875 [==============================] - 7s 4ms/step - loss: 0.3239 - accuracy: 0.8800 - val_loss: 0.3550 - val_accuracy: 0.8721\n",
            "\n",
            "\u001b[34m\u001b[1mwandb\u001b[0m: Waiting for W&B process to finish, PID 8232\n",
            "\u001b[34m\u001b[1mwandb\u001b[0m: Program ended successfully.\n",
            "\u001b[34m\u001b[1mwandb\u001b[0m:                                                                                \n",
            "\u001b[34m\u001b[1mwandb\u001b[0m: Find user logs for this run at: /content/wandb/run-20210909_154740-nyxr5bh0/logs/debug.log\n",
            "\u001b[34m\u001b[1mwandb\u001b[0m: Find internal logs for this run at: /content/wandb/run-20210909_154740-nyxr5bh0/logs/debug-internal.log\n",
            "\u001b[34m\u001b[1mwandb\u001b[0m: Run summary:\n",
            "\u001b[34m\u001b[1mwandb\u001b[0m:           epoch 4\n",
            "\u001b[34m\u001b[1mwandb\u001b[0m:            loss 0.32389\n",
            "\u001b[34m\u001b[1mwandb\u001b[0m:        accuracy 0.87998\n",
            "\u001b[34m\u001b[1mwandb\u001b[0m:        val_loss 0.355\n",
            "\u001b[34m\u001b[1mwandb\u001b[0m:    val_accuracy 0.8721\n",
            "\u001b[34m\u001b[1mwandb\u001b[0m:        _runtime 37\n",
            "\u001b[34m\u001b[1mwandb\u001b[0m:      _timestamp 1631202497\n",
            "\u001b[34m\u001b[1mwandb\u001b[0m:           _step 4\n",
            "\u001b[34m\u001b[1mwandb\u001b[0m:   best_val_loss 0.35146\n",
            "\u001b[34m\u001b[1mwandb\u001b[0m:      best_epoch 3\n",
            "\u001b[34m\u001b[1mwandb\u001b[0m: Run history:\n",
            "\u001b[34m\u001b[1mwandb\u001b[0m:          epoch ▁▃▅▆█\n",
            "\u001b[34m\u001b[1mwandb\u001b[0m:           loss █▃▂▂▁\n",
            "\u001b[34m\u001b[1mwandb\u001b[0m:       accuracy ▁▅▇▇█\n",
            "\u001b[34m\u001b[1mwandb\u001b[0m:       val_loss █▅▃▁▁\n",
            "\u001b[34m\u001b[1mwandb\u001b[0m:   val_accuracy ▁▅▆██\n",
            "\u001b[34m\u001b[1mwandb\u001b[0m:       _runtime ▁▃▄▆█\n",
            "\u001b[34m\u001b[1mwandb\u001b[0m:     _timestamp ▁▃▄▆█\n",
            "\u001b[34m\u001b[1mwandb\u001b[0m:          _step ▁▃▅▆█\n",
            "\u001b[34m\u001b[1mwandb\u001b[0m: \n",
            "\u001b[34m\u001b[1mwandb\u001b[0m: Synced 5 W&B file(s), 181 media file(s), 0 artifact file(s) and 10 other file(s)\n",
            "\u001b[34m\u001b[1mwandb\u001b[0m: \n",
            "\u001b[34m\u001b[1mwandb\u001b[0m: Synced \u001b[33mdaily-sweep-10\u001b[0m: \u001b[34mhttps://wandb.ai/knu/sweep-practice/runs/nyxr5bh0\u001b[0m\n",
            "2021-09-09 15:48:34,022 - wandb.wandb_agent - INFO - Cleaning up finished run: nyxr5bh0\n",
            "2021-09-09 15:48:34,404 - wandb.wandb_agent - INFO - Agent received command: run\n",
            "2021-09-09 15:48:34,404 - wandb.wandb_agent - INFO - Agent starting run with config:\n",
            "\tdropout_rate: 0.19173010505414145\n",
            "\tlayer1_activation: relu\n",
            "\tlayer1_size: 230\n",
            "\tlayers: 30\n",
            "\tlearning_rate: 0.027858223273430866\n",
            "\toptimizer: Adam\n",
            "\toptimizers: rmsprop\n",
            "2021-09-09 15:48:34,406 - wandb.wandb_agent - INFO - About to run command: /usr/bin/env python train.py --dropout_rate=0.19173010505414145 --layer1_activation=relu --layer1_size=230 --layers=30 --learning_rate=0.027858223273430866 --optimizer=Adam --optimizers=rmsprop\n",
            "\u001b[34m\u001b[1mwandb\u001b[0m: Currently logged in as: \u001b[33mknu\u001b[0m (use `wandb login --relogin` to force relogin)\n",
            "\u001b[34m\u001b[1mwandb\u001b[0m: \u001b[33mWARNING\u001b[0m Ignored wandb.init() arg project when running a sweep\n",
            "2021-09-09 15:48:39,418 - wandb.wandb_agent - INFO - Running runs: ['q9m7056x']\n",
            "\u001b[34m\u001b[1mwandb\u001b[0m: Tracking run with wandb version 0.12.1\n",
            "\u001b[34m\u001b[1mwandb\u001b[0m: Syncing run \u001b[33mflowing-sweep-11\u001b[0m\n",
            "\u001b[34m\u001b[1mwandb\u001b[0m: ⭐️ View project at \u001b[34m\u001b[4mhttps://wandb.ai/knu/sweep-practice\u001b[0m\n",
            "\u001b[34m\u001b[1mwandb\u001b[0m: 🧹 View sweep at \u001b[34m\u001b[4mhttps://wandb.ai/knu/sweep-practice/sweeps/2lhlz1gt\u001b[0m\n",
            "\u001b[34m\u001b[1mwandb\u001b[0m: 🚀 View run at \u001b[34m\u001b[4mhttps://wandb.ai/knu/sweep-practice/runs/q9m7056x\u001b[0m\n",
            "\u001b[34m\u001b[1mwandb\u001b[0m: Run data is saved locally in /content/wandb/run-20210909_154837-q9m7056x\n",
            "\u001b[34m\u001b[1mwandb\u001b[0m: Run `wandb offline` to turn off syncing.\n",
            "\n",
            "\u001b[34m\u001b[1mwandb\u001b[0m: \u001b[33mWARNING\u001b[0m Ignored wandb.init() arg project when running a sweep\n",
            "2021-09-09 15:48:40.459120: E tensorflow/stream_executor/cuda/cuda_driver.cc:271] failed call to cuInit: CUDA_ERROR_NO_DEVICE: no CUDA-capable device is detected\n",
            "2021-09-09 15:48:40.459185: I tensorflow/stream_executor/cuda/cuda_diagnostics.cc:156] kernel driver does not appear to be running on this host (8efc9eaf819e): /proc/driver/nvidia/version does not exist\n",
            "2021-09-09 15:48:40.459585: I tensorflow/core/platform/cpu_feature_guard.cc:142] This TensorFlow binary is optimized with oneAPI Deep Neural Network Library (oneDNN) to use the following CPU instructions in performance-critical operations:  AVX512F\n",
            "To enable them in other operations, rebuild TensorFlow with the appropriate compiler flags.\n",
            "2021-09-09 15:48:40.498608: I tensorflow/core/profiler/lib/profiler_session.cc:131] Profiler session initializing.\n",
            "2021-09-09 15:48:40.498667: I tensorflow/core/profiler/lib/profiler_session.cc:146] Profiler session started.\n",
            "2021-09-09 15:48:40.509004: I tensorflow/core/profiler/lib/profiler_session.cc:164] Profiler session tear down.\n",
            "2021-09-09 15:48:40.829024: I tensorflow/compiler/mlir/mlir_graph_optimization_pass.cc:185] None of the MLIR Optimization Passes are enabled (registered 2)\n",
            "Epoch 1/5\n",
            "   1/1875 [..............................] - ETA: 15:55 - loss: 2.5022 - accuracy: 0.09382021-09-09 15:48:41.365915: I tensorflow/core/profiler/lib/profiler_session.cc:131] Profiler session initializing.\n",
            "2021-09-09 15:48:41.365986: I tensorflow/core/profiler/lib/profiler_session.cc:146] Profiler session started.\n",
            "2021-09-09 15:48:41.375062: I tensorflow/core/profiler/lib/profiler_session.cc:66] Profiler session collecting data.\n",
            "2021-09-09 15:48:41.376081: I tensorflow/core/profiler/lib/profiler_session.cc:164] Profiler session tear down.\n",
            "2021-09-09 15:48:41.378021: I tensorflow/core/profiler/rpc/client/save_profile.cc:136] Creating directory: /content/wandb/run-20210909_154837-q9m7056x/files/train/plugins/profile/2021_09_09_15_48_41\n",
            "\n",
            "2021-09-09 15:48:41.378922: I tensorflow/core/profiler/rpc/client/save_profile.cc:142] Dumped gzipped tool data for trace.json.gz to /content/wandb/run-20210909_154837-q9m7056x/files/train/plugins/profile/2021_09_09_15_48_41/8efc9eaf819e.trace.json.gz\n",
            "2021-09-09 15:48:41.381833: I tensorflow/core/profiler/rpc/client/save_profile.cc:136] Creating directory: /content/wandb/run-20210909_154837-q9m7056x/files/train/plugins/profile/2021_09_09_15_48_41\n",
            "\n",
            "2021-09-09 15:48:41.382003: I tensorflow/core/profiler/rpc/client/save_profile.cc:142] Dumped gzipped tool data for memory_profile.json.gz to /content/wandb/run-20210909_154837-q9m7056x/files/train/plugins/profile/2021_09_09_15_48_41/8efc9eaf819e.memory_profile.json.gz\n",
            "2021-09-09 15:48:41.382338: I tensorflow/core/profiler/rpc/client/capture_profile.cc:251] Creating directory: /content/wandb/run-20210909_154837-q9m7056x/files/train/plugins/profile/2021_09_09_15_48_41\n",
            "Dumped tool data for xplane.pb to /content/wandb/run-20210909_154837-q9m7056x/files/train/plugins/profile/2021_09_09_15_48_41/8efc9eaf819e.xplane.pb\n",
            "Dumped tool data for overview_page.pb to /content/wandb/run-20210909_154837-q9m7056x/files/train/plugins/profile/2021_09_09_15_48_41/8efc9eaf819e.overview_page.pb\n",
            "Dumped tool data for input_pipeline.pb to /content/wandb/run-20210909_154837-q9m7056x/files/train/plugins/profile/2021_09_09_15_48_41/8efc9eaf819e.input_pipeline.pb\n",
            "Dumped tool data for tensorflow_stats.pb to /content/wandb/run-20210909_154837-q9m7056x/files/train/plugins/profile/2021_09_09_15_48_41/8efc9eaf819e.tensorflow_stats.pb\n",
            "Dumped tool data for kernel_stats.pb to /content/wandb/run-20210909_154837-q9m7056x/files/train/plugins/profile/2021_09_09_15_48_41/8efc9eaf819e.kernel_stats.pb\n",
            "\n",
            "1875/1875 [==============================] - 7s 3ms/step - loss: 0.5103 - accuracy: 0.8173 - val_loss: 0.4204 - val_accuracy: 0.8474\n",
            "Epoch 2/5\n",
            "1875/1875 [==============================] - 6s 3ms/step - loss: 0.3877 - accuracy: 0.8580 - val_loss: 0.3831 - val_accuracy: 0.8619\n",
            "Epoch 3/5\n",
            "1875/1875 [==============================] - 6s 3ms/step - loss: 0.3542 - accuracy: 0.8696 - val_loss: 0.3678 - val_accuracy: 0.8660\n",
            "Epoch 4/5\n",
            "1875/1875 [==============================] - 7s 4ms/step - loss: 0.3329 - accuracy: 0.8775 - val_loss: 0.3534 - val_accuracy: 0.8724\n",
            "Epoch 5/5\n",
            "1875/1875 [==============================] - 7s 4ms/step - loss: 0.3180 - accuracy: 0.8807 - val_loss: 0.3431 - val_accuracy: 0.8785\n",
            "\n",
            "\u001b[34m\u001b[1mwandb\u001b[0m: Waiting for W&B process to finish, PID 8546\n",
            "\u001b[34m\u001b[1mwandb\u001b[0m: Program ended successfully.\n",
            "\u001b[34m\u001b[1mwandb\u001b[0m:                                                                                \n",
            "\u001b[34m\u001b[1mwandb\u001b[0m: Find user logs for this run at: /content/wandb/run-20210909_154837-q9m7056x/logs/debug.log\n",
            "\u001b[34m\u001b[1mwandb\u001b[0m: Find internal logs for this run at: /content/wandb/run-20210909_154837-q9m7056x/logs/debug-internal.log\n",
            "\u001b[34m\u001b[1mwandb\u001b[0m: Run summary:\n",
            "\u001b[34m\u001b[1mwandb\u001b[0m:           epoch 4\n",
            "\u001b[34m\u001b[1mwandb\u001b[0m:            loss 0.31799\n",
            "\u001b[34m\u001b[1mwandb\u001b[0m:        accuracy 0.88067\n",
            "\u001b[34m\u001b[1mwandb\u001b[0m:        val_loss 0.34311\n",
            "\u001b[34m\u001b[1mwandb\u001b[0m:    val_accuracy 0.8785\n",
            "\u001b[34m\u001b[1mwandb\u001b[0m:        _runtime 38\n",
            "\u001b[34m\u001b[1mwandb\u001b[0m:      _timestamp 1631202555\n",
            "\u001b[34m\u001b[1mwandb\u001b[0m:           _step 4\n",
            "\u001b[34m\u001b[1mwandb\u001b[0m:   best_val_loss 0.34311\n",
            "\u001b[34m\u001b[1mwandb\u001b[0m:      best_epoch 4\n",
            "\u001b[34m\u001b[1mwandb\u001b[0m: Run history:\n",
            "\u001b[34m\u001b[1mwandb\u001b[0m:          epoch ▁▃▅▆█\n",
            "\u001b[34m\u001b[1mwandb\u001b[0m:           loss █▄▂▂▁\n",
            "\u001b[34m\u001b[1mwandb\u001b[0m:       accuracy ▁▅▇██\n",
            "\u001b[34m\u001b[1mwandb\u001b[0m:       val_loss █▅▃▂▁\n",
            "\u001b[34m\u001b[1mwandb\u001b[0m:   val_accuracy ▁▄▅▇█\n",
            "\u001b[34m\u001b[1mwandb\u001b[0m:       _runtime ▁▃▄▆█\n",
            "\u001b[34m\u001b[1mwandb\u001b[0m:     _timestamp ▁▃▄▆█\n",
            "\u001b[34m\u001b[1mwandb\u001b[0m:          _step ▁▃▅▆█\n",
            "\u001b[34m\u001b[1mwandb\u001b[0m: \n",
            "\u001b[34m\u001b[1mwandb\u001b[0m: Synced 5 W&B file(s), 181 media file(s), 0 artifact file(s) and 10 other file(s)\n",
            "\u001b[34m\u001b[1mwandb\u001b[0m: \n",
            "\u001b[34m\u001b[1mwandb\u001b[0m: Synced \u001b[33mflowing-sweep-11\u001b[0m: \u001b[34mhttps://wandb.ai/knu/sweep-practice/runs/q9m7056x\u001b[0m\n",
            "2021-09-09 15:49:25,852 - wandb.wandb_agent - INFO - Cleaning up finished run: q9m7056x\n",
            "2021-09-09 15:49:26,261 - wandb.wandb_agent - INFO - Agent received command: run\n",
            "2021-09-09 15:49:26,261 - wandb.wandb_agent - INFO - Agent starting run with config:\n",
            "\tdropout_rate: 0.19911253725911537\n",
            "\tlayer1_activation: sigmoid\n",
            "\tlayer1_size: 238\n",
            "\tlayers: 25\n",
            "\tlearning_rate: 0.052575560122942094\n",
            "\toptimizer: Adam\n",
            "\toptimizers: rmsprop\n",
            "2021-09-09 15:49:26,263 - wandb.wandb_agent - INFO - About to run command: /usr/bin/env python train.py --dropout_rate=0.19911253725911537 --layer1_activation=sigmoid --layer1_size=238 --layers=25 --learning_rate=0.052575560122942094 --optimizer=Adam --optimizers=rmsprop\n",
            "\u001b[34m\u001b[1mwandb\u001b[0m: Currently logged in as: \u001b[33mknu\u001b[0m (use `wandb login --relogin` to force relogin)\n",
            "\u001b[34m\u001b[1mwandb\u001b[0m: \u001b[33mWARNING\u001b[0m Ignored wandb.init() arg project when running a sweep\n",
            "2021-09-09 15:49:31,274 - wandb.wandb_agent - INFO - Running runs: ['skvs2jbt']\n",
            "\u001b[34m\u001b[1mwandb\u001b[0m: Tracking run with wandb version 0.12.1\n",
            "\u001b[34m\u001b[1mwandb\u001b[0m: Syncing run \u001b[33mflowing-sweep-12\u001b[0m\n",
            "\u001b[34m\u001b[1mwandb\u001b[0m: ⭐️ View project at \u001b[34m\u001b[4mhttps://wandb.ai/knu/sweep-practice\u001b[0m\n",
            "\u001b[34m\u001b[1mwandb\u001b[0m: 🧹 View sweep at \u001b[34m\u001b[4mhttps://wandb.ai/knu/sweep-practice/sweeps/2lhlz1gt\u001b[0m\n",
            "\u001b[34m\u001b[1mwandb\u001b[0m: 🚀 View run at \u001b[34m\u001b[4mhttps://wandb.ai/knu/sweep-practice/runs/skvs2jbt\u001b[0m\n",
            "\u001b[34m\u001b[1mwandb\u001b[0m: Run data is saved locally in /content/wandb/run-20210909_154929-skvs2jbt\n",
            "\u001b[34m\u001b[1mwandb\u001b[0m: Run `wandb offline` to turn off syncing.\n",
            "\n",
            "\u001b[34m\u001b[1mwandb\u001b[0m: \u001b[33mWARNING\u001b[0m Ignored wandb.init() arg project when running a sweep\n",
            "2021-09-09 15:49:32.395563: E tensorflow/stream_executor/cuda/cuda_driver.cc:271] failed call to cuInit: CUDA_ERROR_NO_DEVICE: no CUDA-capable device is detected\n",
            "2021-09-09 15:49:32.395630: I tensorflow/stream_executor/cuda/cuda_diagnostics.cc:156] kernel driver does not appear to be running on this host (8efc9eaf819e): /proc/driver/nvidia/version does not exist\n",
            "2021-09-09 15:49:32.396071: I tensorflow/core/platform/cpu_feature_guard.cc:142] This TensorFlow binary is optimized with oneAPI Deep Neural Network Library (oneDNN) to use the following CPU instructions in performance-critical operations:  AVX512F\n",
            "To enable them in other operations, rebuild TensorFlow with the appropriate compiler flags.\n",
            "2021-09-09 15:49:32.436807: I tensorflow/core/profiler/lib/profiler_session.cc:131] Profiler session initializing.\n",
            "2021-09-09 15:49:32.436862: I tensorflow/core/profiler/lib/profiler_session.cc:146] Profiler session started.\n",
            "2021-09-09 15:49:32.446971: I tensorflow/core/profiler/lib/profiler_session.cc:164] Profiler session tear down.\n",
            "2021-09-09 15:49:32.773785: I tensorflow/compiler/mlir/mlir_graph_optimization_pass.cc:185] None of the MLIR Optimization Passes are enabled (registered 2)\n",
            "Epoch 1/5\n",
            "   1/1875 [..............................] - ETA: 16:09 - loss: 2.6088 - accuracy: 0.09382021-09-09 15:49:33.318919: I tensorflow/core/profiler/lib/profiler_session.cc:131] Profiler session initializing.\n",
            "2021-09-09 15:49:33.319043: I tensorflow/core/profiler/lib/profiler_session.cc:146] Profiler session started.\n",
            "2021-09-09 15:49:33.324452: I tensorflow/core/profiler/lib/profiler_session.cc:66] Profiler session collecting data.\n",
            "2021-09-09 15:49:33.325491: I tensorflow/core/profiler/lib/profiler_session.cc:164] Profiler session tear down.\n",
            "2021-09-09 15:49:33.327562: I tensorflow/core/profiler/rpc/client/save_profile.cc:136] Creating directory: /content/wandb/run-20210909_154929-skvs2jbt/files/train/plugins/profile/2021_09_09_15_49_33\n",
            "\n",
            "2021-09-09 15:49:33.328555: I tensorflow/core/profiler/rpc/client/save_profile.cc:142] Dumped gzipped tool data for trace.json.gz to /content/wandb/run-20210909_154929-skvs2jbt/files/train/plugins/profile/2021_09_09_15_49_33/8efc9eaf819e.trace.json.gz\n",
            "2021-09-09 15:49:33.331404: I tensorflow/core/profiler/rpc/client/save_profile.cc:136] Creating directory: /content/wandb/run-20210909_154929-skvs2jbt/files/train/plugins/profile/2021_09_09_15_49_33\n",
            "\n",
            "2021-09-09 15:49:33.331614: I tensorflow/core/profiler/rpc/client/save_profile.cc:142] Dumped gzipped tool data for memory_profile.json.gz to /content/wandb/run-20210909_154929-skvs2jbt/files/train/plugins/profile/2021_09_09_15_49_33/8efc9eaf819e.memory_profile.json.gz\n",
            "2021-09-09 15:49:33.331970: I tensorflow/core/profiler/rpc/client/capture_profile.cc:251] Creating directory: /content/wandb/run-20210909_154929-skvs2jbt/files/train/plugins/profile/2021_09_09_15_49_33\n",
            "Dumped tool data for xplane.pb to /content/wandb/run-20210909_154929-skvs2jbt/files/train/plugins/profile/2021_09_09_15_49_33/8efc9eaf819e.xplane.pb\n",
            "Dumped tool data for overview_page.pb to /content/wandb/run-20210909_154929-skvs2jbt/files/train/plugins/profile/2021_09_09_15_49_33/8efc9eaf819e.overview_page.pb\n",
            "Dumped tool data for input_pipeline.pb to /content/wandb/run-20210909_154929-skvs2jbt/files/train/plugins/profile/2021_09_09_15_49_33/8efc9eaf819e.input_pipeline.pb\n",
            "Dumped tool data for tensorflow_stats.pb to /content/wandb/run-20210909_154929-skvs2jbt/files/train/plugins/profile/2021_09_09_15_49_33/8efc9eaf819e.tensorflow_stats.pb\n",
            "Dumped tool data for kernel_stats.pb to /content/wandb/run-20210909_154929-skvs2jbt/files/train/plugins/profile/2021_09_09_15_49_33/8efc9eaf819e.kernel_stats.pb\n",
            "\n",
            "1875/1875 [==============================] - 7s 3ms/step - loss: 0.5517 - accuracy: 0.8062 - val_loss: 0.4998 - val_accuracy: 0.8113\n",
            "Epoch 2/5\n",
            "1875/1875 [==============================] - 7s 4ms/step - loss: 0.4070 - accuracy: 0.8525 - val_loss: 0.4046 - val_accuracy: 0.8533\n",
            "Epoch 3/5\n",
            "1875/1875 [==============================] - 7s 4ms/step - loss: 0.3726 - accuracy: 0.8638 - val_loss: 0.3856 - val_accuracy: 0.8628\n",
            "Epoch 4/5\n",
            "1875/1875 [==============================] - 7s 4ms/step - loss: 0.3452 - accuracy: 0.8745 - val_loss: 0.3702 - val_accuracy: 0.8663\n",
            "Epoch 5/5\n",
            "1875/1875 [==============================] - 7s 4ms/step - loss: 0.3271 - accuracy: 0.8806 - val_loss: 0.3546 - val_accuracy: 0.8730\n",
            "\n",
            "\u001b[34m\u001b[1mwandb\u001b[0m: Waiting for W&B process to finish, PID 8862\n",
            "\u001b[34m\u001b[1mwandb\u001b[0m: Program ended successfully.\n",
            "\u001b[34m\u001b[1mwandb\u001b[0m:                                                                                \n",
            "\u001b[34m\u001b[1mwandb\u001b[0m: Find user logs for this run at: /content/wandb/run-20210909_154929-skvs2jbt/logs/debug.log\n",
            "\u001b[34m\u001b[1mwandb\u001b[0m: Find internal logs for this run at: /content/wandb/run-20210909_154929-skvs2jbt/logs/debug-internal.log\n",
            "\u001b[34m\u001b[1mwandb\u001b[0m: Run summary:\n",
            "\u001b[34m\u001b[1mwandb\u001b[0m:           epoch 4\n",
            "\u001b[34m\u001b[1mwandb\u001b[0m:            loss 0.32711\n",
            "\u001b[34m\u001b[1mwandb\u001b[0m:        accuracy 0.8806\n",
            "\u001b[34m\u001b[1mwandb\u001b[0m:        val_loss 0.35457\n",
            "\u001b[34m\u001b[1mwandb\u001b[0m:    val_accuracy 0.873\n",
            "\u001b[34m\u001b[1mwandb\u001b[0m:        _runtime 39\n",
            "\u001b[34m\u001b[1mwandb\u001b[0m:      _timestamp 1631202608\n",
            "\u001b[34m\u001b[1mwandb\u001b[0m:           _step 4\n",
            "\u001b[34m\u001b[1mwandb\u001b[0m:   best_val_loss 0.35457\n",
            "\u001b[34m\u001b[1mwandb\u001b[0m:      best_epoch 4\n",
            "\u001b[34m\u001b[1mwandb\u001b[0m: Run history:\n",
            "\u001b[34m\u001b[1mwandb\u001b[0m:          epoch ▁▃▅▆█\n",
            "\u001b[34m\u001b[1mwandb\u001b[0m:           loss █▃▂▂▁\n",
            "\u001b[34m\u001b[1mwandb\u001b[0m:       accuracy ▁▅▆▇█\n",
            "\u001b[34m\u001b[1mwandb\u001b[0m:       val_loss █▃▂▂▁\n",
            "\u001b[34m\u001b[1mwandb\u001b[0m:   val_accuracy ▁▆▇▇█\n",
            "\u001b[34m\u001b[1mwandb\u001b[0m:       _runtime ▁▃▄▆█\n",
            "\u001b[34m\u001b[1mwandb\u001b[0m:     _timestamp ▁▃▄▆█\n",
            "\u001b[34m\u001b[1mwandb\u001b[0m:          _step ▁▃▅▆█\n",
            "\u001b[34m\u001b[1mwandb\u001b[0m: \n",
            "\u001b[34m\u001b[1mwandb\u001b[0m: Synced 5 W&B file(s), 181 media file(s), 0 artifact file(s) and 10 other file(s)\n",
            "\u001b[34m\u001b[1mwandb\u001b[0m: \n",
            "\u001b[34m\u001b[1mwandb\u001b[0m: Synced \u001b[33mflowing-sweep-12\u001b[0m: \u001b[34mhttps://wandb.ai/knu/sweep-practice/runs/skvs2jbt\u001b[0m\n",
            "2021-09-09 15:50:22,879 - wandb.wandb_agent - INFO - Cleaning up finished run: skvs2jbt\n",
            "2021-09-09 15:50:23,228 - wandb.wandb_agent - INFO - Agent received command: run\n",
            "2021-09-09 15:50:23,228 - wandb.wandb_agent - INFO - Agent starting run with config:\n",
            "\tdropout_rate: 0.22199319636339415\n",
            "\tlayer1_activation: sigmoid\n",
            "\tlayer1_size: 173\n",
            "\tlayers: 67\n",
            "\tlearning_rate: 0.01350596662111218\n",
            "\toptimizer: Adam\n",
            "\toptimizers: rmsprop\n",
            "2021-09-09 15:50:23,230 - wandb.wandb_agent - INFO - About to run command: /usr/bin/env python train.py --dropout_rate=0.22199319636339415 --layer1_activation=sigmoid --layer1_size=173 --layers=67 --learning_rate=0.01350596662111218 --optimizer=Adam --optimizers=rmsprop\n",
            "\u001b[34m\u001b[1mwandb\u001b[0m: Currently logged in as: \u001b[33mknu\u001b[0m (use `wandb login --relogin` to force relogin)\n",
            "\u001b[34m\u001b[1mwandb\u001b[0m: \u001b[33mWARNING\u001b[0m Ignored wandb.init() arg project when running a sweep\n",
            "2021-09-09 15:50:28,242 - wandb.wandb_agent - INFO - Running runs: ['5b9zjbur']\n",
            "\u001b[34m\u001b[1mwandb\u001b[0m: Tracking run with wandb version 0.12.1\n",
            "\u001b[34m\u001b[1mwandb\u001b[0m: Syncing run \u001b[33mgenerous-sweep-13\u001b[0m\n",
            "\u001b[34m\u001b[1mwandb\u001b[0m: ⭐️ View project at \u001b[34m\u001b[4mhttps://wandb.ai/knu/sweep-practice\u001b[0m\n",
            "\u001b[34m\u001b[1mwandb\u001b[0m: 🧹 View sweep at \u001b[34m\u001b[4mhttps://wandb.ai/knu/sweep-practice/sweeps/2lhlz1gt\u001b[0m\n",
            "\u001b[34m\u001b[1mwandb\u001b[0m: 🚀 View run at \u001b[34m\u001b[4mhttps://wandb.ai/knu/sweep-practice/runs/5b9zjbur\u001b[0m\n",
            "\u001b[34m\u001b[1mwandb\u001b[0m: Run data is saved locally in /content/wandb/run-20210909_155026-5b9zjbur\n",
            "\u001b[34m\u001b[1mwandb\u001b[0m: Run `wandb offline` to turn off syncing.\n",
            "\n",
            "\u001b[34m\u001b[1mwandb\u001b[0m: \u001b[33mWARNING\u001b[0m Ignored wandb.init() arg project when running a sweep\n",
            "2021-09-09 15:50:29.308593: E tensorflow/stream_executor/cuda/cuda_driver.cc:271] failed call to cuInit: CUDA_ERROR_NO_DEVICE: no CUDA-capable device is detected\n",
            "2021-09-09 15:50:29.308648: I tensorflow/stream_executor/cuda/cuda_diagnostics.cc:156] kernel driver does not appear to be running on this host (8efc9eaf819e): /proc/driver/nvidia/version does not exist\n",
            "2021-09-09 15:50:29.309062: I tensorflow/core/platform/cpu_feature_guard.cc:142] This TensorFlow binary is optimized with oneAPI Deep Neural Network Library (oneDNN) to use the following CPU instructions in performance-critical operations:  AVX512F\n",
            "To enable them in other operations, rebuild TensorFlow with the appropriate compiler flags.\n",
            "2021-09-09 15:50:29.347268: I tensorflow/core/profiler/lib/profiler_session.cc:131] Profiler session initializing.\n",
            "2021-09-09 15:50:29.347322: I tensorflow/core/profiler/lib/profiler_session.cc:146] Profiler session started.\n",
            "2021-09-09 15:50:29.357324: I tensorflow/core/profiler/lib/profiler_session.cc:164] Profiler session tear down.\n",
            "2021-09-09 15:50:29.679166: I tensorflow/compiler/mlir/mlir_graph_optimization_pass.cc:185] None of the MLIR Optimization Passes are enabled (registered 2)\n",
            "Epoch 1/5\n",
            "   1/1875 [..............................] - ETA: 16:11 - loss: 2.5280 - accuracy: 0.06252021-09-09 15:50:30.225041: I tensorflow/core/profiler/lib/profiler_session.cc:131] Profiler session initializing.\n",
            "2021-09-09 15:50:30.225158: I tensorflow/core/profiler/lib/profiler_session.cc:146] Profiler session started.\n",
            "2021-09-09 15:50:30.230677: I tensorflow/core/profiler/lib/profiler_session.cc:66] Profiler session collecting data.\n",
            "2021-09-09 15:50:30.231888: I tensorflow/core/profiler/lib/profiler_session.cc:164] Profiler session tear down.\n",
            "2021-09-09 15:50:30.235379: I tensorflow/core/profiler/rpc/client/save_profile.cc:136] Creating directory: /content/wandb/run-20210909_155026-5b9zjbur/files/train/plugins/profile/2021_09_09_15_50_30\n",
            "\n",
            "2021-09-09 15:50:30.236884: I tensorflow/core/profiler/rpc/client/save_profile.cc:142] Dumped gzipped tool data for trace.json.gz to /content/wandb/run-20210909_155026-5b9zjbur/files/train/plugins/profile/2021_09_09_15_50_30/8efc9eaf819e.trace.json.gz\n",
            "2021-09-09 15:50:30.247404: I tensorflow/core/profiler/rpc/client/save_profile.cc:136] Creating directory: /content/wandb/run-20210909_155026-5b9zjbur/files/train/plugins/profile/2021_09_09_15_50_30\n",
            "\n",
            "2021-09-09 15:50:30.247630: I tensorflow/core/profiler/rpc/client/save_profile.cc:142] Dumped gzipped tool data for memory_profile.json.gz to /content/wandb/run-20210909_155026-5b9zjbur/files/train/plugins/profile/2021_09_09_15_50_30/8efc9eaf819e.memory_profile.json.gz\n",
            "2021-09-09 15:50:30.248024: I tensorflow/core/profiler/rpc/client/capture_profile.cc:251] Creating directory: /content/wandb/run-20210909_155026-5b9zjbur/files/train/plugins/profile/2021_09_09_15_50_30\n",
            "Dumped tool data for xplane.pb to /content/wandb/run-20210909_155026-5b9zjbur/files/train/plugins/profile/2021_09_09_15_50_30/8efc9eaf819e.xplane.pb\n",
            "Dumped tool data for overview_page.pb to /content/wandb/run-20210909_155026-5b9zjbur/files/train/plugins/profile/2021_09_09_15_50_30/8efc9eaf819e.overview_page.pb\n",
            "Dumped tool data for input_pipeline.pb to /content/wandb/run-20210909_155026-5b9zjbur/files/train/plugins/profile/2021_09_09_15_50_30/8efc9eaf819e.input_pipeline.pb\n",
            "Dumped tool data for tensorflow_stats.pb to /content/wandb/run-20210909_155026-5b9zjbur/files/train/plugins/profile/2021_09_09_15_50_30/8efc9eaf819e.tensorflow_stats.pb\n",
            "Dumped tool data for kernel_stats.pb to /content/wandb/run-20210909_155026-5b9zjbur/files/train/plugins/profile/2021_09_09_15_50_30/8efc9eaf819e.kernel_stats.pb\n",
            "\n",
            "WARNING:tensorflow:Callback method `on_train_batch_end` is slow compared to the batch time (batch time: 0.0038s vs `on_train_batch_end` time: 0.0055s). Check your callbacks.\n",
            "1875/1875 [==============================] - 6s 3ms/step - loss: 0.5705 - accuracy: 0.7991 - val_loss: 0.4506 - val_accuracy: 0.8378\n",
            "Epoch 2/5\n",
            "1875/1875 [==============================] - 6s 3ms/step - loss: 0.4183 - accuracy: 0.8484 - val_loss: 0.4106 - val_accuracy: 0.8510\n",
            "Epoch 3/5\n",
            "1875/1875 [==============================] - 6s 3ms/step - loss: 0.3796 - accuracy: 0.8618 - val_loss: 0.3937 - val_accuracy: 0.8587\n",
            "Epoch 4/5\n",
            "1875/1875 [==============================] - 7s 4ms/step - loss: 0.3554 - accuracy: 0.8706 - val_loss: 0.3667 - val_accuracy: 0.8700\n",
            "Epoch 5/5\n",
            "1875/1875 [==============================] - 7s 4ms/step - loss: 0.3391 - accuracy: 0.8763 - val_loss: 0.3576 - val_accuracy: 0.8720\n",
            "\n",
            "\u001b[34m\u001b[1mwandb\u001b[0m: Waiting for W&B process to finish, PID 9173\n",
            "\u001b[34m\u001b[1mwandb\u001b[0m: Program ended successfully.\n",
            "\u001b[34m\u001b[1mwandb\u001b[0m:                                                                                \n",
            "\u001b[34m\u001b[1mwandb\u001b[0m: Find user logs for this run at: /content/wandb/run-20210909_155026-5b9zjbur/logs/debug.log\n",
            "\u001b[34m\u001b[1mwandb\u001b[0m: Find internal logs for this run at: /content/wandb/run-20210909_155026-5b9zjbur/logs/debug-internal.log\n",
            "\u001b[34m\u001b[1mwandb\u001b[0m: Run summary:\n",
            "\u001b[34m\u001b[1mwandb\u001b[0m:           epoch 4\n",
            "\u001b[34m\u001b[1mwandb\u001b[0m:            loss 0.33914\n",
            "\u001b[34m\u001b[1mwandb\u001b[0m:        accuracy 0.8763\n",
            "\u001b[34m\u001b[1mwandb\u001b[0m:        val_loss 0.35759\n",
            "\u001b[34m\u001b[1mwandb\u001b[0m:    val_accuracy 0.872\n",
            "\u001b[34m\u001b[1mwandb\u001b[0m:        _runtime 36\n",
            "\u001b[34m\u001b[1mwandb\u001b[0m:      _timestamp 1631202662\n",
            "\u001b[34m\u001b[1mwandb\u001b[0m:           _step 4\n",
            "\u001b[34m\u001b[1mwandb\u001b[0m:   best_val_loss 0.35759\n",
            "\u001b[34m\u001b[1mwandb\u001b[0m:      best_epoch 4\n",
            "\u001b[34m\u001b[1mwandb\u001b[0m: Run history:\n",
            "\u001b[34m\u001b[1mwandb\u001b[0m:          epoch ▁▃▅▆█\n",
            "\u001b[34m\u001b[1mwandb\u001b[0m:           loss █▃▂▁▁\n",
            "\u001b[34m\u001b[1mwandb\u001b[0m:       accuracy ▁▅▇▇█\n",
            "\u001b[34m\u001b[1mwandb\u001b[0m:       val_loss █▅▄▂▁\n",
            "\u001b[34m\u001b[1mwandb\u001b[0m:   val_accuracy ▁▄▅██\n",
            "\u001b[34m\u001b[1mwandb\u001b[0m:       _runtime ▁▃▄▆█\n",
            "\u001b[34m\u001b[1mwandb\u001b[0m:     _timestamp ▁▃▄▆█\n",
            "\u001b[34m\u001b[1mwandb\u001b[0m:          _step ▁▃▅▆█\n",
            "\u001b[34m\u001b[1mwandb\u001b[0m: \n",
            "\u001b[34m\u001b[1mwandb\u001b[0m: Synced 5 W&B file(s), 181 media file(s), 0 artifact file(s) and 10 other file(s)\n",
            "\u001b[34m\u001b[1mwandb\u001b[0m: \n",
            "\u001b[34m\u001b[1mwandb\u001b[0m: Synced \u001b[33mgenerous-sweep-13\u001b[0m: \u001b[34mhttps://wandb.ai/knu/sweep-practice/runs/5b9zjbur\u001b[0m\n",
            "2021-09-09 15:51:19,829 - wandb.wandb_agent - INFO - Cleaning up finished run: 5b9zjbur\n",
            "2021-09-09 15:51:20,469 - wandb.wandb_agent - INFO - Agent received command: run\n",
            "2021-09-09 15:51:20,469 - wandb.wandb_agent - INFO - Agent starting run with config:\n",
            "\tdropout_rate: 0.15611510359292596\n",
            "\tlayer1_activation: relu\n",
            "\tlayer1_size: 187\n",
            "\tlayers: 21\n",
            "\tlearning_rate: 0.05090853013241658\n",
            "\toptimizer: Adam\n",
            "\toptimizers: rmsprop\n",
            "2021-09-09 15:51:20,471 - wandb.wandb_agent - INFO - About to run command: /usr/bin/env python train.py --dropout_rate=0.15611510359292596 --layer1_activation=relu --layer1_size=187 --layers=21 --learning_rate=0.05090853013241658 --optimizer=Adam --optimizers=rmsprop\n",
            "\u001b[34m\u001b[1mwandb\u001b[0m: Currently logged in as: \u001b[33mknu\u001b[0m (use `wandb login --relogin` to force relogin)\n",
            "\u001b[34m\u001b[1mwandb\u001b[0m: \u001b[33mWARNING\u001b[0m Ignored wandb.init() arg project when running a sweep\n",
            "2021-09-09 15:51:25,483 - wandb.wandb_agent - INFO - Running runs: ['y3kesekw']\n",
            "\u001b[34m\u001b[1mwandb\u001b[0m: Tracking run with wandb version 0.12.1\n",
            "\u001b[34m\u001b[1mwandb\u001b[0m: Syncing run \u001b[33mcool-sweep-14\u001b[0m\n",
            "\u001b[34m\u001b[1mwandb\u001b[0m: ⭐️ View project at \u001b[34m\u001b[4mhttps://wandb.ai/knu/sweep-practice\u001b[0m\n",
            "\u001b[34m\u001b[1mwandb\u001b[0m: 🧹 View sweep at \u001b[34m\u001b[4mhttps://wandb.ai/knu/sweep-practice/sweeps/2lhlz1gt\u001b[0m\n",
            "\u001b[34m\u001b[1mwandb\u001b[0m: 🚀 View run at \u001b[34m\u001b[4mhttps://wandb.ai/knu/sweep-practice/runs/y3kesekw\u001b[0m\n",
            "\u001b[34m\u001b[1mwandb\u001b[0m: Run data is saved locally in /content/wandb/run-20210909_155123-y3kesekw\n",
            "\u001b[34m\u001b[1mwandb\u001b[0m: Run `wandb offline` to turn off syncing.\n",
            "\n",
            "\u001b[34m\u001b[1mwandb\u001b[0m: \u001b[33mWARNING\u001b[0m Ignored wandb.init() arg project when running a sweep\n",
            "2021-09-09 15:51:26.620800: E tensorflow/stream_executor/cuda/cuda_driver.cc:271] failed call to cuInit: CUDA_ERROR_NO_DEVICE: no CUDA-capable device is detected\n",
            "2021-09-09 15:51:26.620865: I tensorflow/stream_executor/cuda/cuda_diagnostics.cc:156] kernel driver does not appear to be running on this host (8efc9eaf819e): /proc/driver/nvidia/version does not exist\n",
            "2021-09-09 15:51:26.621256: I tensorflow/core/platform/cpu_feature_guard.cc:142] This TensorFlow binary is optimized with oneAPI Deep Neural Network Library (oneDNN) to use the following CPU instructions in performance-critical operations:  AVX512F\n",
            "To enable them in other operations, rebuild TensorFlow with the appropriate compiler flags.\n",
            "2021-09-09 15:51:26.659067: I tensorflow/core/profiler/lib/profiler_session.cc:131] Profiler session initializing.\n",
            "2021-09-09 15:51:26.659131: I tensorflow/core/profiler/lib/profiler_session.cc:146] Profiler session started.\n",
            "2021-09-09 15:51:26.669166: I tensorflow/core/profiler/lib/profiler_session.cc:164] Profiler session tear down.\n",
            "2021-09-09 15:51:26.984528: I tensorflow/compiler/mlir/mlir_graph_optimization_pass.cc:185] None of the MLIR Optimization Passes are enabled (registered 2)\n",
            "Epoch 1/5\n",
            "   1/1875 [..............................] - ETA: 16:31 - loss: 2.3483 - accuracy: 0.25002021-09-09 15:51:27.540726: I tensorflow/core/profiler/lib/profiler_session.cc:131] Profiler session initializing.\n",
            "2021-09-09 15:51:27.540778: I tensorflow/core/profiler/lib/profiler_session.cc:146] Profiler session started.\n",
            "2021-09-09 15:51:27.545956: I tensorflow/core/profiler/lib/profiler_session.cc:66] Profiler session collecting data.\n",
            "2021-09-09 15:51:27.546920: I tensorflow/core/profiler/lib/profiler_session.cc:164] Profiler session tear down.\n",
            "2021-09-09 15:51:27.548782: I tensorflow/core/profiler/rpc/client/save_profile.cc:136] Creating directory: /content/wandb/run-20210909_155123-y3kesekw/files/train/plugins/profile/2021_09_09_15_51_27\n",
            "\n",
            "2021-09-09 15:51:27.550476: I tensorflow/core/profiler/rpc/client/save_profile.cc:142] Dumped gzipped tool data for trace.json.gz to /content/wandb/run-20210909_155123-y3kesekw/files/train/plugins/profile/2021_09_09_15_51_27/8efc9eaf819e.trace.json.gz\n",
            "2021-09-09 15:51:27.553199: I tensorflow/core/profiler/rpc/client/save_profile.cc:136] Creating directory: /content/wandb/run-20210909_155123-y3kesekw/files/train/plugins/profile/2021_09_09_15_51_27\n",
            "\n",
            "2021-09-09 15:51:27.553426: I tensorflow/core/profiler/rpc/client/save_profile.cc:142] Dumped gzipped tool data for memory_profile.json.gz to /content/wandb/run-20210909_155123-y3kesekw/files/train/plugins/profile/2021_09_09_15_51_27/8efc9eaf819e.memory_profile.json.gz\n",
            "2021-09-09 15:51:27.553948: I tensorflow/core/profiler/rpc/client/capture_profile.cc:251] Creating directory: /content/wandb/run-20210909_155123-y3kesekw/files/train/plugins/profile/2021_09_09_15_51_27\n",
            "Dumped tool data for xplane.pb to /content/wandb/run-20210909_155123-y3kesekw/files/train/plugins/profile/2021_09_09_15_51_27/8efc9eaf819e.xplane.pb\n",
            "Dumped tool data for overview_page.pb to /content/wandb/run-20210909_155123-y3kesekw/files/train/plugins/profile/2021_09_09_15_51_27/8efc9eaf819e.overview_page.pb\n",
            "Dumped tool data for input_pipeline.pb to /content/wandb/run-20210909_155123-y3kesekw/files/train/plugins/profile/2021_09_09_15_51_27/8efc9eaf819e.input_pipeline.pb\n",
            "Dumped tool data for tensorflow_stats.pb to /content/wandb/run-20210909_155123-y3kesekw/files/train/plugins/profile/2021_09_09_15_51_27/8efc9eaf819e.tensorflow_stats.pb\n",
            "Dumped tool data for kernel_stats.pb to /content/wandb/run-20210909_155123-y3kesekw/files/train/plugins/profile/2021_09_09_15_51_27/8efc9eaf819e.kernel_stats.pb\n",
            "\n",
            "1875/1875 [==============================] - 6s 3ms/step - loss: 0.5074 - accuracy: 0.8197 - val_loss: 0.4625 - val_accuracy: 0.8326\n",
            "Epoch 2/5\n",
            "1875/1875 [==============================] - 6s 3ms/step - loss: 0.3846 - accuracy: 0.8589 - val_loss: 0.3740 - val_accuracy: 0.8655\n",
            "Epoch 3/5\n",
            "1875/1875 [==============================] - 6s 3ms/step - loss: 0.3525 - accuracy: 0.8715 - val_loss: 0.3593 - val_accuracy: 0.8697\n",
            "Epoch 4/5\n",
            "1875/1875 [==============================] - 7s 3ms/step - loss: 0.3320 - accuracy: 0.8775 - val_loss: 0.3477 - val_accuracy: 0.8765\n",
            "Epoch 5/5\n",
            "1875/1875 [==============================] - 7s 4ms/step - loss: 0.3170 - accuracy: 0.8836 - val_loss: 0.3587 - val_accuracy: 0.8714\n",
            "\n",
            "\u001b[34m\u001b[1mwandb\u001b[0m: Waiting for W&B process to finish, PID 9485\n",
            "\u001b[34m\u001b[1mwandb\u001b[0m: Program ended successfully.\n",
            "\u001b[34m\u001b[1mwandb\u001b[0m:                                                                                \n",
            "\u001b[34m\u001b[1mwandb\u001b[0m: Find user logs for this run at: /content/wandb/run-20210909_155123-y3kesekw/logs/debug.log\n",
            "\u001b[34m\u001b[1mwandb\u001b[0m: Find internal logs for this run at: /content/wandb/run-20210909_155123-y3kesekw/logs/debug-internal.log\n",
            "\u001b[34m\u001b[1mwandb\u001b[0m: Run summary:\n",
            "\u001b[34m\u001b[1mwandb\u001b[0m:           epoch 4\n",
            "\u001b[34m\u001b[1mwandb\u001b[0m:            loss 0.31696\n",
            "\u001b[34m\u001b[1mwandb\u001b[0m:        accuracy 0.88363\n",
            "\u001b[34m\u001b[1mwandb\u001b[0m:        val_loss 0.35874\n",
            "\u001b[34m\u001b[1mwandb\u001b[0m:    val_accuracy 0.8714\n",
            "\u001b[34m\u001b[1mwandb\u001b[0m:        _runtime 37\n",
            "\u001b[34m\u001b[1mwandb\u001b[0m:      _timestamp 1631202720\n",
            "\u001b[34m\u001b[1mwandb\u001b[0m:           _step 4\n",
            "\u001b[34m\u001b[1mwandb\u001b[0m:   best_val_loss 0.34767\n",
            "\u001b[34m\u001b[1mwandb\u001b[0m:      best_epoch 3\n",
            "\u001b[34m\u001b[1mwandb\u001b[0m: Run history:\n",
            "\u001b[34m\u001b[1mwandb\u001b[0m:          epoch ▁▃▅▆█\n",
            "\u001b[34m\u001b[1mwandb\u001b[0m:           loss █▃▂▂▁\n",
            "\u001b[34m\u001b[1mwandb\u001b[0m:       accuracy ▁▅▇▇█\n",
            "\u001b[34m\u001b[1mwandb\u001b[0m:       val_loss █▃▂▁▂\n",
            "\u001b[34m\u001b[1mwandb\u001b[0m:   val_accuracy ▁▆▇█▇\n",
            "\u001b[34m\u001b[1mwandb\u001b[0m:       _runtime ▁▃▄▆█\n",
            "\u001b[34m\u001b[1mwandb\u001b[0m:     _timestamp ▁▃▄▆█\n",
            "\u001b[34m\u001b[1mwandb\u001b[0m:          _step ▁▃▅▆█\n",
            "\u001b[34m\u001b[1mwandb\u001b[0m: \n",
            "\u001b[34m\u001b[1mwandb\u001b[0m: Synced 5 W&B file(s), 181 media file(s), 0 artifact file(s) and 10 other file(s)\n",
            "\u001b[34m\u001b[1mwandb\u001b[0m: \n",
            "\u001b[34m\u001b[1mwandb\u001b[0m: Synced \u001b[33mcool-sweep-14\u001b[0m: \u001b[34mhttps://wandb.ai/knu/sweep-practice/runs/y3kesekw\u001b[0m\n",
            "2021-09-09 15:52:17,139 - wandb.wandb_agent - INFO - Cleaning up finished run: y3kesekw\n",
            "2021-09-09 15:52:17,492 - wandb.wandb_agent - INFO - Agent received command: run\n",
            "2021-09-09 15:52:17,492 - wandb.wandb_agent - INFO - Agent starting run with config:\n",
            "\tdropout_rate: 0.21865919358080194\n",
            "\tlayer1_activation: sigmoid\n",
            "\tlayer1_size: 230\n",
            "\tlayers: 23\n",
            "\tlearning_rate: 0.02143276711598439\n",
            "\toptimizer: Adam\n",
            "\toptimizers: rmsprop\n",
            "2021-09-09 15:52:17,494 - wandb.wandb_agent - INFO - About to run command: /usr/bin/env python train.py --dropout_rate=0.21865919358080194 --layer1_activation=sigmoid --layer1_size=230 --layers=23 --learning_rate=0.02143276711598439 --optimizer=Adam --optimizers=rmsprop\n",
            "\u001b[34m\u001b[1mwandb\u001b[0m: Currently logged in as: \u001b[33mknu\u001b[0m (use `wandb login --relogin` to force relogin)\n",
            "\u001b[34m\u001b[1mwandb\u001b[0m: \u001b[33mWARNING\u001b[0m Ignored wandb.init() arg project when running a sweep\n",
            "2021-09-09 15:52:22,505 - wandb.wandb_agent - INFO - Running runs: ['7qxnwmhv']\n",
            "\u001b[34m\u001b[1mwandb\u001b[0m: Tracking run with wandb version 0.12.1\n",
            "\u001b[34m\u001b[1mwandb\u001b[0m: Syncing run \u001b[33mswept-sweep-15\u001b[0m\n",
            "\u001b[34m\u001b[1mwandb\u001b[0m: ⭐️ View project at \u001b[34m\u001b[4mhttps://wandb.ai/knu/sweep-practice\u001b[0m\n",
            "\u001b[34m\u001b[1mwandb\u001b[0m: 🧹 View sweep at \u001b[34m\u001b[4mhttps://wandb.ai/knu/sweep-practice/sweeps/2lhlz1gt\u001b[0m\n",
            "\u001b[34m\u001b[1mwandb\u001b[0m: 🚀 View run at \u001b[34m\u001b[4mhttps://wandb.ai/knu/sweep-practice/runs/7qxnwmhv\u001b[0m\n",
            "\u001b[34m\u001b[1mwandb\u001b[0m: Run data is saved locally in /content/wandb/run-20210909_155220-7qxnwmhv\n",
            "\u001b[34m\u001b[1mwandb\u001b[0m: Run `wandb offline` to turn off syncing.\n",
            "\n",
            "\u001b[34m\u001b[1mwandb\u001b[0m: \u001b[33mWARNING\u001b[0m Ignored wandb.init() arg project when running a sweep\n",
            "2021-09-09 15:52:23.528494: E tensorflow/stream_executor/cuda/cuda_driver.cc:271] failed call to cuInit: CUDA_ERROR_NO_DEVICE: no CUDA-capable device is detected\n",
            "2021-09-09 15:52:23.528552: I tensorflow/stream_executor/cuda/cuda_diagnostics.cc:156] kernel driver does not appear to be running on this host (8efc9eaf819e): /proc/driver/nvidia/version does not exist\n",
            "2021-09-09 15:52:23.528963: I tensorflow/core/platform/cpu_feature_guard.cc:142] This TensorFlow binary is optimized with oneAPI Deep Neural Network Library (oneDNN) to use the following CPU instructions in performance-critical operations:  AVX512F\n",
            "To enable them in other operations, rebuild TensorFlow with the appropriate compiler flags.\n",
            "2021-09-09 15:52:23.568800: I tensorflow/core/profiler/lib/profiler_session.cc:131] Profiler session initializing.\n",
            "2021-09-09 15:52:23.568855: I tensorflow/core/profiler/lib/profiler_session.cc:146] Profiler session started.\n",
            "2021-09-09 15:52:23.579115: I tensorflow/core/profiler/lib/profiler_session.cc:164] Profiler session tear down.\n",
            "2021-09-09 15:52:23.905878: I tensorflow/compiler/mlir/mlir_graph_optimization_pass.cc:185] None of the MLIR Optimization Passes are enabled (registered 2)\n",
            "Epoch 1/5\n",
            "   1/1875 [..............................] - ETA: 16:22 - loss: 2.4388 - accuracy: 0.15622021-09-09 15:52:24.458121: I tensorflow/core/profiler/lib/profiler_session.cc:131] Profiler session initializing.\n",
            "2021-09-09 15:52:24.458179: I tensorflow/core/profiler/lib/profiler_session.cc:146] Profiler session started.\n",
            "2021-09-09 15:52:24.463947: I tensorflow/core/profiler/lib/profiler_session.cc:66] Profiler session collecting data.\n",
            "2021-09-09 15:52:24.464936: I tensorflow/core/profiler/lib/profiler_session.cc:164] Profiler session tear down.\n",
            "2021-09-09 15:52:24.466894: I tensorflow/core/profiler/rpc/client/save_profile.cc:136] Creating directory: /content/wandb/run-20210909_155220-7qxnwmhv/files/train/plugins/profile/2021_09_09_15_52_24\n",
            "\n",
            "2021-09-09 15:52:24.467851: I tensorflow/core/profiler/rpc/client/save_profile.cc:142] Dumped gzipped tool data for trace.json.gz to /content/wandb/run-20210909_155220-7qxnwmhv/files/train/plugins/profile/2021_09_09_15_52_24/8efc9eaf819e.trace.json.gz\n",
            "2021-09-09 15:52:24.469839: I tensorflow/core/profiler/rpc/client/save_profile.cc:136] Creating directory: /content/wandb/run-20210909_155220-7qxnwmhv/files/train/plugins/profile/2021_09_09_15_52_24\n",
            "\n",
            "2021-09-09 15:52:24.470146: I tensorflow/core/profiler/rpc/client/save_profile.cc:142] Dumped gzipped tool data for memory_profile.json.gz to /content/wandb/run-20210909_155220-7qxnwmhv/files/train/plugins/profile/2021_09_09_15_52_24/8efc9eaf819e.memory_profile.json.gz\n",
            "2021-09-09 15:52:24.470478: I tensorflow/core/profiler/rpc/client/capture_profile.cc:251] Creating directory: /content/wandb/run-20210909_155220-7qxnwmhv/files/train/plugins/profile/2021_09_09_15_52_24\n",
            "Dumped tool data for xplane.pb to /content/wandb/run-20210909_155220-7qxnwmhv/files/train/plugins/profile/2021_09_09_15_52_24/8efc9eaf819e.xplane.pb\n",
            "Dumped tool data for overview_page.pb to /content/wandb/run-20210909_155220-7qxnwmhv/files/train/plugins/profile/2021_09_09_15_52_24/8efc9eaf819e.overview_page.pb\n",
            "Dumped tool data for input_pipeline.pb to /content/wandb/run-20210909_155220-7qxnwmhv/files/train/plugins/profile/2021_09_09_15_52_24/8efc9eaf819e.input_pipeline.pb\n",
            "Dumped tool data for tensorflow_stats.pb to /content/wandb/run-20210909_155220-7qxnwmhv/files/train/plugins/profile/2021_09_09_15_52_24/8efc9eaf819e.tensorflow_stats.pb\n",
            "Dumped tool data for kernel_stats.pb to /content/wandb/run-20210909_155220-7qxnwmhv/files/train/plugins/profile/2021_09_09_15_52_24/8efc9eaf819e.kernel_stats.pb\n",
            "\n",
            "WARNING:tensorflow:Callback method `on_train_batch_end` is slow compared to the batch time (batch time: 0.0033s vs `on_train_batch_end` time: 0.0036s). Check your callbacks.\n",
            "1875/1875 [==============================] - 7s 3ms/step - loss: 0.5498 - accuracy: 0.8052 - val_loss: 0.4475 - val_accuracy: 0.8365\n",
            "Epoch 2/5\n",
            "1875/1875 [==============================] - 7s 4ms/step - loss: 0.4094 - accuracy: 0.8510 - val_loss: 0.4159 - val_accuracy: 0.8493\n",
            "Epoch 3/5\n",
            "1875/1875 [==============================] - 7s 4ms/step - loss: 0.3713 - accuracy: 0.8645 - val_loss: 0.3777 - val_accuracy: 0.8616\n",
            "Epoch 4/5\n",
            "1875/1875 [==============================] - 7s 4ms/step - loss: 0.3466 - accuracy: 0.8728 - val_loss: 0.3700 - val_accuracy: 0.8673\n",
            "Epoch 5/5\n",
            "1875/1875 [==============================] - 8s 4ms/step - loss: 0.3295 - accuracy: 0.8791 - val_loss: 0.3705 - val_accuracy: 0.8687\n",
            "\n",
            "\u001b[34m\u001b[1mwandb\u001b[0m: Waiting for W&B process to finish, PID 9796\n",
            "\u001b[34m\u001b[1mwandb\u001b[0m: Program ended successfully.\n",
            "\u001b[34m\u001b[1mwandb\u001b[0m:                                                                                \n",
            "\u001b[34m\u001b[1mwandb\u001b[0m: Find user logs for this run at: /content/wandb/run-20210909_155220-7qxnwmhv/logs/debug.log\n",
            "\u001b[34m\u001b[1mwandb\u001b[0m: Find internal logs for this run at: /content/wandb/run-20210909_155220-7qxnwmhv/logs/debug-internal.log\n",
            "\u001b[34m\u001b[1mwandb\u001b[0m: Run summary:\n",
            "\u001b[34m\u001b[1mwandb\u001b[0m:           epoch 4\n",
            "\u001b[34m\u001b[1mwandb\u001b[0m:            loss 0.32951\n",
            "\u001b[34m\u001b[1mwandb\u001b[0m:        accuracy 0.87905\n",
            "\u001b[34m\u001b[1mwandb\u001b[0m:        val_loss 0.37048\n",
            "\u001b[34m\u001b[1mwandb\u001b[0m:    val_accuracy 0.8687\n",
            "\u001b[34m\u001b[1mwandb\u001b[0m:        _runtime 40\n",
            "\u001b[34m\u001b[1mwandb\u001b[0m:      _timestamp 1631202780\n",
            "\u001b[34m\u001b[1mwandb\u001b[0m:           _step 4\n",
            "\u001b[34m\u001b[1mwandb\u001b[0m:   best_val_loss 0.36995\n",
            "\u001b[34m\u001b[1mwandb\u001b[0m:      best_epoch 3\n",
            "\u001b[34m\u001b[1mwandb\u001b[0m: Run history:\n",
            "\u001b[34m\u001b[1mwandb\u001b[0m:          epoch ▁▃▅▆█\n",
            "\u001b[34m\u001b[1mwandb\u001b[0m:           loss █▄▂▂▁\n",
            "\u001b[34m\u001b[1mwandb\u001b[0m:       accuracy ▁▅▇▇█\n",
            "\u001b[34m\u001b[1mwandb\u001b[0m:       val_loss █▅▂▁▁\n",
            "\u001b[34m\u001b[1mwandb\u001b[0m:   val_accuracy ▁▄▆██\n",
            "\u001b[34m\u001b[1mwandb\u001b[0m:       _runtime ▁▃▄▆█\n",
            "\u001b[34m\u001b[1mwandb\u001b[0m:     _timestamp ▁▃▄▆█\n",
            "\u001b[34m\u001b[1mwandb\u001b[0m:          _step ▁▃▅▆█\n",
            "\u001b[34m\u001b[1mwandb\u001b[0m: \n",
            "\u001b[34m\u001b[1mwandb\u001b[0m: Synced 5 W&B file(s), 181 media file(s), 0 artifact file(s) and 10 other file(s)\n",
            "\u001b[34m\u001b[1mwandb\u001b[0m: \n",
            "\u001b[34m\u001b[1mwandb\u001b[0m: Synced \u001b[33mswept-sweep-15\u001b[0m: \u001b[34mhttps://wandb.ai/knu/sweep-practice/runs/7qxnwmhv\u001b[0m\n",
            "2021-09-09 15:53:14,170 - wandb.wandb_agent - INFO - Cleaning up finished run: 7qxnwmhv\n",
            "2021-09-09 15:53:14,637 - wandb.wandb_agent - INFO - Agent received command: run\n",
            "2021-09-09 15:53:14,637 - wandb.wandb_agent - INFO - Agent starting run with config:\n",
            "\tdropout_rate: 0.10355834113518197\n",
            "\tlayer1_activation: relu\n",
            "\tlayer1_size: 178\n",
            "\tlayers: 103\n",
            "\tlearning_rate: 0.10867255773607885\n",
            "\toptimizer: Adam\n",
            "\toptimizers: adam\n",
            "2021-09-09 15:53:14,639 - wandb.wandb_agent - INFO - About to run command: /usr/bin/env python train.py --dropout_rate=0.10355834113518197 --layer1_activation=relu --layer1_size=178 --layers=103 --learning_rate=0.10867255773607885 --optimizer=Adam --optimizers=adam\n",
            "\u001b[34m\u001b[1mwandb\u001b[0m: Currently logged in as: \u001b[33mknu\u001b[0m (use `wandb login --relogin` to force relogin)\n",
            "\u001b[34m\u001b[1mwandb\u001b[0m: \u001b[33mWARNING\u001b[0m Ignored wandb.init() arg project when running a sweep\n",
            "2021-09-09 15:53:19,651 - wandb.wandb_agent - INFO - Running runs: ['4es8uls9']\n",
            "\u001b[34m\u001b[1mwandb\u001b[0m: Tracking run with wandb version 0.12.1\n",
            "\u001b[34m\u001b[1mwandb\u001b[0m: Syncing run \u001b[33mstill-sweep-16\u001b[0m\n",
            "\u001b[34m\u001b[1mwandb\u001b[0m: ⭐️ View project at \u001b[34m\u001b[4mhttps://wandb.ai/knu/sweep-practice\u001b[0m\n",
            "\u001b[34m\u001b[1mwandb\u001b[0m: 🧹 View sweep at \u001b[34m\u001b[4mhttps://wandb.ai/knu/sweep-practice/sweeps/2lhlz1gt\u001b[0m\n",
            "\u001b[34m\u001b[1mwandb\u001b[0m: 🚀 View run at \u001b[34m\u001b[4mhttps://wandb.ai/knu/sweep-practice/runs/4es8uls9\u001b[0m\n",
            "\u001b[34m\u001b[1mwandb\u001b[0m: Run data is saved locally in /content/wandb/run-20210909_155317-4es8uls9\n",
            "\u001b[34m\u001b[1mwandb\u001b[0m: Run `wandb offline` to turn off syncing.\n",
            "\n",
            "\u001b[34m\u001b[1mwandb\u001b[0m: \u001b[33mWARNING\u001b[0m Ignored wandb.init() arg project when running a sweep\n",
            "2021-09-09 15:53:20.743364: E tensorflow/stream_executor/cuda/cuda_driver.cc:271] failed call to cuInit: CUDA_ERROR_NO_DEVICE: no CUDA-capable device is detected\n",
            "2021-09-09 15:53:20.743422: I tensorflow/stream_executor/cuda/cuda_diagnostics.cc:156] kernel driver does not appear to be running on this host (8efc9eaf819e): /proc/driver/nvidia/version does not exist\n",
            "2021-09-09 15:53:20.743888: I tensorflow/core/platform/cpu_feature_guard.cc:142] This TensorFlow binary is optimized with oneAPI Deep Neural Network Library (oneDNN) to use the following CPU instructions in performance-critical operations:  AVX512F\n",
            "To enable them in other operations, rebuild TensorFlow with the appropriate compiler flags.\n",
            "Traceback (most recent call last):\n",
            "  File \"train.py\", line 34, in <module>\n",
            "    opt=tf.keras.optimizer.Adam(learning_rate=config.learning_rate)\n",
            "AttributeError: module 'tensorflow.keras' has no attribute 'optimizer'\n",
            "\n",
            "\u001b[34m\u001b[1mwandb\u001b[0m: Waiting for W&B process to finish, PID 10108\n",
            "\u001b[34m\u001b[1mwandb\u001b[0m: Program failed with code 1.  Press ctrl-c to abort syncing.\n",
            "\u001b[34m\u001b[1mwandb\u001b[0m:                                                                                \n",
            "\u001b[34m\u001b[1mwandb\u001b[0m: Find user logs for this run at: /content/wandb/run-20210909_155317-4es8uls9/logs/debug.log\n",
            "\u001b[34m\u001b[1mwandb\u001b[0m: Find internal logs for this run at: /content/wandb/run-20210909_155317-4es8uls9/logs/debug-internal.log\n",
            "\u001b[34m\u001b[1mwandb\u001b[0m: Synced 5 W&B file(s), 0 media file(s), 0 artifact file(s) and 0 other file(s)\n",
            "\u001b[34m\u001b[1mwandb\u001b[0m: \n",
            "\u001b[34m\u001b[1mwandb\u001b[0m: Synced \u001b[33mstill-sweep-16\u001b[0m: \u001b[34mhttps://wandb.ai/knu/sweep-practice/runs/4es8uls9\u001b[0m\n",
            "2021-09-09 15:53:29,949 - wandb.wandb_agent - INFO - Cleaning up finished run: 4es8uls9\n",
            "2021-09-09 15:53:30,299 - wandb.wandb_agent - INFO - Agent received command: run\n",
            "2021-09-09 15:53:30,299 - wandb.wandb_agent - INFO - Agent starting run with config:\n",
            "\tdropout_rate: 0.2689444619517082\n",
            "\tlayer1_activation: relu\n",
            "\tlayer1_size: 209\n",
            "\tlayers: 86\n",
            "\tlearning_rate: 0.03842443193620044\n",
            "\toptimizer: Adam\n",
            "\toptimizers: rmsprop\n",
            "2021-09-09 15:53:30,301 - wandb.wandb_agent - INFO - About to run command: /usr/bin/env python train.py --dropout_rate=0.2689444619517082 --layer1_activation=relu --layer1_size=209 --layers=86 --learning_rate=0.03842443193620044 --optimizer=Adam --optimizers=rmsprop\n",
            "\u001b[34m\u001b[1mwandb\u001b[0m: Currently logged in as: \u001b[33mknu\u001b[0m (use `wandb login --relogin` to force relogin)\n",
            "\u001b[34m\u001b[1mwandb\u001b[0m: \u001b[33mWARNING\u001b[0m Ignored wandb.init() arg project when running a sweep\n",
            "2021-09-09 15:53:35,313 - wandb.wandb_agent - INFO - Running runs: ['3h7jauzs']\n",
            "\u001b[34m\u001b[1mwandb\u001b[0m: Tracking run with wandb version 0.12.1\n",
            "\u001b[34m\u001b[1mwandb\u001b[0m: Syncing run \u001b[33mgallant-sweep-17\u001b[0m\n",
            "\u001b[34m\u001b[1mwandb\u001b[0m: ⭐️ View project at \u001b[34m\u001b[4mhttps://wandb.ai/knu/sweep-practice\u001b[0m\n",
            "\u001b[34m\u001b[1mwandb\u001b[0m: 🧹 View sweep at \u001b[34m\u001b[4mhttps://wandb.ai/knu/sweep-practice/sweeps/2lhlz1gt\u001b[0m\n",
            "\u001b[34m\u001b[1mwandb\u001b[0m: 🚀 View run at \u001b[34m\u001b[4mhttps://wandb.ai/knu/sweep-practice/runs/3h7jauzs\u001b[0m\n",
            "\u001b[34m\u001b[1mwandb\u001b[0m: Run data is saved locally in /content/wandb/run-20210909_155333-3h7jauzs\n",
            "\u001b[34m\u001b[1mwandb\u001b[0m: Run `wandb offline` to turn off syncing.\n",
            "\n",
            "\u001b[34m\u001b[1mwandb\u001b[0m: \u001b[33mWARNING\u001b[0m Ignored wandb.init() arg project when running a sweep\n",
            "2021-09-09 15:53:36.398447: E tensorflow/stream_executor/cuda/cuda_driver.cc:271] failed call to cuInit: CUDA_ERROR_NO_DEVICE: no CUDA-capable device is detected\n",
            "2021-09-09 15:53:36.398509: I tensorflow/stream_executor/cuda/cuda_diagnostics.cc:156] kernel driver does not appear to be running on this host (8efc9eaf819e): /proc/driver/nvidia/version does not exist\n",
            "2021-09-09 15:53:36.398937: I tensorflow/core/platform/cpu_feature_guard.cc:142] This TensorFlow binary is optimized with oneAPI Deep Neural Network Library (oneDNN) to use the following CPU instructions in performance-critical operations:  AVX512F\n",
            "To enable them in other operations, rebuild TensorFlow with the appropriate compiler flags.\n",
            "2021-09-09 15:53:36.439867: I tensorflow/core/profiler/lib/profiler_session.cc:131] Profiler session initializing.\n",
            "2021-09-09 15:53:36.439932: I tensorflow/core/profiler/lib/profiler_session.cc:146] Profiler session started.\n",
            "2021-09-09 15:53:36.450018: I tensorflow/core/profiler/lib/profiler_session.cc:164] Profiler session tear down.\n",
            "2021-09-09 15:53:36.775024: I tensorflow/compiler/mlir/mlir_graph_optimization_pass.cc:185] None of the MLIR Optimization Passes are enabled (registered 2)\n",
            "Epoch 1/5\n",
            "   1/1875 [..............................] - ETA: 16:24 - loss: 2.5586 - accuracy: 0.03122021-09-09 15:53:37.331670: I tensorflow/core/profiler/lib/profiler_session.cc:131] Profiler session initializing.\n",
            "2021-09-09 15:53:37.331755: I tensorflow/core/profiler/lib/profiler_session.cc:146] Profiler session started.\n",
            "2021-09-09 15:53:37.340250: I tensorflow/core/profiler/lib/profiler_session.cc:66] Profiler session collecting data.\n",
            "2021-09-09 15:53:37.341361: I tensorflow/core/profiler/lib/profiler_session.cc:164] Profiler session tear down.\n",
            "2021-09-09 15:53:37.343336: I tensorflow/core/profiler/rpc/client/save_profile.cc:136] Creating directory: /content/wandb/run-20210909_155333-3h7jauzs/files/train/plugins/profile/2021_09_09_15_53_37\n",
            "\n",
            "2021-09-09 15:53:37.344286: I tensorflow/core/profiler/rpc/client/save_profile.cc:142] Dumped gzipped tool data for trace.json.gz to /content/wandb/run-20210909_155333-3h7jauzs/files/train/plugins/profile/2021_09_09_15_53_37/8efc9eaf819e.trace.json.gz\n",
            "2021-09-09 15:53:37.347005: I tensorflow/core/profiler/rpc/client/save_profile.cc:136] Creating directory: /content/wandb/run-20210909_155333-3h7jauzs/files/train/plugins/profile/2021_09_09_15_53_37\n",
            "\n",
            "2021-09-09 15:53:37.347167: I tensorflow/core/profiler/rpc/client/save_profile.cc:142] Dumped gzipped tool data for memory_profile.json.gz to /content/wandb/run-20210909_155333-3h7jauzs/files/train/plugins/profile/2021_09_09_15_53_37/8efc9eaf819e.memory_profile.json.gz\n",
            "2021-09-09 15:53:37.347517: I tensorflow/core/profiler/rpc/client/capture_profile.cc:251] Creating directory: /content/wandb/run-20210909_155333-3h7jauzs/files/train/plugins/profile/2021_09_09_15_53_37\n",
            "Dumped tool data for xplane.pb to /content/wandb/run-20210909_155333-3h7jauzs/files/train/plugins/profile/2021_09_09_15_53_37/8efc9eaf819e.xplane.pb\n",
            "Dumped tool data for overview_page.pb to /content/wandb/run-20210909_155333-3h7jauzs/files/train/plugins/profile/2021_09_09_15_53_37/8efc9eaf819e.overview_page.pb\n",
            "Dumped tool data for input_pipeline.pb to /content/wandb/run-20210909_155333-3h7jauzs/files/train/plugins/profile/2021_09_09_15_53_37/8efc9eaf819e.input_pipeline.pb\n",
            "Dumped tool data for tensorflow_stats.pb to /content/wandb/run-20210909_155333-3h7jauzs/files/train/plugins/profile/2021_09_09_15_53_37/8efc9eaf819e.tensorflow_stats.pb\n",
            "Dumped tool data for kernel_stats.pb to /content/wandb/run-20210909_155333-3h7jauzs/files/train/plugins/profile/2021_09_09_15_53_37/8efc9eaf819e.kernel_stats.pb\n",
            "\n",
            "WARNING:tensorflow:Callback method `on_train_batch_end` is slow compared to the batch time (batch time: 0.0037s vs `on_train_batch_end` time: 0.0043s). Check your callbacks.\n",
            "1875/1875 [==============================] - 7s 3ms/step - loss: 0.5255 - accuracy: 0.8127 - val_loss: 0.4236 - val_accuracy: 0.8445\n",
            "Epoch 2/5\n",
            "1875/1875 [==============================] - 6s 3ms/step - loss: 0.4004 - accuracy: 0.8551 - val_loss: 0.4200 - val_accuracy: 0.8450\n",
            "Epoch 3/5\n",
            "1875/1875 [==============================] - 7s 4ms/step - loss: 0.3699 - accuracy: 0.8627 - val_loss: 0.3802 - val_accuracy: 0.8624\n",
            "Epoch 4/5\n",
            "1875/1875 [==============================] - 7s 4ms/step - loss: 0.3497 - accuracy: 0.8709 - val_loss: 0.3707 - val_accuracy: 0.8647\n",
            "Epoch 5/5\n",
            "1875/1875 [==============================] - 7s 4ms/step - loss: 0.3352 - accuracy: 0.8756 - val_loss: 0.3567 - val_accuracy: 0.8716\n",
            "\n",
            "\u001b[34m\u001b[1mwandb\u001b[0m: Waiting for W&B process to finish, PID 10164\n",
            "\u001b[34m\u001b[1mwandb\u001b[0m: Program ended successfully.\n",
            "\u001b[34m\u001b[1mwandb\u001b[0m:                                                                                \n",
            "\u001b[34m\u001b[1mwandb\u001b[0m: Find user logs for this run at: /content/wandb/run-20210909_155333-3h7jauzs/logs/debug.log\n",
            "\u001b[34m\u001b[1mwandb\u001b[0m: Find internal logs for this run at: /content/wandb/run-20210909_155333-3h7jauzs/logs/debug-internal.log\n",
            "\u001b[34m\u001b[1mwandb\u001b[0m: Run summary:\n",
            "\u001b[34m\u001b[1mwandb\u001b[0m:           epoch 4\n",
            "\u001b[34m\u001b[1mwandb\u001b[0m:            loss 0.33518\n",
            "\u001b[34m\u001b[1mwandb\u001b[0m:        accuracy 0.87558\n",
            "\u001b[34m\u001b[1mwandb\u001b[0m:        val_loss 0.3567\n",
            "\u001b[34m\u001b[1mwandb\u001b[0m:    val_accuracy 0.8716\n",
            "\u001b[34m\u001b[1mwandb\u001b[0m:        _runtime 38\n",
            "\u001b[34m\u001b[1mwandb\u001b[0m:      _timestamp 1631202851\n",
            "\u001b[34m\u001b[1mwandb\u001b[0m:           _step 4\n",
            "\u001b[34m\u001b[1mwandb\u001b[0m:   best_val_loss 0.3567\n",
            "\u001b[34m\u001b[1mwandb\u001b[0m:      best_epoch 4\n",
            "\u001b[34m\u001b[1mwandb\u001b[0m: Run history:\n",
            "\u001b[34m\u001b[1mwandb\u001b[0m:          epoch ▁▃▅▆█\n",
            "\u001b[34m\u001b[1mwandb\u001b[0m:           loss █▃▂▂▁\n",
            "\u001b[34m\u001b[1mwandb\u001b[0m:       accuracy ▁▆▇▇█\n",
            "\u001b[34m\u001b[1mwandb\u001b[0m:       val_loss ██▃▂▁\n",
            "\u001b[34m\u001b[1mwandb\u001b[0m:   val_accuracy ▁▁▆▆█\n",
            "\u001b[34m\u001b[1mwandb\u001b[0m:       _runtime ▁▃▅▆█\n",
            "\u001b[34m\u001b[1mwandb\u001b[0m:     _timestamp ▁▃▅▆█\n",
            "\u001b[34m\u001b[1mwandb\u001b[0m:          _step ▁▃▅▆█\n",
            "\u001b[34m\u001b[1mwandb\u001b[0m: \n",
            "\u001b[34m\u001b[1mwandb\u001b[0m: Synced 5 W&B file(s), 181 media file(s), 0 artifact file(s) and 10 other file(s)\n",
            "\u001b[34m\u001b[1mwandb\u001b[0m: \n",
            "\u001b[34m\u001b[1mwandb\u001b[0m: Synced \u001b[33mgallant-sweep-17\u001b[0m: \u001b[34mhttps://wandb.ai/knu/sweep-practice/runs/3h7jauzs\u001b[0m\n",
            "2021-09-09 15:54:27,280 - wandb.wandb_agent - INFO - Cleaning up finished run: 3h7jauzs\n",
            "2021-09-09 15:54:27,643 - wandb.wandb_agent - INFO - Agent received command: run\n",
            "2021-09-09 15:54:27,643 - wandb.wandb_agent - INFO - Agent starting run with config:\n",
            "\tdropout_rate: 0.21284045804023738\n",
            "\tlayer1_activation: sigmoid\n",
            "\tlayer1_size: 123\n",
            "\tlayers: 90\n",
            "\tlearning_rate: 0.1275087488620213\n",
            "\toptimizer: Adam\n",
            "\toptimizers: rmsprop\n",
            "2021-09-09 15:54:27,645 - wandb.wandb_agent - INFO - About to run command: /usr/bin/env python train.py --dropout_rate=0.21284045804023738 --layer1_activation=sigmoid --layer1_size=123 --layers=90 --learning_rate=0.1275087488620213 --optimizer=Adam --optimizers=rmsprop\n",
            "\u001b[34m\u001b[1mwandb\u001b[0m: Currently logged in as: \u001b[33mknu\u001b[0m (use `wandb login --relogin` to force relogin)\n",
            "\u001b[34m\u001b[1mwandb\u001b[0m: \u001b[33mWARNING\u001b[0m Ignored wandb.init() arg project when running a sweep\n",
            "2021-09-09 15:54:32,654 - wandb.wandb_agent - INFO - Running runs: ['kz8ox3qi']\n",
            "\u001b[34m\u001b[1mwandb\u001b[0m: Tracking run with wandb version 0.12.1\n",
            "\u001b[34m\u001b[1mwandb\u001b[0m: Syncing run \u001b[33mfrosty-sweep-18\u001b[0m\n",
            "\u001b[34m\u001b[1mwandb\u001b[0m: ⭐️ View project at \u001b[34m\u001b[4mhttps://wandb.ai/knu/sweep-practice\u001b[0m\n",
            "\u001b[34m\u001b[1mwandb\u001b[0m: 🧹 View sweep at \u001b[34m\u001b[4mhttps://wandb.ai/knu/sweep-practice/sweeps/2lhlz1gt\u001b[0m\n",
            "\u001b[34m\u001b[1mwandb\u001b[0m: 🚀 View run at \u001b[34m\u001b[4mhttps://wandb.ai/knu/sweep-practice/runs/kz8ox3qi\u001b[0m\n",
            "\u001b[34m\u001b[1mwandb\u001b[0m: Run data is saved locally in /content/wandb/run-20210909_155430-kz8ox3qi\n",
            "\u001b[34m\u001b[1mwandb\u001b[0m: Run `wandb offline` to turn off syncing.\n",
            "\n",
            "\u001b[34m\u001b[1mwandb\u001b[0m: \u001b[33mWARNING\u001b[0m Ignored wandb.init() arg project when running a sweep\n",
            "2021-09-09 15:54:33.764451: E tensorflow/stream_executor/cuda/cuda_driver.cc:271] failed call to cuInit: CUDA_ERROR_NO_DEVICE: no CUDA-capable device is detected\n",
            "2021-09-09 15:54:33.764507: I tensorflow/stream_executor/cuda/cuda_diagnostics.cc:156] kernel driver does not appear to be running on this host (8efc9eaf819e): /proc/driver/nvidia/version does not exist\n",
            "2021-09-09 15:54:33.764918: I tensorflow/core/platform/cpu_feature_guard.cc:142] This TensorFlow binary is optimized with oneAPI Deep Neural Network Library (oneDNN) to use the following CPU instructions in performance-critical operations:  AVX512F\n",
            "To enable them in other operations, rebuild TensorFlow with the appropriate compiler flags.\n",
            "2021-09-09 15:54:33.805491: I tensorflow/core/profiler/lib/profiler_session.cc:131] Profiler session initializing.\n",
            "2021-09-09 15:54:33.805549: I tensorflow/core/profiler/lib/profiler_session.cc:146] Profiler session started.\n",
            "2021-09-09 15:54:33.815548: I tensorflow/core/profiler/lib/profiler_session.cc:164] Profiler session tear down.\n",
            "2021-09-09 15:54:34.139974: I tensorflow/compiler/mlir/mlir_graph_optimization_pass.cc:185] None of the MLIR Optimization Passes are enabled (registered 2)\n",
            "Epoch 1/5\n",
            "   1/1875 [..............................] - ETA: 16:32 - loss: 2.6744 - accuracy: 0.06252021-09-09 15:54:34.698040: I tensorflow/core/profiler/lib/profiler_session.cc:131] Profiler session initializing.\n",
            "2021-09-09 15:54:34.698165: I tensorflow/core/profiler/lib/profiler_session.cc:146] Profiler session started.\n",
            "2021-09-09 15:54:34.708408: I tensorflow/core/profiler/lib/profiler_session.cc:66] Profiler session collecting data.\n",
            "2021-09-09 15:54:34.709596: I tensorflow/core/profiler/lib/profiler_session.cc:164] Profiler session tear down.\n",
            "2021-09-09 15:54:34.711825: I tensorflow/core/profiler/rpc/client/save_profile.cc:136] Creating directory: /content/wandb/run-20210909_155430-kz8ox3qi/files/train/plugins/profile/2021_09_09_15_54_34\n",
            "\n",
            "2021-09-09 15:54:34.712915: I tensorflow/core/profiler/rpc/client/save_profile.cc:142] Dumped gzipped tool data for trace.json.gz to /content/wandb/run-20210909_155430-kz8ox3qi/files/train/plugins/profile/2021_09_09_15_54_34/8efc9eaf819e.trace.json.gz\n",
            "2021-09-09 15:54:34.715953: I tensorflow/core/profiler/rpc/client/save_profile.cc:136] Creating directory: /content/wandb/run-20210909_155430-kz8ox3qi/files/train/plugins/profile/2021_09_09_15_54_34\n",
            "\n",
            "2021-09-09 15:54:34.716164: I tensorflow/core/profiler/rpc/client/save_profile.cc:142] Dumped gzipped tool data for memory_profile.json.gz to /content/wandb/run-20210909_155430-kz8ox3qi/files/train/plugins/profile/2021_09_09_15_54_34/8efc9eaf819e.memory_profile.json.gz\n",
            "2021-09-09 15:54:34.716567: I tensorflow/core/profiler/rpc/client/capture_profile.cc:251] Creating directory: /content/wandb/run-20210909_155430-kz8ox3qi/files/train/plugins/profile/2021_09_09_15_54_34\n",
            "Dumped tool data for xplane.pb to /content/wandb/run-20210909_155430-kz8ox3qi/files/train/plugins/profile/2021_09_09_15_54_34/8efc9eaf819e.xplane.pb\n",
            "Dumped tool data for overview_page.pb to /content/wandb/run-20210909_155430-kz8ox3qi/files/train/plugins/profile/2021_09_09_15_54_34/8efc9eaf819e.overview_page.pb\n",
            "Dumped tool data for input_pipeline.pb to /content/wandb/run-20210909_155430-kz8ox3qi/files/train/plugins/profile/2021_09_09_15_54_34/8efc9eaf819e.input_pipeline.pb\n",
            "Dumped tool data for tensorflow_stats.pb to /content/wandb/run-20210909_155430-kz8ox3qi/files/train/plugins/profile/2021_09_09_15_54_34/8efc9eaf819e.tensorflow_stats.pb\n",
            "Dumped tool data for kernel_stats.pb to /content/wandb/run-20210909_155430-kz8ox3qi/files/train/plugins/profile/2021_09_09_15_54_34/8efc9eaf819e.kernel_stats.pb\n",
            "\n",
            "1875/1875 [==============================] - 6s 3ms/step - loss: 0.5897 - accuracy: 0.7959 - val_loss: 0.4548 - val_accuracy: 0.8356\n",
            "Epoch 2/5\n",
            "1875/1875 [==============================] - 6s 3ms/step - loss: 0.4252 - accuracy: 0.8458 - val_loss: 0.4214 - val_accuracy: 0.8457\n",
            "Epoch 3/5\n",
            "1875/1875 [==============================] - 5s 3ms/step - loss: 0.3880 - accuracy: 0.8605 - val_loss: 0.3926 - val_accuracy: 0.8602\n",
            "Epoch 4/5\n",
            "1875/1875 [==============================] - 6s 3ms/step - loss: 0.3640 - accuracy: 0.8682 - val_loss: 0.3769 - val_accuracy: 0.8639\n",
            "Epoch 5/5\n",
            "1875/1875 [==============================] - 6s 3ms/step - loss: 0.3486 - accuracy: 0.8741 - val_loss: 0.3699 - val_accuracy: 0.8668\n",
            "\n",
            "\u001b[34m\u001b[1mwandb\u001b[0m: Waiting for W&B process to finish, PID 10478\n",
            "\u001b[34m\u001b[1mwandb\u001b[0m: Program ended successfully.\n",
            "\u001b[34m\u001b[1mwandb\u001b[0m:                                                                                \n",
            "\u001b[34m\u001b[1mwandb\u001b[0m: Find user logs for this run at: /content/wandb/run-20210909_155430-kz8ox3qi/logs/debug.log\n",
            "\u001b[34m\u001b[1mwandb\u001b[0m: Find internal logs for this run at: /content/wandb/run-20210909_155430-kz8ox3qi/logs/debug-internal.log\n",
            "\u001b[34m\u001b[1mwandb\u001b[0m: Run summary:\n",
            "\u001b[34m\u001b[1mwandb\u001b[0m:           epoch 4\n",
            "\u001b[34m\u001b[1mwandb\u001b[0m:            loss 0.34857\n",
            "\u001b[34m\u001b[1mwandb\u001b[0m:        accuracy 0.87407\n",
            "\u001b[34m\u001b[1mwandb\u001b[0m:        val_loss 0.36989\n",
            "\u001b[34m\u001b[1mwandb\u001b[0m:    val_accuracy 0.8668\n",
            "\u001b[34m\u001b[1mwandb\u001b[0m:        _runtime 33\n",
            "\u001b[34m\u001b[1mwandb\u001b[0m:      _timestamp 1631202903\n",
            "\u001b[34m\u001b[1mwandb\u001b[0m:           _step 4\n",
            "\u001b[34m\u001b[1mwandb\u001b[0m:   best_val_loss 0.36989\n",
            "\u001b[34m\u001b[1mwandb\u001b[0m:      best_epoch 4\n",
            "\u001b[34m\u001b[1mwandb\u001b[0m: Run history:\n",
            "\u001b[34m\u001b[1mwandb\u001b[0m:          epoch ▁▃▅▆█\n",
            "\u001b[34m\u001b[1mwandb\u001b[0m:           loss █▃▂▁▁\n",
            "\u001b[34m\u001b[1mwandb\u001b[0m:       accuracy ▁▅▇▇█\n",
            "\u001b[34m\u001b[1mwandb\u001b[0m:       val_loss █▅▃▂▁\n",
            "\u001b[34m\u001b[1mwandb\u001b[0m:   val_accuracy ▁▃▇▇█\n",
            "\u001b[34m\u001b[1mwandb\u001b[0m:       _runtime ▁▃▄▆█\n",
            "\u001b[34m\u001b[1mwandb\u001b[0m:     _timestamp ▁▃▄▆█\n",
            "\u001b[34m\u001b[1mwandb\u001b[0m:          _step ▁▃▅▆█\n",
            "\u001b[34m\u001b[1mwandb\u001b[0m: \n",
            "\u001b[34m\u001b[1mwandb\u001b[0m: Synced 5 W&B file(s), 181 media file(s), 0 artifact file(s) and 10 other file(s)\n",
            "\u001b[34m\u001b[1mwandb\u001b[0m: \n",
            "\u001b[34m\u001b[1mwandb\u001b[0m: Synced \u001b[33mfrosty-sweep-18\u001b[0m: \u001b[34mhttps://wandb.ai/knu/sweep-practice/runs/kz8ox3qi\u001b[0m\n",
            "2021-09-09 15:55:24,665 - wandb.wandb_agent - INFO - Cleaning up finished run: kz8ox3qi\n",
            "2021-09-09 15:55:24,976 - wandb.wandb_agent - INFO - Agent received command: run\n",
            "2021-09-09 15:55:24,977 - wandb.wandb_agent - INFO - Agent starting run with config:\n",
            "\tdropout_rate: 0.08297292311176356\n",
            "\tlayer1_activation: relu\n",
            "\tlayer1_size: 252\n",
            "\tlayers: 47\n",
            "\tlearning_rate: 0.18984306250836422\n",
            "\toptimizer: Adam\n",
            "\toptimizers: adam\n",
            "2021-09-09 15:55:24,979 - wandb.wandb_agent - INFO - About to run command: /usr/bin/env python train.py --dropout_rate=0.08297292311176356 --layer1_activation=relu --layer1_size=252 --layers=47 --learning_rate=0.18984306250836422 --optimizer=Adam --optimizers=adam\n",
            "\u001b[34m\u001b[1mwandb\u001b[0m: Currently logged in as: \u001b[33mknu\u001b[0m (use `wandb login --relogin` to force relogin)\n",
            "\u001b[34m\u001b[1mwandb\u001b[0m: \u001b[33mWARNING\u001b[0m Ignored wandb.init() arg project when running a sweep\n",
            "2021-09-09 15:55:29,990 - wandb.wandb_agent - INFO - Running runs: ['9p3wc3g2']\n",
            "\u001b[34m\u001b[1mwandb\u001b[0m: Tracking run with wandb version 0.12.1\n",
            "\u001b[34m\u001b[1mwandb\u001b[0m: Syncing run \u001b[33mtwilight-sweep-19\u001b[0m\n",
            "\u001b[34m\u001b[1mwandb\u001b[0m: ⭐️ View project at \u001b[34m\u001b[4mhttps://wandb.ai/knu/sweep-practice\u001b[0m\n",
            "\u001b[34m\u001b[1mwandb\u001b[0m: 🧹 View sweep at \u001b[34m\u001b[4mhttps://wandb.ai/knu/sweep-practice/sweeps/2lhlz1gt\u001b[0m\n",
            "\u001b[34m\u001b[1mwandb\u001b[0m: 🚀 View run at \u001b[34m\u001b[4mhttps://wandb.ai/knu/sweep-practice/runs/9p3wc3g2\u001b[0m\n",
            "\u001b[34m\u001b[1mwandb\u001b[0m: Run data is saved locally in /content/wandb/run-20210909_155527-9p3wc3g2\n",
            "\u001b[34m\u001b[1mwandb\u001b[0m: Run `wandb offline` to turn off syncing.\n",
            "\n",
            "\u001b[34m\u001b[1mwandb\u001b[0m: \u001b[33mWARNING\u001b[0m Ignored wandb.init() arg project when running a sweep\n",
            "2021-09-09 15:55:31.003182: E tensorflow/stream_executor/cuda/cuda_driver.cc:271] failed call to cuInit: CUDA_ERROR_NO_DEVICE: no CUDA-capable device is detected\n",
            "2021-09-09 15:55:31.003243: I tensorflow/stream_executor/cuda/cuda_diagnostics.cc:156] kernel driver does not appear to be running on this host (8efc9eaf819e): /proc/driver/nvidia/version does not exist\n",
            "2021-09-09 15:55:31.003781: I tensorflow/core/platform/cpu_feature_guard.cc:142] This TensorFlow binary is optimized with oneAPI Deep Neural Network Library (oneDNN) to use the following CPU instructions in performance-critical operations:  AVX512F\n",
            "To enable them in other operations, rebuild TensorFlow with the appropriate compiler flags.\n",
            "Traceback (most recent call last):\n",
            "  File \"train.py\", line 34, in <module>\n",
            "    opt=tf.keras.optimizer.Adam(learning_rate=config.learning_rate)\n",
            "AttributeError: module 'tensorflow.keras' has no attribute 'optimizer'\n",
            "\n",
            "\u001b[34m\u001b[1mwandb\u001b[0m: Waiting for W&B process to finish, PID 10791\n",
            "\u001b[34m\u001b[1mwandb\u001b[0m: Program failed with code 1.  Press ctrl-c to abort syncing.\n",
            "\u001b[34m\u001b[1mwandb\u001b[0m:                                                                                \n",
            "\u001b[34m\u001b[1mwandb\u001b[0m: Find user logs for this run at: /content/wandb/run-20210909_155527-9p3wc3g2/logs/debug.log\n",
            "\u001b[34m\u001b[1mwandb\u001b[0m: Find internal logs for this run at: /content/wandb/run-20210909_155527-9p3wc3g2/logs/debug-internal.log\n",
            "\u001b[34m\u001b[1mwandb\u001b[0m: Synced 5 W&B file(s), 0 media file(s), 0 artifact file(s) and 0 other file(s)\n",
            "\u001b[34m\u001b[1mwandb\u001b[0m: \n",
            "\u001b[34m\u001b[1mwandb\u001b[0m: Synced \u001b[33mtwilight-sweep-19\u001b[0m: \u001b[34mhttps://wandb.ai/knu/sweep-practice/runs/9p3wc3g2\u001b[0m\n",
            "2021-09-09 15:55:40,323 - wandb.wandb_agent - INFO - Cleaning up finished run: 9p3wc3g2\n",
            "2021-09-09 15:55:40,713 - wandb.wandb_agent - INFO - Agent received command: run\n",
            "2021-09-09 15:55:40,713 - wandb.wandb_agent - INFO - Agent starting run with config:\n",
            "\tdropout_rate: 0.24431586496872165\n",
            "\tlayer1_activation: relu\n",
            "\tlayer1_size: 191\n",
            "\tlayers: 38\n",
            "\tlearning_rate: 0.02202271012685236\n",
            "\toptimizer: Adam\n",
            "\toptimizers: rmsprop\n",
            "2021-09-09 15:55:40,715 - wandb.wandb_agent - INFO - About to run command: /usr/bin/env python train.py --dropout_rate=0.24431586496872165 --layer1_activation=relu --layer1_size=191 --layers=38 --learning_rate=0.02202271012685236 --optimizer=Adam --optimizers=rmsprop\n",
            "\u001b[34m\u001b[1mwandb\u001b[0m: Currently logged in as: \u001b[33mknu\u001b[0m (use `wandb login --relogin` to force relogin)\n",
            "\u001b[34m\u001b[1mwandb\u001b[0m: \u001b[33mWARNING\u001b[0m Ignored wandb.init() arg project when running a sweep\n",
            "2021-09-09 15:55:45,727 - wandb.wandb_agent - INFO - Running runs: ['w80glq6s']\n",
            "\u001b[34m\u001b[1mwandb\u001b[0m: Tracking run with wandb version 0.12.1\n",
            "\u001b[34m\u001b[1mwandb\u001b[0m: Syncing run \u001b[33mroyal-sweep-20\u001b[0m\n",
            "\u001b[34m\u001b[1mwandb\u001b[0m: ⭐️ View project at \u001b[34m\u001b[4mhttps://wandb.ai/knu/sweep-practice\u001b[0m\n",
            "\u001b[34m\u001b[1mwandb\u001b[0m: 🧹 View sweep at \u001b[34m\u001b[4mhttps://wandb.ai/knu/sweep-practice/sweeps/2lhlz1gt\u001b[0m\n",
            "\u001b[34m\u001b[1mwandb\u001b[0m: 🚀 View run at \u001b[34m\u001b[4mhttps://wandb.ai/knu/sweep-practice/runs/w80glq6s\u001b[0m\n",
            "\u001b[34m\u001b[1mwandb\u001b[0m: Run data is saved locally in /content/wandb/run-20210909_155543-w80glq6s\n",
            "\u001b[34m\u001b[1mwandb\u001b[0m: Run `wandb offline` to turn off syncing.\n",
            "\n",
            "\u001b[34m\u001b[1mwandb\u001b[0m: \u001b[33mWARNING\u001b[0m Ignored wandb.init() arg project when running a sweep\n",
            "2021-09-09 15:55:46.719685: E tensorflow/stream_executor/cuda/cuda_driver.cc:271] failed call to cuInit: CUDA_ERROR_NO_DEVICE: no CUDA-capable device is detected\n",
            "2021-09-09 15:55:46.719760: I tensorflow/stream_executor/cuda/cuda_diagnostics.cc:156] kernel driver does not appear to be running on this host (8efc9eaf819e): /proc/driver/nvidia/version does not exist\n",
            "2021-09-09 15:55:46.720169: I tensorflow/core/platform/cpu_feature_guard.cc:142] This TensorFlow binary is optimized with oneAPI Deep Neural Network Library (oneDNN) to use the following CPU instructions in performance-critical operations:  AVX512F\n",
            "To enable them in other operations, rebuild TensorFlow with the appropriate compiler flags.\n",
            "2021-09-09 15:55:46.758679: I tensorflow/core/profiler/lib/profiler_session.cc:131] Profiler session initializing.\n",
            "2021-09-09 15:55:46.758808: I tensorflow/core/profiler/lib/profiler_session.cc:146] Profiler session started.\n",
            "2021-09-09 15:55:46.768940: I tensorflow/core/profiler/lib/profiler_session.cc:164] Profiler session tear down.\n",
            "2021-09-09 15:55:47.100752: I tensorflow/compiler/mlir/mlir_graph_optimization_pass.cc:185] None of the MLIR Optimization Passes are enabled (registered 2)\n",
            "Epoch 1/5\n",
            "   1/1875 [..............................] - ETA: 16:11 - loss: 2.4781 - accuracy: 0.03122021-09-09 15:55:47.647499: I tensorflow/core/profiler/lib/profiler_session.cc:131] Profiler session initializing.\n",
            "2021-09-09 15:55:47.647555: I tensorflow/core/profiler/lib/profiler_session.cc:146] Profiler session started.\n",
            "2021-09-09 15:55:47.654526: I tensorflow/core/profiler/lib/profiler_session.cc:66] Profiler session collecting data.\n",
            "2021-09-09 15:55:47.655676: I tensorflow/core/profiler/lib/profiler_session.cc:164] Profiler session tear down.\n",
            "2021-09-09 15:55:47.657934: I tensorflow/core/profiler/rpc/client/save_profile.cc:136] Creating directory: /content/wandb/run-20210909_155543-w80glq6s/files/train/plugins/profile/2021_09_09_15_55_47\n",
            "\n",
            "2021-09-09 15:55:47.659059: I tensorflow/core/profiler/rpc/client/save_profile.cc:142] Dumped gzipped tool data for trace.json.gz to /content/wandb/run-20210909_155543-w80glq6s/files/train/plugins/profile/2021_09_09_15_55_47/8efc9eaf819e.trace.json.gz\n",
            "2021-09-09 15:55:47.676784: I tensorflow/core/profiler/rpc/client/save_profile.cc:136] Creating directory: /content/wandb/run-20210909_155543-w80glq6s/files/train/plugins/profile/2021_09_09_15_55_47\n",
            "\n",
            "2021-09-09 15:55:47.678917: I tensorflow/core/profiler/rpc/client/save_profile.cc:142] Dumped gzipped tool data for memory_profile.json.gz to /content/wandb/run-20210909_155543-w80glq6s/files/train/plugins/profile/2021_09_09_15_55_47/8efc9eaf819e.memory_profile.json.gz\n",
            "2021-09-09 15:55:47.679425: I tensorflow/core/profiler/rpc/client/capture_profile.cc:251] Creating directory: /content/wandb/run-20210909_155543-w80glq6s/files/train/plugins/profile/2021_09_09_15_55_47\n",
            "Dumped tool data for xplane.pb to /content/wandb/run-20210909_155543-w80glq6s/files/train/plugins/profile/2021_09_09_15_55_47/8efc9eaf819e.xplane.pb\n",
            "Dumped tool data for overview_page.pb to /content/wandb/run-20210909_155543-w80glq6s/files/train/plugins/profile/2021_09_09_15_55_47/8efc9eaf819e.overview_page.pb\n",
            "Dumped tool data for input_pipeline.pb to /content/wandb/run-20210909_155543-w80glq6s/files/train/plugins/profile/2021_09_09_15_55_47/8efc9eaf819e.input_pipeline.pb\n",
            "Dumped tool data for tensorflow_stats.pb to /content/wandb/run-20210909_155543-w80glq6s/files/train/plugins/profile/2021_09_09_15_55_47/8efc9eaf819e.tensorflow_stats.pb\n",
            "Dumped tool data for kernel_stats.pb to /content/wandb/run-20210909_155543-w80glq6s/files/train/plugins/profile/2021_09_09_15_55_47/8efc9eaf819e.kernel_stats.pb\n",
            "\n",
            "   4/1875 [..............................] - ETA: 33s - loss: 2.2656 - accuracy: 0.1328  WARNING:tensorflow:Callback method `on_train_batch_end` is slow compared to the batch time (batch time: 0.0041s vs `on_train_batch_end` time: 0.0070s). Check your callbacks.\n",
            "1875/1875 [==============================] - 7s 3ms/step - loss: 0.5237 - accuracy: 0.8115 - val_loss: 0.4194 - val_accuracy: 0.8488\n",
            "Epoch 2/5\n",
            "1875/1875 [==============================] - 6s 3ms/step - loss: 0.3969 - accuracy: 0.8561 - val_loss: 0.3856 - val_accuracy: 0.8616\n",
            "Epoch 3/5\n",
            "1875/1875 [==============================] - 7s 4ms/step - loss: 0.3644 - accuracy: 0.8676 - val_loss: 0.3766 - val_accuracy: 0.8620\n",
            "Epoch 4/5\n",
            "1875/1875 [==============================] - 7s 4ms/step - loss: 0.3423 - accuracy: 0.8739 - val_loss: 0.3771 - val_accuracy: 0.8638\n",
            "Epoch 5/5\n",
            "1875/1875 [==============================] - 7s 4ms/step - loss: 0.3273 - accuracy: 0.8793 - val_loss: 0.3532 - val_accuracy: 0.8757\n",
            "\n",
            "\u001b[34m\u001b[1mwandb\u001b[0m: Waiting for W&B process to finish, PID 10847\n",
            "\u001b[34m\u001b[1mwandb\u001b[0m: Program ended successfully.\n",
            "\u001b[34m\u001b[1mwandb\u001b[0m:                                                                                \n",
            "\u001b[34m\u001b[1mwandb\u001b[0m: Find user logs for this run at: /content/wandb/run-20210909_155543-w80glq6s/logs/debug.log\n",
            "\u001b[34m\u001b[1mwandb\u001b[0m: Find internal logs for this run at: /content/wandb/run-20210909_155543-w80glq6s/logs/debug-internal.log\n",
            "\u001b[34m\u001b[1mwandb\u001b[0m: Run summary:\n",
            "\u001b[34m\u001b[1mwandb\u001b[0m:           epoch 4\n",
            "\u001b[34m\u001b[1mwandb\u001b[0m:            loss 0.32726\n",
            "\u001b[34m\u001b[1mwandb\u001b[0m:        accuracy 0.8793\n",
            "\u001b[34m\u001b[1mwandb\u001b[0m:        val_loss 0.35324\n",
            "\u001b[34m\u001b[1mwandb\u001b[0m:    val_accuracy 0.8757\n",
            "\u001b[34m\u001b[1mwandb\u001b[0m:        _runtime 38\n",
            "\u001b[34m\u001b[1mwandb\u001b[0m:      _timestamp 1631202981\n",
            "\u001b[34m\u001b[1mwandb\u001b[0m:           _step 4\n",
            "\u001b[34m\u001b[1mwandb\u001b[0m:   best_val_loss 0.35324\n",
            "\u001b[34m\u001b[1mwandb\u001b[0m:      best_epoch 4\n",
            "\u001b[34m\u001b[1mwandb\u001b[0m: Run history:\n",
            "\u001b[34m\u001b[1mwandb\u001b[0m:          epoch ▁▃▅▆█\n",
            "\u001b[34m\u001b[1mwandb\u001b[0m:           loss █▃▂▂▁\n",
            "\u001b[34m\u001b[1mwandb\u001b[0m:       accuracy ▁▆▇▇█\n",
            "\u001b[34m\u001b[1mwandb\u001b[0m:       val_loss █▄▃▄▁\n",
            "\u001b[34m\u001b[1mwandb\u001b[0m:   val_accuracy ▁▄▄▅█\n",
            "\u001b[34m\u001b[1mwandb\u001b[0m:       _runtime ▁▃▅▆█\n",
            "\u001b[34m\u001b[1mwandb\u001b[0m:     _timestamp ▁▃▅▆█\n",
            "\u001b[34m\u001b[1mwandb\u001b[0m:          _step ▁▃▅▆█\n",
            "\u001b[34m\u001b[1mwandb\u001b[0m: \n",
            "\u001b[34m\u001b[1mwandb\u001b[0m: Synced 5 W&B file(s), 181 media file(s), 0 artifact file(s) and 10 other file(s)\n",
            "\u001b[34m\u001b[1mwandb\u001b[0m: \n",
            "\u001b[34m\u001b[1mwandb\u001b[0m: Synced \u001b[33mroyal-sweep-20\u001b[0m: \u001b[34mhttps://wandb.ai/knu/sweep-practice/runs/w80glq6s\u001b[0m\n",
            "2021-09-09 15:56:32,272 - wandb.wandb_agent - INFO - Cleaning up finished run: w80glq6s\n",
            "2021-09-09 15:56:32,633 - wandb.wandb_agent - INFO - Agent received command: run\n",
            "2021-09-09 15:56:32,634 - wandb.wandb_agent - INFO - Agent starting run with config:\n",
            "\tdropout_rate: 0.19763786798674937\n",
            "\tlayer1_activation: sigmoid\n",
            "\tlayer1_size: 164\n",
            "\tlayers: 62\n",
            "\tlearning_rate: 0.04841232577124586\n",
            "\toptimizer: Adam\n",
            "\toptimizers: rmsprop\n",
            "2021-09-09 15:56:32,635 - wandb.wandb_agent - INFO - About to run command: /usr/bin/env python train.py --dropout_rate=0.19763786798674937 --layer1_activation=sigmoid --layer1_size=164 --layers=62 --learning_rate=0.04841232577124586 --optimizer=Adam --optimizers=rmsprop\n",
            "\u001b[34m\u001b[1mwandb\u001b[0m: Currently logged in as: \u001b[33mknu\u001b[0m (use `wandb login --relogin` to force relogin)\n",
            "\u001b[34m\u001b[1mwandb\u001b[0m: \u001b[33mWARNING\u001b[0m Ignored wandb.init() arg project when running a sweep\n",
            "2021-09-09 15:56:37,647 - wandb.wandb_agent - INFO - Running runs: ['dg9kjbv6']\n",
            "\u001b[34m\u001b[1mwandb\u001b[0m: Tracking run with wandb version 0.12.1\n",
            "\u001b[34m\u001b[1mwandb\u001b[0m: Syncing run \u001b[33mjumping-sweep-21\u001b[0m\n",
            "\u001b[34m\u001b[1mwandb\u001b[0m: ⭐️ View project at \u001b[34m\u001b[4mhttps://wandb.ai/knu/sweep-practice\u001b[0m\n",
            "\u001b[34m\u001b[1mwandb\u001b[0m: 🧹 View sweep at \u001b[34m\u001b[4mhttps://wandb.ai/knu/sweep-practice/sweeps/2lhlz1gt\u001b[0m\n",
            "\u001b[34m\u001b[1mwandb\u001b[0m: 🚀 View run at \u001b[34m\u001b[4mhttps://wandb.ai/knu/sweep-practice/runs/dg9kjbv6\u001b[0m\n",
            "\u001b[34m\u001b[1mwandb\u001b[0m: Run data is saved locally in /content/wandb/run-20210909_155635-dg9kjbv6\n",
            "\u001b[34m\u001b[1mwandb\u001b[0m: Run `wandb offline` to turn off syncing.\n",
            "\n",
            "\u001b[34m\u001b[1mwandb\u001b[0m: \u001b[33mWARNING\u001b[0m Ignored wandb.init() arg project when running a sweep\n",
            "2021-09-09 15:56:38.671547: E tensorflow/stream_executor/cuda/cuda_driver.cc:271] failed call to cuInit: CUDA_ERROR_NO_DEVICE: no CUDA-capable device is detected\n",
            "2021-09-09 15:56:38.671615: I tensorflow/stream_executor/cuda/cuda_diagnostics.cc:156] kernel driver does not appear to be running on this host (8efc9eaf819e): /proc/driver/nvidia/version does not exist\n",
            "2021-09-09 15:56:38.672019: I tensorflow/core/platform/cpu_feature_guard.cc:142] This TensorFlow binary is optimized with oneAPI Deep Neural Network Library (oneDNN) to use the following CPU instructions in performance-critical operations:  AVX512F\n",
            "To enable them in other operations, rebuild TensorFlow with the appropriate compiler flags.\n",
            "2021-09-09 15:56:38.710020: I tensorflow/core/profiler/lib/profiler_session.cc:131] Profiler session initializing.\n",
            "2021-09-09 15:56:38.710133: I tensorflow/core/profiler/lib/profiler_session.cc:146] Profiler session started.\n",
            "2021-09-09 15:56:38.722684: I tensorflow/core/profiler/lib/profiler_session.cc:164] Profiler session tear down.\n",
            "2021-09-09 15:56:39.044120: I tensorflow/compiler/mlir/mlir_graph_optimization_pass.cc:185] None of the MLIR Optimization Passes are enabled (registered 2)\n",
            "Epoch 1/5\n",
            "   1/1875 [..............................] - ETA: 16:14 - loss: 2.5972 - accuracy: 0.06252021-09-09 15:56:39.591336: I tensorflow/core/profiler/lib/profiler_session.cc:131] Profiler session initializing.\n",
            "2021-09-09 15:56:39.591401: I tensorflow/core/profiler/lib/profiler_session.cc:146] Profiler session started.\n",
            "2021-09-09 15:56:39.598166: I tensorflow/core/profiler/lib/profiler_session.cc:66] Profiler session collecting data.\n",
            "2021-09-09 15:56:39.599871: I tensorflow/core/profiler/lib/profiler_session.cc:164] Profiler session tear down.\n",
            "2021-09-09 15:56:39.601941: I tensorflow/core/profiler/rpc/client/save_profile.cc:136] Creating directory: /content/wandb/run-20210909_155635-dg9kjbv6/files/train/plugins/profile/2021_09_09_15_56_39\n",
            "\n",
            "2021-09-09 15:56:39.602953: I tensorflow/core/profiler/rpc/client/save_profile.cc:142] Dumped gzipped tool data for trace.json.gz to /content/wandb/run-20210909_155635-dg9kjbv6/files/train/plugins/profile/2021_09_09_15_56_39/8efc9eaf819e.trace.json.gz\n",
            "2021-09-09 15:56:39.605821: I tensorflow/core/profiler/rpc/client/save_profile.cc:136] Creating directory: /content/wandb/run-20210909_155635-dg9kjbv6/files/train/plugins/profile/2021_09_09_15_56_39\n",
            "\n",
            "2021-09-09 15:56:39.606030: I tensorflow/core/profiler/rpc/client/save_profile.cc:142] Dumped gzipped tool data for memory_profile.json.gz to /content/wandb/run-20210909_155635-dg9kjbv6/files/train/plugins/profile/2021_09_09_15_56_39/8efc9eaf819e.memory_profile.json.gz\n",
            "2021-09-09 15:56:39.606397: I tensorflow/core/profiler/rpc/client/capture_profile.cc:251] Creating directory: /content/wandb/run-20210909_155635-dg9kjbv6/files/train/plugins/profile/2021_09_09_15_56_39\n",
            "Dumped tool data for xplane.pb to /content/wandb/run-20210909_155635-dg9kjbv6/files/train/plugins/profile/2021_09_09_15_56_39/8efc9eaf819e.xplane.pb\n",
            "Dumped tool data for overview_page.pb to /content/wandb/run-20210909_155635-dg9kjbv6/files/train/plugins/profile/2021_09_09_15_56_39/8efc9eaf819e.overview_page.pb\n",
            "Dumped tool data for input_pipeline.pb to /content/wandb/run-20210909_155635-dg9kjbv6/files/train/plugins/profile/2021_09_09_15_56_39/8efc9eaf819e.input_pipeline.pb\n",
            "Dumped tool data for tensorflow_stats.pb to /content/wandb/run-20210909_155635-dg9kjbv6/files/train/plugins/profile/2021_09_09_15_56_39/8efc9eaf819e.tensorflow_stats.pb\n",
            "Dumped tool data for kernel_stats.pb to /content/wandb/run-20210909_155635-dg9kjbv6/files/train/plugins/profile/2021_09_09_15_56_39/8efc9eaf819e.kernel_stats.pb\n",
            "\n",
            "1875/1875 [==============================] - 6s 3ms/step - loss: 0.5681 - accuracy: 0.8018 - val_loss: 0.4390 - val_accuracy: 0.8415\n",
            "Epoch 2/5\n",
            "1875/1875 [==============================] - 6s 3ms/step - loss: 0.4162 - accuracy: 0.8489 - val_loss: 0.4086 - val_accuracy: 0.8550\n",
            "Epoch 3/5\n",
            "1875/1875 [==============================] - 6s 3ms/step - loss: 0.3794 - accuracy: 0.8622 - val_loss: 0.3898 - val_accuracy: 0.8627\n",
            "Epoch 4/5\n",
            "1875/1875 [==============================] - 7s 4ms/step - loss: 0.3546 - accuracy: 0.8713 - val_loss: 0.3747 - val_accuracy: 0.8661\n",
            "Epoch 5/5\n",
            "1875/1875 [==============================] - 6s 3ms/step - loss: 0.3384 - accuracy: 0.8755 - val_loss: 0.3631 - val_accuracy: 0.8685\n",
            "\n",
            "\u001b[34m\u001b[1mwandb\u001b[0m: Waiting for W&B process to finish, PID 11161\n",
            "\u001b[34m\u001b[1mwandb\u001b[0m: Program ended successfully.\n",
            "\u001b[34m\u001b[1mwandb\u001b[0m:                                                                                \n",
            "\u001b[34m\u001b[1mwandb\u001b[0m: Find user logs for this run at: /content/wandb/run-20210909_155635-dg9kjbv6/logs/debug.log\n",
            "\u001b[34m\u001b[1mwandb\u001b[0m: Find internal logs for this run at: /content/wandb/run-20210909_155635-dg9kjbv6/logs/debug-internal.log\n",
            "\u001b[34m\u001b[1mwandb\u001b[0m: Run summary:\n",
            "\u001b[34m\u001b[1mwandb\u001b[0m:           epoch 4\n",
            "\u001b[34m\u001b[1mwandb\u001b[0m:            loss 0.33843\n",
            "\u001b[34m\u001b[1mwandb\u001b[0m:        accuracy 0.87545\n",
            "\u001b[34m\u001b[1mwandb\u001b[0m:        val_loss 0.36314\n",
            "\u001b[34m\u001b[1mwandb\u001b[0m:    val_accuracy 0.8685\n",
            "\u001b[34m\u001b[1mwandb\u001b[0m:        _runtime 36\n",
            "\u001b[34m\u001b[1mwandb\u001b[0m:      _timestamp 1631203031\n",
            "\u001b[34m\u001b[1mwandb\u001b[0m:           _step 4\n",
            "\u001b[34m\u001b[1mwandb\u001b[0m:   best_val_loss 0.36314\n",
            "\u001b[34m\u001b[1mwandb\u001b[0m:      best_epoch 4\n",
            "\u001b[34m\u001b[1mwandb\u001b[0m: Run history:\n",
            "\u001b[34m\u001b[1mwandb\u001b[0m:          epoch ▁▃▅▆█\n",
            "\u001b[34m\u001b[1mwandb\u001b[0m:           loss █▃▂▁▁\n",
            "\u001b[34m\u001b[1mwandb\u001b[0m:       accuracy ▁▅▇██\n",
            "\u001b[34m\u001b[1mwandb\u001b[0m:       val_loss █▅▃▂▁\n",
            "\u001b[34m\u001b[1mwandb\u001b[0m:   val_accuracy ▁▅▆▇█\n",
            "\u001b[34m\u001b[1mwandb\u001b[0m:       _runtime ▁▃▄▆█\n",
            "\u001b[34m\u001b[1mwandb\u001b[0m:     _timestamp ▁▃▄▆█\n",
            "\u001b[34m\u001b[1mwandb\u001b[0m:          _step ▁▃▅▆█\n",
            "\u001b[34m\u001b[1mwandb\u001b[0m: \n",
            "\u001b[34m\u001b[1mwandb\u001b[0m: Synced 5 W&B file(s), 181 media file(s), 0 artifact file(s) and 10 other file(s)\n",
            "\u001b[34m\u001b[1mwandb\u001b[0m: \n",
            "\u001b[34m\u001b[1mwandb\u001b[0m: Synced \u001b[33mjumping-sweep-21\u001b[0m: \u001b[34mhttps://wandb.ai/knu/sweep-practice/runs/dg9kjbv6\u001b[0m\n",
            "2021-09-09 15:57:29,476 - wandb.wandb_agent - INFO - Cleaning up finished run: dg9kjbv6\n",
            "2021-09-09 15:57:29,899 - wandb.wandb_agent - INFO - Agent received command: run\n",
            "2021-09-09 15:57:29,899 - wandb.wandb_agent - INFO - Agent starting run with config:\n",
            "\tdropout_rate: 0.24578608391707923\n",
            "\tlayer1_activation: sigmoid\n",
            "\tlayer1_size: 232\n",
            "\tlayers: 16\n",
            "\tlearning_rate: 0.01011512501684738\n",
            "\toptimizer: Adam\n",
            "\toptimizers: rmsprop\n",
            "2021-09-09 15:57:29,901 - wandb.wandb_agent - INFO - About to run command: /usr/bin/env python train.py --dropout_rate=0.24578608391707923 --layer1_activation=sigmoid --layer1_size=232 --layers=16 --learning_rate=0.01011512501684738 --optimizer=Adam --optimizers=rmsprop\n",
            "\u001b[34m\u001b[1mwandb\u001b[0m: Currently logged in as: \u001b[33mknu\u001b[0m (use `wandb login --relogin` to force relogin)\n",
            "\u001b[34m\u001b[1mwandb\u001b[0m: \u001b[33mWARNING\u001b[0m Ignored wandb.init() arg project when running a sweep\n",
            "2021-09-09 15:57:34,912 - wandb.wandb_agent - INFO - Running runs: ['yotjb1d2']\n",
            "\u001b[34m\u001b[1mwandb\u001b[0m: Tracking run with wandb version 0.12.1\n",
            "\u001b[34m\u001b[1mwandb\u001b[0m: Syncing run \u001b[33mplayful-sweep-22\u001b[0m\n",
            "\u001b[34m\u001b[1mwandb\u001b[0m: ⭐️ View project at \u001b[34m\u001b[4mhttps://wandb.ai/knu/sweep-practice\u001b[0m\n",
            "\u001b[34m\u001b[1mwandb\u001b[0m: 🧹 View sweep at \u001b[34m\u001b[4mhttps://wandb.ai/knu/sweep-practice/sweeps/2lhlz1gt\u001b[0m\n",
            "\u001b[34m\u001b[1mwandb\u001b[0m: 🚀 View run at \u001b[34m\u001b[4mhttps://wandb.ai/knu/sweep-practice/runs/yotjb1d2\u001b[0m\n",
            "\u001b[34m\u001b[1mwandb\u001b[0m: Run data is saved locally in /content/wandb/run-20210909_155732-yotjb1d2\n",
            "\u001b[34m\u001b[1mwandb\u001b[0m: Run `wandb offline` to turn off syncing.\n",
            "\n",
            "\u001b[34m\u001b[1mwandb\u001b[0m: \u001b[33mWARNING\u001b[0m Ignored wandb.init() arg project when running a sweep\n",
            "2021-09-09 15:57:35.895503: E tensorflow/stream_executor/cuda/cuda_driver.cc:271] failed call to cuInit: CUDA_ERROR_NO_DEVICE: no CUDA-capable device is detected\n",
            "2021-09-09 15:57:35.895554: I tensorflow/stream_executor/cuda/cuda_diagnostics.cc:156] kernel driver does not appear to be running on this host (8efc9eaf819e): /proc/driver/nvidia/version does not exist\n",
            "2021-09-09 15:57:35.895977: I tensorflow/core/platform/cpu_feature_guard.cc:142] This TensorFlow binary is optimized with oneAPI Deep Neural Network Library (oneDNN) to use the following CPU instructions in performance-critical operations:  AVX512F\n",
            "To enable them in other operations, rebuild TensorFlow with the appropriate compiler flags.\n",
            "2021-09-09 15:57:35.946307: I tensorflow/core/profiler/lib/profiler_session.cc:131] Profiler session initializing.\n",
            "2021-09-09 15:57:35.946365: I tensorflow/core/profiler/lib/profiler_session.cc:146] Profiler session started.\n",
            "2021-09-09 15:57:35.956386: I tensorflow/core/profiler/lib/profiler_session.cc:164] Profiler session tear down.\n",
            "2021-09-09 15:57:36.274214: I tensorflow/compiler/mlir/mlir_graph_optimization_pass.cc:185] None of the MLIR Optimization Passes are enabled (registered 2)\n",
            "Epoch 1/5\n",
            "   1/1875 [..............................] - ETA: 16:28 - loss: 2.5161 - accuracy: 0.09382021-09-09 15:57:36.831510: I tensorflow/core/profiler/lib/profiler_session.cc:131] Profiler session initializing.\n",
            "2021-09-09 15:57:36.831566: I tensorflow/core/profiler/lib/profiler_session.cc:146] Profiler session started.\n",
            "2021-09-09 15:57:36.837276: I tensorflow/core/profiler/lib/profiler_session.cc:66] Profiler session collecting data.\n",
            "2021-09-09 15:57:36.838300: I tensorflow/core/profiler/lib/profiler_session.cc:164] Profiler session tear down.\n",
            "2021-09-09 15:57:36.840212: I tensorflow/core/profiler/rpc/client/save_profile.cc:136] Creating directory: /content/wandb/run-20210909_155732-yotjb1d2/files/train/plugins/profile/2021_09_09_15_57_36\n",
            "\n",
            "2021-09-09 15:57:36.841132: I tensorflow/core/profiler/rpc/client/save_profile.cc:142] Dumped gzipped tool data for trace.json.gz to /content/wandb/run-20210909_155732-yotjb1d2/files/train/plugins/profile/2021_09_09_15_57_36/8efc9eaf819e.trace.json.gz\n",
            "2021-09-09 15:57:36.843214: I tensorflow/core/profiler/rpc/client/save_profile.cc:136] Creating directory: /content/wandb/run-20210909_155732-yotjb1d2/files/train/plugins/profile/2021_09_09_15_57_36\n",
            "\n",
            "2021-09-09 15:57:36.843410: I tensorflow/core/profiler/rpc/client/save_profile.cc:142] Dumped gzipped tool data for memory_profile.json.gz to /content/wandb/run-20210909_155732-yotjb1d2/files/train/plugins/profile/2021_09_09_15_57_36/8efc9eaf819e.memory_profile.json.gz\n",
            "2021-09-09 15:57:36.843807: I tensorflow/core/profiler/rpc/client/capture_profile.cc:251] Creating directory: /content/wandb/run-20210909_155732-yotjb1d2/files/train/plugins/profile/2021_09_09_15_57_36\n",
            "Dumped tool data for xplane.pb to /content/wandb/run-20210909_155732-yotjb1d2/files/train/plugins/profile/2021_09_09_15_57_36/8efc9eaf819e.xplane.pb\n",
            "Dumped tool data for overview_page.pb to /content/wandb/run-20210909_155732-yotjb1d2/files/train/plugins/profile/2021_09_09_15_57_36/8efc9eaf819e.overview_page.pb\n",
            "Dumped tool data for input_pipeline.pb to /content/wandb/run-20210909_155732-yotjb1d2/files/train/plugins/profile/2021_09_09_15_57_36/8efc9eaf819e.input_pipeline.pb\n",
            "Dumped tool data for tensorflow_stats.pb to /content/wandb/run-20210909_155732-yotjb1d2/files/train/plugins/profile/2021_09_09_15_57_36/8efc9eaf819e.tensorflow_stats.pb\n",
            "Dumped tool data for kernel_stats.pb to /content/wandb/run-20210909_155732-yotjb1d2/files/train/plugins/profile/2021_09_09_15_57_36/8efc9eaf819e.kernel_stats.pb\n",
            "\n",
            "1875/1875 [==============================] - 7s 4ms/step - loss: 0.5545 - accuracy: 0.8041 - val_loss: 0.4636 - val_accuracy: 0.8335\n",
            "Epoch 2/5\n",
            "1875/1875 [==============================] - 7s 4ms/step - loss: 0.4133 - accuracy: 0.8505 - val_loss: 0.4227 - val_accuracy: 0.8461\n",
            "Epoch 3/5\n",
            "1875/1875 [==============================] - 7s 4ms/step - loss: 0.3755 - accuracy: 0.8635 - val_loss: 0.3914 - val_accuracy: 0.8575\n",
            "Epoch 4/5\n",
            "1875/1875 [==============================] - 7s 4ms/step - loss: 0.3510 - accuracy: 0.8716 - val_loss: 0.3611 - val_accuracy: 0.8705\n",
            "Epoch 5/5\n",
            "1875/1875 [==============================] - 8s 4ms/step - loss: 0.3334 - accuracy: 0.8781 - val_loss: 0.3582 - val_accuracy: 0.8711\n",
            "\n",
            "\u001b[34m\u001b[1mwandb\u001b[0m: Waiting for W&B process to finish, PID 11471\n",
            "\u001b[34m\u001b[1mwandb\u001b[0m: Program ended successfully.\n",
            "\u001b[34m\u001b[1mwandb\u001b[0m:                                                                                \n",
            "\u001b[34m\u001b[1mwandb\u001b[0m: Find user logs for this run at: /content/wandb/run-20210909_155732-yotjb1d2/logs/debug.log\n",
            "\u001b[34m\u001b[1mwandb\u001b[0m: Find internal logs for this run at: /content/wandb/run-20210909_155732-yotjb1d2/logs/debug-internal.log\n",
            "\u001b[34m\u001b[1mwandb\u001b[0m: Run summary:\n",
            "\u001b[34m\u001b[1mwandb\u001b[0m:           epoch 4\n",
            "\u001b[34m\u001b[1mwandb\u001b[0m:            loss 0.33336\n",
            "\u001b[34m\u001b[1mwandb\u001b[0m:        accuracy 0.87815\n",
            "\u001b[34m\u001b[1mwandb\u001b[0m:        val_loss 0.35817\n",
            "\u001b[34m\u001b[1mwandb\u001b[0m:    val_accuracy 0.8711\n",
            "\u001b[34m\u001b[1mwandb\u001b[0m:        _runtime 41\n",
            "\u001b[34m\u001b[1mwandb\u001b[0m:      _timestamp 1631203093\n",
            "\u001b[34m\u001b[1mwandb\u001b[0m:           _step 4\n",
            "\u001b[34m\u001b[1mwandb\u001b[0m:   best_val_loss 0.35817\n",
            "\u001b[34m\u001b[1mwandb\u001b[0m:      best_epoch 4\n",
            "\u001b[34m\u001b[1mwandb\u001b[0m: Run history:\n",
            "\u001b[34m\u001b[1mwandb\u001b[0m:          epoch ▁▃▅▆█\n",
            "\u001b[34m\u001b[1mwandb\u001b[0m:           loss █▄▂▂▁\n",
            "\u001b[34m\u001b[1mwandb\u001b[0m:       accuracy ▁▅▇▇█\n",
            "\u001b[34m\u001b[1mwandb\u001b[0m:       val_loss █▅▃▁▁\n",
            "\u001b[34m\u001b[1mwandb\u001b[0m:   val_accuracy ▁▃▅██\n",
            "\u001b[34m\u001b[1mwandb\u001b[0m:       _runtime ▁▃▅▆█\n",
            "\u001b[34m\u001b[1mwandb\u001b[0m:     _timestamp ▁▃▅▆█\n",
            "\u001b[34m\u001b[1mwandb\u001b[0m:          _step ▁▃▅▆█\n",
            "\u001b[34m\u001b[1mwandb\u001b[0m: \n",
            "\u001b[34m\u001b[1mwandb\u001b[0m: Synced 5 W&B file(s), 181 media file(s), 0 artifact file(s) and 10 other file(s)\n",
            "\u001b[34m\u001b[1mwandb\u001b[0m: \n",
            "\u001b[34m\u001b[1mwandb\u001b[0m: Synced \u001b[33mplayful-sweep-22\u001b[0m: \u001b[34mhttps://wandb.ai/knu/sweep-practice/runs/yotjb1d2\u001b[0m\n",
            "2021-09-09 15:58:26,559 - wandb.wandb_agent - INFO - Cleaning up finished run: yotjb1d2\n",
            "2021-09-09 15:58:26,955 - wandb.wandb_agent - INFO - Agent received command: run\n",
            "2021-09-09 15:58:26,956 - wandb.wandb_agent - INFO - Agent starting run with config:\n",
            "\tdropout_rate: 0.18530371618438546\n",
            "\tlayer1_activation: sigmoid\n",
            "\tlayer1_size: 165\n",
            "\tlayers: 176\n",
            "\tlearning_rate: 0.022356185863059635\n",
            "\toptimizer: Adam\n",
            "\toptimizers: rmsprop\n",
            "2021-09-09 15:58:26,958 - wandb.wandb_agent - INFO - About to run command: /usr/bin/env python train.py --dropout_rate=0.18530371618438546 --layer1_activation=sigmoid --layer1_size=165 --layers=176 --learning_rate=0.022356185863059635 --optimizer=Adam --optimizers=rmsprop\n",
            "\u001b[34m\u001b[1mwandb\u001b[0m: Currently logged in as: \u001b[33mknu\u001b[0m (use `wandb login --relogin` to force relogin)\n",
            "\u001b[34m\u001b[1mwandb\u001b[0m: \u001b[33mWARNING\u001b[0m Ignored wandb.init() arg project when running a sweep\n",
            "2021-09-09 15:58:31,968 - wandb.wandb_agent - INFO - Running runs: ['5u5xto5s']\n",
            "\u001b[34m\u001b[1mwandb\u001b[0m: Tracking run with wandb version 0.12.1\n",
            "\u001b[34m\u001b[1mwandb\u001b[0m: Syncing run \u001b[33mclean-sweep-23\u001b[0m\n",
            "\u001b[34m\u001b[1mwandb\u001b[0m: ⭐️ View project at \u001b[34m\u001b[4mhttps://wandb.ai/knu/sweep-practice\u001b[0m\n",
            "\u001b[34m\u001b[1mwandb\u001b[0m: 🧹 View sweep at \u001b[34m\u001b[4mhttps://wandb.ai/knu/sweep-practice/sweeps/2lhlz1gt\u001b[0m\n",
            "\u001b[34m\u001b[1mwandb\u001b[0m: 🚀 View run at \u001b[34m\u001b[4mhttps://wandb.ai/knu/sweep-practice/runs/5u5xto5s\u001b[0m\n",
            "\u001b[34m\u001b[1mwandb\u001b[0m: Run data is saved locally in /content/wandb/run-20210909_155829-5u5xto5s\n",
            "\u001b[34m\u001b[1mwandb\u001b[0m: Run `wandb offline` to turn off syncing.\n",
            "\n",
            "\u001b[34m\u001b[1mwandb\u001b[0m: \u001b[33mWARNING\u001b[0m Ignored wandb.init() arg project when running a sweep\n",
            "2021-09-09 15:58:33.130841: E tensorflow/stream_executor/cuda/cuda_driver.cc:271] failed call to cuInit: CUDA_ERROR_NO_DEVICE: no CUDA-capable device is detected\n",
            "2021-09-09 15:58:33.130900: I tensorflow/stream_executor/cuda/cuda_diagnostics.cc:156] kernel driver does not appear to be running on this host (8efc9eaf819e): /proc/driver/nvidia/version does not exist\n",
            "2021-09-09 15:58:33.131329: I tensorflow/core/platform/cpu_feature_guard.cc:142] This TensorFlow binary is optimized with oneAPI Deep Neural Network Library (oneDNN) to use the following CPU instructions in performance-critical operations:  AVX512F\n",
            "To enable them in other operations, rebuild TensorFlow with the appropriate compiler flags.\n",
            "2021-09-09 15:58:33.172614: I tensorflow/core/profiler/lib/profiler_session.cc:131] Profiler session initializing.\n",
            "2021-09-09 15:58:33.172680: I tensorflow/core/profiler/lib/profiler_session.cc:146] Profiler session started.\n",
            "2021-09-09 15:58:33.183077: I tensorflow/core/profiler/lib/profiler_session.cc:164] Profiler session tear down.\n",
            "2021-09-09 15:58:33.508479: I tensorflow/compiler/mlir/mlir_graph_optimization_pass.cc:185] None of the MLIR Optimization Passes are enabled (registered 2)\n",
            "Epoch 1/5\n",
            "   1/1875 [..............................] - ETA: 17:09 - loss: 2.4910 - accuracy: 0.12502021-09-09 15:58:34.086869: I tensorflow/core/profiler/lib/profiler_session.cc:131] Profiler session initializing.\n",
            "2021-09-09 15:58:34.086925: I tensorflow/core/profiler/lib/profiler_session.cc:146] Profiler session started.\n",
            "2021-09-09 15:58:34.092556: I tensorflow/core/profiler/lib/profiler_session.cc:66] Profiler session collecting data.\n",
            "2021-09-09 15:58:34.093650: I tensorflow/core/profiler/lib/profiler_session.cc:164] Profiler session tear down.\n",
            "2021-09-09 15:58:34.095766: I tensorflow/core/profiler/rpc/client/save_profile.cc:136] Creating directory: /content/wandb/run-20210909_155829-5u5xto5s/files/train/plugins/profile/2021_09_09_15_58_34\n",
            "\n",
            "2021-09-09 15:58:34.096773: I tensorflow/core/profiler/rpc/client/save_profile.cc:142] Dumped gzipped tool data for trace.json.gz to /content/wandb/run-20210909_155829-5u5xto5s/files/train/plugins/profile/2021_09_09_15_58_34/8efc9eaf819e.trace.json.gz\n",
            "2021-09-09 15:58:34.099705: I tensorflow/core/profiler/rpc/client/save_profile.cc:136] Creating directory: /content/wandb/run-20210909_155829-5u5xto5s/files/train/plugins/profile/2021_09_09_15_58_34\n",
            "\n",
            "2021-09-09 15:58:34.099954: I tensorflow/core/profiler/rpc/client/save_profile.cc:142] Dumped gzipped tool data for memory_profile.json.gz to /content/wandb/run-20210909_155829-5u5xto5s/files/train/plugins/profile/2021_09_09_15_58_34/8efc9eaf819e.memory_profile.json.gz\n",
            "2021-09-09 15:58:34.100353: I tensorflow/core/profiler/rpc/client/capture_profile.cc:251] Creating directory: /content/wandb/run-20210909_155829-5u5xto5s/files/train/plugins/profile/2021_09_09_15_58_34\n",
            "Dumped tool data for xplane.pb to /content/wandb/run-20210909_155829-5u5xto5s/files/train/plugins/profile/2021_09_09_15_58_34/8efc9eaf819e.xplane.pb\n",
            "Dumped tool data for overview_page.pb to /content/wandb/run-20210909_155829-5u5xto5s/files/train/plugins/profile/2021_09_09_15_58_34/8efc9eaf819e.overview_page.pb\n",
            "Dumped tool data for input_pipeline.pb to /content/wandb/run-20210909_155829-5u5xto5s/files/train/plugins/profile/2021_09_09_15_58_34/8efc9eaf819e.input_pipeline.pb\n",
            "Dumped tool data for tensorflow_stats.pb to /content/wandb/run-20210909_155829-5u5xto5s/files/train/plugins/profile/2021_09_09_15_58_34/8efc9eaf819e.tensorflow_stats.pb\n",
            "Dumped tool data for kernel_stats.pb to /content/wandb/run-20210909_155829-5u5xto5s/files/train/plugins/profile/2021_09_09_15_58_34/8efc9eaf819e.kernel_stats.pb\n",
            "\n",
            "WARNING:tensorflow:Callback method `on_train_batch_end` is slow compared to the batch time (batch time: 0.0034s vs `on_train_batch_end` time: 0.0041s). Check your callbacks.\n",
            "1875/1875 [==============================] - 7s 3ms/step - loss: 0.5671 - accuracy: 0.8026 - val_loss: 0.4477 - val_accuracy: 0.8405\n",
            "Epoch 2/5\n",
            "1875/1875 [==============================] - 6s 3ms/step - loss: 0.4143 - accuracy: 0.8512 - val_loss: 0.4157 - val_accuracy: 0.8474\n",
            "Epoch 3/5\n",
            "1875/1875 [==============================] - 7s 3ms/step - loss: 0.3771 - accuracy: 0.8637 - val_loss: 0.3767 - val_accuracy: 0.8674\n",
            "Epoch 4/5\n",
            "1875/1875 [==============================] - 7s 4ms/step - loss: 0.3510 - accuracy: 0.8728 - val_loss: 0.3762 - val_accuracy: 0.8645\n",
            "Epoch 5/5\n",
            "1875/1875 [==============================] - 7s 4ms/step - loss: 0.3346 - accuracy: 0.8772 - val_loss: 0.3615 - val_accuracy: 0.8722\n",
            "\n",
            "\u001b[34m\u001b[1mwandb\u001b[0m: Waiting for W&B process to finish, PID 11783\n",
            "\u001b[34m\u001b[1mwandb\u001b[0m: Program ended successfully.\n",
            "\u001b[34m\u001b[1mwandb\u001b[0m:                                                                                \n",
            "\u001b[34m\u001b[1mwandb\u001b[0m: Find user logs for this run at: /content/wandb/run-20210909_155829-5u5xto5s/logs/debug.log\n",
            "\u001b[34m\u001b[1mwandb\u001b[0m: Find internal logs for this run at: /content/wandb/run-20210909_155829-5u5xto5s/logs/debug-internal.log\n",
            "\u001b[34m\u001b[1mwandb\u001b[0m: Run summary:\n",
            "\u001b[34m\u001b[1mwandb\u001b[0m:           epoch 4\n",
            "\u001b[34m\u001b[1mwandb\u001b[0m:            loss 0.33462\n",
            "\u001b[34m\u001b[1mwandb\u001b[0m:        accuracy 0.87723\n",
            "\u001b[34m\u001b[1mwandb\u001b[0m:        val_loss 0.36154\n",
            "\u001b[34m\u001b[1mwandb\u001b[0m:    val_accuracy 0.8722\n",
            "\u001b[34m\u001b[1mwandb\u001b[0m:        _runtime 39\n",
            "\u001b[34m\u001b[1mwandb\u001b[0m:      _timestamp 1631203148\n",
            "\u001b[34m\u001b[1mwandb\u001b[0m:           _step 4\n",
            "\u001b[34m\u001b[1mwandb\u001b[0m:   best_val_loss 0.36154\n",
            "\u001b[34m\u001b[1mwandb\u001b[0m:      best_epoch 4\n",
            "\u001b[34m\u001b[1mwandb\u001b[0m: Run history:\n",
            "\u001b[34m\u001b[1mwandb\u001b[0m:          epoch ▁▃▅▆█\n",
            "\u001b[34m\u001b[1mwandb\u001b[0m:           loss █▃▂▁▁\n",
            "\u001b[34m\u001b[1mwandb\u001b[0m:       accuracy ▁▆▇██\n",
            "\u001b[34m\u001b[1mwandb\u001b[0m:       val_loss █▅▂▂▁\n",
            "\u001b[34m\u001b[1mwandb\u001b[0m:   val_accuracy ▁▃▇▆█\n",
            "\u001b[34m\u001b[1mwandb\u001b[0m:       _runtime ▁▃▄▆█\n",
            "\u001b[34m\u001b[1mwandb\u001b[0m:     _timestamp ▁▃▄▆█\n",
            "\u001b[34m\u001b[1mwandb\u001b[0m:          _step ▁▃▅▆█\n",
            "\u001b[34m\u001b[1mwandb\u001b[0m: \n",
            "\u001b[34m\u001b[1mwandb\u001b[0m: Synced 5 W&B file(s), 181 media file(s), 0 artifact file(s) and 10 other file(s)\n",
            "\u001b[34m\u001b[1mwandb\u001b[0m: \n",
            "\u001b[34m\u001b[1mwandb\u001b[0m: Synced \u001b[33mclean-sweep-23\u001b[0m: \u001b[34mhttps://wandb.ai/knu/sweep-practice/runs/5u5xto5s\u001b[0m\n",
            "2021-09-09 15:59:18,576 - wandb.wandb_agent - INFO - Cleaning up finished run: 5u5xto5s\n",
            "2021-09-09 15:59:18,958 - wandb.wandb_agent - INFO - Agent received command: run\n",
            "2021-09-09 15:59:18,958 - wandb.wandb_agent - INFO - Agent starting run with config:\n",
            "\tdropout_rate: 0.11045283546851602\n",
            "\tlayer1_activation: relu\n",
            "\tlayer1_size: 106\n",
            "\tlayers: 166\n",
            "\tlearning_rate: 0.14483026102552354\n",
            "\toptimizer: Adam\n",
            "\toptimizers: adam\n",
            "2021-09-09 15:59:18,960 - wandb.wandb_agent - INFO - About to run command: /usr/bin/env python train.py --dropout_rate=0.11045283546851602 --layer1_activation=relu --layer1_size=106 --layers=166 --learning_rate=0.14483026102552354 --optimizer=Adam --optimizers=adam\n",
            "\u001b[34m\u001b[1mwandb\u001b[0m: Currently logged in as: \u001b[33mknu\u001b[0m (use `wandb login --relogin` to force relogin)\n",
            "\u001b[34m\u001b[1mwandb\u001b[0m: \u001b[33mWARNING\u001b[0m Ignored wandb.init() arg project when running a sweep\n",
            "2021-09-09 15:59:23,970 - wandb.wandb_agent - INFO - Running runs: ['74ojbuxt']\n",
            "\u001b[34m\u001b[1mwandb\u001b[0m: Tracking run with wandb version 0.12.1\n",
            "\u001b[34m\u001b[1mwandb\u001b[0m: Syncing run \u001b[33mdistinctive-sweep-24\u001b[0m\n",
            "\u001b[34m\u001b[1mwandb\u001b[0m: ⭐️ View project at \u001b[34m\u001b[4mhttps://wandb.ai/knu/sweep-practice\u001b[0m\n",
            "\u001b[34m\u001b[1mwandb\u001b[0m: 🧹 View sweep at \u001b[34m\u001b[4mhttps://wandb.ai/knu/sweep-practice/sweeps/2lhlz1gt\u001b[0m\n",
            "\u001b[34m\u001b[1mwandb\u001b[0m: 🚀 View run at \u001b[34m\u001b[4mhttps://wandb.ai/knu/sweep-practice/runs/74ojbuxt\u001b[0m\n",
            "\u001b[34m\u001b[1mwandb\u001b[0m: Run data is saved locally in /content/wandb/run-20210909_155921-74ojbuxt\n",
            "\u001b[34m\u001b[1mwandb\u001b[0m: Run `wandb offline` to turn off syncing.\n",
            "\n",
            "\u001b[34m\u001b[1mwandb\u001b[0m: \u001b[33mWARNING\u001b[0m Ignored wandb.init() arg project when running a sweep\n",
            "2021-09-09 15:59:25.320541: E tensorflow/stream_executor/cuda/cuda_driver.cc:271] failed call to cuInit: CUDA_ERROR_NO_DEVICE: no CUDA-capable device is detected\n",
            "2021-09-09 15:59:25.320598: I tensorflow/stream_executor/cuda/cuda_diagnostics.cc:156] kernel driver does not appear to be running on this host (8efc9eaf819e): /proc/driver/nvidia/version does not exist\n",
            "2021-09-09 15:59:25.321034: I tensorflow/core/platform/cpu_feature_guard.cc:142] This TensorFlow binary is optimized with oneAPI Deep Neural Network Library (oneDNN) to use the following CPU instructions in performance-critical operations:  AVX512F\n",
            "To enable them in other operations, rebuild TensorFlow with the appropriate compiler flags.\n",
            "Traceback (most recent call last):\n",
            "  File \"train.py\", line 34, in <module>\n",
            "    opt=tf.keras.optimizer.Adam(learning_rate=config.learning_rate)\n",
            "AttributeError: module 'tensorflow.keras' has no attribute 'optimizer'\n",
            "\n",
            "\u001b[34m\u001b[1mwandb\u001b[0m: Waiting for W&B process to finish, PID 12096\n",
            "\u001b[34m\u001b[1mwandb\u001b[0m: Program failed with code 1.  Press ctrl-c to abort syncing.\n",
            "\u001b[34m\u001b[1mwandb\u001b[0m:                                                                                \n",
            "\u001b[34m\u001b[1mwandb\u001b[0m: Find user logs for this run at: /content/wandb/run-20210909_155921-74ojbuxt/logs/debug.log\n",
            "\u001b[34m\u001b[1mwandb\u001b[0m: Find internal logs for this run at: /content/wandb/run-20210909_155921-74ojbuxt/logs/debug-internal.log\n",
            "\u001b[34m\u001b[1mwandb\u001b[0m: Synced 5 W&B file(s), 0 media file(s), 0 artifact file(s) and 0 other file(s)\n",
            "\u001b[34m\u001b[1mwandb\u001b[0m: \n",
            "\u001b[34m\u001b[1mwandb\u001b[0m: Synced \u001b[33mdistinctive-sweep-24\u001b[0m: \u001b[34mhttps://wandb.ai/knu/sweep-practice/runs/74ojbuxt\u001b[0m\n",
            "2021-09-09 15:59:34,270 - wandb.wandb_agent - INFO - Cleaning up finished run: 74ojbuxt\n",
            "2021-09-09 15:59:34,654 - wandb.wandb_agent - INFO - Agent received command: run\n",
            "2021-09-09 15:59:34,654 - wandb.wandb_agent - INFO - Agent starting run with config:\n",
            "\tdropout_rate: 0.17557847156810147\n",
            "\tlayer1_activation: relu\n",
            "\tlayer1_size: 115\n",
            "\tlayers: 43\n",
            "\tlearning_rate: 0.1398381820158183\n",
            "\toptimizer: Adam\n",
            "\toptimizers: adam\n",
            "2021-09-09 15:59:34,656 - wandb.wandb_agent - INFO - About to run command: /usr/bin/env python train.py --dropout_rate=0.17557847156810147 --layer1_activation=relu --layer1_size=115 --layers=43 --learning_rate=0.1398381820158183 --optimizer=Adam --optimizers=adam\n",
            "\u001b[34m\u001b[1mwandb\u001b[0m: Currently logged in as: \u001b[33mknu\u001b[0m (use `wandb login --relogin` to force relogin)\n",
            "\u001b[34m\u001b[1mwandb\u001b[0m: \u001b[33mWARNING\u001b[0m Ignored wandb.init() arg project when running a sweep\n",
            "2021-09-09 15:59:39,666 - wandb.wandb_agent - INFO - Running runs: ['qloev5j4']\n",
            "\u001b[34m\u001b[1mwandb\u001b[0m: Tracking run with wandb version 0.12.1\n",
            "\u001b[34m\u001b[1mwandb\u001b[0m: Syncing run \u001b[33msparkling-sweep-25\u001b[0m\n",
            "\u001b[34m\u001b[1mwandb\u001b[0m: ⭐️ View project at \u001b[34m\u001b[4mhttps://wandb.ai/knu/sweep-practice\u001b[0m\n",
            "\u001b[34m\u001b[1mwandb\u001b[0m: 🧹 View sweep at \u001b[34m\u001b[4mhttps://wandb.ai/knu/sweep-practice/sweeps/2lhlz1gt\u001b[0m\n",
            "\u001b[34m\u001b[1mwandb\u001b[0m: 🚀 View run at \u001b[34m\u001b[4mhttps://wandb.ai/knu/sweep-practice/runs/qloev5j4\u001b[0m\n",
            "\u001b[34m\u001b[1mwandb\u001b[0m: Run data is saved locally in /content/wandb/run-20210909_155937-qloev5j4\n",
            "\u001b[34m\u001b[1mwandb\u001b[0m: Run `wandb offline` to turn off syncing.\n",
            "\n",
            "\u001b[34m\u001b[1mwandb\u001b[0m: \u001b[33mWARNING\u001b[0m Ignored wandb.init() arg project when running a sweep\n",
            "2021-09-09 15:59:41.289096: E tensorflow/stream_executor/cuda/cuda_driver.cc:271] failed call to cuInit: CUDA_ERROR_NO_DEVICE: no CUDA-capable device is detected\n",
            "2021-09-09 15:59:41.289164: I tensorflow/stream_executor/cuda/cuda_diagnostics.cc:156] kernel driver does not appear to be running on this host (8efc9eaf819e): /proc/driver/nvidia/version does not exist\n",
            "2021-09-09 15:59:41.289542: I tensorflow/core/platform/cpu_feature_guard.cc:142] This TensorFlow binary is optimized with oneAPI Deep Neural Network Library (oneDNN) to use the following CPU instructions in performance-critical operations:  AVX512F\n",
            "To enable them in other operations, rebuild TensorFlow with the appropriate compiler flags.\n",
            "Traceback (most recent call last):\n",
            "  File \"train.py\", line 34, in <module>\n",
            "    opt=tf.keras.optimizer.Adam(learning_rate=config.learning_rate)\n",
            "AttributeError: module 'tensorflow.keras' has no attribute 'optimizer'\n",
            "\n",
            "\u001b[34m\u001b[1mwandb\u001b[0m: Waiting for W&B process to finish, PID 12152\n",
            "\u001b[34m\u001b[1mwandb\u001b[0m: Program failed with code 1.  Press ctrl-c to abort syncing.\n",
            "\u001b[34m\u001b[1mwandb\u001b[0m:                                                                                \n",
            "\u001b[34m\u001b[1mwandb\u001b[0m: Find user logs for this run at: /content/wandb/run-20210909_155937-qloev5j4/logs/debug.log\n",
            "\u001b[34m\u001b[1mwandb\u001b[0m: Find internal logs for this run at: /content/wandb/run-20210909_155937-qloev5j4/logs/debug-internal.log\n",
            "\u001b[34m\u001b[1mwandb\u001b[0m: Synced 5 W&B file(s), 0 media file(s), 0 artifact file(s) and 0 other file(s)\n",
            "\u001b[34m\u001b[1mwandb\u001b[0m: \n",
            "\u001b[34m\u001b[1mwandb\u001b[0m: Synced \u001b[33msparkling-sweep-25\u001b[0m: \u001b[34mhttps://wandb.ai/knu/sweep-practice/runs/qloev5j4\u001b[0m\n",
            "2021-09-09 15:59:49,961 - wandb.wandb_agent - INFO - Cleaning up finished run: qloev5j4\n",
            "2021-09-09 15:59:50,505 - wandb.wandb_agent - INFO - Agent received command: run\n",
            "2021-09-09 15:59:50,505 - wandb.wandb_agent - INFO - Agent starting run with config:\n",
            "\tdropout_rate: 0.3519647415213535\n",
            "\tlayer1_activation: sigmoid\n",
            "\tlayer1_size: 246\n",
            "\tlayers: 22\n",
            "\tlearning_rate: 0.18861049459593532\n",
            "\toptimizer: Adam\n",
            "\toptimizers: rmsprop\n",
            "2021-09-09 15:59:50,507 - wandb.wandb_agent - INFO - About to run command: /usr/bin/env python train.py --dropout_rate=0.3519647415213535 --layer1_activation=sigmoid --layer1_size=246 --layers=22 --learning_rate=0.18861049459593532 --optimizer=Adam --optimizers=rmsprop\n",
            "\u001b[34m\u001b[1mwandb\u001b[0m: Currently logged in as: \u001b[33mknu\u001b[0m (use `wandb login --relogin` to force relogin)\n",
            "\u001b[34m\u001b[1mwandb\u001b[0m: \u001b[33mWARNING\u001b[0m Ignored wandb.init() arg project when running a sweep\n",
            "2021-09-09 15:59:55,519 - wandb.wandb_agent - INFO - Running runs: ['w8elrh5g']\n",
            "\u001b[34m\u001b[1mwandb\u001b[0m: Tracking run with wandb version 0.12.1\n",
            "\u001b[34m\u001b[1mwandb\u001b[0m: Syncing run \u001b[33mrich-sweep-26\u001b[0m\n",
            "\u001b[34m\u001b[1mwandb\u001b[0m: ⭐️ View project at \u001b[34m\u001b[4mhttps://wandb.ai/knu/sweep-practice\u001b[0m\n",
            "\u001b[34m\u001b[1mwandb\u001b[0m: 🧹 View sweep at \u001b[34m\u001b[4mhttps://wandb.ai/knu/sweep-practice/sweeps/2lhlz1gt\u001b[0m\n",
            "\u001b[34m\u001b[1mwandb\u001b[0m: 🚀 View run at \u001b[34m\u001b[4mhttps://wandb.ai/knu/sweep-practice/runs/w8elrh5g\u001b[0m\n",
            "\u001b[34m\u001b[1mwandb\u001b[0m: Run data is saved locally in /content/wandb/run-20210909_155953-w8elrh5g\n",
            "\u001b[34m\u001b[1mwandb\u001b[0m: Run `wandb offline` to turn off syncing.\n",
            "\n",
            "\u001b[34m\u001b[1mwandb\u001b[0m: \u001b[33mWARNING\u001b[0m Ignored wandb.init() arg project when running a sweep\n",
            "2021-09-09 15:59:56.934728: E tensorflow/stream_executor/cuda/cuda_driver.cc:271] failed call to cuInit: CUDA_ERROR_NO_DEVICE: no CUDA-capable device is detected\n",
            "2021-09-09 15:59:56.934788: I tensorflow/stream_executor/cuda/cuda_diagnostics.cc:156] kernel driver does not appear to be running on this host (8efc9eaf819e): /proc/driver/nvidia/version does not exist\n",
            "2021-09-09 15:59:56.935200: I tensorflow/core/platform/cpu_feature_guard.cc:142] This TensorFlow binary is optimized with oneAPI Deep Neural Network Library (oneDNN) to use the following CPU instructions in performance-critical operations:  AVX512F\n",
            "To enable them in other operations, rebuild TensorFlow with the appropriate compiler flags.\n",
            "2021-09-09 15:59:56.979064: I tensorflow/core/profiler/lib/profiler_session.cc:131] Profiler session initializing.\n",
            "2021-09-09 15:59:56.979135: I tensorflow/core/profiler/lib/profiler_session.cc:146] Profiler session started.\n",
            "2021-09-09 15:59:56.989860: I tensorflow/core/profiler/lib/profiler_session.cc:164] Profiler session tear down.\n",
            "2021-09-09 15:59:57.342104: I tensorflow/compiler/mlir/mlir_graph_optimization_pass.cc:185] None of the MLIR Optimization Passes are enabled (registered 2)\n",
            "Epoch 1/5\n",
            "   1/1875 [..............................] - ETA: 17:40 - loss: 3.1425 - accuracy: 0.03122021-09-09 15:59:57.936003: I tensorflow/core/profiler/lib/profiler_session.cc:131] Profiler session initializing.\n",
            "2021-09-09 15:59:57.936067: I tensorflow/core/profiler/lib/profiler_session.cc:146] Profiler session started.\n",
            "2021-09-09 15:59:57.943078: I tensorflow/core/profiler/lib/profiler_session.cc:66] Profiler session collecting data.\n",
            "2021-09-09 15:59:57.944229: I tensorflow/core/profiler/lib/profiler_session.cc:164] Profiler session tear down.\n",
            "2021-09-09 15:59:57.946362: I tensorflow/core/profiler/rpc/client/save_profile.cc:136] Creating directory: /content/wandb/run-20210909_155953-w8elrh5g/files/train/plugins/profile/2021_09_09_15_59_57\n",
            "\n",
            "2021-09-09 15:59:57.947407: I tensorflow/core/profiler/rpc/client/save_profile.cc:142] Dumped gzipped tool data for trace.json.gz to /content/wandb/run-20210909_155953-w8elrh5g/files/train/plugins/profile/2021_09_09_15_59_57/8efc9eaf819e.trace.json.gz\n",
            "2021-09-09 15:59:57.950081: I tensorflow/core/profiler/rpc/client/save_profile.cc:136] Creating directory: /content/wandb/run-20210909_155953-w8elrh5g/files/train/plugins/profile/2021_09_09_15_59_57\n",
            "\n",
            "2021-09-09 15:59:57.950328: I tensorflow/core/profiler/rpc/client/save_profile.cc:142] Dumped gzipped tool data for memory_profile.json.gz to /content/wandb/run-20210909_155953-w8elrh5g/files/train/plugins/profile/2021_09_09_15_59_57/8efc9eaf819e.memory_profile.json.gz\n",
            "2021-09-09 15:59:57.950711: I tensorflow/core/profiler/rpc/client/capture_profile.cc:251] Creating directory: /content/wandb/run-20210909_155953-w8elrh5g/files/train/plugins/profile/2021_09_09_15_59_57\n",
            "Dumped tool data for xplane.pb to /content/wandb/run-20210909_155953-w8elrh5g/files/train/plugins/profile/2021_09_09_15_59_57/8efc9eaf819e.xplane.pb\n",
            "Dumped tool data for overview_page.pb to /content/wandb/run-20210909_155953-w8elrh5g/files/train/plugins/profile/2021_09_09_15_59_57/8efc9eaf819e.overview_page.pb\n",
            "Dumped tool data for input_pipeline.pb to /content/wandb/run-20210909_155953-w8elrh5g/files/train/plugins/profile/2021_09_09_15_59_57/8efc9eaf819e.input_pipeline.pb\n",
            "Dumped tool data for tensorflow_stats.pb to /content/wandb/run-20210909_155953-w8elrh5g/files/train/plugins/profile/2021_09_09_15_59_57/8efc9eaf819e.tensorflow_stats.pb\n",
            "Dumped tool data for kernel_stats.pb to /content/wandb/run-20210909_155953-w8elrh5g/files/train/plugins/profile/2021_09_09_15_59_57/8efc9eaf819e.kernel_stats.pb\n",
            "\n",
            "1875/1875 [==============================] - 8s 4ms/step - loss: 0.5784 - accuracy: 0.7944 - val_loss: 0.4553 - val_accuracy: 0.8368\n",
            "Epoch 2/5\n",
            "1875/1875 [==============================] - 8s 4ms/step - loss: 0.4282 - accuracy: 0.8448 - val_loss: 0.4235 - val_accuracy: 0.8453\n",
            "Epoch 3/5\n",
            "1875/1875 [==============================] - 8s 4ms/step - loss: 0.3893 - accuracy: 0.8585 - val_loss: 0.3958 - val_accuracy: 0.8556\n",
            "Epoch 4/5\n",
            "1875/1875 [==============================] - 8s 4ms/step - loss: 0.3660 - accuracy: 0.8671 - val_loss: 0.3803 - val_accuracy: 0.8628\n",
            "Epoch 5/5\n",
            "1875/1875 [==============================] - 8s 4ms/step - loss: 0.3448 - accuracy: 0.8749 - val_loss: 0.3582 - val_accuracy: 0.8741\n",
            "\n",
            "\u001b[34m\u001b[1mwandb\u001b[0m: Waiting for W&B process to finish, PID 12208\n",
            "\u001b[34m\u001b[1mwandb\u001b[0m: Program ended successfully.\n",
            "\u001b[34m\u001b[1mwandb\u001b[0m:                                                                                \n",
            "\u001b[34m\u001b[1mwandb\u001b[0m: Find user logs for this run at: /content/wandb/run-20210909_155953-w8elrh5g/logs/debug.log\n",
            "\u001b[34m\u001b[1mwandb\u001b[0m: Find internal logs for this run at: /content/wandb/run-20210909_155953-w8elrh5g/logs/debug-internal.log\n",
            "\u001b[34m\u001b[1mwandb\u001b[0m: Run summary:\n",
            "\u001b[34m\u001b[1mwandb\u001b[0m:           epoch 4\n",
            "\u001b[34m\u001b[1mwandb\u001b[0m:            loss 0.34481\n",
            "\u001b[34m\u001b[1mwandb\u001b[0m:        accuracy 0.87492\n",
            "\u001b[34m\u001b[1mwandb\u001b[0m:        val_loss 0.35823\n",
            "\u001b[34m\u001b[1mwandb\u001b[0m:    val_accuracy 0.8741\n",
            "\u001b[34m\u001b[1mwandb\u001b[0m:        _runtime 45\n",
            "\u001b[34m\u001b[1mwandb\u001b[0m:      _timestamp 1631203238\n",
            "\u001b[34m\u001b[1mwandb\u001b[0m:           _step 4\n",
            "\u001b[34m\u001b[1mwandb\u001b[0m:   best_val_loss 0.35823\n",
            "\u001b[34m\u001b[1mwandb\u001b[0m:      best_epoch 4\n",
            "\u001b[34m\u001b[1mwandb\u001b[0m: Run history:\n",
            "\u001b[34m\u001b[1mwandb\u001b[0m:          epoch ▁▃▅▆█\n",
            "\u001b[34m\u001b[1mwandb\u001b[0m:           loss █▄▂▂▁\n",
            "\u001b[34m\u001b[1mwandb\u001b[0m:       accuracy ▁▅▇▇█\n",
            "\u001b[34m\u001b[1mwandb\u001b[0m:       val_loss █▆▄▃▁\n",
            "\u001b[34m\u001b[1mwandb\u001b[0m:   val_accuracy ▁▃▅▆█\n",
            "\u001b[34m\u001b[1mwandb\u001b[0m:       _runtime ▁▃▄▆█\n",
            "\u001b[34m\u001b[1mwandb\u001b[0m:     _timestamp ▁▃▄▆█\n",
            "\u001b[34m\u001b[1mwandb\u001b[0m:          _step ▁▃▅▆█\n",
            "\u001b[34m\u001b[1mwandb\u001b[0m: \n",
            "\u001b[34m\u001b[1mwandb\u001b[0m: Synced 5 W&B file(s), 181 media file(s), 0 artifact file(s) and 10 other file(s)\n",
            "\u001b[34m\u001b[1mwandb\u001b[0m: \n",
            "\u001b[34m\u001b[1mwandb\u001b[0m: Synced \u001b[33mrich-sweep-26\u001b[0m: \u001b[34mhttps://wandb.ai/knu/sweep-practice/runs/w8elrh5g\u001b[0m\n",
            "2021-09-09 16:00:47,214 - wandb.wandb_agent - INFO - Cleaning up finished run: w8elrh5g\n",
            "2021-09-09 16:00:47,628 - wandb.wandb_agent - INFO - Agent received command: run\n",
            "2021-09-09 16:00:47,628 - wandb.wandb_agent - INFO - Agent starting run with config:\n",
            "\tdropout_rate: 0.2050341037712871\n",
            "\tlayer1_activation: sigmoid\n",
            "\tlayer1_size: 136\n",
            "\tlayers: 188\n",
            "\tlearning_rate: 0.0706013331095508\n",
            "\toptimizer: Adam\n",
            "\toptimizers: adam\n",
            "2021-09-09 16:00:47,630 - wandb.wandb_agent - INFO - About to run command: /usr/bin/env python train.py --dropout_rate=0.2050341037712871 --layer1_activation=sigmoid --layer1_size=136 --layers=188 --learning_rate=0.0706013331095508 --optimizer=Adam --optimizers=adam\n",
            "\u001b[34m\u001b[1mwandb\u001b[0m: Currently logged in as: \u001b[33mknu\u001b[0m (use `wandb login --relogin` to force relogin)\n",
            "\u001b[34m\u001b[1mwandb\u001b[0m: \u001b[33mWARNING\u001b[0m Ignored wandb.init() arg project when running a sweep\n",
            "2021-09-09 16:00:52,642 - wandb.wandb_agent - INFO - Running runs: ['0t0necxr']\n",
            "\u001b[34m\u001b[1mwandb\u001b[0m: Tracking run with wandb version 0.12.1\n",
            "\u001b[34m\u001b[1mwandb\u001b[0m: Syncing run \u001b[33mrural-sweep-27\u001b[0m\n",
            "\u001b[34m\u001b[1mwandb\u001b[0m: ⭐️ View project at \u001b[34m\u001b[4mhttps://wandb.ai/knu/sweep-practice\u001b[0m\n",
            "\u001b[34m\u001b[1mwandb\u001b[0m: 🧹 View sweep at \u001b[34m\u001b[4mhttps://wandb.ai/knu/sweep-practice/sweeps/2lhlz1gt\u001b[0m\n",
            "\u001b[34m\u001b[1mwandb\u001b[0m: 🚀 View run at \u001b[34m\u001b[4mhttps://wandb.ai/knu/sweep-practice/runs/0t0necxr\u001b[0m\n",
            "\u001b[34m\u001b[1mwandb\u001b[0m: Run data is saved locally in /content/wandb/run-20210909_160050-0t0necxr\n",
            "\u001b[34m\u001b[1mwandb\u001b[0m: Run `wandb offline` to turn off syncing.\n",
            "\n",
            "\u001b[34m\u001b[1mwandb\u001b[0m: \u001b[33mWARNING\u001b[0m Ignored wandb.init() arg project when running a sweep\n",
            "2021-09-09 16:00:54.257513: E tensorflow/stream_executor/cuda/cuda_driver.cc:271] failed call to cuInit: CUDA_ERROR_NO_DEVICE: no CUDA-capable device is detected\n",
            "2021-09-09 16:00:54.257589: I tensorflow/stream_executor/cuda/cuda_diagnostics.cc:156] kernel driver does not appear to be running on this host (8efc9eaf819e): /proc/driver/nvidia/version does not exist\n",
            "2021-09-09 16:00:54.258037: I tensorflow/core/platform/cpu_feature_guard.cc:142] This TensorFlow binary is optimized with oneAPI Deep Neural Network Library (oneDNN) to use the following CPU instructions in performance-critical operations:  AVX512F\n",
            "To enable them in other operations, rebuild TensorFlow with the appropriate compiler flags.\n",
            "Traceback (most recent call last):\n",
            "  File \"train.py\", line 34, in <module>\n",
            "    opt=tf.keras.optimizer.Adam(learning_rate=config.learning_rate)\n",
            "AttributeError: module 'tensorflow.keras' has no attribute 'optimizer'\n",
            "\n",
            "\u001b[34m\u001b[1mwandb\u001b[0m: Waiting for W&B process to finish, PID 12519\n",
            "\u001b[34m\u001b[1mwandb\u001b[0m: Program failed with code 1.  Press ctrl-c to abort syncing.\n",
            "\u001b[34m\u001b[1mwandb\u001b[0m:                                                                                \n",
            "\u001b[34m\u001b[1mwandb\u001b[0m: Find user logs for this run at: /content/wandb/run-20210909_160050-0t0necxr/logs/debug.log\n",
            "\u001b[34m\u001b[1mwandb\u001b[0m: Find internal logs for this run at: /content/wandb/run-20210909_160050-0t0necxr/logs/debug-internal.log\n",
            "\u001b[34m\u001b[1mwandb\u001b[0m: Synced 5 W&B file(s), 0 media file(s), 0 artifact file(s) and 0 other file(s)\n",
            "\u001b[34m\u001b[1mwandb\u001b[0m: \n",
            "\u001b[34m\u001b[1mwandb\u001b[0m: Synced \u001b[33mrural-sweep-27\u001b[0m: \u001b[34mhttps://wandb.ai/knu/sweep-practice/runs/0t0necxr\u001b[0m\n",
            "2021-09-09 16:01:02,959 - wandb.wandb_agent - INFO - Cleaning up finished run: 0t0necxr\n",
            "2021-09-09 16:01:03,351 - wandb.wandb_agent - INFO - Agent received command: run\n",
            "2021-09-09 16:01:03,351 - wandb.wandb_agent - INFO - Agent starting run with config:\n",
            "\tdropout_rate: 0.21635530060774477\n",
            "\tlayer1_activation: relu\n",
            "\tlayer1_size: 199\n",
            "\tlayers: 86\n",
            "\tlearning_rate: 0.1817429054448414\n",
            "\toptimizer: Adam\n",
            "\toptimizers: adam\n",
            "2021-09-09 16:01:03,354 - wandb.wandb_agent - INFO - About to run command: /usr/bin/env python train.py --dropout_rate=0.21635530060774477 --layer1_activation=relu --layer1_size=199 --layers=86 --learning_rate=0.1817429054448414 --optimizer=Adam --optimizers=adam\n",
            "\u001b[34m\u001b[1mwandb\u001b[0m: Currently logged in as: \u001b[33mknu\u001b[0m (use `wandb login --relogin` to force relogin)\n",
            "\u001b[34m\u001b[1mwandb\u001b[0m: \u001b[33mWARNING\u001b[0m Ignored wandb.init() arg project when running a sweep\n",
            "2021-09-09 16:01:08,365 - wandb.wandb_agent - INFO - Running runs: ['vixryhj3']\n",
            "\u001b[34m\u001b[1mwandb\u001b[0m: Tracking run with wandb version 0.12.1\n",
            "\u001b[34m\u001b[1mwandb\u001b[0m: Syncing run \u001b[33mvital-sweep-28\u001b[0m\n",
            "\u001b[34m\u001b[1mwandb\u001b[0m: ⭐️ View project at \u001b[34m\u001b[4mhttps://wandb.ai/knu/sweep-practice\u001b[0m\n",
            "\u001b[34m\u001b[1mwandb\u001b[0m: 🧹 View sweep at \u001b[34m\u001b[4mhttps://wandb.ai/knu/sweep-practice/sweeps/2lhlz1gt\u001b[0m\n",
            "\u001b[34m\u001b[1mwandb\u001b[0m: 🚀 View run at \u001b[34m\u001b[4mhttps://wandb.ai/knu/sweep-practice/runs/vixryhj3\u001b[0m\n",
            "\u001b[34m\u001b[1mwandb\u001b[0m: Run data is saved locally in /content/wandb/run-20210909_160106-vixryhj3\n",
            "\u001b[34m\u001b[1mwandb\u001b[0m: Run `wandb offline` to turn off syncing.\n",
            "\n",
            "\u001b[34m\u001b[1mwandb\u001b[0m: \u001b[33mWARNING\u001b[0m Ignored wandb.init() arg project when running a sweep\n",
            "2021-09-09 16:01:09.784756: E tensorflow/stream_executor/cuda/cuda_driver.cc:271] failed call to cuInit: CUDA_ERROR_NO_DEVICE: no CUDA-capable device is detected\n",
            "2021-09-09 16:01:09.784837: I tensorflow/stream_executor/cuda/cuda_diagnostics.cc:156] kernel driver does not appear to be running on this host (8efc9eaf819e): /proc/driver/nvidia/version does not exist\n",
            "2021-09-09 16:01:09.785259: I tensorflow/core/platform/cpu_feature_guard.cc:142] This TensorFlow binary is optimized with oneAPI Deep Neural Network Library (oneDNN) to use the following CPU instructions in performance-critical operations:  AVX512F\n",
            "To enable them in other operations, rebuild TensorFlow with the appropriate compiler flags.\n",
            "Traceback (most recent call last):\n",
            "  File \"train.py\", line 34, in <module>\n",
            "    opt=tf.keras.optimizer.Adam(learning_rate=config.learning_rate)\n",
            "AttributeError: module 'tensorflow.keras' has no attribute 'optimizer'\n",
            "\n",
            "\u001b[34m\u001b[1mwandb\u001b[0m: Waiting for W&B process to finish, PID 12575\n",
            "\u001b[34m\u001b[1mwandb\u001b[0m: Program failed with code 1.  Press ctrl-c to abort syncing.\n",
            "\u001b[34m\u001b[1mwandb\u001b[0m:                                                                                \n",
            "\u001b[34m\u001b[1mwandb\u001b[0m: Find user logs for this run at: /content/wandb/run-20210909_160106-vixryhj3/logs/debug.log\n",
            "\u001b[34m\u001b[1mwandb\u001b[0m: Find internal logs for this run at: /content/wandb/run-20210909_160106-vixryhj3/logs/debug-internal.log\n",
            "\u001b[34m\u001b[1mwandb\u001b[0m: Synced 5 W&B file(s), 0 media file(s), 0 artifact file(s) and 0 other file(s)\n",
            "\u001b[34m\u001b[1mwandb\u001b[0m: \n",
            "\u001b[34m\u001b[1mwandb\u001b[0m: Synced \u001b[33mvital-sweep-28\u001b[0m: \u001b[34mhttps://wandb.ai/knu/sweep-practice/runs/vixryhj3\u001b[0m\n",
            "2021-09-09 16:01:18,675 - wandb.wandb_agent - INFO - Cleaning up finished run: vixryhj3\n",
            "2021-09-09 16:01:19,069 - wandb.wandb_agent - INFO - Agent received command: run\n",
            "2021-09-09 16:01:19,070 - wandb.wandb_agent - INFO - Agent starting run with config:\n",
            "\tdropout_rate: 0.16167715680941985\n",
            "\tlayer1_activation: relu\n",
            "\tlayer1_size: 183\n",
            "\tlayers: 71\n",
            "\tlearning_rate: 0.011660617758060248\n",
            "\toptimizer: Adam\n",
            "\toptimizers: rmsprop\n",
            "2021-09-09 16:01:19,072 - wandb.wandb_agent - INFO - About to run command: /usr/bin/env python train.py --dropout_rate=0.16167715680941985 --layer1_activation=relu --layer1_size=183 --layers=71 --learning_rate=0.011660617758060248 --optimizer=Adam --optimizers=rmsprop\n",
            "\u001b[34m\u001b[1mwandb\u001b[0m: Currently logged in as: \u001b[33mknu\u001b[0m (use `wandb login --relogin` to force relogin)\n",
            "\u001b[34m\u001b[1mwandb\u001b[0m: \u001b[33mWARNING\u001b[0m Ignored wandb.init() arg project when running a sweep\n",
            "2021-09-09 16:01:24,085 - wandb.wandb_agent - INFO - Running runs: ['h3ew6nxm']\n",
            "\u001b[34m\u001b[1mwandb\u001b[0m: Tracking run with wandb version 0.12.1\n",
            "\u001b[34m\u001b[1mwandb\u001b[0m: Syncing run \u001b[33mmild-sweep-29\u001b[0m\n",
            "\u001b[34m\u001b[1mwandb\u001b[0m: ⭐️ View project at \u001b[34m\u001b[4mhttps://wandb.ai/knu/sweep-practice\u001b[0m\n",
            "\u001b[34m\u001b[1mwandb\u001b[0m: 🧹 View sweep at \u001b[34m\u001b[4mhttps://wandb.ai/knu/sweep-practice/sweeps/2lhlz1gt\u001b[0m\n",
            "\u001b[34m\u001b[1mwandb\u001b[0m: 🚀 View run at \u001b[34m\u001b[4mhttps://wandb.ai/knu/sweep-practice/runs/h3ew6nxm\u001b[0m\n",
            "\u001b[34m\u001b[1mwandb\u001b[0m: Run data is saved locally in /content/wandb/run-20210909_160122-h3ew6nxm\n",
            "\u001b[34m\u001b[1mwandb\u001b[0m: Run `wandb offline` to turn off syncing.\n",
            "\n",
            "\u001b[34m\u001b[1mwandb\u001b[0m: \u001b[33mWARNING\u001b[0m Ignored wandb.init() arg project when running a sweep\n",
            "2021-09-09 16:01:25.484572: E tensorflow/stream_executor/cuda/cuda_driver.cc:271] failed call to cuInit: CUDA_ERROR_NO_DEVICE: no CUDA-capable device is detected\n",
            "2021-09-09 16:01:25.484644: I tensorflow/stream_executor/cuda/cuda_diagnostics.cc:156] kernel driver does not appear to be running on this host (8efc9eaf819e): /proc/driver/nvidia/version does not exist\n",
            "2021-09-09 16:01:25.485070: I tensorflow/core/platform/cpu_feature_guard.cc:142] This TensorFlow binary is optimized with oneAPI Deep Neural Network Library (oneDNN) to use the following CPU instructions in performance-critical operations:  AVX512F\n",
            "To enable them in other operations, rebuild TensorFlow with the appropriate compiler flags.\n",
            "2021-09-09 16:01:25.532498: I tensorflow/core/profiler/lib/profiler_session.cc:131] Profiler session initializing.\n",
            "2021-09-09 16:01:25.532666: I tensorflow/core/profiler/lib/profiler_session.cc:146] Profiler session started.\n",
            "2021-09-09 16:01:25.544269: I tensorflow/core/profiler/lib/profiler_session.cc:164] Profiler session tear down.\n",
            "2021-09-09 16:01:25.922211: I tensorflow/compiler/mlir/mlir_graph_optimization_pass.cc:185] None of the MLIR Optimization Passes are enabled (registered 2)\n",
            "Epoch 1/5\n",
            "   1/1875 [..............................] - ETA: 17:21 - loss: 2.3277 - accuracy: 0.21882021-09-09 16:01:26.509024: I tensorflow/core/profiler/lib/profiler_session.cc:131] Profiler session initializing.\n",
            "2021-09-09 16:01:26.509133: I tensorflow/core/profiler/lib/profiler_session.cc:146] Profiler session started.\n",
            "2021-09-09 16:01:26.515121: I tensorflow/core/profiler/lib/profiler_session.cc:66] Profiler session collecting data.\n",
            "2021-09-09 16:01:26.516233: I tensorflow/core/profiler/lib/profiler_session.cc:164] Profiler session tear down.\n",
            "2021-09-09 16:01:26.518330: I tensorflow/core/profiler/rpc/client/save_profile.cc:136] Creating directory: /content/wandb/run-20210909_160122-h3ew6nxm/files/train/plugins/profile/2021_09_09_16_01_26\n",
            "\n",
            "2021-09-09 16:01:26.519250: I tensorflow/core/profiler/rpc/client/save_profile.cc:142] Dumped gzipped tool data for trace.json.gz to /content/wandb/run-20210909_160122-h3ew6nxm/files/train/plugins/profile/2021_09_09_16_01_26/8efc9eaf819e.trace.json.gz\n",
            "2021-09-09 16:01:26.521916: I tensorflow/core/profiler/rpc/client/save_profile.cc:136] Creating directory: /content/wandb/run-20210909_160122-h3ew6nxm/files/train/plugins/profile/2021_09_09_16_01_26\n",
            "\n",
            "2021-09-09 16:01:26.522162: I tensorflow/core/profiler/rpc/client/save_profile.cc:142] Dumped gzipped tool data for memory_profile.json.gz to /content/wandb/run-20210909_160122-h3ew6nxm/files/train/plugins/profile/2021_09_09_16_01_26/8efc9eaf819e.memory_profile.json.gz\n",
            "2021-09-09 16:01:26.522568: I tensorflow/core/profiler/rpc/client/capture_profile.cc:251] Creating directory: /content/wandb/run-20210909_160122-h3ew6nxm/files/train/plugins/profile/2021_09_09_16_01_26\n",
            "Dumped tool data for xplane.pb to /content/wandb/run-20210909_160122-h3ew6nxm/files/train/plugins/profile/2021_09_09_16_01_26/8efc9eaf819e.xplane.pb\n",
            "Dumped tool data for overview_page.pb to /content/wandb/run-20210909_160122-h3ew6nxm/files/train/plugins/profile/2021_09_09_16_01_26/8efc9eaf819e.overview_page.pb\n",
            "Dumped tool data for input_pipeline.pb to /content/wandb/run-20210909_160122-h3ew6nxm/files/train/plugins/profile/2021_09_09_16_01_26/8efc9eaf819e.input_pipeline.pb\n",
            "Dumped tool data for tensorflow_stats.pb to /content/wandb/run-20210909_160122-h3ew6nxm/files/train/plugins/profile/2021_09_09_16_01_26/8efc9eaf819e.tensorflow_stats.pb\n",
            "Dumped tool data for kernel_stats.pb to /content/wandb/run-20210909_160122-h3ew6nxm/files/train/plugins/profile/2021_09_09_16_01_26/8efc9eaf819e.kernel_stats.pb\n",
            "\n",
            "1875/1875 [==============================] - 7s 4ms/step - loss: 0.5124 - accuracy: 0.8160 - val_loss: 0.4331 - val_accuracy: 0.8447\n",
            "Epoch 2/5\n",
            "1875/1875 [==============================] - 7s 4ms/step - loss: 0.3886 - accuracy: 0.8597 - val_loss: 0.3934 - val_accuracy: 0.8587\n",
            "Epoch 3/5\n",
            "1875/1875 [==============================] - 7s 4ms/step - loss: 0.3528 - accuracy: 0.8701 - val_loss: 0.3831 - val_accuracy: 0.8621\n",
            "Epoch 4/5\n",
            "1875/1875 [==============================] - 8s 4ms/step - loss: 0.3309 - accuracy: 0.8785 - val_loss: 0.3683 - val_accuracy: 0.8660\n",
            "Epoch 5/5\n",
            "1875/1875 [==============================] - 8s 4ms/step - loss: 0.3170 - accuracy: 0.8823 - val_loss: 0.3468 - val_accuracy: 0.8743\n",
            "\n",
            "\u001b[34m\u001b[1mwandb\u001b[0m: Waiting for W&B process to finish, PID 12631\n",
            "\u001b[34m\u001b[1mwandb\u001b[0m: Program ended successfully.\n",
            "\u001b[34m\u001b[1mwandb\u001b[0m:                                                                                \n",
            "\u001b[34m\u001b[1mwandb\u001b[0m: Find user logs for this run at: /content/wandb/run-20210909_160122-h3ew6nxm/logs/debug.log\n",
            "\u001b[34m\u001b[1mwandb\u001b[0m: Find internal logs for this run at: /content/wandb/run-20210909_160122-h3ew6nxm/logs/debug-internal.log\n",
            "\u001b[34m\u001b[1mwandb\u001b[0m: Run summary:\n",
            "\u001b[34m\u001b[1mwandb\u001b[0m:           epoch 4\n",
            "\u001b[34m\u001b[1mwandb\u001b[0m:            loss 0.31698\n",
            "\u001b[34m\u001b[1mwandb\u001b[0m:        accuracy 0.88232\n",
            "\u001b[34m\u001b[1mwandb\u001b[0m:        val_loss 0.34685\n",
            "\u001b[34m\u001b[1mwandb\u001b[0m:    val_accuracy 0.8743\n",
            "\u001b[34m\u001b[1mwandb\u001b[0m:        _runtime 42\n",
            "\u001b[34m\u001b[1mwandb\u001b[0m:      _timestamp 1631203324\n",
            "\u001b[34m\u001b[1mwandb\u001b[0m:           _step 4\n",
            "\u001b[34m\u001b[1mwandb\u001b[0m:   best_val_loss 0.34685\n",
            "\u001b[34m\u001b[1mwandb\u001b[0m:      best_epoch 4\n",
            "\u001b[34m\u001b[1mwandb\u001b[0m: Run history:\n",
            "\u001b[34m\u001b[1mwandb\u001b[0m:          epoch ▁▃▅▆█\n",
            "\u001b[34m\u001b[1mwandb\u001b[0m:           loss █▄▂▁▁\n",
            "\u001b[34m\u001b[1mwandb\u001b[0m:       accuracy ▁▆▇██\n",
            "\u001b[34m\u001b[1mwandb\u001b[0m:       val_loss █▅▄▃▁\n",
            "\u001b[34m\u001b[1mwandb\u001b[0m:   val_accuracy ▁▄▅▆█\n",
            "\u001b[34m\u001b[1mwandb\u001b[0m:       _runtime ▁▃▄▆█\n",
            "\u001b[34m\u001b[1mwandb\u001b[0m:     _timestamp ▁▃▄▆█\n",
            "\u001b[34m\u001b[1mwandb\u001b[0m:          _step ▁▃▅▆█\n",
            "\u001b[34m\u001b[1mwandb\u001b[0m: \n",
            "\u001b[34m\u001b[1mwandb\u001b[0m: Synced 5 W&B file(s), 181 media file(s), 0 artifact file(s) and 10 other file(s)\n",
            "\u001b[34m\u001b[1mwandb\u001b[0m: \n",
            "\u001b[34m\u001b[1mwandb\u001b[0m: Synced \u001b[33mmild-sweep-29\u001b[0m: \u001b[34mhttps://wandb.ai/knu/sweep-practice/runs/h3ew6nxm\u001b[0m\n",
            "2021-09-09 16:02:15,939 - wandb.wandb_agent - INFO - Cleaning up finished run: h3ew6nxm\n",
            "2021-09-09 16:02:16,400 - wandb.wandb_agent - INFO - Agent received command: run\n",
            "2021-09-09 16:02:16,400 - wandb.wandb_agent - INFO - Agent starting run with config:\n",
            "\tdropout_rate: 0.19042400024223605\n",
            "\tlayer1_activation: relu\n",
            "\tlayer1_size: 203\n",
            "\tlayers: 110\n",
            "\tlearning_rate: 0.03792718534526712\n",
            "\toptimizer: Adam\n",
            "\toptimizers: rmsprop\n",
            "2021-09-09 16:02:16,403 - wandb.wandb_agent - INFO - About to run command: /usr/bin/env python train.py --dropout_rate=0.19042400024223605 --layer1_activation=relu --layer1_size=203 --layers=110 --learning_rate=0.03792718534526712 --optimizer=Adam --optimizers=rmsprop\n",
            "\u001b[34m\u001b[1mwandb\u001b[0m: Currently logged in as: \u001b[33mknu\u001b[0m (use `wandb login --relogin` to force relogin)\n",
            "\u001b[34m\u001b[1mwandb\u001b[0m: \u001b[33mWARNING\u001b[0m Ignored wandb.init() arg project when running a sweep\n",
            "2021-09-09 16:02:21,414 - wandb.wandb_agent - INFO - Running runs: ['cxgjh5km']\n",
            "\u001b[34m\u001b[1mwandb\u001b[0m: Tracking run with wandb version 0.12.1\n",
            "\u001b[34m\u001b[1mwandb\u001b[0m: Syncing run \u001b[33mradiant-sweep-30\u001b[0m\n",
            "\u001b[34m\u001b[1mwandb\u001b[0m: ⭐️ View project at \u001b[34m\u001b[4mhttps://wandb.ai/knu/sweep-practice\u001b[0m\n",
            "\u001b[34m\u001b[1mwandb\u001b[0m: 🧹 View sweep at \u001b[34m\u001b[4mhttps://wandb.ai/knu/sweep-practice/sweeps/2lhlz1gt\u001b[0m\n",
            "\u001b[34m\u001b[1mwandb\u001b[0m: 🚀 View run at \u001b[34m\u001b[4mhttps://wandb.ai/knu/sweep-practice/runs/cxgjh5km\u001b[0m\n",
            "\u001b[34m\u001b[1mwandb\u001b[0m: Run data is saved locally in /content/wandb/run-20210909_160219-cxgjh5km\n",
            "\u001b[34m\u001b[1mwandb\u001b[0m: Run `wandb offline` to turn off syncing.\n",
            "\n",
            "\u001b[34m\u001b[1mwandb\u001b[0m: \u001b[33mWARNING\u001b[0m Ignored wandb.init() arg project when running a sweep\n",
            "2021-09-09 16:02:22.980353: E tensorflow/stream_executor/cuda/cuda_driver.cc:271] failed call to cuInit: CUDA_ERROR_NO_DEVICE: no CUDA-capable device is detected\n",
            "2021-09-09 16:02:22.980416: I tensorflow/stream_executor/cuda/cuda_diagnostics.cc:156] kernel driver does not appear to be running on this host (8efc9eaf819e): /proc/driver/nvidia/version does not exist\n",
            "2021-09-09 16:02:22.980894: I tensorflow/core/platform/cpu_feature_guard.cc:142] This TensorFlow binary is optimized with oneAPI Deep Neural Network Library (oneDNN) to use the following CPU instructions in performance-critical operations:  AVX512F\n",
            "To enable them in other operations, rebuild TensorFlow with the appropriate compiler flags.\n",
            "2021-09-09 16:02:23.024152: I tensorflow/core/profiler/lib/profiler_session.cc:131] Profiler session initializing.\n",
            "2021-09-09 16:02:23.024270: I tensorflow/core/profiler/lib/profiler_session.cc:146] Profiler session started.\n",
            "2021-09-09 16:02:23.034382: I tensorflow/core/profiler/lib/profiler_session.cc:164] Profiler session tear down.\n",
            "2021-09-09 16:02:23.391044: I tensorflow/compiler/mlir/mlir_graph_optimization_pass.cc:185] None of the MLIR Optimization Passes are enabled (registered 2)\n",
            "Epoch 1/5\n",
            "   1/1875 [..............................] - ETA: 19:16 - loss: 2.4231 - accuracy: 0.12502021-09-09 16:02:24.039262: I tensorflow/core/profiler/lib/profiler_session.cc:131] Profiler session initializing.\n",
            "2021-09-09 16:02:24.039325: I tensorflow/core/profiler/lib/profiler_session.cc:146] Profiler session started.\n",
            "2021-09-09 16:02:24.044791: I tensorflow/core/profiler/lib/profiler_session.cc:66] Profiler session collecting data.\n",
            "2021-09-09 16:02:24.045809: I tensorflow/core/profiler/lib/profiler_session.cc:164] Profiler session tear down.\n",
            "2021-09-09 16:02:24.047829: I tensorflow/core/profiler/rpc/client/save_profile.cc:136] Creating directory: /content/wandb/run-20210909_160219-cxgjh5km/files/train/plugins/profile/2021_09_09_16_02_24\n",
            "\n",
            "2021-09-09 16:02:24.048768: I tensorflow/core/profiler/rpc/client/save_profile.cc:142] Dumped gzipped tool data for trace.json.gz to /content/wandb/run-20210909_160219-cxgjh5km/files/train/plugins/profile/2021_09_09_16_02_24/8efc9eaf819e.trace.json.gz\n",
            "2021-09-09 16:02:24.051181: I tensorflow/core/profiler/rpc/client/save_profile.cc:136] Creating directory: /content/wandb/run-20210909_160219-cxgjh5km/files/train/plugins/profile/2021_09_09_16_02_24\n",
            "\n",
            "2021-09-09 16:02:24.051351: I tensorflow/core/profiler/rpc/client/save_profile.cc:142] Dumped gzipped tool data for memory_profile.json.gz to /content/wandb/run-20210909_160219-cxgjh5km/files/train/plugins/profile/2021_09_09_16_02_24/8efc9eaf819e.memory_profile.json.gz\n",
            "2021-09-09 16:02:24.051639: I tensorflow/core/profiler/rpc/client/capture_profile.cc:251] Creating directory: /content/wandb/run-20210909_160219-cxgjh5km/files/train/plugins/profile/2021_09_09_16_02_24\n",
            "Dumped tool data for xplane.pb to /content/wandb/run-20210909_160219-cxgjh5km/files/train/plugins/profile/2021_09_09_16_02_24/8efc9eaf819e.xplane.pb\n",
            "Dumped tool data for overview_page.pb to /content/wandb/run-20210909_160219-cxgjh5km/files/train/plugins/profile/2021_09_09_16_02_24/8efc9eaf819e.overview_page.pb\n",
            "Dumped tool data for input_pipeline.pb to /content/wandb/run-20210909_160219-cxgjh5km/files/train/plugins/profile/2021_09_09_16_02_24/8efc9eaf819e.input_pipeline.pb\n",
            "Dumped tool data for tensorflow_stats.pb to /content/wandb/run-20210909_160219-cxgjh5km/files/train/plugins/profile/2021_09_09_16_02_24/8efc9eaf819e.tensorflow_stats.pb\n",
            "Dumped tool data for kernel_stats.pb to /content/wandb/run-20210909_160219-cxgjh5km/files/train/plugins/profile/2021_09_09_16_02_24/8efc9eaf819e.kernel_stats.pb\n",
            "\n",
            "WARNING:tensorflow:Callback method `on_train_batch_end` is slow compared to the batch time (batch time: 0.0038s vs `on_train_batch_end` time: 0.0040s). Check your callbacks.\n",
            "1482/1875 [======================>.......] - ETA: 1s - loss: 0.5385 - accuracy: 0.8101"
          ]
        }
      ]
    },
    {
      "cell_type": "code",
      "metadata": {
        "id": "CI2BTNq8OIkQ"
      },
      "source": [
        " "
      ],
      "execution_count": null,
      "outputs": []
    }
  ]
}